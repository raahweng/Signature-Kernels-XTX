{
 "cells": [
  {
   "cell_type": "markdown",
   "metadata": {},
   "source": [
    "## Training Section"
   ]
  },
  {
   "cell_type": "markdown",
   "metadata": {},
   "source": [
    "# Part 1: The Signature Transform/Kernel"
   ]
  },
  {
   "cell_type": "code",
   "execution_count": 3,
   "metadata": {},
   "outputs": [],
   "source": [
    "#import ksig     #Needs CUDA\n",
    "import numpy as np\n",
    "import itertools\n",
    "import gzip\n",
    "import csv\n",
    "import json\n",
    "import pandas as pd\n",
    "import matplotlib.pyplot as plt\n",
    "from tqdm import tqdm"
   ]
  },
  {
   "cell_type": "code",
   "execution_count": null,
   "metadata": {},
   "outputs": [],
   "source": [
    "#Data Pre-processing; adapted from signature_features.ipynb and removes mid-price column\n",
    "def pre_process():\n",
    "    data = pd.read_csv('./data/data.csv.gz', compression='gzip')\n",
    "    # set the NaN sizes sizes to zero\n",
    "    askSize_columns = [f'askSize{i}' for i in range(15)]\n",
    "    bidSize_columns = [f'bidSize{i}' for i in range(15)]\n",
    "    size_columns = askSize_columns + bidSize_columns\n",
    "    data[size_columns] = data[size_columns].fillna(0.0)\n",
    "    # set the NaN rates to last observed value and fill the remaining ones backward\n",
    "    askRate_columns = [f'askRate{i}' for i in range(15)]\n",
    "    bidRate_columns = [f'bidRate{i}' for i in range(15)]\n",
    "    rate_columns = askRate_columns + bidRate_columns\n",
    "    #data['midprice'] = 0.5 * (data['askRate0'] + data['bidRate0'])\n",
    "\n",
    "    # reorder columns\n",
    "    selected_columns = [[f'askRate{i}', f'bidRate{i}', f'askSize{i}', f'bidSize{i}'] for i in range(15)]\n",
    "    selected_columns = list(itertools.chain.from_iterable(selected_columns)) #+ ['midprice']\n",
    "    data = data[selected_columns]\n",
    "    return data"
   ]
  },
  {
   "cell_type": "code",
   "execution_count": 7,
   "metadata": {},
   "outputs": [],
   "source": [
    "data = pre_process()\n",
    "X = data.to_numpy()"
   ]
  },
  {
   "cell_type": "markdown",
   "metadata": {},
   "source": [
    "Let $\\mathcal{P}_\\mathcal{X}$ be a set of paths in a topological space $\\mathcal{X}$. We define the truncated Signature Kernel up to depth $d$ $k_d^{\\oplus}: \\mathcal{P}_\\mathcal{X} \\times \\mathcal{P}_\\mathcal{X} \\rightarrow \\mathbb{R}$:  [ksig]\n",
    "\\begin{equation}\n",
    "    k_d^{\\oplus}(x,y) = \\langle S(k_x), S(k_y) \\rangle\n",
    "    = \\sum_{m = 0}^{d}{\\int_{s_1 < ... < s_m, t_1<...<t_m} {\\prod^m_{i=1}{d \\kappa(s_i, t_i)}} }\n",
    "\\end{equation}\n",
    "\n",
    "where:\n",
    "\\begin{equation}\n",
    "    \\kappa([s,t] \\times [u,v]) = k(x(t), y(v)) - k(x(s),y(v)) - k(x(t),y(u)) + k(x(s),y(u))\n",
    "\\end{equation}\n",
    "\n",
    "Intuitively, the Signature Kernel computes the pairwise similarity of a collection of paths in signature transform space.\n",
    "\n",
    "We hence propose an efficient, compact, feature engineering method that leverages the properties of the signature transform in an efficient, scalable method that generalises the notion of autocorrelation for higher-dimensional paths.\n",
    "\n",
    "In our LOB context, at some time $t$, consider the full $60$-dimensional path of length $L$, $x_L(t)$, from times $[t-L, t]$. We may also consider the time-lagged path of length 87, $x_L(t-k)$, from times $[t-k-L, t-k]$.\n",
    "\n",
    "We simply consider the similarity of these paths using the aforementioned inner product, i.e. $k_d^{\\oplus}(x(t),x(t-k))$, corresponding to the the Kernel entries $K_{12} = K_{21}$.\n",
    "\n",
    "For increasing $k$, we capture the \"autocorrelation\" on longer timespans, and hence our similarity decreases. By using an ensemble of $k$ s, we can capture short and long-term volatility. "
   ]
  },
  {
   "cell_type": "markdown",
   "metadata": {},
   "source": [
    "An initial attempt was made to use Random Fourier Signature Features to approximate the truncated kernels. The aim was to collect data over various lags to run overnight in ~8 hours - it is hence infeasible to run the kernel on every datapoint.\n",
    "Under the assumption that the our \"autocorrelation\" doesn't fluctuate wildly on a timescale of around ~10 steps, we chose to compute the statistic every 10th datapoint and interpolate using a suitable piecewise interpolator.\n",
    "However, the RFSF method introduced a lot of variability, rendering this assumption invalid and not producing a useful feature."
   ]
  },
  {
   "cell_type": "markdown",
   "metadata": {},
   "source": [
    "Our successful attempt computes the exact truncated signature kernel - while this approach is $O(N^2 L^2)$, we deal with $N=2$, $L=87, \\lfloor \\frac{87}{2} \\rfloor, \\lfloor \\frac{87}{4} \\rfloor$ respectively which are small, so this approach is surprisingly faster, and allows us to use a depth of 5 for all features.\n",
    "We also changed the lags to fractions of 87 - these features will hence deal with mid/quarter intervals of the target.\n",
    "We also subsample each lag at different intervals based on the timescales of the dynamics - this approach runs in about 8 hours with a much improved acccuracy."
   ]
  },
  {
   "cell_type": "code",
   "execution_count": null,
   "metadata": {},
   "outputs": [],
   "source": [
    "#Lags are now fractions of 87\n",
    "ks = [int(87*0.125), int(87*0.25), int(87*0.5), int(87*1), int(87*1.5), int(87*2)]\n",
    "n_levels = [5, 5, 5, 5, 5, 5]\n",
    "sub_sample = [1, 2, 5, 1, 5, 3]\n",
    "L = 87   #Also run for int(87/4),  int(87/2)\n",
    "\n",
    "N = int(data.shape[0])\n",
    "sims = np.full([6,len(np.arange(0,N,1))], np.nan)\n",
    "print(sims.shape)\n",
    "\n",
    "static_kernel = ksig.static.kernels.RBFKernel()\n",
    "\n",
    "for i in range(6):\n",
    "    try:\n",
    "        for j, t in enumerate(tqdm(np.arange(L + ks[i],N,sub_sample[i]))):  #Delete the ones off the end probably... depends on the gap we leave\n",
    "            X_window = np.stack((X[t-L:t], X[t-ks[i]-L:t-ks[i]]), axis=0)\n",
    "            # Instantiate RFF feature map.\n",
    "            # Instantiate tensor random projections.\n",
    "            sig_kernel = ksig.kernels.SignatureKernel(n_levels[i], static_kernel=static_kernel)\n",
    "\n",
    "            # Fit the kernel to the data.\n",
    "            K_XX = sig_kernel(X_window)\n",
    "\n",
    "            sims[i,t] = K_XX[0][1]  # K_XX has shape (1000, 1000).\n",
    "    except:\n",
    "        print(\"error\")\n",
    "np.save(\"sig_kernel.npy\", sims)"
   ]
  },
  {
   "cell_type": "code",
   "execution_count": 33,
   "metadata": {},
   "outputs": [
    {
     "data": {
      "text/plain": [
       "(6, 3497666)"
      ]
     },
     "execution_count": 33,
     "metadata": {},
     "output_type": "execute_result"
    }
   ],
   "source": [
    "test = np.load(\"sig_kernel.npy\")\n",
    "test.shape"
   ]
  },
  {
   "cell_type": "code",
   "execution_count": 34,
   "metadata": {},
   "outputs": [],
   "source": [
    "from scipy.interpolate import CubicSpline, PchipInterpolator, Akima1DInterpolator\n",
    "N = int(data.shape[0])\n",
    "final = np.full([6,N], np.nan)\n",
    "\n",
    "for i in range(6):\n",
    "    x = np.arange(L + ks[i],N, sub_sample[i])\n",
    "    y = test[i, L + ks[i]:][::sub_sample[i]]\n",
    "    xx = np.arange(L + ks[i],N,1)\n",
    "    interp = Akima1DInterpolator(x, y)(xx)\n",
    "    final[i,L + ks[i]:] = interp"
   ]
  },
  {
   "cell_type": "code",
   "execution_count": 53,
   "metadata": {},
   "outputs": [],
   "source": [
    "np.save(\"final_coeffs.npy\", final)"
   ]
  },
  {
   "cell_type": "markdown",
   "metadata": {},
   "source": [
    "We visualise these computed values for $L=87$."
   ]
  },
  {
   "cell_type": "code",
   "execution_count": 22,
   "metadata": {},
   "outputs": [
    {
     "data": {
      "text/plain": [
       "Text(0.5, 0, 't')"
      ]
     },
     "execution_count": 22,
     "metadata": {},
     "output_type": "execute_result"
    },
    {
     "data": {
      "image/png": "[encoded data removed]",
      "text/plain": [
       "<Figure size 1500x500 with 3 Axes>"
      ]
     },
     "metadata": {},
     "output_type": "display_data"
    }
   ],
   "source": [
    "c = np.load(\"final_coeffs.npy\")\n",
    "ks = [int(87*0.125), int(87*0.25), int(87*0.5), int(87*1), int(87*1.5), int(87*2)]\n",
    "n_levels = [5, 5, 5, 5, 5, 5]\n",
    "sub_sample = [1, 2, 5, 1, 5, 3]\n",
    "\n",
    "fig, (ax1, ax2, ax3) = plt.subplots(1, 3, figsize=(15, 5))\n",
    "for i in [0,1,2]:\n",
    "    ax1.plot(c[i,:2000], label=ks[i])\n",
    "ax1.set_xlabel(\"t\")\n",
    "ax1.legend()\n",
    "\n",
    "ax2.plot(c[3,:2000], label=ks[3])\n",
    "ax2.legend()\n",
    "ax2.set_xlabel(\"t\")\n",
    "\n",
    "for i in [4,5]:\n",
    "    ax3.plot(c[i,:2000], label=ks[i])\n",
    "ax3.legend()\n",
    "ax3.set_xlabel(\"t\")"
   ]
  },
  {
   "cell_type": "markdown",
   "metadata": {},
   "source": [
    "We can observe that as $k$ increases, our statistic picks up longer term variability in our \"time series\". Combined with varying $L$, we hence gain a good overall picture of variation at a range of time scales."
   ]
  },
  {
   "cell_type": "markdown",
   "metadata": {},
   "source": [
    "We also run the signature kernel method as above on the set of financial features for the same values of $L$, (full explanation of these features in section 4)"
   ]
  },
  {
   "cell_type": "code",
   "execution_count": null,
   "metadata": {},
   "outputs": [],
   "source": [
    "#Create lists of core raw features\n",
    "askRateList = ['askRate' + str(i) for i in range(0,15)]\n",
    "askSizeList = ['askSize' + str(i) for i in range(0,15)]\n",
    "bidRateList = ['bidRate' + str(i) for i in range(0,15)]\n",
    "bidSizeList = ['bidSize' + str(i) for i in range(0,15)]"
   ]
  },
  {
   "cell_type": "code",
   "execution_count": 3,
   "metadata": {},
   "outputs": [],
   "source": [
    "import ta\n",
    "def create_limited_features_orig(df: pd.DataFrame):\n",
    "    # limited features\n",
    "    df['midRate'] = (df.bidRate0 + df.askRate0) / 2 # necessary for ohlc\n",
    "    df['OIR'] = (df.bidSize0 - df.askSize0)/(df.bidSize0 + df.askSize0)\n",
    "    df['totalAskVol'] = df[askSizeList].sum(axis=1)\n",
    "    df['totalBidVol'] = df[bidSizeList].sum(axis=1)\n",
    "    df['OIR_total'] = (df.totalBidVol - df.totalAskVol)/(df.totalBidVol + df.totalAskVol)\n",
    "    \n",
    "    df['spread'] = df.askRate0 - df.bidRate0\n",
    "    df['vwaBid'] = np.einsum('ij,ji->i', df[bidRateList], df[bidSizeList].T) / df[bidSizeList].sum(axis=1)\n",
    "    df['vwaAsk'] = np.einsum('ij,ji->i', df[askRateList], df[askSizeList].T) / df[askSizeList].sum(axis=1)\n",
    "    df['vwaBidDMid'] = df.midRate - df.vwaBid\n",
    "    df['vwaAskDMid'] = df.vwaAsk - df.midRate\n",
    "    df['diff_vwaBidAskDMid'] = df.vwaAskDMid - df.vwaBidDMid\n",
    "    \n",
    "    b1, a1 = (df.bidRate0 < df.bidRate0.shift(1)), (df.askRate0 < df.askRate0.shift(1))\n",
    "    b2, a2 = (df.bidRate0 == df.bidRate0.shift(1)), (df.askRate0 == df.askRate0.shift(1))\n",
    "    valsB, valsA = [0, (df.bidSize0 - df.bidSize0.shift(1))], [0, (df.askSize0 - df.askSize0.shift(1))]\n",
    "    df['deltaVBid'] = np.select([b1,b2], valsB, default=df.bidSize0)\n",
    "    df['deltaVAsk'] = np.select([a1,a2], valsA, default=df.askSize0)\n",
    "    df['VOI'] = df.deltaVBid - df.deltaVAsk\n",
    "    \n",
    "    # Time features\n",
    "    tsi = [87, 261, 348, 435, 522]\n",
    "    trix = [87, 174, 348, 435, 522]\n",
    "    for t in tsi:        df['tsi' + str(t)] = ta.momentum.tsi(df.midRate, window_fast=t, window_slow=2.25*t)\n",
    "    for t in trix:       df['trix' + str(t)] = ta.trend.trix(df.midRate, window=t)\n",
    "    df['minaskRate'] = df[['askRate0','askRate1','askRate2','askRate3','askRate4','askRate5','askRate6','askRate7','askRate8','askRate9','askRate10','askRate11','askRate12','askRate13','askRate14']].min(axis=1)\n",
    "    df['maxbidRate'] = df[['bidRate0','bidRate1','bidRate2','bidRate3','bidRate4','bidRate5','bidRate6','bidRate7','bidRate8','bidRate9','bidRate10','bidRate11','bidRate12','bidRate13','bidRate14']].max(axis=1)\n",
    "\n",
    "    df['askBidRatio'] = df['minaskRate'] / df['maxbidRate']\n",
    "    \n",
    "    df['askNotEqualZero'] = df[['askRate0','askRate1','askRate2','askRate3','askRate4','askRate5','askRate6','askRate7','askRate8','askRate9','askRate10','askRate11','askRate12','askRate13','askRate14']].ne(0).sum(axis=1)\n",
    "    df['avgaskRate'] = (df['askRate0']*df['askSize0']+df['askRate1']*df['askSize1']+df['askRate2']*df['askSize2']+df['askRate3']*df['askSize3']+df['askRate4']*df['askSize4']+df['askRate5']*df['askSize5']+df['askRate6']*df['askSize6']+df['askRate7']*df['askSize7']+df['askRate8']*df['askSize8']+df['askRate9']*df['askSize9']+df['askRate10']*df['askSize10']+df['askRate11']*df['askSize11']+df['askRate12']*df['askSize12']+df['askRate13']*df['askSize13']+df['askRate14']*df['askSize14'])/df['askNotEqualZero']\n",
    "\n",
    "# Create a feature 'average bid rate' ('avgbidRate'), where the average is computed after removing zero entries\n",
    "# 'bidNotEqualZero' is a helper feature that counts the number of non-zero entries, that will be dropped later\n",
    "    df['bidNotEqualZero'] = df[['bidRate0','bidRate1','bidRate2','bidRate3','bidRate4','bidRate5','bidRate6','bidRate7','bidRate8','bidRate9','bidRate10','bidRate11','bidRate12','bidRate13','bidRate14']].ne(0).sum(axis=1)\n",
    "    df['avgbidRate'] = (df['bidRate0']*df['bidSize0']+df['bidRate1']*df['bidSize1']+df['bidRate2']*df['bidSize2']+df['bidRate3']*df['bidSize3']+df['bidRate4']*df['bidSize4']+df['bidRate5']*df['bidSize5']+df['bidRate6']*df['bidSize6']+df['bidRate7']*df['bidSize7']+df['bidRate8']*df['bidSize8']+df['bidRate9']*df['bidSize9']+df['bidRate10']*df['bidSize10']+df['bidRate11']*df['bidSize11']+df['bidRate12']*df['bidSize12']+df['bidRate13']*df['bidSize13']+df['bidRate14']*df['bidSize14'])/df['bidNotEqualZero']\n",
    "\n",
    "# The helper variables are dropped here\n",
    "    df = df.drop(['askNotEqualZero','bidNotEqualZero', 'minaskRate', 'maxbidRate'], axis=1)\n",
    "    return df"
   ]
  },
  {
   "cell_type": "code",
   "execution_count": 4,
   "metadata": {},
   "outputs": [],
   "source": [
    "path = 'data/data.csv.gz'\n",
    "df = pd.read_csv(path)\n",
    "df = df.astype('float32')\n",
    "df.fillna(0, inplace=True)\n",
    "df.replace([np.inf, -np.inf], np.nan).fillna(0).drop('y', axis=1)\n",
    "askRateList = ['askRate' + str(i) for i in range(0,15)]\n",
    "askSizeList = ['askSize' + str(i) for i in range(0,15)]\n",
    "bidRateList = ['bidRate' + str(i) for i in range(0,15)]\n",
    "bidSizeList = ['bidSize' + str(i) for i in range(0,15)]\n",
    "data_aug = create_limited_features_orig(df)"
   ]
  },
  {
   "cell_type": "code",
   "execution_count": 13,
   "metadata": {},
   "outputs": [
    {
     "data": {
      "text/plain": [
       "(3497666, 28)"
      ]
     },
     "execution_count": 13,
     "metadata": {},
     "output_type": "execute_result"
    }
   ],
   "source": [
    "data_aug.fillna(0, inplace=True)\n",
    "data_aug.replace([np.inf, -np.inf], np.nan).fillna(0).drop('y', axis=1)\n",
    "X = data_aug.drop(askRateList + askSizeList + bidRateList + bidSizeList, axis=1).to_numpy()\n",
    "X.shape"
   ]
  },
  {
   "cell_type": "code",
   "execution_count": null,
   "metadata": {},
   "outputs": [],
   "source": [
    "ks = [int(87*0.125), int(87*0.25), int(87*0.5), int(87*1), int(87*1.5), int(87*2)]\n",
    "n_levels = [5, 4, 4, 5, 3, 3]\n",
    "sub_sample = [2, 2, 3, 2, 3, 3]\n",
    "L = 87 #Also run for int(87/4),  int(87/2)\n",
    "\n",
    "N = int(data_aug.shape[0])\n",
    "sims = np.full([6,len(np.arange(0,N,1))], np.nan)\n",
    "print(sims.shape)\n",
    "\n",
    "static_kernel = ksig.static.kernels.RBFKernel()\n",
    "\n",
    "for i in range(6):\n",
    "    try:\n",
    "        for j, t in enumerate(tqdm(np.arange(L + ks[i],N,sub_sample[i]))):  #Delete the ones off the end probably... depends on the gap we leave\n",
    "            X_window = np.stack((X[t-L:t], X[t-ks[i]-L:t-ks[i]]), axis=0)\n",
    "            # Instantiate RFF feature map.\n",
    "            # Instantiate tensor random projections.\n",
    "            sig_kernel = ksig.kernels.SignatureKernel(n_levels[i], static_kernel=static_kernel)\n",
    "\n",
    "            # Fit the kernel to the data.\n",
    "            K_XX = sig_kernel(X_window)\n",
    "\n",
    "            sims[i,t] = K_XX[0][1]  # K_XX has shape (1000, 1000).\n",
    "    except:\n",
    "        print(\"error\")\n",
    "np.save('data_new6.npy', sims)"
   ]
  },
  {
   "cell_type": "markdown",
   "metadata": {},
   "source": [
    "Interpolate as before."
   ]
  },
  {
   "cell_type": "code",
   "execution_count": null,
   "metadata": {},
   "outputs": [],
   "source": [
    "from scipy.interpolate import CubicSpline, PchipInterpolator, Akima1DInterpolator\n",
    "N = 3497666\n",
    "#test = np.load(\"data_new6.npy\")\n",
    "test = sims\n",
    "final = np.full([6,N], np.nan)\n",
    "ks = [int(87*0.125), int(87*0.25), int(87*0.5), int(87*1), int(87*1.5), int(87*2)]\n",
    "n_levels = [5, 4, 4, 5, 3, 3]\n",
    "sub_sample = [2, 2, 3, 2, 3, 3]\n",
    "\n",
    "\n",
    "for i in range(6):\n",
    "    try:\n",
    "        x = np.arange(L + ks[i],N, sub_sample[i])\n",
    "        y = test[i, L + ks[i]:][::sub_sample[i]]\n",
    "        print(y)\n",
    "        xx = np.arange(L + ks[i],N,1)\n",
    "        interp = Akima1DInterpolator(x, y)(xx)\n",
    "        final[i,L + ks[i]:] = interp\n",
    "    except:\n",
    "        pass"
   ]
  },
  {
   "cell_type": "markdown",
   "metadata": {},
   "source": [
    "[ksig] Király, F.J. and Oberhauser, H. (2016) ‘Kernels for sequentially ordered data’, arXiv [stat.ML] [Preprint]. Available at: http://arxiv.org/abs/1601.08169."
   ]
  },
  {
   "cell_type": "markdown",
   "metadata": {},
   "source": [
    "### Signature Transform Generation"
   ]
  },
  {
   "cell_type": "markdown",
   "metadata": {},
   "source": [
    "In order to extract signatures we started with the code kindly provided, but found that on our machines it was impossible to run. We quickly realised that truncating beyond the second level would be completely infeasible for such a large dataset without a much higher amount of computation power. We spent some time learning how to parallelise and use generators to increase computational efficiency and avoid excessive memory consumption. In spite of this, for the larger windows with depth 2 still had to be computed in smaller chunks, saved to files and manually stitched together. \n",
    "\n",
    "While extracting features we did add a time feature to the dataset as we thought this was sensible in case of some kind of seasonality in the behaviour, under the given assumption that the ticks are uniform. We also considered adding a lead lag transform, but upon testing it on a couple of smaller windows in our model, we found it performed comparably to our raw transforms, so we removed it as it added significant computational complexity, which we were already struggling with due to the high dimensionality of the transform.\n",
    "\n",
    "With this method, we manage to compute the signature transform at level 5 for windows $10, 20, 50, 87, 100$ at depth 1 and windows $10, 20, 50, 87$ at depth 2 until we hit a memory error.\n",
    "\n",
    "https://www.sciencedirect.com/science/article/pii/S0167947320302395."
   ]
  },
  {
   "cell_type": "code",
   "execution_count": null,
   "metadata": {},
   "outputs": [],
   "source": [
    "import numpy as np\n",
    "from tqdm import tqdm\n",
    "from multiprocessing import Pool, cpu_count\n",
    "import pandas as pd\n",
    "import itertools\n",
    "import iisignature\n",
    "from sklearn.base import BaseEstimator, TransformerMixin\n",
    "\n",
    "\n",
    "class Augment(BaseEstimator, TransformerMixin):\n",
    "    def __init__(self, normalize=False, add_time=True, lead_lag=False, basepoint=True, t0=0.0, t1=1.0, lags=[1]):\n",
    "        self.normalize = normalize\n",
    "        self.add_time = add_time\n",
    "        self.lead_lag = lead_lag\n",
    "        self.basepoint = basepoint\n",
    "        self.t0, self.t1 = t0, t1\n",
    "        self.lags = lags\n",
    "\n",
    "    def fit(self, X):\n",
    "        return self\n",
    "\n",
    "    def transform(self, X):\n",
    "        n_samples, n_timesteps, n_features = X.shape\n",
    "\n",
    "        # Step 1: Normalize if required\n",
    "        if self.normalize:\n",
    "            max_vals = np.max(X, axis=1, keepdims=True)  # Efficiently keep dimensions\n",
    "            X /= np.where(max_vals != 0, max_vals, 1)   # Avoid division by zero\n",
    "\n",
    "        # Step 2: Lead-Lag transformation\n",
    "        if self.lead_lag:\n",
    "            X_list = [X]\n",
    "            for lag in self.lags:\n",
    "                # Create lagged version of X\n",
    "                X_shifted = np.empty_like(X)\n",
    "                X_shifted[:, lag:, :] = X[:, :-lag, :]\n",
    "                X_shifted[:, :lag, :] = X[:, 0:1, :]  # Use broadcasting to fill initial values\n",
    "                X_list.append(X_shifted)\n",
    "            X = np.concatenate(X_list, axis=-1)  # Concatenate along the feature axis\n",
    "\n",
    "        # Step 3: Add time dimension\n",
    "        if self.add_time:\n",
    "            # Efficiently create time array for all samples\n",
    "            time = np.linspace(self.t0, self.t1, n_timesteps, dtype=X.dtype)\n",
    "            time = np.repeat(time[None, :, None], n_samples, axis=0)\n",
    "            X = np.concatenate((time, X), axis=-1)  # Add time as the first feature\n",
    "\n",
    "        # Step 4: Add basepoint\n",
    "        if self.basepoint:\n",
    "            basepoint = np.zeros((n_samples, 1, X.shape[-1]), dtype=X.dtype)\n",
    "            X = np.concatenate((basepoint, X), axis=1)\n",
    "\n",
    "        return X\n",
    "\n",
    "\n",
    "class FeatureExtraction(Augment):\n",
    "    def __init__(self, depth, levels=1, t0=0.0,\n",
    "                 t1=1.0,\n",
    "                 lags=[1],\n",
    "                 level_by_level=False,\n",
    "                 normalize=False,\n",
    "                 add_time=True,\n",
    "                 lead_lag=False,\n",
    "                 basepoint=False):\n",
    "\n",
    "        Augment.__init__(self, normalize, add_time, lead_lag, basepoint, t0, t1, lags)\n",
    "        self.depth = depth\n",
    "        self.levels = levels\n",
    "        self.level_by_level = level_by_level\n",
    "\n",
    "    def transform(self, X):\n",
    "        X_sig_list = []\n",
    "        indices = np.arange(self.levels) if self.level_by_level else [None]\n",
    "        X_midprice = X[:, :, -1:]  # Extract `X_midprice` only once\n",
    "\n",
    "        for j in indices:\n",
    "            # Determine start and end indices for slicing\n",
    "            if j is not None:\n",
    "                start_idx, end_idx = 4 * j, 4 * (j + 1)\n",
    "            else:\n",
    "                start_idx, end_idx = 0, 4 * self.levels\n",
    "\n",
    "            # Slice `X_window` and concatenate with `X_midprice`\n",
    "            X_window = np.concatenate([X[:, :, start_idx:end_idx], X_midprice], axis=2)\n",
    "\n",
    "            # Apply augmentation and signature transform\n",
    "            X_augment = Augment.transform(self, X_window)  # Use the optimized Augment class\n",
    "            X_sig = iisignature.sig(X_augment, self.depth)  # Compute signature transform\n",
    "\n",
    "            X_sig_list.append(X_sig)\n",
    "\n",
    "        # Concatenate all signature results\n",
    "        X_out = np.concatenate(X_sig_list, axis=1)\n",
    "        return X_out\n",
    "\n",
    "\n",
    "def process_chunk(args):\n",
    "    \"\"\"Process a chunk of data for a specific depth and level.\"\"\"\n",
    "    chunk, depth, levels = args\n",
    "    feature_extraction = FeatureExtraction(depth=depth, levels=levels)\n",
    "    return feature_extraction.transform(chunk)\n",
    "\n",
    "def extract_signature_features(data, windows, depths, levels_list, leave_out_start, leave_out_end, chunk_size=1000):\n",
    "    M, N = data.shape\n",
    "\n",
    "    for window_size in tqdm(windows, desc=\"Processing windows\"):\n",
    "        for depth in depths:\n",
    "            for levels in levels_list:\n",
    "                print(f\"Processing window: {window_size}, depth: {depth}, levels: {levels}\")\n",
    "\n",
    "                def generate_chunks():\n",
    "                    current_chunk = []\n",
    "                    for i in range(leave_out_start + max(windows), M - leave_out_end):\n",
    "                        window = data[i - window_size:i, :][None, ...]\n",
    "                        current_chunk.append(window)\n",
    "                        if len(current_chunk) == chunk_size:\n",
    "                            yield np.concatenate(current_chunk, axis=0)\n",
    "                            current_chunk = []\n",
    "                    if current_chunk:\n",
    "                        yield np.concatenate(current_chunk, axis=0)\n",
    "                # Process generator chunks\n",
    "                results = []\n",
    "                if window_size >= 20:\n",
    "                    print(f\"Processing large window size {window_size} sequentially.\")\n",
    "                    for chunk in generate_chunks():\n",
    "                        results.append(process_chunk((chunk, depth, levels)))\n",
    "                else:\n",
    "                    with Pool(cpu_count()) as pool:\n",
    "                        results = pool.map(process_chunk, [(chunk, depth, levels) for chunk in generate_chunks()])\n",
    "\n",
    "                # Combine results\n",
    "                X = np.concatenate(results, axis=0)\n",
    "                assert not np.isnan(X).any(), \"NaNs values found in signature features\"\n",
    "\n",
    "                # Save results\n",
    "                # print(X.shape)\n",
    "                np.savez_compressed(f\"./pastwindow/from_270_depth_{depth}_levels_{levels}_window_{window_size}\", X)\n",
    "                print(f\"Saved batch features for window: {window_size}, depth: {depth}, levels: {levels}\")\n",
    "\n",
    "\n",
    "# usedata = pd.read_csv('./data2/data.csv.gz', compression='gzip')\n",
    "\n",
    "if __name__ == \"__main__\":\n",
    "    # Example usage\n",
    "    data = pd.read_csv('./data2/data.csv.gz', compression='gzip')# .iloc[3000001:, :] # usedata.iloc[(500000 * (n + 2)) - 198:(500000 * (n + 2)) + 200, :]  # Placeholder data; replace with actual dataset\n",
    "    askSize_columns = [f'askSize{i}' for i in range(15)]\n",
    "    bidSize_columns = [f'bidSize{i}' for i in range(15)]\n",
    "    size_columns = askSize_columns + bidSize_columns\n",
    "    data[size_columns] = data[size_columns].fillna(0.0)\n",
    "    # set the NaN rates to last observed value and fill the remaining ones backward\n",
    "    askRate_columns = [f'askRate{i}' for i in range(15)]\n",
    "    bidRate_columns = [f'bidRate{i}' for i in range(15)]\n",
    "    rate_columns = askRate_columns + bidRate_columns\n",
    "    data['midprice'] = 0.5 * (data['askRate0'] + data['bidRate0'])\n",
    "\n",
    "    # reorder columns\n",
    "    selected_columns = [[f'askRate{i}', f'bidRate{i}', f'askSize{i}', f'bidSize{i}'] for i in range(15)]\n",
    "    selected_columns = list(itertools.chain.from_iterable(selected_columns)) + ['midprice']\n",
    "    data = data[selected_columns]\n",
    "    df = data.values\n",
    "    leave_out_start = 170\n",
    "    leave_out_end = 0\n",
    "\n",
    "    windows = [10, 20, 50, 87]\n",
    "    depths = [2]\n",
    "    levels_list = [5]\n",
    "\n",
    "    extract_signature_features(df, windows, depths, levels_list, leave_out_start, leave_out_end)\n",
    "\n",
    "import iisignature\n",
    "from sklearn.base import BaseEstimator, TransformerMixin\n",
    "\n",
    "\n",
    "class Augment(BaseEstimator, TransformerMixin):\n",
    "    def __init__(self, normalize=False, add_time=True, lead_lag=False, basepoint=True, t0=0.0, t1=1.0, lags=[1]):\n",
    "        self.normalize = normalize\n",
    "        self.add_time = add_time\n",
    "        self.lead_lag = lead_lag\n",
    "        self.basepoint = basepoint\n",
    "        self.t0, self.t1 = t0, t1\n",
    "        self.lags = lags\n",
    "\n",
    "    def fit(self, X):\n",
    "        return self\n",
    "\n",
    "    def transform(self, X):\n",
    "        n_samples, n_timesteps, n_features = X.shape\n",
    "\n",
    "        # Step 1: Normalize if required\n",
    "        if self.normalize:\n",
    "            max_vals = np.max(X, axis=1, keepdims=True)  # Efficiently keep dimensions\n",
    "            X /= np.where(max_vals != 0, max_vals, 1)   # Avoid division by zero\n",
    "\n",
    "        # Step 2: Lead-Lag transformation\n",
    "        if self.lead_lag:\n",
    "            X_list = [X]\n",
    "            for lag in self.lags:\n",
    "                # Create lagged version of X\n",
    "                X_shifted = np.empty_like(X)\n",
    "                X_shifted[:, lag:, :] = X[:, :-lag, :]\n",
    "                X_shifted[:, :lag, :] = X[:, 0:1, :]  # Use broadcasting to fill initial values\n",
    "                X_list.append(X_shifted)\n",
    "            X = np.concatenate(X_list, axis=-1)  # Concatenate along the feature axis\n",
    "\n",
    "        # Step 3: Add time dimension\n",
    "        if self.add_time:\n",
    "            # Efficiently create time array for all samples\n",
    "            time = np.linspace(self.t0, self.t1, n_timesteps, dtype=X.dtype)\n",
    "            time = np.repeat(time[None, :, None], n_samples, axis=0)\n",
    "            X = np.concatenate((time, X), axis=-1)  # Add time as the first feature\n",
    "\n",
    "        # Step 4: Add basepoint\n",
    "        if self.basepoint:\n",
    "            basepoint = np.zeros((n_samples, 1, X.shape[-1]), dtype=X.dtype)\n",
    "            X = np.concatenate((basepoint, X), axis=1)\n",
    "\n",
    "        return X\n",
    "\n",
    "\n",
    "class FeatureExtraction(Augment):\n",
    "    def __init__(self, depth, levels=1, t0=0.0,\n",
    "                 t1=1.0,\n",
    "                 lags=[1],\n",
    "                 level_by_level=False,\n",
    "                 normalize=False,\n",
    "                 add_time=True,\n",
    "                 lead_lag=False,\n",
    "                 basepoint=False):\n",
    "\n",
    "        Augment.__init__(self, normalize, add_time, lead_lag, basepoint, t0, t1, lags)\n",
    "        self.depth = depth\n",
    "        self.levels = levels\n",
    "        self.level_by_level = level_by_level\n",
    "\n",
    "    def transform(self, X):\n",
    "        X_sig_list = []\n",
    "        indices = np.arange(self.levels) if self.level_by_level else [None]\n",
    "        X_midprice = X[:, :, -1:]  # Extract `X_midprice` only once\n",
    "\n",
    "        for j in indices:\n",
    "            # Determine start and end indices for slicing\n",
    "            if j is not None:\n",
    "                start_idx, end_idx = 4 * j, 4 * (j + 1)\n",
    "            else:\n",
    "                start_idx, end_idx = 0, 4 * self.levels\n",
    "\n",
    "            # Slice `X_window` and concatenate with `X_midprice`\n",
    "            X_window = np.concatenate([X[:, :, start_idx:end_idx], X_midprice], axis=2)\n",
    "\n",
    "            # Apply augmentation and signature transform\n",
    "            X_augment = Augment.transform(self, X_window)  # Use the optimized Augment class\n",
    "            X_sig = iisignature.sig(X_augment, self.depth)  # Compute signature transform\n",
    "\n",
    "            X_sig_list.append(X_sig)\n",
    "\n",
    "        # Concatenate all signature results\n",
    "        X_out = np.concatenate(X_sig_list, axis=1)\n",
    "        return X_out\n",
    "\n",
    "\n",
    "def process_chunk(args):\n",
    "    \"\"\"Process a chunk of data for a specific depth and level.\"\"\"\n",
    "    chunk, depth, levels = args\n",
    "    feature_extraction = FeatureExtraction(depth=depth, levels=levels)\n",
    "    return feature_extraction.transform(chunk)\n",
    "\n",
    "\n",
    "def extract_signature_features(data, windows, depths, levels_list, leave_out_start, leave_out_end, chunk_size=1000):\n",
    "    M, N = data.shape\n",
    "\n",
    "    for window_size in tqdm(windows, desc=\"Processing windows\"):\n",
    "        for depth in depths:\n",
    "            for levels in levels_list:\n",
    "                print(f\"Processing window: {window_size}, depth: {depth}, levels: {levels}\")\n",
    "\n",
    "                def generate_chunks():\n",
    "                    current_chunk = []\n",
    "                    for i in range(leave_out_start + max(windows), M - leave_out_end):\n",
    "                        window = data[i - window_size:i, :][None, ...]\n",
    "                        current_chunk.append(window)\n",
    "                        if len(current_chunk) == chunk_size:\n",
    "                            yield np.concatenate(current_chunk, axis=0)\n",
    "                            current_chunk = []\n",
    "                    if current_chunk:\n",
    "                        yield np.concatenate(current_chunk, axis=0)\n",
    "                # Process generator chunks\n",
    "                results = []\n",
    "                if window_size >= 20:\n",
    "                    print(f\"Processing large window size {window_size} sequentially.\")\n",
    "                    for chunk in generate_chunks():\n",
    "                        results.append(process_chunk((chunk, depth, levels)))\n",
    "                else:\n",
    "                    with Pool(cpu_count()) as pool:\n",
    "                        results = pool.map(process_chunk, [(chunk, depth, levels) for chunk in generate_chunks()])\n",
    "\n",
    "                # Combine results\n",
    "                X = np.concatenate(results, axis=0)\n",
    "                assert not np.isnan(X).any(), \"NaNs values found in signature features\"\n",
    "\n",
    "                # Save results\n",
    "                # print(X.shape)\n",
    "                np.savez_compressed(f\"./pastwindow/from_270_depth_{depth}_levels_{levels}_window_{window_size}\", X)\n",
    "                print(f\"Saved batch features for window: {window_size}, depth: {depth}, levels: {levels}\")\n",
    "\n",
    "\n",
    "# usedata = pd.read_csv('./data2/data.csv.gz', compression='gzip')\n",
    "\n",
    "if __name__ == \"__main__\":\n",
    "    # Example usage\n",
    "    data = pd.read_csv('./data2/data.csv.gz', compression='gzip')# .iloc[3000001:, :] # usedata.iloc[(500000 * (n + 2)) - 198:(500000 * (n + 2)) + 200, :]  # Placeholder data; replace with actual dataset\n",
    "    askSize_columns = [f'askSize{i}' for i in range(15)]\n",
    "    bidSize_columns = [f'bidSize{i}' for i in range(15)]\n",
    "    size_columns = askSize_columns + bidSize_columns\n",
    "    data[size_columns] = data[size_columns].fillna(0.0)\n",
    "    # set the NaN rates to last observed value and fill the remaining ones backward\n",
    "    askRate_columns = [f'askRate{i}' for i in range(15)]\n",
    "    bidRate_columns = [f'bidRate{i}' for i in range(15)]\n",
    "    rate_columns = askRate_columns + bidRate_columns\n",
    "    data['midprice'] = 0.5 * (data['askRate0'] + data['bidRate0'])\n",
    "\n",
    "    # reorder columns\n",
    "    selected_columns = [[f'askRate{i}', f'bidRate{i}', f'askSize{i}', f'bidSize{i}'] for i in range(15)]\n",
    "    selected_columns = list(itertools.chain.from_iterable(selected_columns)) + ['midprice']\n",
    "    data = data[selected_columns]\n",
    "    df = data.values\n",
    "    leave_out_start = 170\n",
    "    leave_out_end = 0\n",
    "\n",
    "    windows = [10, 20, 50, 87, 100]\n",
    "    depths = [1,2]\n",
    "    levels_list = [10]\n",
    "\n",
    "    extract_signature_features(df, windows, depths, levels_list, leave_out_start, leave_out_end)\n"
   ]
  },
  {
   "cell_type": "markdown",
   "metadata": {},
   "source": [
    "# Part 2: Machine Learning Exploration"
   ]
  },
  {
   "cell_type": "markdown",
   "metadata": {},
   "source": [
    "### Random Forest Experiment"
   ]
  },
  {
   "cell_type": "markdown",
   "metadata": {},
   "source": [
    "We first attempted to train a Random Forest Regressor on the raw LOB dataset:"
   ]
  },
  {
   "cell_type": "code",
   "execution_count": null,
   "metadata": {},
   "outputs": [],
   "source": [
    "\n",
    "X = df.drop('y', axis=1)\n",
    "Y = df['y']\n",
    "\n",
    "# (2) Split the dataset into training and test set\n",
    "from sklearn.model_selection import train_test_split\n",
    "X_train, X_test, y_train, y_test = train_test_split(X, Y, test_size=0.2, shuffle=False) "
   ]
  },
  {
   "cell_type": "code",
   "execution_count": null,
   "metadata": {},
   "outputs": [
    {
     "data": {
      "text/html": [
       "<style>#sk-container-id-2 {\n",
       "  /* Definition of color scheme common for light and dark mode */\n",
       "  --sklearn-color-text: #000;\n",
       "  --sklearn-color-text-muted: #666;\n",
       "  --sklearn-color-line: gray;\n",
       "  /* Definition of color scheme for unfitted estimators */\n",
       "  --sklearn-color-unfitted-level-0: #fff5e6;\n",
       "  --sklearn-color-unfitted-level-1: #f6e4d2;\n",
       "  --sklearn-color-unfitted-level-2: #ffe0b3;\n",
       "  --sklearn-color-unfitted-level-3: chocolate;\n",
       "  /* Definition of color scheme for fitted estimators */\n",
       "  --sklearn-color-fitted-level-0: #f0f8ff;\n",
       "  --sklearn-color-fitted-level-1: #d4ebff;\n",
       "  --sklearn-color-fitted-level-2: #b3dbfd;\n",
       "  --sklearn-color-fitted-level-3: cornflowerblue;\n",
       "\n",
       "  /* Specific color for light theme */\n",
       "  --sklearn-color-text-on-default-background: var(--sg-text-color, var(--theme-code-foreground, var(--jp-content-font-color1, black)));\n",
       "  --sklearn-color-background: var(--sg-background-color, var(--theme-background, var(--jp-layout-color0, white)));\n",
       "  --sklearn-color-border-box: var(--sg-text-color, var(--theme-code-foreground, var(--jp-content-font-color1, black)));\n",
       "  --sklearn-color-icon: #696969;\n",
       "\n",
       "  @media (prefers-color-scheme: dark) {\n",
       "    /* Redefinition of color scheme for dark theme */\n",
       "    --sklearn-color-text-on-default-background: var(--sg-text-color, var(--theme-code-foreground, var(--jp-content-font-color1, white)));\n",
       "    --sklearn-color-background: var(--sg-background-color, var(--theme-background, var(--jp-layout-color0, #111)));\n",
       "    --sklearn-color-border-box: var(--sg-text-color, var(--theme-code-foreground, var(--jp-content-font-color1, white)));\n",
       "    --sklearn-color-icon: #878787;\n",
       "  }\n",
       "}\n",
       "\n",
       "#sk-container-id-2 {\n",
       "  color: var(--sklearn-color-text);\n",
       "}\n",
       "\n",
       "#sk-container-id-2 pre {\n",
       "  padding: 0;\n",
       "}\n",
       "\n",
       "#sk-container-id-2 input.sk-hidden--visually {\n",
       "  border: 0;\n",
       "  clip: rect(1px 1px 1px 1px);\n",
       "  clip: rect(1px, 1px, 1px, 1px);\n",
       "  height: 1px;\n",
       "  margin: -1px;\n",
       "  overflow: hidden;\n",
       "  padding: 0;\n",
       "  position: absolute;\n",
       "  width: 1px;\n",
       "}\n",
       "\n",
       "#sk-container-id-2 div.sk-dashed-wrapped {\n",
       "  border: 1px dashed var(--sklearn-color-line);\n",
       "  margin: 0 0.4em 0.5em 0.4em;\n",
       "  box-sizing: border-box;\n",
       "  padding-bottom: 0.4em;\n",
       "  background-color: var(--sklearn-color-background);\n",
       "}\n",
       "\n",
       "#sk-container-id-2 div.sk-container {\n",
       "  /* jupyter's `normalize.less` sets `[hidden] { display: none; }`\n",
       "     but bootstrap.min.css set `[hidden] { display: none !important; }`\n",
       "     so we also need the `!important` here to be able to override the\n",
       "     default hidden behavior on the sphinx rendered scikit-learn.org.\n",
       "     See: https://github.com/scikit-learn/scikit-learn/issues/21755 */\n",
       "  display: inline-block !important;\n",
       "  position: relative;\n",
       "}\n",
       "\n",
       "#sk-container-id-2 div.sk-text-repr-fallback {\n",
       "  display: none;\n",
       "}\n",
       "\n",
       "div.sk-parallel-item,\n",
       "div.sk-serial,\n",
       "div.sk-item {\n",
       "  /* draw centered vertical line to link estimators */\n",
       "  background-image: linear-gradient(var(--sklearn-color-text-on-default-background), var(--sklearn-color-text-on-default-background));\n",
       "  background-size: 2px 100%;\n",
       "  background-repeat: no-repeat;\n",
       "  background-position: center center;\n",
       "}\n",
       "\n",
       "/* Parallel-specific style estimator block */\n",
       "\n",
       "#sk-container-id-2 div.sk-parallel-item::after {\n",
       "  content: \"\";\n",
       "  width: 100%;\n",
       "  border-bottom: 2px solid var(--sklearn-color-text-on-default-background);\n",
       "  flex-grow: 1;\n",
       "}\n",
       "\n",
       "#sk-container-id-2 div.sk-parallel {\n",
       "  display: flex;\n",
       "  align-items: stretch;\n",
       "  justify-content: center;\n",
       "  background-color: var(--sklearn-color-background);\n",
       "  position: relative;\n",
       "}\n",
       "\n",
       "#sk-container-id-2 div.sk-parallel-item {\n",
       "  display: flex;\n",
       "  flex-direction: column;\n",
       "}\n",
       "\n",
       "#sk-container-id-2 div.sk-parallel-item:first-child::after {\n",
       "  align-self: flex-end;\n",
       "  width: 50%;\n",
       "}\n",
       "\n",
       "#sk-container-id-2 div.sk-parallel-item:last-child::after {\n",
       "  align-self: flex-start;\n",
       "  width: 50%;\n",
       "}\n",
       "\n",
       "#sk-container-id-2 div.sk-parallel-item:only-child::after {\n",
       "  width: 0;\n",
       "}\n",
       "\n",
       "/* Serial-specific style estimator block */\n",
       "\n",
       "#sk-container-id-2 div.sk-serial {\n",
       "  display: flex;\n",
       "  flex-direction: column;\n",
       "  align-items: center;\n",
       "  background-color: var(--sklearn-color-background);\n",
       "  padding-right: 1em;\n",
       "  padding-left: 1em;\n",
       "}\n",
       "\n",
       "\n",
       "/* Toggleable style: style used for estimator/Pipeline/ColumnTransformer box that is\n",
       "clickable and can be expanded/collapsed.\n",
       "- Pipeline and ColumnTransformer use this feature and define the default style\n",
       "- Estimators will overwrite some part of the style using the `sk-estimator` class\n",
       "*/\n",
       "\n",
       "/* Pipeline and ColumnTransformer style (default) */\n",
       "\n",
       "#sk-container-id-2 div.sk-toggleable {\n",
       "  /* Default theme specific background. It is overwritten whether we have a\n",
       "  specific estimator or a Pipeline/ColumnTransformer */\n",
       "  background-color: var(--sklearn-color-background);\n",
       "}\n",
       "\n",
       "/* Toggleable label */\n",
       "#sk-container-id-2 label.sk-toggleable__label {\n",
       "  cursor: pointer;\n",
       "  display: flex;\n",
       "  width: 100%;\n",
       "  margin-bottom: 0;\n",
       "  padding: 0.5em;\n",
       "  box-sizing: border-box;\n",
       "  text-align: center;\n",
       "  align-items: start;\n",
       "  justify-content: space-between;\n",
       "  gap: 0.5em;\n",
       "}\n",
       "\n",
       "#sk-container-id-2 label.sk-toggleable__label .caption {\n",
       "  font-size: 0.6rem;\n",
       "  font-weight: lighter;\n",
       "  color: var(--sklearn-color-text-muted);\n",
       "}\n",
       "\n",
       "#sk-container-id-2 label.sk-toggleable__label-arrow:before {\n",
       "  /* Arrow on the left of the label */\n",
       "  content: \"▸\";\n",
       "  float: left;\n",
       "  margin-right: 0.25em;\n",
       "  color: var(--sklearn-color-icon);\n",
       "}\n",
       "\n",
       "#sk-container-id-2 label.sk-toggleable__label-arrow:hover:before {\n",
       "  color: var(--sklearn-color-text);\n",
       "}\n",
       "\n",
       "/* Toggleable content - dropdown */\n",
       "\n",
       "#sk-container-id-2 div.sk-toggleable__content {\n",
       "  max-height: 0;\n",
       "  max-width: 0;\n",
       "  overflow: hidden;\n",
       "  text-align: left;\n",
       "  /* unfitted */\n",
       "  background-color: var(--sklearn-color-unfitted-level-0);\n",
       "}\n",
       "\n",
       "#sk-container-id-2 div.sk-toggleable__content.fitted {\n",
       "  /* fitted */\n",
       "  background-color: var(--sklearn-color-fitted-level-0);\n",
       "}\n",
       "\n",
       "#sk-container-id-2 div.sk-toggleable__content pre {\n",
       "  margin: 0.2em;\n",
       "  border-radius: 0.25em;\n",
       "  color: var(--sklearn-color-text);\n",
       "  /* unfitted */\n",
       "  background-color: var(--sklearn-color-unfitted-level-0);\n",
       "}\n",
       "\n",
       "#sk-container-id-2 div.sk-toggleable__content.fitted pre {\n",
       "  /* unfitted */\n",
       "  background-color: var(--sklearn-color-fitted-level-0);\n",
       "}\n",
       "\n",
       "#sk-container-id-2 input.sk-toggleable__control:checked~div.sk-toggleable__content {\n",
       "  /* Expand drop-down */\n",
       "  max-height: 200px;\n",
       "  max-width: 100%;\n",
       "  overflow: auto;\n",
       "}\n",
       "\n",
       "#sk-container-id-2 input.sk-toggleable__control:checked~label.sk-toggleable__label-arrow:before {\n",
       "  content: \"▾\";\n",
       "}\n",
       "\n",
       "/* Pipeline/ColumnTransformer-specific style */\n",
       "\n",
       "#sk-container-id-2 div.sk-label input.sk-toggleable__control:checked~label.sk-toggleable__label {\n",
       "  color: var(--sklearn-color-text);\n",
       "  background-color: var(--sklearn-color-unfitted-level-2);\n",
       "}\n",
       "\n",
       "#sk-container-id-2 div.sk-label.fitted input.sk-toggleable__control:checked~label.sk-toggleable__label {\n",
       "  background-color: var(--sklearn-color-fitted-level-2);\n",
       "}\n",
       "\n",
       "/* Estimator-specific style */\n",
       "\n",
       "/* Colorize estimator box */\n",
       "#sk-container-id-2 div.sk-estimator input.sk-toggleable__control:checked~label.sk-toggleable__label {\n",
       "  /* unfitted */\n",
       "  background-color: var(--sklearn-color-unfitted-level-2);\n",
       "}\n",
       "\n",
       "#sk-container-id-2 div.sk-estimator.fitted input.sk-toggleable__control:checked~label.sk-toggleable__label {\n",
       "  /* fitted */\n",
       "  background-color: var(--sklearn-color-fitted-level-2);\n",
       "}\n",
       "\n",
       "#sk-container-id-2 div.sk-label label.sk-toggleable__label,\n",
       "#sk-container-id-2 div.sk-label label {\n",
       "  /* The background is the default theme color */\n",
       "  color: var(--sklearn-color-text-on-default-background);\n",
       "}\n",
       "\n",
       "/* On hover, darken the color of the background */\n",
       "#sk-container-id-2 div.sk-label:hover label.sk-toggleable__label {\n",
       "  color: var(--sklearn-color-text);\n",
       "  background-color: var(--sklearn-color-unfitted-level-2);\n",
       "}\n",
       "\n",
       "/* Label box, darken color on hover, fitted */\n",
       "#sk-container-id-2 div.sk-label.fitted:hover label.sk-toggleable__label.fitted {\n",
       "  color: var(--sklearn-color-text);\n",
       "  background-color: var(--sklearn-color-fitted-level-2);\n",
       "}\n",
       "\n",
       "/* Estimator label */\n",
       "\n",
       "#sk-container-id-2 div.sk-label label {\n",
       "  font-family: monospace;\n",
       "  font-weight: bold;\n",
       "  display: inline-block;\n",
       "  line-height: 1.2em;\n",
       "}\n",
       "\n",
       "#sk-container-id-2 div.sk-label-container {\n",
       "  text-align: center;\n",
       "}\n",
       "\n",
       "/* Estimator-specific */\n",
       "#sk-container-id-2 div.sk-estimator {\n",
       "  font-family: monospace;\n",
       "  border: 1px dotted var(--sklearn-color-border-box);\n",
       "  border-radius: 0.25em;\n",
       "  box-sizing: border-box;\n",
       "  margin-bottom: 0.5em;\n",
       "  /* unfitted */\n",
       "  background-color: var(--sklearn-color-unfitted-level-0);\n",
       "}\n",
       "\n",
       "#sk-container-id-2 div.sk-estimator.fitted {\n",
       "  /* fitted */\n",
       "  background-color: var(--sklearn-color-fitted-level-0);\n",
       "}\n",
       "\n",
       "/* on hover */\n",
       "#sk-container-id-2 div.sk-estimator:hover {\n",
       "  /* unfitted */\n",
       "  background-color: var(--sklearn-color-unfitted-level-2);\n",
       "}\n",
       "\n",
       "#sk-container-id-2 div.sk-estimator.fitted:hover {\n",
       "  /* fitted */\n",
       "  background-color: var(--sklearn-color-fitted-level-2);\n",
       "}\n",
       "\n",
       "/* Specification for estimator info (e.g. \"i\" and \"?\") */\n",
       "\n",
       "/* Common style for \"i\" and \"?\" */\n",
       "\n",
       ".sk-estimator-doc-link,\n",
       "a:link.sk-estimator-doc-link,\n",
       "a:visited.sk-estimator-doc-link {\n",
       "  float: right;\n",
       "  font-size: smaller;\n",
       "  line-height: 1em;\n",
       "  font-family: monospace;\n",
       "  background-color: var(--sklearn-color-background);\n",
       "  border-radius: 1em;\n",
       "  height: 1em;\n",
       "  width: 1em;\n",
       "  text-decoration: none !important;\n",
       "  margin-left: 0.5em;\n",
       "  text-align: center;\n",
       "  /* unfitted */\n",
       "  border: var(--sklearn-color-unfitted-level-1) 1pt solid;\n",
       "  color: var(--sklearn-color-unfitted-level-1);\n",
       "}\n",
       "\n",
       ".sk-estimator-doc-link.fitted,\n",
       "a:link.sk-estimator-doc-link.fitted,\n",
       "a:visited.sk-estimator-doc-link.fitted {\n",
       "  /* fitted */\n",
       "  border: var(--sklearn-color-fitted-level-1) 1pt solid;\n",
       "  color: var(--sklearn-color-fitted-level-1);\n",
       "}\n",
       "\n",
       "/* On hover */\n",
       "div.sk-estimator:hover .sk-estimator-doc-link:hover,\n",
       ".sk-estimator-doc-link:hover,\n",
       "div.sk-label-container:hover .sk-estimator-doc-link:hover,\n",
       ".sk-estimator-doc-link:hover {\n",
       "  /* unfitted */\n",
       "  background-color: var(--sklearn-color-unfitted-level-3);\n",
       "  color: var(--sklearn-color-background);\n",
       "  text-decoration: none;\n",
       "}\n",
       "\n",
       "div.sk-estimator.fitted:hover .sk-estimator-doc-link.fitted:hover,\n",
       ".sk-estimator-doc-link.fitted:hover,\n",
       "div.sk-label-container:hover .sk-estimator-doc-link.fitted:hover,\n",
       ".sk-estimator-doc-link.fitted:hover {\n",
       "  /* fitted */\n",
       "  background-color: var(--sklearn-color-fitted-level-3);\n",
       "  color: var(--sklearn-color-background);\n",
       "  text-decoration: none;\n",
       "}\n",
       "\n",
       "/* Span, style for the box shown on hovering the info icon */\n",
       ".sk-estimator-doc-link span {\n",
       "  display: none;\n",
       "  z-index: 9999;\n",
       "  position: relative;\n",
       "  font-weight: normal;\n",
       "  right: .2ex;\n",
       "  padding: .5ex;\n",
       "  margin: .5ex;\n",
       "  width: min-content;\n",
       "  min-width: 20ex;\n",
       "  max-width: 50ex;\n",
       "  color: var(--sklearn-color-text);\n",
       "  box-shadow: 2pt 2pt 4pt #999;\n",
       "  /* unfitted */\n",
       "  background: var(--sklearn-color-unfitted-level-0);\n",
       "  border: .5pt solid var(--sklearn-color-unfitted-level-3);\n",
       "}\n",
       "\n",
       ".sk-estimator-doc-link.fitted span {\n",
       "  /* fitted */\n",
       "  background: var(--sklearn-color-fitted-level-0);\n",
       "  border: var(--sklearn-color-fitted-level-3);\n",
       "}\n",
       "\n",
       ".sk-estimator-doc-link:hover span {\n",
       "  display: block;\n",
       "}\n",
       "\n",
       "/* \"?\"-specific style due to the `<a>` HTML tag */\n",
       "\n",
       "#sk-container-id-2 a.estimator_doc_link {\n",
       "  float: right;\n",
       "  font-size: 1rem;\n",
       "  line-height: 1em;\n",
       "  font-family: monospace;\n",
       "  background-color: var(--sklearn-color-background);\n",
       "  border-radius: 1rem;\n",
       "  height: 1rem;\n",
       "  width: 1rem;\n",
       "  text-decoration: none;\n",
       "  /* unfitted */\n",
       "  color: var(--sklearn-color-unfitted-level-1);\n",
       "  border: var(--sklearn-color-unfitted-level-1) 1pt solid;\n",
       "}\n",
       "\n",
       "#sk-container-id-2 a.estimator_doc_link.fitted {\n",
       "  /* fitted */\n",
       "  border: var(--sklearn-color-fitted-level-1) 1pt solid;\n",
       "  color: var(--sklearn-color-fitted-level-1);\n",
       "}\n",
       "\n",
       "/* On hover */\n",
       "#sk-container-id-2 a.estimator_doc_link:hover {\n",
       "  /* unfitted */\n",
       "  background-color: var(--sklearn-color-unfitted-level-3);\n",
       "  color: var(--sklearn-color-background);\n",
       "  text-decoration: none;\n",
       "}\n",
       "\n",
       "#sk-container-id-2 a.estimator_doc_link.fitted:hover {\n",
       "  /* fitted */\n",
       "  background-color: var(--sklearn-color-fitted-level-3);\n",
       "}\n",
       "</style><div id=\"sk-container-id-2\" class=\"sk-top-container\"><div class=\"sk-text-repr-fallback\"><pre>RandomForestRegressor(max_depth=7, n_estimators=10, n_jobs=4)</pre><b>In a Jupyter environment, please rerun this cell to show the HTML representation or trust the notebook. <br />On GitHub, the HTML representation is unable to render, please try loading this page with nbviewer.org.</b></div><div class=\"sk-container\" hidden><div class=\"sk-item\"><div class=\"sk-estimator fitted sk-toggleable\"><input class=\"sk-toggleable__control sk-hidden--visually\" id=\"sk-estimator-id-2\" type=\"checkbox\" checked><label for=\"sk-estimator-id-2\" class=\"sk-toggleable__label fitted sk-toggleable__label-arrow\"><div><div>RandomForestRegressor</div></div><div><a class=\"sk-estimator-doc-link fitted\" rel=\"noreferrer\" target=\"_blank\" href=\"https://scikit-learn.org/1.6/modules/generated/sklearn.ensemble.RandomForestRegressor.html\">?<span>Documentation for RandomForestRegressor</span></a><span class=\"sk-estimator-doc-link fitted\">i<span>Fitted</span></span></div></label><div class=\"sk-toggleable__content fitted\"><pre>RandomForestRegressor(max_depth=7, n_estimators=10, n_jobs=4)</pre></div> </div></div></div></div>"
      ],
      "text/plain": [
       "RandomForestRegressor(max_depth=7, n_estimators=10, n_jobs=4)"
      ]
     },
     "metadata": {},
     "output_type": "display_data"
    }
   ],
   "source": [
    "# Training a random forest regressor\n",
    "# (see https://en.wikipedia.org/wiki/Random_forest and https://scikit-learn.org/stable/modules/generated/sklearn.ensemble.RandomForestRegressor.html)\n",
    "n_estimators = 10\n",
    "max_depth = 7\n",
    "\n",
    "from sklearn.ensemble import RandomForestRegressor\n",
    "\n",
    "regr = RandomForestRegressor(n_estimators=n_estimators, n_jobs=4, max_depth=max_depth)\n",
    "\n",
    "regr.fit(X_train, y_train)"
   ]
  },
  {
   "cell_type": "code",
   "execution_count": null,
   "metadata": {},
   "outputs": [],
   "source": [
    "# Store the regressor in a file to be used by for later predictions\n",
    "import pickle\n",
    "f = open('forest-regressor-10x7.pckl', 'wb')\n",
    "pickle.dump(regr, f)\n",
    "f.close()"
   ]
  },
  {
   "cell_type": "code",
   "execution_count": null,
   "metadata": {},
   "outputs": [
    {
     "data": {
      "text/plain": [
       "0.0016614958793740309"
      ]
     },
     "metadata": {},
     "output_type": "display_data"
    }
   ],
   "source": [
    "# Evaluate the model by computing the R2 score on the test set\n",
    "from sklearn.metrics import r2_score\n",
    "yhat = regr.predict(X_test)\n",
    "r2_score(y_test, yhat)"
   ]
  },
  {
   "cell_type": "markdown",
   "metadata": {},
   "source": [
    "The $R^2$ score is quite poor. This signals that Random Forest Regressor is a poor choice as a model. Also it signals that the raw dataset will need feature engineering in the form of signature transforms or extracting more financial data"
   ]
  },
  {
   "cell_type": "markdown",
   "metadata": {},
   "source": [
    "### XGBoost Experiment"
   ]
  },
  {
   "cell_type": "markdown",
   "metadata": {},
   "source": [
    "We now run an experiment where we run XGBoost, a similar ensemble method to the LightGBM model we will ultimately use. We inputted Signature Kernels to test performance. While XGBoost performed similarly in terms of $R^2$ acore on the test , it performed slower. We hence opted to use LightGBM instead."
   ]
  },
  {
   "cell_type": "code",
   "execution_count": null,
   "metadata": {},
   "outputs": [],
   "source": [
    "def train_xgb_model(params, X_train, y_train, X_val, y_val):\n",
    "    \"\"\"Train XGBoost and return (model, R^2) on validation.\"\"\"\n",
    "    model = xgb.XGBRegressor(\n",
    "        booster=params['booster'],\n",
    "        colsample_bytree=params['colsample_bytree'],\n",
    "        learning_rate=params['learning_rate'],\n",
    "        max_depth=params['max_depth'],\n",
    "        min_child_weight=params['min_child_weight'],\n",
    "        n_estimators=params['n_estimators'],\n",
    "        objective=params['objective'],\n",
    "        subsample=params['subsample'],\n",
    "        eval_metric = r2_score,\n",
    "        early_stopping_rounds=50, \n",
    "        verbosity=0,\n",
    "    )\n",
    "    \n",
    "    model.fit(\n",
    "        X_train, y_train,\n",
    "        eval_set=[(X_val, y_val)],\n",
    "    )\n",
    "    \n",
    "    y_val_pred = model.predict(X_val)\n",
    "    r2_val = r2_score(y_val, y_val_pred)\n",
    "    return model, r2_val\n",
    "\n",
    "def objective_func(space, X_train, y_train, X_val, y_val):\n",
    "    \"\"\"Hyperopt objective. We want to maximize R^2 => minimize (1 - R^2).\"\"\"\n",
    "    _, r2_val = train_xgb_model(space, X_train, y_train, X_val, y_val)\n",
    "    return {'loss': 1.0 - r2_val, 'status': STATUS_OK}\n",
    "\n",
    "def tune_and_train(X, y):\n",
    "    \"\"\"\n",
    "    Splits X, y into train/val, runs Hyperopt, returns final model & R^2.\n",
    "    \"\"\"\n",
    "    X_tr, X_val, y_tr, y_val = train_test_split(X, y, test_size=0.2, shuffle=False)\n",
    "    \n",
    "    trials = Trials()\n",
    "    best = fmin(\n",
    "        fn=lambda sp: objective_func(sp, X_tr, y_tr, X_val, y_val),\n",
    "        space=param_space,\n",
    "        algo=tpe.suggest,\n",
    "        max_evals=20, \n",
    "        trials=trials\n",
    "    )\n",
    "    \n",
    "    # Convert discrete choices\n",
    "    best['booster'] = 'dart'  # Ensure that 'dart' is chosen\n",
    "    best['objective'] = 'reg:squarederror'\n",
    "    max_depth_values = [3, 4, 5, 6]\n",
    "    n_estimators_values = [500, 1000, 1500]\n",
    "    best['max_depth'] = max_depth_values[best['max_depth']]\n",
    "    best['n_estimators'] = n_estimators_values[best['n_estimators']]\n",
    "\n",
    "    final_model, final_r2 = train_xgb_model(best, X_tr, y_tr, X_val, y_val)\n",
    "    return final_model, final_r2, best"
   ]
  },
  {
   "cell_type": "markdown",
   "metadata": {},
   "source": [
    "### RL Experiment"
   ]
  },
  {
   "cell_type": "markdown",
   "metadata": {},
   "source": [
    "We tried implementing a Reinforcement learning model on our signature data. This was unsuccessful but it was nonetheless interesting. We chose a DDPG (Deep Deterministic Policy Gradient) algorithm as it is (close to) state of the art, and allows us to use a continuous state space (this is just the input data). The loss function for the critic was the MSE. Originally we tried this on some of the raw signature transform data, but found that the dimensionality of the data was far too high, meaning that the model could never converge. The architecture we used for the NNs in the actor and critic framework were both very simple with only 1 hidden layer - we thought about making the model more complicated structure wise to increase it's expressivity, but this was computationally infeasible with such a large dataset.\n",
    "\n",
    "After this we thought maybe we could use the signature kernels as a condensed way to carry information about the nature of the path. This helped us reduce the dimensionality of the data for the state space and made a huge improvement to the model. Unfortunately the neural networks we can feasibly handle were not deep enough to express the information properly.\n",
    "\n",
    "We also implemented a version of DDPG which just outputted a discrete action space (essentially just a Deep Q Network / DQN), hoping that this would reduce the possible error, but for reasons unknown to us this was significantly worse. "
   ]
  },
  {
   "cell_type": "code",
   "execution_count": null,
   "metadata": {},
   "outputs": [],
   "source": [
    "#DDPG\n",
    "import numpy as np\n",
    "import torch\n",
    "import torch.nn as nn\n",
    "import torch.optim as optim\n",
    "from collections import deque\n",
    "import random\n",
    "\n",
    "\n",
    "# Define the Actor Model\n",
    "class Actor(nn.Module):\n",
    "    def __init__(self, input_dim, output_dim, hidden_dim=128):\n",
    "        super(Actor, self).__init__()\n",
    "        self.fc1 = nn.Linear(input_dim, hidden_dim)\n",
    "        self.fc2 = nn.Linear(hidden_dim, hidden_dim)\n",
    "        self.fc3 = nn.Linear(hidden_dim, output_dim)\n",
    "\n",
    "    def forward(self, x):\n",
    "        x = torch.relu(self.fc1(x))\n",
    "        x = torch.relu(self.fc2(x))\n",
    "        return self.fc3(x)\n",
    "\n",
    "\n",
    "# Define the Critic Model\n",
    "class Critic(nn.Module):\n",
    "    def __init__(self, input_dim, action_dim, hidden_dim=128):\n",
    "        super(Critic, self).__init__()\n",
    "        self.fc1 = nn.Linear(input_dim + action_dim, hidden_dim)\n",
    "        self.fc2 = nn.Linear(hidden_dim, hidden_dim)\n",
    "        self.fc3 = nn.Linear(hidden_dim, 1)\n",
    "\n",
    "    def forward(self, state, action):\n",
    "        x = torch.cat([state, action], dim=1)\n",
    "        x = torch.relu(self.fc1(x))\n",
    "        x = torch.relu(self.fc2(x))\n",
    "        return self.fc3(x)\n",
    "\n",
    "\n",
    "# Define the Replay Buffer\n",
    "class ReplayBuffer:\n",
    "    def __init__(self, buffer_size, batch_size):\n",
    "        self.buffer = deque(maxlen=buffer_size)\n",
    "        self.batch_size = batch_size\n",
    "\n",
    "    def store(self, state, action, reward, next_state):\n",
    "        self.buffer.append((state, action, reward, next_state))\n",
    "\n",
    "    def sample(self):\n",
    "        batch = random.sample(self.buffer, self.batch_size)\n",
    "        states, actions, rewards, next_states = zip(*batch)\n",
    "        return (\n",
    "            torch.tensor(states, dtype=torch.float32),\n",
    "            torch.tensor(actions, dtype=torch.float32),\n",
    "            torch.tensor(rewards, dtype=torch.float32).unsqueeze(1),\n",
    "            torch.tensor(next_states, dtype=torch.float32),\n",
    "        )\n",
    "\n",
    "    def __len__(self):\n",
    "        return len(self.buffer)\n",
    "\n",
    "\n",
    "# Define the DDPG Agent\n",
    "class DDPGAgent:\n",
    "    def __init__(self, state_dim, action_dim, actor_lr=1e-3, critic_lr=1e-3, gamma=0.99, tau=0.005):\n",
    "        self.gamma = gamma\n",
    "        self.tau = tau\n",
    "\n",
    "        self.actor = Actor(state_dim, action_dim)\n",
    "        self.target_actor = Actor(state_dim, action_dim)\n",
    "        self.critic = Critic(state_dim, action_dim)\n",
    "        self.target_critic = Critic(state_dim, action_dim)\n",
    "\n",
    "        self.actor_optimizer = optim.Adam(self.actor.parameters(), lr=actor_lr)\n",
    "        self.critic_optimizer = optim.Adam(self.critic.parameters(), lr=critic_lr)\n",
    "\n",
    "        self.replay_buffer = ReplayBuffer(buffer_size=100000, batch_size=64)\n",
    "\n",
    "        self.update_targets(1.0)\n",
    "\n",
    "    def update_targets(self, tau):\n",
    "        for target_param, param in zip(self.target_actor.parameters(), self.actor.parameters()):\n",
    "            target_param.data.copy_(tau * param.data + (1.0 - tau) * target_param.data)\n",
    "        for target_param, param in zip(self.target_critic.parameters(), self.critic.parameters()):\n",
    "            target_param.data.copy_(tau * param.data + (1.0 - tau) * target_param.data)\n",
    "\n",
    "    def select_action(self, state):\n",
    "        with torch.no_grad():\n",
    "            state = torch.tensor(state, dtype=torch.float32).unsqueeze(0)\n",
    "            return self.actor(state).squeeze(0).numpy()\n",
    "\n",
    "    def train(self):\n",
    "        if len(self.replay_buffer) < self.replay_buffer.batch_size:\n",
    "            return\n",
    "\n",
    "        states, actions, rewards, next_states = self.replay_buffer.sample()\n",
    "\n",
    "        # Update Critic\n",
    "        next_actions = self.target_actor(next_states)\n",
    "        target_q_values = self.target_critic(next_states, next_actions)\n",
    "        expected_q_values = rewards + self.gamma * target_q_values\n",
    "\n",
    "        q_values = self.critic(states, actions)\n",
    "        critic_loss = nn.MSELoss()(q_values, expected_q_values.detach())\n",
    "\n",
    "        self.critic_optimizer.zero_grad()\n",
    "        critic_loss.backward()\n",
    "        self.critic_optimizer.step()\n",
    "\n",
    "        # Update Actor\n",
    "        actor_loss = -self.critic(states, self.actor(states)).mean()\n",
    "\n",
    "        self.actor_optimizer.zero_grad()\n",
    "        actor_loss.backward()\n",
    "        self.actor_optimizer.step()\n",
    "\n",
    "        # Soft update target networks\n",
    "        self.update_targets(self.tau)\n"
   ]
  },
  {
   "cell_type": "code",
   "execution_count": null,
   "metadata": {},
   "outputs": [],
   "source": [
    "#DiscDDPG\n",
    "import numpy as np\n",
    "import torch\n",
    "import torch.nn as nn\n",
    "import torch.optim as optim\n",
    "from collections import deque\n",
    "import random\n",
    "\n",
    "\n",
    "# Define the Actor Model for Discrete Actions\n",
    "class Actor(nn.Module):\n",
    "    def __init__(self, input_dim, num_actions, hidden_dim=128):\n",
    "        super(Actor, self).__init__()\n",
    "        self.fc1 = nn.Linear(input_dim, hidden_dim)\n",
    "        self.fc2 = nn.Linear(hidden_dim, hidden_dim)\n",
    "        self.fc3 = nn.Linear(hidden_dim, num_actions)  # Outputs logits for discrete actions\n",
    "\n",
    "    def forward(self, x):\n",
    "        x = torch.relu(self.fc1(x))\n",
    "        x = torch.relu(self.fc2(x))\n",
    "        return torch.softmax(self.fc3(x), dim=-1)  # Softmax to produce action probabilities\n",
    "\n",
    "\n",
    "# Define the Critic Model (Q-value estimation)\n",
    "class Critic(nn.Module):\n",
    "    def __init__(self, input_dim, num_actions, hidden_dim=128):\n",
    "        super(Critic, self).__init__()\n",
    "        self.fc1 = nn.Linear(input_dim, hidden_dim)\n",
    "        self.fc2 = nn.Linear(hidden_dim, hidden_dim)\n",
    "        self.fc3 = nn.Linear(hidden_dim, num_actions)  # Outputs Q-values for each action\n",
    "\n",
    "    def forward(self, state):\n",
    "        x = torch.relu(self.fc1(state))\n",
    "        x = torch.relu(self.fc2(x))\n",
    "        return self.fc3(x)  # Returns Q-values for all actions\n",
    "\n",
    "\n",
    "# Define the Replay Buffer\n",
    "class ReplayBuffer:\n",
    "    def __init__(self, buffer_size, batch_size):\n",
    "        self.buffer = deque(maxlen=buffer_size)\n",
    "        self.batch_size = batch_size\n",
    "\n",
    "    def store(self, state, action, reward, next_state):\n",
    "        self.buffer.append((state, action, reward, next_state))\n",
    "\n",
    "    def sample(self):\n",
    "        batch = random.sample(self.buffer, self.batch_size)\n",
    "        states, actions, rewards, next_states = zip(*batch)\n",
    "        return (\n",
    "            torch.tensor(states, dtype=torch.float32),\n",
    "            torch.tensor(actions, dtype=torch.long),  # Changed to long type for discrete actions\n",
    "            torch.tensor(rewards, dtype=torch.float32).unsqueeze(1),\n",
    "            torch.tensor(next_states, dtype=torch.float32),\n",
    "        )\n",
    "\n",
    "    def __len__(self):\n",
    "        return len(self.buffer)\n",
    "\n",
    "\n",
    "# Define the DDPG Agent with Custom Discrete Action Set\n",
    "class DDPGAgent:\n",
    "    def __init__(self, state_dim, action_set, actor_lr=1e-3, critic_lr=1e-3, gamma=0.99, tau=0.005):\n",
    "        self.gamma = gamma\n",
    "        self.tau = tau\n",
    "        self.action_set = torch.tensor(action_set, dtype=torch.float32)  # Store as tensor for fast indexing\n",
    "        self.num_actions = len(action_set)\n",
    "\n",
    "        self.actor = Actor(state_dim, self.num_actions)\n",
    "        self.target_actor = Actor(state_dim, self.num_actions)\n",
    "        self.critic = Critic(state_dim, self.num_actions)\n",
    "        self.target_critic = Critic(state_dim, self.num_actions)\n",
    "\n",
    "        self.actor_optimizer = optim.Adam(self.actor.parameters(), lr=actor_lr)\n",
    "        self.critic_optimizer = optim.Adam(self.critic.parameters(), lr=critic_lr)\n",
    "\n",
    "        self.replay_buffer = ReplayBuffer(buffer_size=100000, batch_size=64)\n",
    "\n",
    "        self.update_targets(1.0)\n",
    "\n",
    "    def update_targets(self, tau):\n",
    "        for target_param, param in zip(self.target_actor.parameters(), self.actor.parameters()):\n",
    "            target_param.data.copy_(tau * param.data + (1.0 - tau) * target_param.data)\n",
    "        for target_param, param in zip(self.target_critic.parameters(), self.critic.parameters()):\n",
    "            target_param.data.copy_(tau * param.data + (1.0 - tau) * target_param.data)\n",
    "\n",
    "    def select_action(self, state):\n",
    "        with torch.no_grad():\n",
    "            state = torch.tensor(state, dtype=torch.float32).unsqueeze(0)\n",
    "            action_probs = self.actor(state)  # Get action probabilities\n",
    "            action_index = torch.multinomial(action_probs, 1).item()  # Sample from probability distribution\n",
    "            return self.action_set[action_index].item()  # Map to discrete action value\n",
    "\n",
    "    def train(self):\n",
    "        if len(self.replay_buffer) < self.replay_buffer.batch_size:\n",
    "            return\n",
    "\n",
    "        states, actions, rewards, next_states = self.replay_buffer.sample()\n",
    "\n",
    "        # Compute target Q-values\n",
    "        with torch.no_grad():\n",
    "            next_q_values = self.target_critic(next_states)  # Get Q-values for next states\n",
    "            next_action_indices = torch.argmax(self.target_actor(next_states), dim=1, keepdim=True)  # Get best action index\n",
    "            target_q_values = rewards + self.gamma * next_q_values.gather(1, next_action_indices)\n",
    "\n",
    "        # Compute current Q-values\n",
    "        action_indices = torch.tensor([self.action_set.tolist().index(a.item()) for a in actions])  # Convert actions to indices\n",
    "        q_values = self.critic(states).gather(1, action_indices.unsqueeze(1))\n",
    "\n",
    "        # Critic loss\n",
    "        critic_loss = nn.MSELoss()(q_values, target_q_values.detach())\n",
    "\n",
    "        self.critic_optimizer.zero_grad()\n",
    "        critic_loss.backward()\n",
    "        self.critic_optimizer.step()\n",
    "\n",
    "        # Actor loss (Encourage selecting actions with higher Q-values)\n",
    "        actor_loss = -self.critic(states).gather(1, self.actor(states).argmax(dim=1, keepdim=True)).mean()\n",
    "\n",
    "        self.actor_optimizer.zero_grad()\n",
    "        actor_loss.backward()\n",
    "        self.actor_optimizer.step()\n",
    "\n",
    "        # Soft update target networks\n",
    "        self.update_targets(self.tau)\n"
   ]
  },
  {
   "cell_type": "markdown",
   "metadata": {},
   "source": [
    "# Part 3: Feature Engineering"
   ]
  },
  {
   "cell_type": "markdown",
   "metadata": {},
   "source": [
    "Out of all the models we tried, LightGBM gives us the best results for our selection of features. We trained several LightGBMs; the first few train on an augmented dataset consisting of raw data, financial features and signature kernels of the raw data and financial features on various lags up to the target 87, and the last few were trained on signature transforms of the raw data over various windows."
   ]
  },
  {
   "cell_type": "markdown",
   "metadata": {},
   "source": [
    "We first leave out the first 270 datapoints of the training data for all models - this is the maximum section to leave out across all our models due to windowing back in time. We also leave out the last 5 datapoints of the test set due to NaNs.\n",
    "\n",
    "We then split the data into 80:20 train test as per the specification.\n",
    "Further, we split the initial section into 60% training, 20% validation, 20% blending, with a buffer of 1695 to avoid window leakage from signature kernels and financial statistics."
   ]
  },
  {
   "cell_type": "code",
   "execution_count": null,
   "metadata": {},
   "outputs": [],
   "source": [
    "import pandas as pd\n",
    "import numpy as np\n",
    "import matplotlib.pyplot as plt\n",
    "import seaborn as sns\n",
    "import ta\n",
    "import lightgbm as lgb\n",
    "from tqdm import tqdm_notebook\n",
    "from sklearn.metrics import r2_score\n",
    "from datetime import datetime, timedelta\n"
   ]
  },
  {
   "cell_type": "code",
   "execution_count": null,
   "metadata": {},
   "outputs": [],
   "source": [
    "#Load the raw data, replace NaNs with 0s\n",
    "path = 'data/data.csv.gz'\n",
    "df = pd.read_csv(path, compression=\"gzip\")\n",
    "df = df.astype('float32')\n",
    "df.fillna(0, inplace=True)"
   ]
  },
  {
   "cell_type": "code",
   "execution_count": null,
   "metadata": {},
   "outputs": [],
   "source": [
    "#Create lists of core raw features\n",
    "askRateList = ['askRate' + str(i) for i in range(0,15)]\n",
    "askSizeList = ['askSize' + str(i) for i in range(0,15)]\n",
    "bidRateList = ['bidRate' + str(i) for i in range(0,15)]\n",
    "bidSizeList = ['bidSize' + str(i) for i in range(0,15)]"
   ]
  },
  {
   "cell_type": "markdown",
   "metadata": {},
   "source": [
    "Load the signature kernels of the financial features and the raw LOB data as described earlier"
   ]
  },
  {
   "cell_type": "code",
   "execution_count": null,
   "metadata": {},
   "outputs": [],
   "source": [
    "kernels = np.load('final_coeffs.npy')\n",
    "kernels_finance = np.load('finance_feat_coeff.npy')\n",
    "kernels_short = np.load('final_halfcoeffs.npy')\n",
    "kernels_finance_short = np.load('finance_halfcoeff.npy')\n",
    "kernels_quarter = np.load('final_quartercoeffs.npy')\n",
    "kernels_finance_quarter = np.load('finance_quartercoeff.npy')"
   ]
  },
  {
   "cell_type": "markdown",
   "metadata": {},
   "source": [
    "Append these features to the dataset"
   ]
  },
  {
   "cell_type": "code",
   "execution_count": null,
   "metadata": {},
   "outputs": [],
   "source": [
    "#Add the kernels to the dataframe \n",
    "for i in range(6):\n",
    "    df['kernel{i}'.format(i=i)] = kernels[i]\n",
    "    df['kernel_finance{i}'.format(i=i)] = kernels_finance[i]\n",
    "for i in range(5):\n",
    "    df['kernel_short{i}'.format(i=i)] = kernels_short[i]\n",
    "    df['kernel_finance_short{i}'.format(i=i)] = kernels_finance_short[i]\n",
    "for i in range(4):\n",
    "    df['kernel_quarter{i}'.format(i=i)] = kernels_quarter[i]\n",
    "    df['kernel_finance_quarter{i}'.format(i=i)] = kernels_finance_quarter[i]"
   ]
  },
  {
   "cell_type": "code",
   "execution_count": null,
   "metadata": {},
   "outputs": [],
   "source": [
    "#Train/validation/test split with standardised indices - we had a quite a few issues with indices not lining up between code!\n",
    "def train_valid_test_split(df):\n",
    "    set_start = 270\n",
    "    valid_start = 1679079\n",
    "    blend_start = 2238706\n",
    "    test_start = 2798332\n",
    "    blend_end = test_start - 1695\n",
    "    set_end = 3497465\n",
    "    train_df = df[set_start:valid_start].copy()\n",
    "    valid_df = df[valid_start:blend_start].copy()\n",
    "    blend_df = df[blend_start:blend_end].copy()\n",
    "    test_df = df[test_start:set_end].copy()\n",
    "    return train_df, valid_df,blend_df, test_df\n",
    "train_df, valid_df, blend_df,  test_df = train_valid_test_split(df)"
   ]
  },
  {
   "cell_type": "code",
   "execution_count": null,
   "metadata": {},
   "outputs": [],
   "source": [
    "core = [*askRateList, *askSizeList, *bidRateList, *bidSizeList]"
   ]
  },
  {
   "cell_type": "markdown",
   "metadata": {},
   "source": [
    "We take inspiration from Andrey's approach by training a series of models that predict the midprice over a series of targets into the future."
   ]
  },
  {
   "cell_type": "code",
   "execution_count": null,
   "metadata": {},
   "outputs": [],
   "source": [
    "#Generate the lags and store them\n",
    "lags = [50, 55, 60, 65, 70, 75, 80, 85, 87]\n",
    "y_dict = {}\n",
    "for lag in lags:\n",
    "    y_dict[lag] = df.y.shift(87 - lag).copy()"
   ]
  },
  {
   "cell_type": "markdown",
   "metadata": {},
   "source": [
    "### Financial features"
   ]
  },
  {
   "cell_type": "markdown",
   "metadata": {},
   "source": [
    "We now introduce a selection of financial features: $$\\text{MidRate}_0 = \\frac{\\text{AskRate}_0 + \\text{BidRate}_0}{2}$$ $$\\text{Spread}_0 = \\text{AskRate}_0 - \\text{BidRate}_0$$ $$\\text{Spread Ratio}_0 = \\frac{\\text{AskSize}_0 - \\text{BidSize}_0}{\\text{AskSize}_0 + \\text{BidSize}_0}$$ $$\\text{Volume Weighted Average Ask} =\\sum_{i=0}^{14} \\text{AskRate}_i \\times \\text{AskSize}_i$$ $$\\text{Volume Weighted Average Bid} =\\sum_{i=0}^{14} \\text{BidRate}_i \\times \\text{BidSize}_i$$ $$\\text{Volume Weighted Average Ask MidRate} = \\text{Volume Weighted Average Ask} - \\text{MidRate}_0$$ $$\\text{Volume Weighted Average Bid MidRate} = \\text{MidRate}_0 - \\text{Volume Weighted Average Bid}$$ $$\\text{Volume Weighted Average Difference} = \\text{Volume Weighted Average Ask MidRate} -\\text{Volume Weighted Average Bid MidRate}$$\n",
    "\n",
    "Besides these elementary financial features that are linear combinations of the original LOB data, it was also useful to approximate the change in Ask and Bid Size over 1 timestep (the derivative). This is was also added to the Datafame. More importantly, we use this to compute the Value of Investment $$\\textbf{VOI}= \\Delta \\text{Bid} - \\Delta \\text{Ask}$$ \n",
    "\n",
    "Now we also calculate true strength index (TSI) of this dataset which is an indicator commonly used in financial Markets to find trend direction and overbought or oversold conditions. It is a \"double smoothed\" indicator. This means that a moving average is applied to the data, which in this case is daily momentum  is smoothed again with a second moving average that is longer in span. It is given by the following formula.\n",
    "$$\\text{TSI}(m, r, s) = 100 \\frac{\\mathbb{M}(\\mathbb{M}(m,r),s)}{\\mathbb{M}(\\mathbb{M}(|m|,r),s)}$$\n",
    "\n",
    "1. $c_0$ is the closing price of today\n",
    "2. $m = c_0 - c_1$ is the difference in closing time between yesterday and today\n",
    "3. $\\mathbb{M}(m_0, n) = \\frac{2}{n+1}[m_0 - \\mathbb{M}(m_1, n)] + \\mathbb{M}(m_1, n)$ is the exponential moving average of m over n periods\n",
    "4. r is smoothing period for momentum, which is set to 2.25s\n",
    "5. s is smoothing period for smoothed momentum, iterated over [87, 261, 348, 435, 522] in our case\n",
    "\n",
    "TRIX is also implemented over these windows. It is another financial market indicator that is similar to TSI with a triple smoothed exponential moving average. We use this to also extract the trend direction and overbought or oversold conditions. Both indicators only use past and present financial data.\n",
    "\n",
    "Implementation of financial features used the package ta, as well as borrowed from Daniel Platt and Glowspint's GitHub."
   ]
  },
  {
   "cell_type": "markdown",
   "metadata": {},
   "source": [
    "https://en.wikipedia.org/wiki/TSI"
   ]
  },
  {
   "cell_type": "markdown",
   "metadata": {},
   "source": [
    "https://www.investopedia.com/articles/technical/02/092402.asp"
   ]
  },
  {
   "cell_type": "markdown",
   "metadata": {},
   "source": [
    "https://www.maths.ox.ac.uk/system/files/attachments/NUS-LOB19.pdf"
   ]
  },
  {
   "cell_type": "markdown",
   "metadata": {},
   "source": [
    "https://github.com/danielplatt/XTX-Forecasting-Challenge"
   ]
  },
  {
   "cell_type": "markdown",
   "metadata": {},
   "source": [
    "https://github.com/glowsplint/xtx"
   ]
  },
  {
   "cell_type": "code",
   "execution_count": null,
   "metadata": {},
   "outputs": [],
   "source": [
    "def Financial_Features(df: pd.DataFrame):\n",
    "    df['midRate'] = (df.bidRate0 + df.askRate0) / 2 \n",
    "    \n",
    "    df['totalAskRate'] = df[askSizeList].sum(axis=1)\n",
    "    df['totalBidRate'] = df[bidSizeList].sum(axis=1)\n",
    "\n",
    "    df['Spread_Ratio'] = (df.bidSize0 - df.askSize0)/(df.bidSize0 + df.askSize0)\n",
    "    df['Spread_total'] = (df.totalBidRate - df.totalAskRate)/(df.totalBidRate + df.totalAskRate)\n",
    "    df['Spread'] = df.askRate0 - df.bidRate0\n",
    "    \n",
    "    df['volume_weighted_averageBid'] = np.einsum('ij,ji->i', df[bidRateList], df[bidSizeList].T) / df[bidSizeList].sum(axis=1)\n",
    "    df['volume_weighted_averageAsk'] = np.einsum('ij,ji->i', df[askRateList], df[askSizeList].T) / df[askSizeList].sum(axis=1)\n",
    "    df['volume_weighted_averageBidDMid'] = df.midRate - df.volume_weighted_averageBid\n",
    "    df['volume_weighted_averageAskDMid'] = df.volume_weighted_averageAsk - df.midRate\n",
    "    df['diff_vwaBidAskDMid'] = df.volume_weighted_averageAskDMid - df.volume_weighted_averageBidDMid\n",
    "    \n",
    "    b1, a1 = (df.bidRate0 < df.bidRate0.shift(1)), (df.askRate0 < df.askRate0.shift(1))\n",
    "    b2, a2 = (df.bidRate0 == df.bidRate0.shift(1)), (df.askRate0 == df.askRate0.shift(1))\n",
    "    valsB, valsA = [0, (df.bidSize0 - df.bidSize0.shift(1))], [0, (df.askSize0 - df.askSize0.shift(1))]\n",
    "    df['deltaBid'] = np.select([b1,b2], valsB, default=df.bidSize0)\n",
    "    df['deltaAsk'] = np.select([a1,a2], valsA, default=df.askSize0)\n",
    "    df['VOI'] = df.deltaBid - df.deltaAsk\n",
    "    \n",
    "    # Time features\n",
    "    tsi = [87, 261, 348, 435, 522]\n",
    "    trix = [87, 174, 348, 435, 522]\n",
    "    for t in tsi:        df['tsi' + str(t)] = ta.momentum.tsi(df.midRate, window_fast=t, window_slow=2.25*t)\n",
    "    for t in trix:       df['trix' + str(t)] = ta.trend.trix(df.midRate, window=t)\n",
    "    df['minaskRate'] = df[['askRate0','askRate1','askRate2','askRate3','askRate4','askRate5','askRate6','askRate7','askRate8','askRate9','askRate10','askRate11','askRate12','askRate13','askRate14']].min(axis=1)\n",
    "    df['maxbidRate'] = df[['bidRate0','bidRate1','bidRate2','bidRate3','bidRate4','bidRate5','bidRate6','bidRate7','bidRate8','bidRate9','bidRate10','bidRate11','bidRate12','bidRate13','bidRate14']].max(axis=1)\n",
    "\n",
    "    df['askBidRatio'] = df['minaskRate'] / df['maxbidRate']\n",
    "    \n",
    "    df['askNotEqualZero'] = df[['askRate0','askRate1','askRate2','askRate3','askRate4','askRate5','askRate6','askRate7','askRate8','askRate9','askRate10','askRate11','askRate12','askRate13','askRate14']].ne(0).sum(axis=1)\n",
    "    df['avgaskRate'] = (df['askRate0']*df['askSize0']+df['askRate1']*df['askSize1']+df['askRate2']*df['askSize2']+df['askRate3']*df['askSize3']+df['askRate4']*df['askSize4']+df['askRate5']*df['askSize5']+df['askRate6']*df['askSize6']+df['askRate7']*df['askSize7']+df['askRate8']*df['askSize8']+df['askRate9']*df['askSize9']+df['askRate10']*df['askSize10']+df['askRate11']*df['askSize11']+df['askRate12']*df['askSize12']+df['askRate13']*df['askSize13']+df['askRate14']*df['askSize14'])/df['askNotEqualZero']\n",
    "\n",
    "\n",
    "    df['bidNotEqualZero'] = df[['bidRate0','bidRate1','bidRate2','bidRate3','bidRate4','bidRate5','bidRate6','bidRate7','bidRate8','bidRate9','bidRate10','bidRate11','bidRate12','bidRate13','bidRate14']].ne(0).sum(axis=1)\n",
    "    df['avgbidRate'] = (df['bidRate0']*df['bidSize0']+df['bidRate1']*df['bidSize1']+df['bidRate2']*df['bidSize2']+df['bidRate3']*df['bidSize3']+df['bidRate4']*df['bidSize4']+df['bidRate5']*df['bidSize5']+df['bidRate6']*df['bidSize6']+df['bidRate7']*df['bidSize7']+df['bidRate8']*df['bidSize8']+df['bidRate9']*df['bidSize9']+df['bidRate10']*df['bidSize10']+df['bidRate11']*df['bidSize11']+df['bidRate12']*df['bidSize12']+df['bidRate13']*df['bidSize13']+df['bidRate14']*df['bidSize14'])/df['bidNotEqualZero']\n",
    "\n",
    "# The helper variables are dropped here\n",
    "    df = df.drop(['askNotEqualZero','bidNotEqualZero', 'minaskRate', 'maxbidRate'], axis=1)\n",
    "    return df"
   ]
  },
  {
   "cell_type": "markdown",
   "metadata": {},
   "source": [
    "Augment each portions with financial features - due to buffers, there is no data leakage between train and test."
   ]
  },
  {
   "cell_type": "code",
   "execution_count": null,
   "metadata": {},
   "outputs": [],
   "source": [
    "df_train2 = Financial_Features(train_df)\n",
    "df_valid2 = Financial_Features(valid_df)\n",
    "df_blend2 = Financial_Features(blend_df)\n",
    "df_test2 = Financial_Features(test_df)"
   ]
  },
  {
   "cell_type": "markdown",
   "metadata": {},
   "source": [
    "Code for preprocessing the target variable at some lag. We also clip our target to the interval [-3,3], so that our model is more robust to outliers - this in fact universally improves the R^2 score on the validation set!"
   ]
  },
  {
   "cell_type": "code",
   "execution_count": null,
   "metadata": {},
   "outputs": [],
   "source": [
    "def y_preprocess(y):\n",
    "    set_start = 270\n",
    "    valid_start = 1679079\n",
    "    blend_start = 2238706\n",
    "    test_start = 2798332\n",
    "    blend_end = test_start - 1695\n",
    "    set_end = 3497465\n",
    "    length = set_end - set_start\n",
    "    y_train = y[set_start:valid_start].copy().values.clip(-3,3)   #Clip predicted ys to make model more robust to outliers\n",
    "    y_valid = y[valid_start:blend_start].copy().values.clip(-3,3)\n",
    "    y_blend = y[blend_start:blend_end].copy().values\n",
    "    y_test = y[test_start:set_end].copy().values\n",
    "    return y_train, y_valid, y_blend, y_test\n",
    "y_train_dict= {}\n",
    "y_valid_dict = {}\n",
    "y_blend_dict = {}\n",
    "y_test_dict = {}\n",
    "for lag in lags:\n",
    "    y_train_dict[lag], y_valid_dict[lag], y_blend_dict[lag], y_test_dict[lag] = y_preprocess(y_dict[lag])"
   ]
  },
  {
   "cell_type": "markdown",
   "metadata": {},
   "source": [
    "More preprocessing, replacing infinite values and nans with zeros. Also separates target column for training."
   ]
  },
  {
   "cell_type": "code",
   "execution_count": null,
   "metadata": {},
   "outputs": [],
   "source": [
    "def preprocess(df):\n",
    "    x_train = df.replace([np.inf, -np.inf], np.nan).fillna(0).drop('y', axis=1).values\n",
    "    return x_train"
   ]
  },
  {
   "cell_type": "code",
   "execution_count": null,
   "metadata": {},
   "outputs": [],
   "source": [
    "x_scaled_train = preprocess(df_train2)\n",
    "x_scaled_valid= preprocess(df_valid2)\n",
    "x_scaled_blend = preprocess(df_blend2)\n",
    "x_scaled_test = preprocess(df_test2)"
   ]
  },
  {
   "cell_type": "markdown",
   "metadata": {},
   "source": [
    "# Part 4: LightGBM Training"
   ]
  },
  {
   "cell_type": "markdown",
   "metadata": {},
   "source": [
    "For LightGBM, we choose the gbdt boosting type as DART performs slower and gives a comparable $R^2$. Given the dataset's large size, num_leaves and max_depth are chosen to control tree complexity, preventing overfitting while capturing nonlinearities. The learning_rate range ensures a balance between convergence speed and stability. subsample and colsample_bytree introduce randomness to enhance generalization. Regularization terms (reg_alpha, reg_lambda) mitigate overfitting - especially given potential collinearity in financial features. max_bin is adjusted for effective discretization of continuous features. min_split_gain prevents unnecessary splits, and min_data_in_leaf ensures sufficient observations per leaf, which is important for robust predictions in high-dimensional, noisy financial data.\n",
    "\n",
    "We also use Hyperopt with Bayesian optimisation to efficiently tune the LGBM hyperparameter space on the validation set - this allows us to search with the objective of maximising the $R^2$ score (on the validation set), while balancing exploration/exploitation. We do 30 trials with early stopping if there is no further improvement in 10 iterations to prevent overfitting.\n",
    "\n",
    "We observe that the $R^2$ score initially starts high for short prediction windows as expected, and decreases as we predict further into the future. However, we observe a jump in performance when we reach the target 87 - this is likely as some added features are conditioned to detect temporal phenomena over lags of 87."
   ]
  },
  {
   "cell_type": "code",
   "execution_count": null,
   "metadata": {},
   "outputs": [],
   "source": [
    "import lightgbm as lgb\n",
    "import numpy as np\n",
    "from sklearn.metrics import r2_score\n",
    "from sklearn.model_selection import train_test_split\n",
    "from hyperopt import hp, fmin, tpe, STATUS_OK, Trials\n",
    "from sklearn.preprocessing import StandardScaler\n",
    "from hyperopt.early_stop import no_progress_loss\n",
    "import joblib\n",
    "\n",
    "\n",
    "# Step 1: Define the Hyperparameter Space for LGBM\n",
    "param_space = {\n",
    "    'num_leaves': hp.choice('num_leaves', [20, 40, 60, 80, 100, 120,140]),  # Max leaves in one tree\n",
    "    'max_depth': hp.quniform('max_depth', 3, 7, 1),  # Depth of the tree\n",
    "    'learning_rate': hp.uniform('learning_rate', 0.01, 0.06),\n",
    "    'subsample': hp.uniform('subsample', 0.5, 1.0),  # Fraction of samples to be used for fitting\n",
    "    'colsample_bytree': hp.uniform('colsample_bytree', 0.3, 1.0),  # Fraction of features to be used\n",
    "    'reg_alpha': hp.uniform('reg_alpha', 0.0, 1.0),  # L1 regularization\n",
    "    'reg_lambda': hp.uniform('reg_lambda', 0.0, 1.0),  # L2 regularization\n",
    "    'max_bin': hp.quniform('max_bin', 50, 90, 1),  # Max number of bins that feature values will be bucketed in\n",
    "    'min_split_gain': hp.uniform('min_split_gain', 0.5, 1.0),  # Minimum loss reduction required to make a further partition\n",
    "    'min_data_in_leaf': hp.choice('min_data_in_leaf', [50, 100, 250, 500]),\n",
    "\n",
    "}\n",
    "\n",
    "# Step 2: Define the objective function for Hyperopt\n",
    "def objective(params, x_scaled_train, y_train, x_scaled_valid, y_valid):\n",
    "    \"\"\"\n",
    "    The objective function which takes in hyperparameters and outputs the negative R^2 score\n",
    "    (since Hyperopt minimizes the objective function, we negate the R^2 score to maximize it).\n",
    "    \"\"\"\n",
    "    # Use fixed params and best hyperparameters from Hyperopt\n",
    "    fixed_params = {\n",
    "        'boosting_type': 'gbdt',\n",
    "        'objective': 'regression',\n",
    "        'nthread': 4,\n",
    "        'metric': 'rmse',\n",
    "        'verbosity': -1,\n",
    "        'n_jobs': -1\n",
    "    }\n",
    "\n",
    "    params['max_depth'] = int(params['max_depth'])\n",
    "    params['max_bin'] = int(params['max_bin'])\n",
    "\n",
    "    # Combine fixed params and the params from Hyperopt\n",
    "    model_params = {**params, **fixed_params}\n",
    "    \n",
    "    # Train model using the current set of hyperparameters\n",
    "    model = lgb.LGBMRegressor(**model_params)\n",
    "    model.fit(x_scaled_train, y_train, \n",
    "              eval_set=[(x_scaled_valid, y_valid)], \n",
    "              eval_metric='r2'\n",
    "              )\n",
    "\n",
    "    # Predict on the validation set and calculate R^2 score\n",
    "    y_pred = model.predict(x_scaled_valid)\n",
    "    r2 = r2_score(y_valid, y_pred)\n",
    "\n",
    "    # Since we want to maximize R^2, we return negative R^2 (Hyperopt minimizes the objective)\n",
    "    return {'loss': 1 - r2, 'status': STATUS_OK}\n",
    "\n"
   ]
  },
  {
   "cell_type": "markdown",
   "metadata": {},
   "source": [
    "We now train a LightGBM model for each lag and print the $R^2$ score on the validation and training sets at the end of the hyperparameter tuning."
   ]
  },
  {
   "cell_type": "code",
   "execution_count": null,
   "metadata": {},
   "outputs": [
    {
     "name": "stdout",
     "output_type": "stream",
     "text": [
      "Training model for lag = 50\n",
      "  0%|          | 0/30 [00:00<?, ?trial/s, best loss=?]"
     ]
    },
    {
     "name": "stderr",
     "output_type": "stream",
     "text": [
      "/Users/ellenli/RoughPaths/RPvenv3.10/lib/python3.10/site-packages/sklearn/utils/deprecation.py:151: FutureWarning: 'force_all_finite' was renamed to 'ensure_all_finite' in 1.6 and will be removed in 1.8.\n",
      "  warnings.warn(\n",
      "\n",
      "/Users/ellenli/RoughPaths/RPvenv3.10/lib/python3.10/site-packages/sklearn/utils/deprecation.py:151: FutureWarning: 'force_all_finite' was renamed to 'ensure_all_finite' in 1.6 and will be removed in 1.8.\n",
      "  warnings.warn(\n",
      "\n"
     ]
    },
    {
     "name": "stdout",
     "output_type": "stream",
     "text": [
      "  3%|▎         | 1/30 [00:12<05:48, 12.00s/trial, best loss: 0.8756521658599669]"
     ]
    },
    {
     "name": "stderr",
     "output_type": "stream",
     "text": [
      "/Users/ellenli/RoughPaths/RPvenv3.10/lib/python3.10/site-packages/sklearn/utils/deprecation.py:151: FutureWarning: 'force_all_finite' was renamed to 'ensure_all_finite' in 1.6 and will be removed in 1.8.\n",
      "  warnings.warn(\n",
      "\n",
      "/Users/ellenli/RoughPaths/RPvenv3.10/lib/python3.10/site-packages/sklearn/utils/deprecation.py:151: FutureWarning: 'force_all_finite' was renamed to 'ensure_all_finite' in 1.6 and will be removed in 1.8.\n",
      "  warnings.warn(\n",
      "\n"
     ]
    },
    {
     "name": "stdout",
     "output_type": "stream",
     "text": [
      "  7%|▋         | 2/30 [00:21<04:48, 10.30s/trial, best loss: 0.8756521658599669]"
     ]
    },
    {
     "name": "stderr",
     "output_type": "stream",
     "text": [
      "/Users/ellenli/RoughPaths/RPvenv3.10/lib/python3.10/site-packages/sklearn/utils/deprecation.py:151: FutureWarning: 'force_all_finite' was renamed to 'ensure_all_finite' in 1.6 and will be removed in 1.8.\n",
      "  warnings.warn(\n",
      "\n",
      "/Users/ellenli/RoughPaths/RPvenv3.10/lib/python3.10/site-packages/sklearn/utils/deprecation.py:151: FutureWarning: 'force_all_finite' was renamed to 'ensure_all_finite' in 1.6 and will be removed in 1.8.\n",
      "  warnings.warn(\n",
      "\n"
     ]
    },
    {
     "name": "stdout",
     "output_type": "stream",
     "text": [
      " 10%|█         | 3/30 [00:30<04:25,  9.84s/trial, best loss: 0.8756521658599669]"
     ]
    },
    {
     "name": "stderr",
     "output_type": "stream",
     "text": [
      "/Users/ellenli/RoughPaths/RPvenv3.10/lib/python3.10/site-packages/sklearn/utils/deprecation.py:151: FutureWarning: 'force_all_finite' was renamed to 'ensure_all_finite' in 1.6 and will be removed in 1.8.\n",
      "  warnings.warn(\n",
      "\n",
      "/Users/ellenli/RoughPaths/RPvenv3.10/lib/python3.10/site-packages/sklearn/utils/deprecation.py:151: FutureWarning: 'force_all_finite' was renamed to 'ensure_all_finite' in 1.6 and will be removed in 1.8.\n",
      "  warnings.warn(\n",
      "\n"
     ]
    },
    {
     "name": "stdout",
     "output_type": "stream",
     "text": [
      " 13%|█▎        | 4/30 [00:40<04:15,  9.83s/trial, best loss: 0.8756521658599669]"
     ]
    },
    {
     "name": "stderr",
     "output_type": "stream",
     "text": [
      "/Users/ellenli/RoughPaths/RPvenv3.10/lib/python3.10/site-packages/sklearn/utils/deprecation.py:151: FutureWarning: 'force_all_finite' was renamed to 'ensure_all_finite' in 1.6 and will be removed in 1.8.\n",
      "  warnings.warn(\n",
      "\n",
      "/Users/ellenli/RoughPaths/RPvenv3.10/lib/python3.10/site-packages/sklearn/utils/deprecation.py:151: FutureWarning: 'force_all_finite' was renamed to 'ensure_all_finite' in 1.6 and will be removed in 1.8.\n",
      "  warnings.warn(\n",
      "\n"
     ]
    },
    {
     "name": "stdout",
     "output_type": "stream",
     "text": [
      " 17%|█▋        | 5/30 [00:54<04:48, 11.55s/trial, best loss: 0.8376800824149293]"
     ]
    },
    {
     "name": "stderr",
     "output_type": "stream",
     "text": [
      "/Users/ellenli/RoughPaths/RPvenv3.10/lib/python3.10/site-packages/sklearn/utils/deprecation.py:151: FutureWarning: 'force_all_finite' was renamed to 'ensure_all_finite' in 1.6 and will be removed in 1.8.\n",
      "  warnings.warn(\n",
      "\n",
      "/Users/ellenli/RoughPaths/RPvenv3.10/lib/python3.10/site-packages/sklearn/utils/deprecation.py:151: FutureWarning: 'force_all_finite' was renamed to 'ensure_all_finite' in 1.6 and will be removed in 1.8.\n",
      "  warnings.warn(\n",
      "\n"
     ]
    },
    {
     "name": "stdout",
     "output_type": "stream",
     "text": [
      " 20%|██        | 6/30 [01:02<04:06, 10.27s/trial, best loss: 0.8376800824149293]"
     ]
    },
    {
     "name": "stderr",
     "output_type": "stream",
     "text": [
      "/Users/ellenli/RoughPaths/RPvenv3.10/lib/python3.10/site-packages/sklearn/utils/deprecation.py:151: FutureWarning: 'force_all_finite' was renamed to 'ensure_all_finite' in 1.6 and will be removed in 1.8.\n",
      "  warnings.warn(\n",
      "\n",
      "/Users/ellenli/RoughPaths/RPvenv3.10/lib/python3.10/site-packages/sklearn/utils/deprecation.py:151: FutureWarning: 'force_all_finite' was renamed to 'ensure_all_finite' in 1.6 and will be removed in 1.8.\n",
      "  warnings.warn(\n",
      "\n"
     ]
    },
    {
     "name": "stdout",
     "output_type": "stream",
     "text": [
      " 23%|██▎       | 7/30 [01:13<04:00, 10.47s/trial, best loss: 0.8376800824149293]"
     ]
    },
    {
     "name": "stderr",
     "output_type": "stream",
     "text": [
      "/Users/ellenli/RoughPaths/RPvenv3.10/lib/python3.10/site-packages/sklearn/utils/deprecation.py:151: FutureWarning: 'force_all_finite' was renamed to 'ensure_all_finite' in 1.6 and will be removed in 1.8.\n",
      "  warnings.warn(\n",
      "\n",
      "/Users/ellenli/RoughPaths/RPvenv3.10/lib/python3.10/site-packages/sklearn/utils/deprecation.py:151: FutureWarning: 'force_all_finite' was renamed to 'ensure_all_finite' in 1.6 and will be removed in 1.8.\n",
      "  warnings.warn(\n",
      "\n"
     ]
    },
    {
     "name": "stdout",
     "output_type": "stream",
     "text": [
      " 27%|██▋       | 8/30 [01:23<03:44, 10.19s/trial, best loss: 0.8376800824149293]"
     ]
    },
    {
     "name": "stderr",
     "output_type": "stream",
     "text": [
      "/Users/ellenli/RoughPaths/RPvenv3.10/lib/python3.10/site-packages/sklearn/utils/deprecation.py:151: FutureWarning: 'force_all_finite' was renamed to 'ensure_all_finite' in 1.6 and will be removed in 1.8.\n",
      "  warnings.warn(\n",
      "\n",
      "/Users/ellenli/RoughPaths/RPvenv3.10/lib/python3.10/site-packages/sklearn/utils/deprecation.py:151: FutureWarning: 'force_all_finite' was renamed to 'ensure_all_finite' in 1.6 and will be removed in 1.8.\n",
      "  warnings.warn(\n",
      "\n"
     ]
    },
    {
     "name": "stdout",
     "output_type": "stream",
     "text": [
      " 30%|███       | 9/30 [01:34<03:41, 10.56s/trial, best loss: 0.8376800824149293]"
     ]
    },
    {
     "name": "stderr",
     "output_type": "stream",
     "text": [
      "/Users/ellenli/RoughPaths/RPvenv3.10/lib/python3.10/site-packages/sklearn/utils/deprecation.py:151: FutureWarning: 'force_all_finite' was renamed to 'ensure_all_finite' in 1.6 and will be removed in 1.8.\n",
      "  warnings.warn(\n",
      "\n",
      "/Users/ellenli/RoughPaths/RPvenv3.10/lib/python3.10/site-packages/sklearn/utils/deprecation.py:151: FutureWarning: 'force_all_finite' was renamed to 'ensure_all_finite' in 1.6 and will be removed in 1.8.\n",
      "  warnings.warn(\n",
      "\n"
     ]
    },
    {
     "name": "stdout",
     "output_type": "stream",
     "text": [
      " 33%|███▎      | 10/30 [01:48<03:55, 11.76s/trial, best loss: 0.8376800824149293]"
     ]
    },
    {
     "name": "stderr",
     "output_type": "stream",
     "text": [
      "/Users/ellenli/RoughPaths/RPvenv3.10/lib/python3.10/site-packages/sklearn/utils/deprecation.py:151: FutureWarning: 'force_all_finite' was renamed to 'ensure_all_finite' in 1.6 and will be removed in 1.8.\n",
      "  warnings.warn(\n",
      "\n",
      "/Users/ellenli/RoughPaths/RPvenv3.10/lib/python3.10/site-packages/sklearn/utils/deprecation.py:151: FutureWarning: 'force_all_finite' was renamed to 'ensure_all_finite' in 1.6 and will be removed in 1.8.\n",
      "  warnings.warn(\n",
      "\n"
     ]
    },
    {
     "name": "stdout",
     "output_type": "stream",
     "text": [
      " 37%|███▋      | 11/30 [01:59<03:35, 11.36s/trial, best loss: 0.8376800824149293]"
     ]
    },
    {
     "name": "stderr",
     "output_type": "stream",
     "text": [
      "/Users/ellenli/RoughPaths/RPvenv3.10/lib/python3.10/site-packages/sklearn/utils/deprecation.py:151: FutureWarning: 'force_all_finite' was renamed to 'ensure_all_finite' in 1.6 and will be removed in 1.8.\n",
      "  warnings.warn(\n",
      "\n",
      "/Users/ellenli/RoughPaths/RPvenv3.10/lib/python3.10/site-packages/sklearn/utils/deprecation.py:151: FutureWarning: 'force_all_finite' was renamed to 'ensure_all_finite' in 1.6 and will be removed in 1.8.\n",
      "  warnings.warn(\n",
      "\n"
     ]
    },
    {
     "name": "stdout",
     "output_type": "stream",
     "text": [
      " 40%|████      | 12/30 [02:09<03:18, 11.05s/trial, best loss: 0.8376800824149293]"
     ]
    },
    {
     "name": "stderr",
     "output_type": "stream",
     "text": [
      "/Users/ellenli/RoughPaths/RPvenv3.10/lib/python3.10/site-packages/sklearn/utils/deprecation.py:151: FutureWarning: 'force_all_finite' was renamed to 'ensure_all_finite' in 1.6 and will be removed in 1.8.\n",
      "  warnings.warn(\n",
      "\n",
      "/Users/ellenli/RoughPaths/RPvenv3.10/lib/python3.10/site-packages/sklearn/utils/deprecation.py:151: FutureWarning: 'force_all_finite' was renamed to 'ensure_all_finite' in 1.6 and will be removed in 1.8.\n",
      "  warnings.warn(\n",
      "\n"
     ]
    },
    {
     "name": "stdout",
     "output_type": "stream",
     "text": [
      " 43%|████▎     | 13/30 [02:21<03:13, 11.38s/trial, best loss: 0.8376800824149293]"
     ]
    },
    {
     "name": "stderr",
     "output_type": "stream",
     "text": [
      "/Users/ellenli/RoughPaths/RPvenv3.10/lib/python3.10/site-packages/sklearn/utils/deprecation.py:151: FutureWarning: 'force_all_finite' was renamed to 'ensure_all_finite' in 1.6 and will be removed in 1.8.\n",
      "  warnings.warn(\n",
      "\n",
      "/Users/ellenli/RoughPaths/RPvenv3.10/lib/python3.10/site-packages/sklearn/utils/deprecation.py:151: FutureWarning: 'force_all_finite' was renamed to 'ensure_all_finite' in 1.6 and will be removed in 1.8.\n",
      "  warnings.warn(\n",
      "\n"
     ]
    },
    {
     "name": "stdout",
     "output_type": "stream",
     "text": [
      " 47%|████▋     | 14/30 [02:33<03:01, 11.37s/trial, best loss: 0.8370381502365221]"
     ]
    },
    {
     "name": "stderr",
     "output_type": "stream",
     "text": [
      "/Users/ellenli/RoughPaths/RPvenv3.10/lib/python3.10/site-packages/sklearn/utils/deprecation.py:151: FutureWarning: 'force_all_finite' was renamed to 'ensure_all_finite' in 1.6 and will be removed in 1.8.\n",
      "  warnings.warn(\n",
      "\n",
      "/Users/ellenli/RoughPaths/RPvenv3.10/lib/python3.10/site-packages/sklearn/utils/deprecation.py:151: FutureWarning: 'force_all_finite' was renamed to 'ensure_all_finite' in 1.6 and will be removed in 1.8.\n",
      "  warnings.warn(\n",
      "\n"
     ]
    },
    {
     "name": "stdout",
     "output_type": "stream",
     "text": [
      " 50%|█████     | 15/30 [02:41<02:36, 10.42s/trial, best loss: 0.8370381502365221]"
     ]
    },
    {
     "name": "stderr",
     "output_type": "stream",
     "text": [
      "/Users/ellenli/RoughPaths/RPvenv3.10/lib/python3.10/site-packages/sklearn/utils/deprecation.py:151: FutureWarning: 'force_all_finite' was renamed to 'ensure_all_finite' in 1.6 and will be removed in 1.8.\n",
      "  warnings.warn(\n",
      "\n",
      "/Users/ellenli/RoughPaths/RPvenv3.10/lib/python3.10/site-packages/sklearn/utils/deprecation.py:151: FutureWarning: 'force_all_finite' was renamed to 'ensure_all_finite' in 1.6 and will be removed in 1.8.\n",
      "  warnings.warn(\n",
      "\n"
     ]
    },
    {
     "name": "stdout",
     "output_type": "stream",
     "text": [
      " 53%|█████▎    | 16/30 [02:51<02:23, 10.24s/trial, best loss: 0.8370381502365221]"
     ]
    },
    {
     "name": "stderr",
     "output_type": "stream",
     "text": [
      "/Users/ellenli/RoughPaths/RPvenv3.10/lib/python3.10/site-packages/sklearn/utils/deprecation.py:151: FutureWarning: 'force_all_finite' was renamed to 'ensure_all_finite' in 1.6 and will be removed in 1.8.\n",
      "  warnings.warn(\n",
      "\n",
      "/Users/ellenli/RoughPaths/RPvenv3.10/lib/python3.10/site-packages/sklearn/utils/deprecation.py:151: FutureWarning: 'force_all_finite' was renamed to 'ensure_all_finite' in 1.6 and will be removed in 1.8.\n",
      "  warnings.warn(\n",
      "\n"
     ]
    },
    {
     "name": "stdout",
     "output_type": "stream",
     "text": [
      " 57%|█████▋    | 17/30 [03:05<02:27, 11.38s/trial, best loss: 0.8370381502365221]"
     ]
    },
    {
     "name": "stderr",
     "output_type": "stream",
     "text": [
      "/Users/ellenli/RoughPaths/RPvenv3.10/lib/python3.10/site-packages/sklearn/utils/deprecation.py:151: FutureWarning: 'force_all_finite' was renamed to 'ensure_all_finite' in 1.6 and will be removed in 1.8.\n",
      "  warnings.warn(\n",
      "\n",
      "/Users/ellenli/RoughPaths/RPvenv3.10/lib/python3.10/site-packages/sklearn/utils/deprecation.py:151: FutureWarning: 'force_all_finite' was renamed to 'ensure_all_finite' in 1.6 and will be removed in 1.8.\n",
      "  warnings.warn(\n",
      "\n"
     ]
    },
    {
     "name": "stdout",
     "output_type": "stream",
     "text": [
      " 60%|██████    | 18/30 [03:16<02:16, 11.39s/trial, best loss: 0.8370381502365221]"
     ]
    },
    {
     "name": "stderr",
     "output_type": "stream",
     "text": [
      "/Users/ellenli/RoughPaths/RPvenv3.10/lib/python3.10/site-packages/sklearn/utils/deprecation.py:151: FutureWarning: 'force_all_finite' was renamed to 'ensure_all_finite' in 1.6 and will be removed in 1.8.\n",
      "  warnings.warn(\n",
      "\n",
      "/Users/ellenli/RoughPaths/RPvenv3.10/lib/python3.10/site-packages/sklearn/utils/deprecation.py:151: FutureWarning: 'force_all_finite' was renamed to 'ensure_all_finite' in 1.6 and will be removed in 1.8.\n",
      "  warnings.warn(\n",
      "\n"
     ]
    },
    {
     "name": "stdout",
     "output_type": "stream",
     "text": [
      " 63%|██████▎   | 19/30 [03:25<01:58, 10.76s/trial, best loss: 0.8370381502365221]"
     ]
    },
    {
     "name": "stderr",
     "output_type": "stream",
     "text": [
      "/Users/ellenli/RoughPaths/RPvenv3.10/lib/python3.10/site-packages/sklearn/utils/deprecation.py:151: FutureWarning: 'force_all_finite' was renamed to 'ensure_all_finite' in 1.6 and will be removed in 1.8.\n",
      "  warnings.warn(\n",
      "\n",
      "/Users/ellenli/RoughPaths/RPvenv3.10/lib/python3.10/site-packages/sklearn/utils/deprecation.py:151: FutureWarning: 'force_all_finite' was renamed to 'ensure_all_finite' in 1.6 and will be removed in 1.8.\n",
      "  warnings.warn(\n",
      "\n"
     ]
    },
    {
     "name": "stdout",
     "output_type": "stream",
     "text": [
      " 67%|██████▋   | 20/30 [03:36<01:47, 10.72s/trial, best loss: 0.8370381502365221]"
     ]
    },
    {
     "name": "stderr",
     "output_type": "stream",
     "text": [
      "/Users/ellenli/RoughPaths/RPvenv3.10/lib/python3.10/site-packages/sklearn/utils/deprecation.py:151: FutureWarning: 'force_all_finite' was renamed to 'ensure_all_finite' in 1.6 and will be removed in 1.8.\n",
      "  warnings.warn(\n",
      "\n",
      "/Users/ellenli/RoughPaths/RPvenv3.10/lib/python3.10/site-packages/sklearn/utils/deprecation.py:151: FutureWarning: 'force_all_finite' was renamed to 'ensure_all_finite' in 1.6 and will be removed in 1.8.\n",
      "  warnings.warn(\n",
      "\n"
     ]
    },
    {
     "name": "stdout",
     "output_type": "stream",
     "text": [
      " 70%|███████   | 21/30 [03:50<01:44, 11.65s/trial, best loss: 0.8370381502365221]"
     ]
    },
    {
     "name": "stderr",
     "output_type": "stream",
     "text": [
      "/Users/ellenli/RoughPaths/RPvenv3.10/lib/python3.10/site-packages/sklearn/utils/deprecation.py:151: FutureWarning: 'force_all_finite' was renamed to 'ensure_all_finite' in 1.6 and will be removed in 1.8.\n",
      "  warnings.warn(\n",
      "\n",
      "/Users/ellenli/RoughPaths/RPvenv3.10/lib/python3.10/site-packages/sklearn/utils/deprecation.py:151: FutureWarning: 'force_all_finite' was renamed to 'ensure_all_finite' in 1.6 and will be removed in 1.8.\n",
      "  warnings.warn(\n",
      "\n"
     ]
    },
    {
     "name": "stdout",
     "output_type": "stream",
     "text": [
      " 73%|███████▎  | 22/30 [04:02<01:33, 11.73s/trial, best loss: 0.8344597201345431]"
     ]
    },
    {
     "name": "stderr",
     "output_type": "stream",
     "text": [
      "/Users/ellenli/RoughPaths/RPvenv3.10/lib/python3.10/site-packages/sklearn/utils/deprecation.py:151: FutureWarning: 'force_all_finite' was renamed to 'ensure_all_finite' in 1.6 and will be removed in 1.8.\n",
      "  warnings.warn(\n",
      "\n",
      "/Users/ellenli/RoughPaths/RPvenv3.10/lib/python3.10/site-packages/sklearn/utils/deprecation.py:151: FutureWarning: 'force_all_finite' was renamed to 'ensure_all_finite' in 1.6 and will be removed in 1.8.\n",
      "  warnings.warn(\n",
      "\n"
     ]
    },
    {
     "name": "stdout",
     "output_type": "stream",
     "text": [
      " 77%|███████▋  | 23/30 [04:12<01:19, 11.34s/trial, best loss: 0.8344597201345431]"
     ]
    },
    {
     "name": "stderr",
     "output_type": "stream",
     "text": [
      "/Users/ellenli/RoughPaths/RPvenv3.10/lib/python3.10/site-packages/sklearn/utils/deprecation.py:151: FutureWarning: 'force_all_finite' was renamed to 'ensure_all_finite' in 1.6 and will be removed in 1.8.\n",
      "  warnings.warn(\n",
      "\n",
      "/Users/ellenli/RoughPaths/RPvenv3.10/lib/python3.10/site-packages/sklearn/utils/deprecation.py:151: FutureWarning: 'force_all_finite' was renamed to 'ensure_all_finite' in 1.6 and will be removed in 1.8.\n",
      "  warnings.warn(\n",
      "\n"
     ]
    },
    {
     "name": "stdout",
     "output_type": "stream",
     "text": [
      " 80%|████████  | 24/30 [04:25<01:10, 11.68s/trial, best loss: 0.8329319261763407]"
     ]
    },
    {
     "name": "stderr",
     "output_type": "stream",
     "text": [
      "/Users/ellenli/RoughPaths/RPvenv3.10/lib/python3.10/site-packages/sklearn/utils/deprecation.py:151: FutureWarning: 'force_all_finite' was renamed to 'ensure_all_finite' in 1.6 and will be removed in 1.8.\n",
      "  warnings.warn(\n",
      "\n",
      "/Users/ellenli/RoughPaths/RPvenv3.10/lib/python3.10/site-packages/sklearn/utils/deprecation.py:151: FutureWarning: 'force_all_finite' was renamed to 'ensure_all_finite' in 1.6 and will be removed in 1.8.\n",
      "  warnings.warn(\n",
      "\n"
     ]
    },
    {
     "name": "stdout",
     "output_type": "stream",
     "text": [
      " 83%|████████▎ | 25/30 [04:35<00:56, 11.37s/trial, best loss: 0.8329319261763407]"
     ]
    },
    {
     "name": "stderr",
     "output_type": "stream",
     "text": [
      "/Users/ellenli/RoughPaths/RPvenv3.10/lib/python3.10/site-packages/sklearn/utils/deprecation.py:151: FutureWarning: 'force_all_finite' was renamed to 'ensure_all_finite' in 1.6 and will be removed in 1.8.\n",
      "  warnings.warn(\n",
      "\n",
      "/Users/ellenli/RoughPaths/RPvenv3.10/lib/python3.10/site-packages/sklearn/utils/deprecation.py:151: FutureWarning: 'force_all_finite' was renamed to 'ensure_all_finite' in 1.6 and will be removed in 1.8.\n",
      "  warnings.warn(\n",
      "\n"
     ]
    },
    {
     "name": "stdout",
     "output_type": "stream",
     "text": [
      " 87%|████████▋ | 26/30 [04:46<00:44, 11.13s/trial, best loss: 0.8329319261763407]"
     ]
    },
    {
     "name": "stderr",
     "output_type": "stream",
     "text": [
      "/Users/ellenli/RoughPaths/RPvenv3.10/lib/python3.10/site-packages/sklearn/utils/deprecation.py:151: FutureWarning: 'force_all_finite' was renamed to 'ensure_all_finite' in 1.6 and will be removed in 1.8.\n",
      "  warnings.warn(\n",
      "\n",
      "/Users/ellenli/RoughPaths/RPvenv3.10/lib/python3.10/site-packages/sklearn/utils/deprecation.py:151: FutureWarning: 'force_all_finite' was renamed to 'ensure_all_finite' in 1.6 and will be removed in 1.8.\n",
      "  warnings.warn(\n",
      "\n"
     ]
    },
    {
     "name": "stdout",
     "output_type": "stream",
     "text": [
      " 90%|█████████ | 27/30 [04:57<00:33, 11.23s/trial, best loss: 0.8329319261763407]"
     ]
    },
    {
     "name": "stderr",
     "output_type": "stream",
     "text": [
      "/Users/ellenli/RoughPaths/RPvenv3.10/lib/python3.10/site-packages/sklearn/utils/deprecation.py:151: FutureWarning: 'force_all_finite' was renamed to 'ensure_all_finite' in 1.6 and will be removed in 1.8.\n",
      "  warnings.warn(\n",
      "\n",
      "/Users/ellenli/RoughPaths/RPvenv3.10/lib/python3.10/site-packages/sklearn/utils/deprecation.py:151: FutureWarning: 'force_all_finite' was renamed to 'ensure_all_finite' in 1.6 and will be removed in 1.8.\n",
      "  warnings.warn(\n",
      "\n"
     ]
    },
    {
     "name": "stdout",
     "output_type": "stream",
     "text": [
      " 93%|█████████▎| 28/30 [05:10<00:23, 11.51s/trial, best loss: 0.8329319261763407]"
     ]
    },
    {
     "name": "stderr",
     "output_type": "stream",
     "text": [
      "/Users/ellenli/RoughPaths/RPvenv3.10/lib/python3.10/site-packages/sklearn/utils/deprecation.py:151: FutureWarning: 'force_all_finite' was renamed to 'ensure_all_finite' in 1.6 and will be removed in 1.8.\n",
      "  warnings.warn(\n",
      "\n",
      "/Users/ellenli/RoughPaths/RPvenv3.10/lib/python3.10/site-packages/sklearn/utils/deprecation.py:151: FutureWarning: 'force_all_finite' was renamed to 'ensure_all_finite' in 1.6 and will be removed in 1.8.\n",
      "  warnings.warn(\n",
      "\n"
     ]
    },
    {
     "name": "stdout",
     "output_type": "stream",
     "text": [
      " 97%|█████████▋| 29/30 [05:21<00:11, 11.40s/trial, best loss: 0.8329319261763407]"
     ]
    },
    {
     "name": "stderr",
     "output_type": "stream",
     "text": [
      "/Users/ellenli/RoughPaths/RPvenv3.10/lib/python3.10/site-packages/sklearn/utils/deprecation.py:151: FutureWarning: 'force_all_finite' was renamed to 'ensure_all_finite' in 1.6 and will be removed in 1.8.\n",
      "  warnings.warn(\n",
      "\n",
      "/Users/ellenli/RoughPaths/RPvenv3.10/lib/python3.10/site-packages/sklearn/utils/deprecation.py:151: FutureWarning: 'force_all_finite' was renamed to 'ensure_all_finite' in 1.6 and will be removed in 1.8.\n",
      "  warnings.warn(\n",
      "\n"
     ]
    },
    {
     "name": "stdout",
     "output_type": "stream",
     "text": [
      "100%|██████████| 30/30 [05:32<00:00, 11.09s/trial, best loss: 0.8329319261763407]\n",
      "Best hyperparameters: {'colsample_bytree': np.float64(0.426292227288799), 'learning_rate': np.float64(0.05552239722773201), 'max_bin': np.float64(55.0), 'max_depth': np.float64(7.0), 'min_data_in_leaf': np.int64(0), 'min_split_gain': np.float64(0.8128948463540139), 'num_leaves': np.int64(4), 'reg_alpha': np.float64(0.5297392807121759), 'reg_lambda': np.float64(0.8759738915452808), 'subsample': np.float64(0.7903507508906192)}\n",
      "Trials: <hyperopt.base.Trials object at 0x1054ee2f0>\n",
      "R2: 0.1670680738236593\n"
     ]
    },
    {
     "name": "stderr",
     "output_type": "stream",
     "text": [
      "/Users/ellenli/RoughPaths/RPvenv3.10/lib/python3.10/site-packages/sklearn/utils/deprecation.py:151: FutureWarning: 'force_all_finite' was renamed to 'ensure_all_finite' in 1.6 and will be removed in 1.8.\n",
      "  warnings.warn(\n",
      "/Users/ellenli/RoughPaths/RPvenv3.10/lib/python3.10/site-packages/sklearn/utils/deprecation.py:151: FutureWarning: 'force_all_finite' was renamed to 'ensure_all_finite' in 1.6 and will be removed in 1.8.\n",
      "  warnings.warn(\n",
      "/Users/ellenli/RoughPaths/RPvenv3.10/lib/python3.10/site-packages/sklearn/utils/deprecation.py:151: FutureWarning: 'force_all_finite' was renamed to 'ensure_all_finite' in 1.6 and will be removed in 1.8.\n",
      "  warnings.warn(\n"
     ]
    },
    {
     "name": "stdout",
     "output_type": "stream",
     "text": [
      "0.2239, 0.1671\n",
      "Training model for lag = 55\n",
      "  0%|          | 0/30 [00:00<?, ?trial/s, best loss=?]"
     ]
    },
    {
     "name": "stderr",
     "output_type": "stream",
     "text": [
      "/Users/ellenli/RoughPaths/RPvenv3.10/lib/python3.10/site-packages/sklearn/utils/deprecation.py:151: FutureWarning: 'force_all_finite' was renamed to 'ensure_all_finite' in 1.6 and will be removed in 1.8.\n",
      "  warnings.warn(\n",
      "\n",
      "/Users/ellenli/RoughPaths/RPvenv3.10/lib/python3.10/site-packages/sklearn/utils/deprecation.py:151: FutureWarning: 'force_all_finite' was renamed to 'ensure_all_finite' in 1.6 and will be removed in 1.8.\n",
      "  warnings.warn(\n",
      "\n"
     ]
    },
    {
     "name": "stdout",
     "output_type": "stream",
     "text": [
      "  3%|▎         | 1/30 [00:11<05:22, 11.12s/trial, best loss: 0.9066336672201677]"
     ]
    },
    {
     "name": "stderr",
     "output_type": "stream",
     "text": [
      "/Users/ellenli/RoughPaths/RPvenv3.10/lib/python3.10/site-packages/sklearn/utils/deprecation.py:151: FutureWarning: 'force_all_finite' was renamed to 'ensure_all_finite' in 1.6 and will be removed in 1.8.\n",
      "  warnings.warn(\n",
      "\n",
      "/Users/ellenli/RoughPaths/RPvenv3.10/lib/python3.10/site-packages/sklearn/utils/deprecation.py:151: FutureWarning: 'force_all_finite' was renamed to 'ensure_all_finite' in 1.6 and will be removed in 1.8.\n",
      "  warnings.warn(\n",
      "\n"
     ]
    },
    {
     "name": "stdout",
     "output_type": "stream",
     "text": [
      "  7%|▋         | 2/30 [00:20<04:37,  9.90s/trial, best loss: 0.9066336672201677]"
     ]
    },
    {
     "name": "stderr",
     "output_type": "stream",
     "text": [
      "/Users/ellenli/RoughPaths/RPvenv3.10/lib/python3.10/site-packages/sklearn/utils/deprecation.py:151: FutureWarning: 'force_all_finite' was renamed to 'ensure_all_finite' in 1.6 and will be removed in 1.8.\n",
      "  warnings.warn(\n",
      "\n",
      "/Users/ellenli/RoughPaths/RPvenv3.10/lib/python3.10/site-packages/sklearn/utils/deprecation.py:151: FutureWarning: 'force_all_finite' was renamed to 'ensure_all_finite' in 1.6 and will be removed in 1.8.\n",
      "  warnings.warn(\n",
      "\n"
     ]
    },
    {
     "name": "stdout",
     "output_type": "stream",
     "text": [
      " 10%|█         | 3/30 [00:29<04:15,  9.45s/trial, best loss: 0.9066336672201677]"
     ]
    },
    {
     "name": "stderr",
     "output_type": "stream",
     "text": [
      "/Users/ellenli/RoughPaths/RPvenv3.10/lib/python3.10/site-packages/sklearn/utils/deprecation.py:151: FutureWarning: 'force_all_finite' was renamed to 'ensure_all_finite' in 1.6 and will be removed in 1.8.\n",
      "  warnings.warn(\n",
      "\n",
      "/Users/ellenli/RoughPaths/RPvenv3.10/lib/python3.10/site-packages/sklearn/utils/deprecation.py:151: FutureWarning: 'force_all_finite' was renamed to 'ensure_all_finite' in 1.6 and will be removed in 1.8.\n",
      "  warnings.warn(\n",
      "\n"
     ]
    },
    {
     "name": "stdout",
     "output_type": "stream",
     "text": [
      " 13%|█▎        | 4/30 [00:38<04:05,  9.43s/trial, best loss: 0.9066336672201677]"
     ]
    },
    {
     "name": "stderr",
     "output_type": "stream",
     "text": [
      "/Users/ellenli/RoughPaths/RPvenv3.10/lib/python3.10/site-packages/sklearn/utils/deprecation.py:151: FutureWarning: 'force_all_finite' was renamed to 'ensure_all_finite' in 1.6 and will be removed in 1.8.\n",
      "  warnings.warn(\n",
      "\n",
      "/Users/ellenli/RoughPaths/RPvenv3.10/lib/python3.10/site-packages/sklearn/utils/deprecation.py:151: FutureWarning: 'force_all_finite' was renamed to 'ensure_all_finite' in 1.6 and will be removed in 1.8.\n",
      "  warnings.warn(\n",
      "\n"
     ]
    },
    {
     "name": "stdout",
     "output_type": "stream",
     "text": [
      " 17%|█▋        | 5/30 [00:52<04:35, 11.03s/trial, best loss: 0.877439886532963] "
     ]
    },
    {
     "name": "stderr",
     "output_type": "stream",
     "text": [
      "/Users/ellenli/RoughPaths/RPvenv3.10/lib/python3.10/site-packages/sklearn/utils/deprecation.py:151: FutureWarning: 'force_all_finite' was renamed to 'ensure_all_finite' in 1.6 and will be removed in 1.8.\n",
      "  warnings.warn(\n",
      "\n",
      "/Users/ellenli/RoughPaths/RPvenv3.10/lib/python3.10/site-packages/sklearn/utils/deprecation.py:151: FutureWarning: 'force_all_finite' was renamed to 'ensure_all_finite' in 1.6 and will be removed in 1.8.\n",
      "  warnings.warn(\n",
      "\n"
     ]
    },
    {
     "name": "stdout",
     "output_type": "stream",
     "text": [
      " 20%|██        | 6/30 [01:01<04:06, 10.25s/trial, best loss: 0.877439886532963]"
     ]
    },
    {
     "name": "stderr",
     "output_type": "stream",
     "text": [
      "/Users/ellenli/RoughPaths/RPvenv3.10/lib/python3.10/site-packages/sklearn/utils/deprecation.py:151: FutureWarning: 'force_all_finite' was renamed to 'ensure_all_finite' in 1.6 and will be removed in 1.8.\n",
      "  warnings.warn(\n",
      "\n",
      "/Users/ellenli/RoughPaths/RPvenv3.10/lib/python3.10/site-packages/sklearn/utils/deprecation.py:151: FutureWarning: 'force_all_finite' was renamed to 'ensure_all_finite' in 1.6 and will be removed in 1.8.\n",
      "  warnings.warn(\n",
      "\n"
     ]
    },
    {
     "name": "stdout",
     "output_type": "stream",
     "text": [
      " 23%|██▎       | 7/30 [01:12<04:04, 10.65s/trial, best loss: 0.877439886532963]"
     ]
    },
    {
     "name": "stderr",
     "output_type": "stream",
     "text": [
      "/Users/ellenli/RoughPaths/RPvenv3.10/lib/python3.10/site-packages/sklearn/utils/deprecation.py:151: FutureWarning: 'force_all_finite' was renamed to 'ensure_all_finite' in 1.6 and will be removed in 1.8.\n",
      "  warnings.warn(\n",
      "\n",
      "/Users/ellenli/RoughPaths/RPvenv3.10/lib/python3.10/site-packages/sklearn/utils/deprecation.py:151: FutureWarning: 'force_all_finite' was renamed to 'ensure_all_finite' in 1.6 and will be removed in 1.8.\n",
      "  warnings.warn(\n",
      "\n"
     ]
    },
    {
     "name": "stdout",
     "output_type": "stream",
     "text": [
      " 27%|██▋       | 8/30 [01:22<03:49, 10.44s/trial, best loss: 0.877439886532963]"
     ]
    },
    {
     "name": "stderr",
     "output_type": "stream",
     "text": [
      "/Users/ellenli/RoughPaths/RPvenv3.10/lib/python3.10/site-packages/sklearn/utils/deprecation.py:151: FutureWarning: 'force_all_finite' was renamed to 'ensure_all_finite' in 1.6 and will be removed in 1.8.\n",
      "  warnings.warn(\n",
      "\n",
      "/Users/ellenli/RoughPaths/RPvenv3.10/lib/python3.10/site-packages/sklearn/utils/deprecation.py:151: FutureWarning: 'force_all_finite' was renamed to 'ensure_all_finite' in 1.6 and will be removed in 1.8.\n",
      "  warnings.warn(\n",
      "\n"
     ]
    },
    {
     "name": "stdout",
     "output_type": "stream",
     "text": [
      " 30%|███       | 9/30 [01:33<03:41, 10.56s/trial, best loss: 0.877439886532963]"
     ]
    },
    {
     "name": "stderr",
     "output_type": "stream",
     "text": [
      "/Users/ellenli/RoughPaths/RPvenv3.10/lib/python3.10/site-packages/sklearn/utils/deprecation.py:151: FutureWarning: 'force_all_finite' was renamed to 'ensure_all_finite' in 1.6 and will be removed in 1.8.\n",
      "  warnings.warn(\n",
      "\n",
      "/Users/ellenli/RoughPaths/RPvenv3.10/lib/python3.10/site-packages/sklearn/utils/deprecation.py:151: FutureWarning: 'force_all_finite' was renamed to 'ensure_all_finite' in 1.6 and will be removed in 1.8.\n",
      "  warnings.warn(\n",
      "\n"
     ]
    },
    {
     "name": "stdout",
     "output_type": "stream",
     "text": [
      " 33%|███▎      | 10/30 [01:48<04:00, 12.02s/trial, best loss: 0.877439886532963]"
     ]
    },
    {
     "name": "stderr",
     "output_type": "stream",
     "text": [
      "/Users/ellenli/RoughPaths/RPvenv3.10/lib/python3.10/site-packages/sklearn/utils/deprecation.py:151: FutureWarning: 'force_all_finite' was renamed to 'ensure_all_finite' in 1.6 and will be removed in 1.8.\n",
      "  warnings.warn(\n",
      "\n",
      "/Users/ellenli/RoughPaths/RPvenv3.10/lib/python3.10/site-packages/sklearn/utils/deprecation.py:151: FutureWarning: 'force_all_finite' was renamed to 'ensure_all_finite' in 1.6 and will be removed in 1.8.\n",
      "  warnings.warn(\n",
      "\n"
     ]
    },
    {
     "name": "stdout",
     "output_type": "stream",
     "text": [
      " 37%|███▋      | 11/30 [01:59<03:44, 11.80s/trial, best loss: 0.877439886532963]"
     ]
    },
    {
     "name": "stderr",
     "output_type": "stream",
     "text": [
      "/Users/ellenli/RoughPaths/RPvenv3.10/lib/python3.10/site-packages/sklearn/utils/deprecation.py:151: FutureWarning: 'force_all_finite' was renamed to 'ensure_all_finite' in 1.6 and will be removed in 1.8.\n",
      "  warnings.warn(\n",
      "\n",
      "/Users/ellenli/RoughPaths/RPvenv3.10/lib/python3.10/site-packages/sklearn/utils/deprecation.py:151: FutureWarning: 'force_all_finite' was renamed to 'ensure_all_finite' in 1.6 and will be removed in 1.8.\n",
      "  warnings.warn(\n",
      "\n"
     ]
    },
    {
     "name": "stdout",
     "output_type": "stream",
     "text": [
      " 40%|████      | 12/30 [02:11<03:29, 11.63s/trial, best loss: 0.877439886532963]"
     ]
    },
    {
     "name": "stderr",
     "output_type": "stream",
     "text": [
      "/Users/ellenli/RoughPaths/RPvenv3.10/lib/python3.10/site-packages/sklearn/utils/deprecation.py:151: FutureWarning: 'force_all_finite' was renamed to 'ensure_all_finite' in 1.6 and will be removed in 1.8.\n",
      "  warnings.warn(\n",
      "\n",
      "/Users/ellenli/RoughPaths/RPvenv3.10/lib/python3.10/site-packages/sklearn/utils/deprecation.py:151: FutureWarning: 'force_all_finite' was renamed to 'ensure_all_finite' in 1.6 and will be removed in 1.8.\n",
      "  warnings.warn(\n",
      "\n"
     ]
    },
    {
     "name": "stdout",
     "output_type": "stream",
     "text": [
      " 43%|████▎     | 13/30 [02:23<03:23, 11.95s/trial, best loss: 0.877439886532963]"
     ]
    },
    {
     "name": "stderr",
     "output_type": "stream",
     "text": [
      "/Users/ellenli/RoughPaths/RPvenv3.10/lib/python3.10/site-packages/sklearn/utils/deprecation.py:151: FutureWarning: 'force_all_finite' was renamed to 'ensure_all_finite' in 1.6 and will be removed in 1.8.\n",
      "  warnings.warn(\n",
      "\n",
      "/Users/ellenli/RoughPaths/RPvenv3.10/lib/python3.10/site-packages/sklearn/utils/deprecation.py:151: FutureWarning: 'force_all_finite' was renamed to 'ensure_all_finite' in 1.6 and will be removed in 1.8.\n",
      "  warnings.warn(\n",
      "\n"
     ]
    },
    {
     "name": "stdout",
     "output_type": "stream",
     "text": [
      " 47%|████▋     | 14/30 [02:34<03:04, 11.55s/trial, best loss: 0.8736195407454354]"
     ]
    },
    {
     "name": "stderr",
     "output_type": "stream",
     "text": [
      "/Users/ellenli/RoughPaths/RPvenv3.10/lib/python3.10/site-packages/sklearn/utils/deprecation.py:151: FutureWarning: 'force_all_finite' was renamed to 'ensure_all_finite' in 1.6 and will be removed in 1.8.\n",
      "  warnings.warn(\n",
      "\n",
      "/Users/ellenli/RoughPaths/RPvenv3.10/lib/python3.10/site-packages/sklearn/utils/deprecation.py:151: FutureWarning: 'force_all_finite' was renamed to 'ensure_all_finite' in 1.6 and will be removed in 1.8.\n",
      "  warnings.warn(\n",
      "\n"
     ]
    },
    {
     "name": "stdout",
     "output_type": "stream",
     "text": [
      " 50%|█████     | 15/30 [02:43<02:39, 10.67s/trial, best loss: 0.8736195407454354]"
     ]
    },
    {
     "name": "stderr",
     "output_type": "stream",
     "text": [
      "/Users/ellenli/RoughPaths/RPvenv3.10/lib/python3.10/site-packages/sklearn/utils/deprecation.py:151: FutureWarning: 'force_all_finite' was renamed to 'ensure_all_finite' in 1.6 and will be removed in 1.8.\n",
      "  warnings.warn(\n",
      "\n",
      "/Users/ellenli/RoughPaths/RPvenv3.10/lib/python3.10/site-packages/sklearn/utils/deprecation.py:151: FutureWarning: 'force_all_finite' was renamed to 'ensure_all_finite' in 1.6 and will be removed in 1.8.\n",
      "  warnings.warn(\n",
      "\n"
     ]
    },
    {
     "name": "stdout",
     "output_type": "stream",
     "text": [
      " 53%|█████▎    | 16/30 [02:54<02:30, 10.76s/trial, best loss: 0.8736195407454354]"
     ]
    },
    {
     "name": "stderr",
     "output_type": "stream",
     "text": [
      "/Users/ellenli/RoughPaths/RPvenv3.10/lib/python3.10/site-packages/sklearn/utils/deprecation.py:151: FutureWarning: 'force_all_finite' was renamed to 'ensure_all_finite' in 1.6 and will be removed in 1.8.\n",
      "  warnings.warn(\n",
      "\n",
      "/Users/ellenli/RoughPaths/RPvenv3.10/lib/python3.10/site-packages/sklearn/utils/deprecation.py:151: FutureWarning: 'force_all_finite' was renamed to 'ensure_all_finite' in 1.6 and will be removed in 1.8.\n",
      "  warnings.warn(\n",
      "\n"
     ]
    },
    {
     "name": "stdout",
     "output_type": "stream",
     "text": [
      " 57%|█████▋    | 17/30 [03:07<02:30, 11.57s/trial, best loss: 0.8736195407454354]"
     ]
    },
    {
     "name": "stderr",
     "output_type": "stream",
     "text": [
      "/Users/ellenli/RoughPaths/RPvenv3.10/lib/python3.10/site-packages/sklearn/utils/deprecation.py:151: FutureWarning: 'force_all_finite' was renamed to 'ensure_all_finite' in 1.6 and will be removed in 1.8.\n",
      "  warnings.warn(\n",
      "\n",
      "/Users/ellenli/RoughPaths/RPvenv3.10/lib/python3.10/site-packages/sklearn/utils/deprecation.py:151: FutureWarning: 'force_all_finite' was renamed to 'ensure_all_finite' in 1.6 and will be removed in 1.8.\n",
      "  warnings.warn(\n",
      "\n"
     ]
    },
    {
     "name": "stdout",
     "output_type": "stream",
     "text": [
      " 60%|██████    | 18/30 [03:18<02:17, 11.42s/trial, best loss: 0.8736195407454354]"
     ]
    },
    {
     "name": "stderr",
     "output_type": "stream",
     "text": [
      "/Users/ellenli/RoughPaths/RPvenv3.10/lib/python3.10/site-packages/sklearn/utils/deprecation.py:151: FutureWarning: 'force_all_finite' was renamed to 'ensure_all_finite' in 1.6 and will be removed in 1.8.\n",
      "  warnings.warn(\n",
      "\n",
      "/Users/ellenli/RoughPaths/RPvenv3.10/lib/python3.10/site-packages/sklearn/utils/deprecation.py:151: FutureWarning: 'force_all_finite' was renamed to 'ensure_all_finite' in 1.6 and will be removed in 1.8.\n",
      "  warnings.warn(\n",
      "\n"
     ]
    },
    {
     "name": "stdout",
     "output_type": "stream",
     "text": [
      " 63%|██████▎   | 19/30 [03:28<01:59, 10.84s/trial, best loss: 0.8736195407454354]"
     ]
    },
    {
     "name": "stderr",
     "output_type": "stream",
     "text": [
      "/Users/ellenli/RoughPaths/RPvenv3.10/lib/python3.10/site-packages/sklearn/utils/deprecation.py:151: FutureWarning: 'force_all_finite' was renamed to 'ensure_all_finite' in 1.6 and will be removed in 1.8.\n",
      "  warnings.warn(\n",
      "\n",
      "/Users/ellenli/RoughPaths/RPvenv3.10/lib/python3.10/site-packages/sklearn/utils/deprecation.py:151: FutureWarning: 'force_all_finite' was renamed to 'ensure_all_finite' in 1.6 and will be removed in 1.8.\n",
      "  warnings.warn(\n",
      "\n"
     ]
    },
    {
     "name": "stdout",
     "output_type": "stream",
     "text": [
      " 67%|██████▋   | 20/30 [03:39<01:49, 10.99s/trial, best loss: 0.8736195407454354]"
     ]
    },
    {
     "name": "stderr",
     "output_type": "stream",
     "text": [
      "/Users/ellenli/RoughPaths/RPvenv3.10/lib/python3.10/site-packages/sklearn/utils/deprecation.py:151: FutureWarning: 'force_all_finite' was renamed to 'ensure_all_finite' in 1.6 and will be removed in 1.8.\n",
      "  warnings.warn(\n",
      "\n",
      "/Users/ellenli/RoughPaths/RPvenv3.10/lib/python3.10/site-packages/sklearn/utils/deprecation.py:151: FutureWarning: 'force_all_finite' was renamed to 'ensure_all_finite' in 1.6 and will be removed in 1.8.\n",
      "  warnings.warn(\n",
      "\n"
     ]
    },
    {
     "name": "stdout",
     "output_type": "stream",
     "text": [
      " 70%|███████   | 21/30 [03:52<01:44, 11.61s/trial, best loss: 0.8736195407454354]"
     ]
    },
    {
     "name": "stderr",
     "output_type": "stream",
     "text": [
      "/Users/ellenli/RoughPaths/RPvenv3.10/lib/python3.10/site-packages/sklearn/utils/deprecation.py:151: FutureWarning: 'force_all_finite' was renamed to 'ensure_all_finite' in 1.6 and will be removed in 1.8.\n",
      "  warnings.warn(\n",
      "\n",
      "/Users/ellenli/RoughPaths/RPvenv3.10/lib/python3.10/site-packages/sklearn/utils/deprecation.py:151: FutureWarning: 'force_all_finite' was renamed to 'ensure_all_finite' in 1.6 and will be removed in 1.8.\n",
      "  warnings.warn(\n",
      "\n"
     ]
    },
    {
     "name": "stdout",
     "output_type": "stream",
     "text": [
      " 73%|███████▎  | 22/30 [04:03<01:32, 11.52s/trial, best loss: 0.8728877381313691]"
     ]
    },
    {
     "name": "stderr",
     "output_type": "stream",
     "text": [
      "/Users/ellenli/RoughPaths/RPvenv3.10/lib/python3.10/site-packages/sklearn/utils/deprecation.py:151: FutureWarning: 'force_all_finite' was renamed to 'ensure_all_finite' in 1.6 and will be removed in 1.8.\n",
      "  warnings.warn(\n",
      "\n",
      "/Users/ellenli/RoughPaths/RPvenv3.10/lib/python3.10/site-packages/sklearn/utils/deprecation.py:151: FutureWarning: 'force_all_finite' was renamed to 'ensure_all_finite' in 1.6 and will be removed in 1.8.\n",
      "  warnings.warn(\n",
      "\n"
     ]
    },
    {
     "name": "stdout",
     "output_type": "stream",
     "text": [
      " 77%|███████▋  | 23/30 [04:14<01:18, 11.24s/trial, best loss: 0.8728877381313691]"
     ]
    },
    {
     "name": "stderr",
     "output_type": "stream",
     "text": [
      "/Users/ellenli/RoughPaths/RPvenv3.10/lib/python3.10/site-packages/sklearn/utils/deprecation.py:151: FutureWarning: 'force_all_finite' was renamed to 'ensure_all_finite' in 1.6 and will be removed in 1.8.\n",
      "  warnings.warn(\n",
      "\n",
      "/Users/ellenli/RoughPaths/RPvenv3.10/lib/python3.10/site-packages/sklearn/utils/deprecation.py:151: FutureWarning: 'force_all_finite' was renamed to 'ensure_all_finite' in 1.6 and will be removed in 1.8.\n",
      "  warnings.warn(\n",
      "\n"
     ]
    },
    {
     "name": "stdout",
     "output_type": "stream",
     "text": [
      " 80%|████████  | 24/30 [04:26<01:09, 11.54s/trial, best loss: 0.871254991669463] "
     ]
    },
    {
     "name": "stderr",
     "output_type": "stream",
     "text": [
      "/Users/ellenli/RoughPaths/RPvenv3.10/lib/python3.10/site-packages/sklearn/utils/deprecation.py:151: FutureWarning: 'force_all_finite' was renamed to 'ensure_all_finite' in 1.6 and will be removed in 1.8.\n",
      "  warnings.warn(\n",
      "\n",
      "/Users/ellenli/RoughPaths/RPvenv3.10/lib/python3.10/site-packages/sklearn/utils/deprecation.py:151: FutureWarning: 'force_all_finite' was renamed to 'ensure_all_finite' in 1.6 and will be removed in 1.8.\n",
      "  warnings.warn(\n",
      "\n"
     ]
    },
    {
     "name": "stdout",
     "output_type": "stream",
     "text": [
      " 83%|████████▎ | 25/30 [04:37<00:57, 11.41s/trial, best loss: 0.871254991669463]"
     ]
    },
    {
     "name": "stderr",
     "output_type": "stream",
     "text": [
      "/Users/ellenli/RoughPaths/RPvenv3.10/lib/python3.10/site-packages/sklearn/utils/deprecation.py:151: FutureWarning: 'force_all_finite' was renamed to 'ensure_all_finite' in 1.6 and will be removed in 1.8.\n",
      "  warnings.warn(\n",
      "\n",
      "/Users/ellenli/RoughPaths/RPvenv3.10/lib/python3.10/site-packages/sklearn/utils/deprecation.py:151: FutureWarning: 'force_all_finite' was renamed to 'ensure_all_finite' in 1.6 and will be removed in 1.8.\n",
      "  warnings.warn(\n",
      "\n"
     ]
    },
    {
     "name": "stdout",
     "output_type": "stream",
     "text": [
      " 87%|████████▋ | 26/30 [04:48<00:44, 11.11s/trial, best loss: 0.871254991669463]"
     ]
    },
    {
     "name": "stderr",
     "output_type": "stream",
     "text": [
      "/Users/ellenli/RoughPaths/RPvenv3.10/lib/python3.10/site-packages/sklearn/utils/deprecation.py:151: FutureWarning: 'force_all_finite' was renamed to 'ensure_all_finite' in 1.6 and will be removed in 1.8.\n",
      "  warnings.warn(\n",
      "\n",
      "/Users/ellenli/RoughPaths/RPvenv3.10/lib/python3.10/site-packages/sklearn/utils/deprecation.py:151: FutureWarning: 'force_all_finite' was renamed to 'ensure_all_finite' in 1.6 and will be removed in 1.8.\n",
      "  warnings.warn(\n",
      "\n"
     ]
    },
    {
     "name": "stdout",
     "output_type": "stream",
     "text": [
      " 90%|█████████ | 27/30 [04:58<00:33, 11.00s/trial, best loss: 0.871254991669463]"
     ]
    },
    {
     "name": "stderr",
     "output_type": "stream",
     "text": [
      "/Users/ellenli/RoughPaths/RPvenv3.10/lib/python3.10/site-packages/sklearn/utils/deprecation.py:151: FutureWarning: 'force_all_finite' was renamed to 'ensure_all_finite' in 1.6 and will be removed in 1.8.\n",
      "  warnings.warn(\n",
      "\n",
      "/Users/ellenli/RoughPaths/RPvenv3.10/lib/python3.10/site-packages/sklearn/utils/deprecation.py:151: FutureWarning: 'force_all_finite' was renamed to 'ensure_all_finite' in 1.6 and will be removed in 1.8.\n",
      "  warnings.warn(\n",
      "\n"
     ]
    },
    {
     "name": "stdout",
     "output_type": "stream",
     "text": [
      " 93%|█████████▎| 28/30 [05:12<00:23, 11.79s/trial, best loss: 0.871254991669463]"
     ]
    },
    {
     "name": "stderr",
     "output_type": "stream",
     "text": [
      "/Users/ellenli/RoughPaths/RPvenv3.10/lib/python3.10/site-packages/sklearn/utils/deprecation.py:151: FutureWarning: 'force_all_finite' was renamed to 'ensure_all_finite' in 1.6 and will be removed in 1.8.\n",
      "  warnings.warn(\n",
      "\n",
      "/Users/ellenli/RoughPaths/RPvenv3.10/lib/python3.10/site-packages/sklearn/utils/deprecation.py:151: FutureWarning: 'force_all_finite' was renamed to 'ensure_all_finite' in 1.6 and will be removed in 1.8.\n",
      "  warnings.warn(\n",
      "\n"
     ]
    },
    {
     "name": "stdout",
     "output_type": "stream",
     "text": [
      " 97%|█████████▋| 29/30 [05:23<00:11, 11.59s/trial, best loss: 0.871254991669463]"
     ]
    },
    {
     "name": "stderr",
     "output_type": "stream",
     "text": [
      "/Users/ellenli/RoughPaths/RPvenv3.10/lib/python3.10/site-packages/sklearn/utils/deprecation.py:151: FutureWarning: 'force_all_finite' was renamed to 'ensure_all_finite' in 1.6 and will be removed in 1.8.\n",
      "  warnings.warn(\n",
      "\n",
      "/Users/ellenli/RoughPaths/RPvenv3.10/lib/python3.10/site-packages/sklearn/utils/deprecation.py:151: FutureWarning: 'force_all_finite' was renamed to 'ensure_all_finite' in 1.6 and will be removed in 1.8.\n",
      "  warnings.warn(\n",
      "\n"
     ]
    },
    {
     "name": "stdout",
     "output_type": "stream",
     "text": [
      "100%|██████████| 30/30 [05:35<00:00, 11.17s/trial, best loss: 0.871254991669463]\n",
      "Best hyperparameters: {'colsample_bytree': np.float64(0.426292227288799), 'learning_rate': np.float64(0.05552239722773201), 'max_bin': np.float64(55.0), 'max_depth': np.float64(7.0), 'min_data_in_leaf': np.int64(0), 'min_split_gain': np.float64(0.8128948463540139), 'num_leaves': np.int64(4), 'reg_alpha': np.float64(0.5297392807121759), 'reg_lambda': np.float64(0.8759738915452808), 'subsample': np.float64(0.7903507508906192)}\n",
      "Trials: <hyperopt.base.Trials object at 0x117c28730>\n",
      "R2: 0.12874500833053704\n"
     ]
    },
    {
     "name": "stderr",
     "output_type": "stream",
     "text": [
      "/Users/ellenli/RoughPaths/RPvenv3.10/lib/python3.10/site-packages/sklearn/utils/deprecation.py:151: FutureWarning: 'force_all_finite' was renamed to 'ensure_all_finite' in 1.6 and will be removed in 1.8.\n",
      "  warnings.warn(\n",
      "/Users/ellenli/RoughPaths/RPvenv3.10/lib/python3.10/site-packages/sklearn/utils/deprecation.py:151: FutureWarning: 'force_all_finite' was renamed to 'ensure_all_finite' in 1.6 and will be removed in 1.8.\n",
      "  warnings.warn(\n",
      "/Users/ellenli/RoughPaths/RPvenv3.10/lib/python3.10/site-packages/sklearn/utils/deprecation.py:151: FutureWarning: 'force_all_finite' was renamed to 'ensure_all_finite' in 1.6 and will be removed in 1.8.\n",
      "  warnings.warn(\n"
     ]
    },
    {
     "name": "stdout",
     "output_type": "stream",
     "text": [
      "0.1927, 0.1287\n",
      "Training model for lag = 60\n",
      "  0%|          | 0/30 [00:00<?, ?trial/s, best loss=?]"
     ]
    },
    {
     "name": "stderr",
     "output_type": "stream",
     "text": [
      "/Users/ellenli/RoughPaths/RPvenv3.10/lib/python3.10/site-packages/sklearn/utils/deprecation.py:151: FutureWarning: 'force_all_finite' was renamed to 'ensure_all_finite' in 1.6 and will be removed in 1.8.\n",
      "  warnings.warn(\n",
      "\n",
      "/Users/ellenli/RoughPaths/RPvenv3.10/lib/python3.10/site-packages/sklearn/utils/deprecation.py:151: FutureWarning: 'force_all_finite' was renamed to 'ensure_all_finite' in 1.6 and will be removed in 1.8.\n",
      "  warnings.warn(\n",
      "\n"
     ]
    },
    {
     "name": "stdout",
     "output_type": "stream",
     "text": [
      "  3%|▎         | 1/30 [00:10<05:15, 10.89s/trial, best loss: 0.9308315905059557]"
     ]
    },
    {
     "name": "stderr",
     "output_type": "stream",
     "text": [
      "/Users/ellenli/RoughPaths/RPvenv3.10/lib/python3.10/site-packages/sklearn/utils/deprecation.py:151: FutureWarning: 'force_all_finite' was renamed to 'ensure_all_finite' in 1.6 and will be removed in 1.8.\n",
      "  warnings.warn(\n",
      "\n",
      "/Users/ellenli/RoughPaths/RPvenv3.10/lib/python3.10/site-packages/sklearn/utils/deprecation.py:151: FutureWarning: 'force_all_finite' was renamed to 'ensure_all_finite' in 1.6 and will be removed in 1.8.\n",
      "  warnings.warn(\n",
      "\n"
     ]
    },
    {
     "name": "stdout",
     "output_type": "stream",
     "text": [
      "  7%|▋         | 2/30 [00:21<05:00, 10.74s/trial, best loss: 0.9308315905059557]"
     ]
    },
    {
     "name": "stderr",
     "output_type": "stream",
     "text": [
      "/Users/ellenli/RoughPaths/RPvenv3.10/lib/python3.10/site-packages/sklearn/utils/deprecation.py:151: FutureWarning: 'force_all_finite' was renamed to 'ensure_all_finite' in 1.6 and will be removed in 1.8.\n",
      "  warnings.warn(\n",
      "\n",
      "/Users/ellenli/RoughPaths/RPvenv3.10/lib/python3.10/site-packages/sklearn/utils/deprecation.py:151: FutureWarning: 'force_all_finite' was renamed to 'ensure_all_finite' in 1.6 and will be removed in 1.8.\n",
      "  warnings.warn(\n",
      "\n"
     ]
    },
    {
     "name": "stdout",
     "output_type": "stream",
     "text": [
      " 10%|█         | 3/30 [00:31<04:42, 10.48s/trial, best loss: 0.9308315905059557]"
     ]
    },
    {
     "name": "stderr",
     "output_type": "stream",
     "text": [
      "/Users/ellenli/RoughPaths/RPvenv3.10/lib/python3.10/site-packages/sklearn/utils/deprecation.py:151: FutureWarning: 'force_all_finite' was renamed to 'ensure_all_finite' in 1.6 and will be removed in 1.8.\n",
      "  warnings.warn(\n",
      "\n",
      "/Users/ellenli/RoughPaths/RPvenv3.10/lib/python3.10/site-packages/sklearn/utils/deprecation.py:151: FutureWarning: 'force_all_finite' was renamed to 'ensure_all_finite' in 1.6 and will be removed in 1.8.\n",
      "  warnings.warn(\n",
      "\n"
     ]
    },
    {
     "name": "stdout",
     "output_type": "stream",
     "text": [
      " 13%|█▎        | 4/30 [00:42<04:34, 10.54s/trial, best loss: 0.9308315905059557]"
     ]
    },
    {
     "name": "stderr",
     "output_type": "stream",
     "text": [
      "/Users/ellenli/RoughPaths/RPvenv3.10/lib/python3.10/site-packages/sklearn/utils/deprecation.py:151: FutureWarning: 'force_all_finite' was renamed to 'ensure_all_finite' in 1.6 and will be removed in 1.8.\n",
      "  warnings.warn(\n",
      "\n",
      "/Users/ellenli/RoughPaths/RPvenv3.10/lib/python3.10/site-packages/sklearn/utils/deprecation.py:151: FutureWarning: 'force_all_finite' was renamed to 'ensure_all_finite' in 1.6 and will be removed in 1.8.\n",
      "  warnings.warn(\n",
      "\n"
     ]
    },
    {
     "name": "stdout",
     "output_type": "stream",
     "text": [
      " 17%|█▋        | 5/30 [00:56<04:55, 11.82s/trial, best loss: 0.9079337099775578]"
     ]
    },
    {
     "name": "stderr",
     "output_type": "stream",
     "text": [
      "/Users/ellenli/RoughPaths/RPvenv3.10/lib/python3.10/site-packages/sklearn/utils/deprecation.py:151: FutureWarning: 'force_all_finite' was renamed to 'ensure_all_finite' in 1.6 and will be removed in 1.8.\n",
      "  warnings.warn(\n",
      "\n",
      "/Users/ellenli/RoughPaths/RPvenv3.10/lib/python3.10/site-packages/sklearn/utils/deprecation.py:151: FutureWarning: 'force_all_finite' was renamed to 'ensure_all_finite' in 1.6 and will be removed in 1.8.\n",
      "  warnings.warn(\n",
      "\n"
     ]
    },
    {
     "name": "stdout",
     "output_type": "stream",
     "text": [
      " 20%|██        | 6/30 [01:04<04:11, 10.49s/trial, best loss: 0.9079337099775578]"
     ]
    },
    {
     "name": "stderr",
     "output_type": "stream",
     "text": [
      "/Users/ellenli/RoughPaths/RPvenv3.10/lib/python3.10/site-packages/sklearn/utils/deprecation.py:151: FutureWarning: 'force_all_finite' was renamed to 'ensure_all_finite' in 1.6 and will be removed in 1.8.\n",
      "  warnings.warn(\n",
      "\n",
      "/Users/ellenli/RoughPaths/RPvenv3.10/lib/python3.10/site-packages/sklearn/utils/deprecation.py:151: FutureWarning: 'force_all_finite' was renamed to 'ensure_all_finite' in 1.6 and will be removed in 1.8.\n",
      "  warnings.warn(\n",
      "\n"
     ]
    },
    {
     "name": "stdout",
     "output_type": "stream",
     "text": [
      " 23%|██▎       | 7/30 [01:16<04:11, 10.94s/trial, best loss: 0.9079337099775578]"
     ]
    },
    {
     "name": "stderr",
     "output_type": "stream",
     "text": [
      "/Users/ellenli/RoughPaths/RPvenv3.10/lib/python3.10/site-packages/sklearn/utils/deprecation.py:151: FutureWarning: 'force_all_finite' was renamed to 'ensure_all_finite' in 1.6 and will be removed in 1.8.\n",
      "  warnings.warn(\n",
      "\n",
      "/Users/ellenli/RoughPaths/RPvenv3.10/lib/python3.10/site-packages/sklearn/utils/deprecation.py:151: FutureWarning: 'force_all_finite' was renamed to 'ensure_all_finite' in 1.6 and will be removed in 1.8.\n",
      "  warnings.warn(\n",
      "\n"
     ]
    },
    {
     "name": "stdout",
     "output_type": "stream",
     "text": [
      " 27%|██▋       | 8/30 [01:26<03:59, 10.87s/trial, best loss: 0.9079337099775578]"
     ]
    },
    {
     "name": "stderr",
     "output_type": "stream",
     "text": [
      "/Users/ellenli/RoughPaths/RPvenv3.10/lib/python3.10/site-packages/sklearn/utils/deprecation.py:151: FutureWarning: 'force_all_finite' was renamed to 'ensure_all_finite' in 1.6 and will be removed in 1.8.\n",
      "  warnings.warn(\n",
      "\n",
      "/Users/ellenli/RoughPaths/RPvenv3.10/lib/python3.10/site-packages/sklearn/utils/deprecation.py:151: FutureWarning: 'force_all_finite' was renamed to 'ensure_all_finite' in 1.6 and will be removed in 1.8.\n",
      "  warnings.warn(\n",
      "\n"
     ]
    },
    {
     "name": "stdout",
     "output_type": "stream",
     "text": [
      " 30%|███       | 9/30 [01:38<03:52, 11.06s/trial, best loss: 0.9079337099775578]"
     ]
    },
    {
     "name": "stderr",
     "output_type": "stream",
     "text": [
      "/Users/ellenli/RoughPaths/RPvenv3.10/lib/python3.10/site-packages/sklearn/utils/deprecation.py:151: FutureWarning: 'force_all_finite' was renamed to 'ensure_all_finite' in 1.6 and will be removed in 1.8.\n",
      "  warnings.warn(\n",
      "\n",
      "/Users/ellenli/RoughPaths/RPvenv3.10/lib/python3.10/site-packages/sklearn/utils/deprecation.py:151: FutureWarning: 'force_all_finite' was renamed to 'ensure_all_finite' in 1.6 and will be removed in 1.8.\n",
      "  warnings.warn(\n",
      "\n"
     ]
    },
    {
     "name": "stdout",
     "output_type": "stream",
     "text": [
      " 33%|███▎      | 10/30 [01:54<04:13, 12.65s/trial, best loss: 0.9079337099775578]"
     ]
    },
    {
     "name": "stderr",
     "output_type": "stream",
     "text": [
      "/Users/ellenli/RoughPaths/RPvenv3.10/lib/python3.10/site-packages/sklearn/utils/deprecation.py:151: FutureWarning: 'force_all_finite' was renamed to 'ensure_all_finite' in 1.6 and will be removed in 1.8.\n",
      "  warnings.warn(\n",
      "\n",
      "/Users/ellenli/RoughPaths/RPvenv3.10/lib/python3.10/site-packages/sklearn/utils/deprecation.py:151: FutureWarning: 'force_all_finite' was renamed to 'ensure_all_finite' in 1.6 and will be removed in 1.8.\n",
      "  warnings.warn(\n",
      "\n"
     ]
    },
    {
     "name": "stdout",
     "output_type": "stream",
     "text": [
      " 37%|███▋      | 11/30 [02:06<03:56, 12.47s/trial, best loss: 0.9079337099775578]"
     ]
    },
    {
     "name": "stderr",
     "output_type": "stream",
     "text": [
      "/Users/ellenli/RoughPaths/RPvenv3.10/lib/python3.10/site-packages/sklearn/utils/deprecation.py:151: FutureWarning: 'force_all_finite' was renamed to 'ensure_all_finite' in 1.6 and will be removed in 1.8.\n",
      "  warnings.warn(\n",
      "\n",
      "/Users/ellenli/RoughPaths/RPvenv3.10/lib/python3.10/site-packages/sklearn/utils/deprecation.py:151: FutureWarning: 'force_all_finite' was renamed to 'ensure_all_finite' in 1.6 and will be removed in 1.8.\n",
      "  warnings.warn(\n",
      "\n"
     ]
    },
    {
     "name": "stdout",
     "output_type": "stream",
     "text": [
      " 40%|████      | 12/30 [02:17<03:36, 12.01s/trial, best loss: 0.9079337099775578]"
     ]
    },
    {
     "name": "stderr",
     "output_type": "stream",
     "text": [
      "/Users/ellenli/RoughPaths/RPvenv3.10/lib/python3.10/site-packages/sklearn/utils/deprecation.py:151: FutureWarning: 'force_all_finite' was renamed to 'ensure_all_finite' in 1.6 and will be removed in 1.8.\n",
      "  warnings.warn(\n",
      "\n",
      "/Users/ellenli/RoughPaths/RPvenv3.10/lib/python3.10/site-packages/sklearn/utils/deprecation.py:151: FutureWarning: 'force_all_finite' was renamed to 'ensure_all_finite' in 1.6 and will be removed in 1.8.\n",
      "  warnings.warn(\n",
      "\n"
     ]
    },
    {
     "name": "stdout",
     "output_type": "stream",
     "text": [
      " 43%|████▎     | 13/30 [02:29<03:24, 12.05s/trial, best loss: 0.9079337099775578]"
     ]
    },
    {
     "name": "stderr",
     "output_type": "stream",
     "text": [
      "/Users/ellenli/RoughPaths/RPvenv3.10/lib/python3.10/site-packages/sklearn/utils/deprecation.py:151: FutureWarning: 'force_all_finite' was renamed to 'ensure_all_finite' in 1.6 and will be removed in 1.8.\n",
      "  warnings.warn(\n",
      "\n",
      "/Users/ellenli/RoughPaths/RPvenv3.10/lib/python3.10/site-packages/sklearn/utils/deprecation.py:151: FutureWarning: 'force_all_finite' was renamed to 'ensure_all_finite' in 1.6 and will be removed in 1.8.\n",
      "  warnings.warn(\n",
      "\n"
     ]
    },
    {
     "name": "stdout",
     "output_type": "stream",
     "text": [
      " 47%|████▋     | 14/30 [02:40<03:07, 11.73s/trial, best loss: 0.9061568642953765]"
     ]
    },
    {
     "name": "stderr",
     "output_type": "stream",
     "text": [
      "/Users/ellenli/RoughPaths/RPvenv3.10/lib/python3.10/site-packages/sklearn/utils/deprecation.py:151: FutureWarning: 'force_all_finite' was renamed to 'ensure_all_finite' in 1.6 and will be removed in 1.8.\n",
      "  warnings.warn(\n",
      "\n",
      "/Users/ellenli/RoughPaths/RPvenv3.10/lib/python3.10/site-packages/sklearn/utils/deprecation.py:151: FutureWarning: 'force_all_finite' was renamed to 'ensure_all_finite' in 1.6 and will be removed in 1.8.\n",
      "  warnings.warn(\n",
      "\n"
     ]
    },
    {
     "name": "stdout",
     "output_type": "stream",
     "text": [
      " 50%|█████     | 15/30 [02:48<02:37, 10.53s/trial, best loss: 0.9061568642953765]"
     ]
    },
    {
     "name": "stderr",
     "output_type": "stream",
     "text": [
      "/Users/ellenli/RoughPaths/RPvenv3.10/lib/python3.10/site-packages/sklearn/utils/deprecation.py:151: FutureWarning: 'force_all_finite' was renamed to 'ensure_all_finite' in 1.6 and will be removed in 1.8.\n",
      "  warnings.warn(\n",
      "\n",
      "/Users/ellenli/RoughPaths/RPvenv3.10/lib/python3.10/site-packages/sklearn/utils/deprecation.py:151: FutureWarning: 'force_all_finite' was renamed to 'ensure_all_finite' in 1.6 and will be removed in 1.8.\n",
      "  warnings.warn(\n",
      "\n"
     ]
    },
    {
     "name": "stdout",
     "output_type": "stream",
     "text": [
      " 53%|█████▎    | 16/30 [02:57<02:20, 10.06s/trial, best loss: 0.9061568642953765]"
     ]
    },
    {
     "name": "stderr",
     "output_type": "stream",
     "text": [
      "/Users/ellenli/RoughPaths/RPvenv3.10/lib/python3.10/site-packages/sklearn/utils/deprecation.py:151: FutureWarning: 'force_all_finite' was renamed to 'ensure_all_finite' in 1.6 and will be removed in 1.8.\n",
      "  warnings.warn(\n",
      "\n",
      "/Users/ellenli/RoughPaths/RPvenv3.10/lib/python3.10/site-packages/sklearn/utils/deprecation.py:151: FutureWarning: 'force_all_finite' was renamed to 'ensure_all_finite' in 1.6 and will be removed in 1.8.\n",
      "  warnings.warn(\n",
      "\n"
     ]
    },
    {
     "name": "stdout",
     "output_type": "stream",
     "text": [
      " 57%|█████▋    | 17/30 [03:10<02:21, 10.92s/trial, best loss: 0.9061568642953765]"
     ]
    },
    {
     "name": "stderr",
     "output_type": "stream",
     "text": [
      "/Users/ellenli/RoughPaths/RPvenv3.10/lib/python3.10/site-packages/sklearn/utils/deprecation.py:151: FutureWarning: 'force_all_finite' was renamed to 'ensure_all_finite' in 1.6 and will be removed in 1.8.\n",
      "  warnings.warn(\n",
      "\n",
      "/Users/ellenli/RoughPaths/RPvenv3.10/lib/python3.10/site-packages/sklearn/utils/deprecation.py:151: FutureWarning: 'force_all_finite' was renamed to 'ensure_all_finite' in 1.6 and will be removed in 1.8.\n",
      "  warnings.warn(\n",
      "\n"
     ]
    },
    {
     "name": "stdout",
     "output_type": "stream",
     "text": [
      " 60%|██████    | 18/30 [03:21<02:12, 11.04s/trial, best loss: 0.9061568642953765]"
     ]
    },
    {
     "name": "stderr",
     "output_type": "stream",
     "text": [
      "/Users/ellenli/RoughPaths/RPvenv3.10/lib/python3.10/site-packages/sklearn/utils/deprecation.py:151: FutureWarning: 'force_all_finite' was renamed to 'ensure_all_finite' in 1.6 and will be removed in 1.8.\n",
      "  warnings.warn(\n",
      "\n",
      "/Users/ellenli/RoughPaths/RPvenv3.10/lib/python3.10/site-packages/sklearn/utils/deprecation.py:151: FutureWarning: 'force_all_finite' was renamed to 'ensure_all_finite' in 1.6 and will be removed in 1.8.\n",
      "  warnings.warn(\n",
      "\n"
     ]
    },
    {
     "name": "stdout",
     "output_type": "stream",
     "text": [
      " 63%|██████▎   | 19/30 [03:31<01:56, 10.58s/trial, best loss: 0.9061568642953765]"
     ]
    },
    {
     "name": "stderr",
     "output_type": "stream",
     "text": [
      "/Users/ellenli/RoughPaths/RPvenv3.10/lib/python3.10/site-packages/sklearn/utils/deprecation.py:151: FutureWarning: 'force_all_finite' was renamed to 'ensure_all_finite' in 1.6 and will be removed in 1.8.\n",
      "  warnings.warn(\n",
      "\n",
      "/Users/ellenli/RoughPaths/RPvenv3.10/lib/python3.10/site-packages/sklearn/utils/deprecation.py:151: FutureWarning: 'force_all_finite' was renamed to 'ensure_all_finite' in 1.6 and will be removed in 1.8.\n",
      "  warnings.warn(\n",
      "\n"
     ]
    },
    {
     "name": "stdout",
     "output_type": "stream",
     "text": [
      " 67%|██████▋   | 20/30 [03:41<01:45, 10.55s/trial, best loss: 0.9061568642953765]"
     ]
    },
    {
     "name": "stderr",
     "output_type": "stream",
     "text": [
      "/Users/ellenli/RoughPaths/RPvenv3.10/lib/python3.10/site-packages/sklearn/utils/deprecation.py:151: FutureWarning: 'force_all_finite' was renamed to 'ensure_all_finite' in 1.6 and will be removed in 1.8.\n",
      "  warnings.warn(\n",
      "\n",
      "/Users/ellenli/RoughPaths/RPvenv3.10/lib/python3.10/site-packages/sklearn/utils/deprecation.py:151: FutureWarning: 'force_all_finite' was renamed to 'ensure_all_finite' in 1.6 and will be removed in 1.8.\n",
      "  warnings.warn(\n",
      "\n"
     ]
    },
    {
     "name": "stdout",
     "output_type": "stream",
     "text": [
      " 70%|███████   | 21/30 [03:54<01:41, 11.31s/trial, best loss: 0.9061568642953765]"
     ]
    },
    {
     "name": "stderr",
     "output_type": "stream",
     "text": [
      "/Users/ellenli/RoughPaths/RPvenv3.10/lib/python3.10/site-packages/sklearn/utils/deprecation.py:151: FutureWarning: 'force_all_finite' was renamed to 'ensure_all_finite' in 1.6 and will be removed in 1.8.\n",
      "  warnings.warn(\n",
      "\n",
      "/Users/ellenli/RoughPaths/RPvenv3.10/lib/python3.10/site-packages/sklearn/utils/deprecation.py:151: FutureWarning: 'force_all_finite' was renamed to 'ensure_all_finite' in 1.6 and will be removed in 1.8.\n",
      "  warnings.warn(\n",
      "\n"
     ]
    },
    {
     "name": "stdout",
     "output_type": "stream",
     "text": [
      " 73%|███████▎  | 22/30 [04:06<01:31, 11.43s/trial, best loss: 0.9034819776611325]"
     ]
    },
    {
     "name": "stderr",
     "output_type": "stream",
     "text": [
      "/Users/ellenli/RoughPaths/RPvenv3.10/lib/python3.10/site-packages/sklearn/utils/deprecation.py:151: FutureWarning: 'force_all_finite' was renamed to 'ensure_all_finite' in 1.6 and will be removed in 1.8.\n",
      "  warnings.warn(\n",
      "\n",
      "/Users/ellenli/RoughPaths/RPvenv3.10/lib/python3.10/site-packages/sklearn/utils/deprecation.py:151: FutureWarning: 'force_all_finite' was renamed to 'ensure_all_finite' in 1.6 and will be removed in 1.8.\n",
      "  warnings.warn(\n",
      "\n"
     ]
    },
    {
     "name": "stdout",
     "output_type": "stream",
     "text": [
      " 77%|███████▋  | 23/30 [04:18<01:22, 11.71s/trial, best loss: 0.9034819776611325]"
     ]
    },
    {
     "name": "stderr",
     "output_type": "stream",
     "text": [
      "/Users/ellenli/RoughPaths/RPvenv3.10/lib/python3.10/site-packages/sklearn/utils/deprecation.py:151: FutureWarning: 'force_all_finite' was renamed to 'ensure_all_finite' in 1.6 and will be removed in 1.8.\n",
      "  warnings.warn(\n",
      "\n",
      "/Users/ellenli/RoughPaths/RPvenv3.10/lib/python3.10/site-packages/sklearn/utils/deprecation.py:151: FutureWarning: 'force_all_finite' was renamed to 'ensure_all_finite' in 1.6 and will be removed in 1.8.\n",
      "  warnings.warn(\n",
      "\n"
     ]
    },
    {
     "name": "stdout",
     "output_type": "stream",
     "text": [
      " 80%|████████  | 24/30 [04:31<01:11, 11.98s/trial, best loss: 0.9029457811724271]"
     ]
    },
    {
     "name": "stderr",
     "output_type": "stream",
     "text": [
      "/Users/ellenli/RoughPaths/RPvenv3.10/lib/python3.10/site-packages/sklearn/utils/deprecation.py:151: FutureWarning: 'force_all_finite' was renamed to 'ensure_all_finite' in 1.6 and will be removed in 1.8.\n",
      "  warnings.warn(\n",
      "\n",
      "/Users/ellenli/RoughPaths/RPvenv3.10/lib/python3.10/site-packages/sklearn/utils/deprecation.py:151: FutureWarning: 'force_all_finite' was renamed to 'ensure_all_finite' in 1.6 and will be removed in 1.8.\n",
      "  warnings.warn(\n",
      "\n"
     ]
    },
    {
     "name": "stdout",
     "output_type": "stream",
     "text": [
      " 83%|████████▎ | 25/30 [04:42<00:57, 11.56s/trial, best loss: 0.9029457811724271]"
     ]
    },
    {
     "name": "stderr",
     "output_type": "stream",
     "text": [
      "/Users/ellenli/RoughPaths/RPvenv3.10/lib/python3.10/site-packages/sklearn/utils/deprecation.py:151: FutureWarning: 'force_all_finite' was renamed to 'ensure_all_finite' in 1.6 and will be removed in 1.8.\n",
      "  warnings.warn(\n",
      "\n",
      "/Users/ellenli/RoughPaths/RPvenv3.10/lib/python3.10/site-packages/sklearn/utils/deprecation.py:151: FutureWarning: 'force_all_finite' was renamed to 'ensure_all_finite' in 1.6 and will be removed in 1.8.\n",
      "  warnings.warn(\n",
      "\n"
     ]
    },
    {
     "name": "stdout",
     "output_type": "stream",
     "text": [
      " 87%|████████▋ | 26/30 [04:51<00:44, 11.06s/trial, best loss: 0.9029457811724271]"
     ]
    },
    {
     "name": "stderr",
     "output_type": "stream",
     "text": [
      "/Users/ellenli/RoughPaths/RPvenv3.10/lib/python3.10/site-packages/sklearn/utils/deprecation.py:151: FutureWarning: 'force_all_finite' was renamed to 'ensure_all_finite' in 1.6 and will be removed in 1.8.\n",
      "  warnings.warn(\n",
      "\n",
      "/Users/ellenli/RoughPaths/RPvenv3.10/lib/python3.10/site-packages/sklearn/utils/deprecation.py:151: FutureWarning: 'force_all_finite' was renamed to 'ensure_all_finite' in 1.6 and will be removed in 1.8.\n",
      "  warnings.warn(\n",
      "\n"
     ]
    },
    {
     "name": "stdout",
     "output_type": "stream",
     "text": [
      " 90%|█████████ | 27/30 [05:02<00:33, 11.03s/trial, best loss: 0.9029457811724271]"
     ]
    },
    {
     "name": "stderr",
     "output_type": "stream",
     "text": [
      "/Users/ellenli/RoughPaths/RPvenv3.10/lib/python3.10/site-packages/sklearn/utils/deprecation.py:151: FutureWarning: 'force_all_finite' was renamed to 'ensure_all_finite' in 1.6 and will be removed in 1.8.\n",
      "  warnings.warn(\n",
      "\n",
      "/Users/ellenli/RoughPaths/RPvenv3.10/lib/python3.10/site-packages/sklearn/utils/deprecation.py:151: FutureWarning: 'force_all_finite' was renamed to 'ensure_all_finite' in 1.6 and will be removed in 1.8.\n",
      "  warnings.warn(\n",
      "\n"
     ]
    },
    {
     "name": "stdout",
     "output_type": "stream",
     "text": [
      " 93%|█████████▎| 28/30 [05:20<00:26, 13.03s/trial, best loss: 0.9029457811724271]"
     ]
    },
    {
     "name": "stderr",
     "output_type": "stream",
     "text": [
      "/Users/ellenli/RoughPaths/RPvenv3.10/lib/python3.10/site-packages/sklearn/utils/deprecation.py:151: FutureWarning: 'force_all_finite' was renamed to 'ensure_all_finite' in 1.6 and will be removed in 1.8.\n",
      "  warnings.warn(\n",
      "\n",
      "/Users/ellenli/RoughPaths/RPvenv3.10/lib/python3.10/site-packages/sklearn/utils/deprecation.py:151: FutureWarning: 'force_all_finite' was renamed to 'ensure_all_finite' in 1.6 and will be removed in 1.8.\n",
      "  warnings.warn(\n",
      "\n"
     ]
    },
    {
     "name": "stdout",
     "output_type": "stream",
     "text": [
      " 97%|█████████▋| 29/30 [05:32<00:12, 12.74s/trial, best loss: 0.9029457811724271]"
     ]
    },
    {
     "name": "stderr",
     "output_type": "stream",
     "text": [
      "/Users/ellenli/RoughPaths/RPvenv3.10/lib/python3.10/site-packages/sklearn/utils/deprecation.py:151: FutureWarning: 'force_all_finite' was renamed to 'ensure_all_finite' in 1.6 and will be removed in 1.8.\n",
      "  warnings.warn(\n",
      "\n",
      "/Users/ellenli/RoughPaths/RPvenv3.10/lib/python3.10/site-packages/sklearn/utils/deprecation.py:151: FutureWarning: 'force_all_finite' was renamed to 'ensure_all_finite' in 1.6 and will be removed in 1.8.\n",
      "  warnings.warn(\n",
      "\n"
     ]
    },
    {
     "name": "stdout",
     "output_type": "stream",
     "text": [
      "100%|██████████| 30/30 [05:44<00:00, 11.48s/trial, best loss: 0.9029457811724271]\n",
      "Best hyperparameters: {'colsample_bytree': np.float64(0.426292227288799), 'learning_rate': np.float64(0.05552239722773201), 'max_bin': np.float64(55.0), 'max_depth': np.float64(7.0), 'min_data_in_leaf': np.int64(0), 'min_split_gain': np.float64(0.8128948463540139), 'num_leaves': np.int64(4), 'reg_alpha': np.float64(0.5297392807121759), 'reg_lambda': np.float64(0.8759738915452808), 'subsample': np.float64(0.7903507508906192)}\n",
      "Trials: <hyperopt.base.Trials object at 0x117cbc250>\n",
      "R2: 0.09705421882757292\n"
     ]
    },
    {
     "name": "stderr",
     "output_type": "stream",
     "text": [
      "/Users/ellenli/RoughPaths/RPvenv3.10/lib/python3.10/site-packages/sklearn/utils/deprecation.py:151: FutureWarning: 'force_all_finite' was renamed to 'ensure_all_finite' in 1.6 and will be removed in 1.8.\n",
      "  warnings.warn(\n",
      "/Users/ellenli/RoughPaths/RPvenv3.10/lib/python3.10/site-packages/sklearn/utils/deprecation.py:151: FutureWarning: 'force_all_finite' was renamed to 'ensure_all_finite' in 1.6 and will be removed in 1.8.\n",
      "  warnings.warn(\n",
      "/Users/ellenli/RoughPaths/RPvenv3.10/lib/python3.10/site-packages/sklearn/utils/deprecation.py:151: FutureWarning: 'force_all_finite' was renamed to 'ensure_all_finite' in 1.6 and will be removed in 1.8.\n",
      "  warnings.warn(\n"
     ]
    },
    {
     "name": "stdout",
     "output_type": "stream",
     "text": [
      "0.1671, 0.0971\n",
      "Training model for lag = 65\n",
      "  0%|          | 0/30 [00:00<?, ?trial/s, best loss=?]"
     ]
    },
    {
     "name": "stderr",
     "output_type": "stream",
     "text": [
      "/Users/ellenli/RoughPaths/RPvenv3.10/lib/python3.10/site-packages/sklearn/utils/deprecation.py:151: FutureWarning: 'force_all_finite' was renamed to 'ensure_all_finite' in 1.6 and will be removed in 1.8.\n",
      "  warnings.warn(\n",
      "\n",
      "/Users/ellenli/RoughPaths/RPvenv3.10/lib/python3.10/site-packages/sklearn/utils/deprecation.py:151: FutureWarning: 'force_all_finite' was renamed to 'ensure_all_finite' in 1.6 and will be removed in 1.8.\n",
      "  warnings.warn(\n",
      "\n"
     ]
    },
    {
     "name": "stdout",
     "output_type": "stream",
     "text": [
      "  3%|▎         | 1/30 [00:10<05:07, 10.62s/trial, best loss: 0.9494345577345884]"
     ]
    },
    {
     "name": "stderr",
     "output_type": "stream",
     "text": [
      "/Users/ellenli/RoughPaths/RPvenv3.10/lib/python3.10/site-packages/sklearn/utils/deprecation.py:151: FutureWarning: 'force_all_finite' was renamed to 'ensure_all_finite' in 1.6 and will be removed in 1.8.\n",
      "  warnings.warn(\n",
      "\n",
      "/Users/ellenli/RoughPaths/RPvenv3.10/lib/python3.10/site-packages/sklearn/utils/deprecation.py:151: FutureWarning: 'force_all_finite' was renamed to 'ensure_all_finite' in 1.6 and will be removed in 1.8.\n",
      "  warnings.warn(\n",
      "\n"
     ]
    },
    {
     "name": "stdout",
     "output_type": "stream",
     "text": [
      "  7%|▋         | 2/30 [00:20<04:43, 10.13s/trial, best loss: 0.9494345577345884]"
     ]
    },
    {
     "name": "stderr",
     "output_type": "stream",
     "text": [
      "/Users/ellenli/RoughPaths/RPvenv3.10/lib/python3.10/site-packages/sklearn/utils/deprecation.py:151: FutureWarning: 'force_all_finite' was renamed to 'ensure_all_finite' in 1.6 and will be removed in 1.8.\n",
      "  warnings.warn(\n",
      "\n",
      "/Users/ellenli/RoughPaths/RPvenv3.10/lib/python3.10/site-packages/sklearn/utils/deprecation.py:151: FutureWarning: 'force_all_finite' was renamed to 'ensure_all_finite' in 1.6 and will be removed in 1.8.\n",
      "  warnings.warn(\n",
      "\n"
     ]
    },
    {
     "name": "stdout",
     "output_type": "stream",
     "text": [
      " 10%|█         | 3/30 [00:31<04:42, 10.47s/trial, best loss: 0.9494345577345884]"
     ]
    },
    {
     "name": "stderr",
     "output_type": "stream",
     "text": [
      "/Users/ellenli/RoughPaths/RPvenv3.10/lib/python3.10/site-packages/sklearn/utils/deprecation.py:151: FutureWarning: 'force_all_finite' was renamed to 'ensure_all_finite' in 1.6 and will be removed in 1.8.\n",
      "  warnings.warn(\n",
      "\n",
      "/Users/ellenli/RoughPaths/RPvenv3.10/lib/python3.10/site-packages/sklearn/utils/deprecation.py:151: FutureWarning: 'force_all_finite' was renamed to 'ensure_all_finite' in 1.6 and will be removed in 1.8.\n",
      "  warnings.warn(\n",
      "\n"
     ]
    },
    {
     "name": "stdout",
     "output_type": "stream",
     "text": [
      " 13%|█▎        | 4/30 [00:43<04:45, 10.99s/trial, best loss: 0.9494345577345884]"
     ]
    },
    {
     "name": "stderr",
     "output_type": "stream",
     "text": [
      "/Users/ellenli/RoughPaths/RPvenv3.10/lib/python3.10/site-packages/sklearn/utils/deprecation.py:151: FutureWarning: 'force_all_finite' was renamed to 'ensure_all_finite' in 1.6 and will be removed in 1.8.\n",
      "  warnings.warn(\n",
      "\n",
      "/Users/ellenli/RoughPaths/RPvenv3.10/lib/python3.10/site-packages/sklearn/utils/deprecation.py:151: FutureWarning: 'force_all_finite' was renamed to 'ensure_all_finite' in 1.6 and will be removed in 1.8.\n",
      "  warnings.warn(\n",
      "\n"
     ]
    },
    {
     "name": "stdout",
     "output_type": "stream",
     "text": [
      " 17%|█▋        | 5/30 [00:57<05:08, 12.34s/trial, best loss: 0.9342719142001342]"
     ]
    },
    {
     "name": "stderr",
     "output_type": "stream",
     "text": [
      "/Users/ellenli/RoughPaths/RPvenv3.10/lib/python3.10/site-packages/sklearn/utils/deprecation.py:151: FutureWarning: 'force_all_finite' was renamed to 'ensure_all_finite' in 1.6 and will be removed in 1.8.\n",
      "  warnings.warn(\n",
      "\n",
      "/Users/ellenli/RoughPaths/RPvenv3.10/lib/python3.10/site-packages/sklearn/utils/deprecation.py:151: FutureWarning: 'force_all_finite' was renamed to 'ensure_all_finite' in 1.6 and will be removed in 1.8.\n",
      "  warnings.warn(\n",
      "\n"
     ]
    },
    {
     "name": "stdout",
     "output_type": "stream",
     "text": [
      " 20%|██        | 6/30 [01:06<04:27, 11.13s/trial, best loss: 0.9342719142001342]"
     ]
    },
    {
     "name": "stderr",
     "output_type": "stream",
     "text": [
      "/Users/ellenli/RoughPaths/RPvenv3.10/lib/python3.10/site-packages/sklearn/utils/deprecation.py:151: FutureWarning: 'force_all_finite' was renamed to 'ensure_all_finite' in 1.6 and will be removed in 1.8.\n",
      "  warnings.warn(\n",
      "\n",
      "/Users/ellenli/RoughPaths/RPvenv3.10/lib/python3.10/site-packages/sklearn/utils/deprecation.py:151: FutureWarning: 'force_all_finite' was renamed to 'ensure_all_finite' in 1.6 and will be removed in 1.8.\n",
      "  warnings.warn(\n",
      "\n"
     ]
    },
    {
     "name": "stdout",
     "output_type": "stream",
     "text": [
      " 23%|██▎       | 7/30 [01:18<04:20, 11.32s/trial, best loss: 0.9342719142001342]"
     ]
    },
    {
     "name": "stderr",
     "output_type": "stream",
     "text": [
      "/Users/ellenli/RoughPaths/RPvenv3.10/lib/python3.10/site-packages/sklearn/utils/deprecation.py:151: FutureWarning: 'force_all_finite' was renamed to 'ensure_all_finite' in 1.6 and will be removed in 1.8.\n",
      "  warnings.warn(\n",
      "\n",
      "/Users/ellenli/RoughPaths/RPvenv3.10/lib/python3.10/site-packages/sklearn/utils/deprecation.py:151: FutureWarning: 'force_all_finite' was renamed to 'ensure_all_finite' in 1.6 and will be removed in 1.8.\n",
      "  warnings.warn(\n",
      "\n"
     ]
    },
    {
     "name": "stdout",
     "output_type": "stream",
     "text": [
      " 27%|██▋       | 8/30 [01:28<04:01, 10.97s/trial, best loss: 0.9342719142001342]"
     ]
    },
    {
     "name": "stderr",
     "output_type": "stream",
     "text": [
      "/Users/ellenli/RoughPaths/RPvenv3.10/lib/python3.10/site-packages/sklearn/utils/deprecation.py:151: FutureWarning: 'force_all_finite' was renamed to 'ensure_all_finite' in 1.6 and will be removed in 1.8.\n",
      "  warnings.warn(\n",
      "\n",
      "/Users/ellenli/RoughPaths/RPvenv3.10/lib/python3.10/site-packages/sklearn/utils/deprecation.py:151: FutureWarning: 'force_all_finite' was renamed to 'ensure_all_finite' in 1.6 and will be removed in 1.8.\n",
      "  warnings.warn(\n",
      "\n"
     ]
    },
    {
     "name": "stdout",
     "output_type": "stream",
     "text": [
      " 30%|███       | 9/30 [01:39<03:52, 11.06s/trial, best loss: 0.9342719142001342]"
     ]
    },
    {
     "name": "stderr",
     "output_type": "stream",
     "text": [
      "/Users/ellenli/RoughPaths/RPvenv3.10/lib/python3.10/site-packages/sklearn/utils/deprecation.py:151: FutureWarning: 'force_all_finite' was renamed to 'ensure_all_finite' in 1.6 and will be removed in 1.8.\n",
      "  warnings.warn(\n",
      "\n",
      "/Users/ellenli/RoughPaths/RPvenv3.10/lib/python3.10/site-packages/sklearn/utils/deprecation.py:151: FutureWarning: 'force_all_finite' was renamed to 'ensure_all_finite' in 1.6 and will be removed in 1.8.\n",
      "  warnings.warn(\n",
      "\n"
     ]
    },
    {
     "name": "stdout",
     "output_type": "stream",
     "text": [
      " 33%|███▎      | 10/30 [01:54<04:03, 12.19s/trial, best loss: 0.9342719142001342]"
     ]
    },
    {
     "name": "stderr",
     "output_type": "stream",
     "text": [
      "/Users/ellenli/RoughPaths/RPvenv3.10/lib/python3.10/site-packages/sklearn/utils/deprecation.py:151: FutureWarning: 'force_all_finite' was renamed to 'ensure_all_finite' in 1.6 and will be removed in 1.8.\n",
      "  warnings.warn(\n",
      "\n",
      "/Users/ellenli/RoughPaths/RPvenv3.10/lib/python3.10/site-packages/sklearn/utils/deprecation.py:151: FutureWarning: 'force_all_finite' was renamed to 'ensure_all_finite' in 1.6 and will be removed in 1.8.\n",
      "  warnings.warn(\n",
      "\n"
     ]
    },
    {
     "name": "stdout",
     "output_type": "stream",
     "text": [
      " 37%|███▋      | 11/30 [02:05<03:45, 11.85s/trial, best loss: 0.9342719142001342]"
     ]
    },
    {
     "name": "stderr",
     "output_type": "stream",
     "text": [
      "/Users/ellenli/RoughPaths/RPvenv3.10/lib/python3.10/site-packages/sklearn/utils/deprecation.py:151: FutureWarning: 'force_all_finite' was renamed to 'ensure_all_finite' in 1.6 and will be removed in 1.8.\n",
      "  warnings.warn(\n",
      "\n",
      "/Users/ellenli/RoughPaths/RPvenv3.10/lib/python3.10/site-packages/sklearn/utils/deprecation.py:151: FutureWarning: 'force_all_finite' was renamed to 'ensure_all_finite' in 1.6 and will be removed in 1.8.\n",
      "  warnings.warn(\n",
      "\n"
     ]
    },
    {
     "name": "stdout",
     "output_type": "stream",
     "text": [
      " 40%|████      | 12/30 [02:15<03:24, 11.34s/trial, best loss: 0.9342719142001342]"
     ]
    },
    {
     "name": "stderr",
     "output_type": "stream",
     "text": [
      "/Users/ellenli/RoughPaths/RPvenv3.10/lib/python3.10/site-packages/sklearn/utils/deprecation.py:151: FutureWarning: 'force_all_finite' was renamed to 'ensure_all_finite' in 1.6 and will be removed in 1.8.\n",
      "  warnings.warn(\n",
      "\n",
      "/Users/ellenli/RoughPaths/RPvenv3.10/lib/python3.10/site-packages/sklearn/utils/deprecation.py:151: FutureWarning: 'force_all_finite' was renamed to 'ensure_all_finite' in 1.6 and will be removed in 1.8.\n",
      "  warnings.warn(\n",
      "\n"
     ]
    },
    {
     "name": "stdout",
     "output_type": "stream",
     "text": [
      " 43%|████▎     | 13/30 [02:27<03:15, 11.52s/trial, best loss: 0.9342719142001342]"
     ]
    },
    {
     "name": "stderr",
     "output_type": "stream",
     "text": [
      "/Users/ellenli/RoughPaths/RPvenv3.10/lib/python3.10/site-packages/sklearn/utils/deprecation.py:151: FutureWarning: 'force_all_finite' was renamed to 'ensure_all_finite' in 1.6 and will be removed in 1.8.\n",
      "  warnings.warn(\n",
      "\n",
      "/Users/ellenli/RoughPaths/RPvenv3.10/lib/python3.10/site-packages/sklearn/utils/deprecation.py:151: FutureWarning: 'force_all_finite' was renamed to 'ensure_all_finite' in 1.6 and will be removed in 1.8.\n",
      "  warnings.warn(\n",
      "\n"
     ]
    },
    {
     "name": "stdout",
     "output_type": "stream",
     "text": [
      " 47%|████▋     | 14/30 [02:38<03:01, 11.34s/trial, best loss: 0.9320554901019548]"
     ]
    },
    {
     "name": "stderr",
     "output_type": "stream",
     "text": [
      "/Users/ellenli/RoughPaths/RPvenv3.10/lib/python3.10/site-packages/sklearn/utils/deprecation.py:151: FutureWarning: 'force_all_finite' was renamed to 'ensure_all_finite' in 1.6 and will be removed in 1.8.\n",
      "  warnings.warn(\n",
      "\n",
      "/Users/ellenli/RoughPaths/RPvenv3.10/lib/python3.10/site-packages/sklearn/utils/deprecation.py:151: FutureWarning: 'force_all_finite' was renamed to 'ensure_all_finite' in 1.6 and will be removed in 1.8.\n",
      "  warnings.warn(\n",
      "\n"
     ]
    },
    {
     "name": "stdout",
     "output_type": "stream",
     "text": [
      " 50%|█████     | 15/30 [02:47<02:39, 10.62s/trial, best loss: 0.9320554901019548]"
     ]
    },
    {
     "name": "stderr",
     "output_type": "stream",
     "text": [
      "/Users/ellenli/RoughPaths/RPvenv3.10/lib/python3.10/site-packages/sklearn/utils/deprecation.py:151: FutureWarning: 'force_all_finite' was renamed to 'ensure_all_finite' in 1.6 and will be removed in 1.8.\n",
      "  warnings.warn(\n",
      "\n",
      "/Users/ellenli/RoughPaths/RPvenv3.10/lib/python3.10/site-packages/sklearn/utils/deprecation.py:151: FutureWarning: 'force_all_finite' was renamed to 'ensure_all_finite' in 1.6 and will be removed in 1.8.\n",
      "  warnings.warn(\n",
      "\n"
     ]
    },
    {
     "name": "stdout",
     "output_type": "stream",
     "text": [
      " 53%|█████▎    | 16/30 [02:56<02:22, 10.17s/trial, best loss: 0.9320554901019548]"
     ]
    },
    {
     "name": "stderr",
     "output_type": "stream",
     "text": [
      "/Users/ellenli/RoughPaths/RPvenv3.10/lib/python3.10/site-packages/sklearn/utils/deprecation.py:151: FutureWarning: 'force_all_finite' was renamed to 'ensure_all_finite' in 1.6 and will be removed in 1.8.\n",
      "  warnings.warn(\n",
      "\n",
      "/Users/ellenli/RoughPaths/RPvenv3.10/lib/python3.10/site-packages/sklearn/utils/deprecation.py:151: FutureWarning: 'force_all_finite' was renamed to 'ensure_all_finite' in 1.6 and will be removed in 1.8.\n",
      "  warnings.warn(\n",
      "\n"
     ]
    },
    {
     "name": "stdout",
     "output_type": "stream",
     "text": [
      " 57%|█████▋    | 17/30 [03:09<02:23, 11.05s/trial, best loss: 0.9320554901019548]"
     ]
    },
    {
     "name": "stderr",
     "output_type": "stream",
     "text": [
      "/Users/ellenli/RoughPaths/RPvenv3.10/lib/python3.10/site-packages/sklearn/utils/deprecation.py:151: FutureWarning: 'force_all_finite' was renamed to 'ensure_all_finite' in 1.6 and will be removed in 1.8.\n",
      "  warnings.warn(\n",
      "\n",
      "/Users/ellenli/RoughPaths/RPvenv3.10/lib/python3.10/site-packages/sklearn/utils/deprecation.py:151: FutureWarning: 'force_all_finite' was renamed to 'ensure_all_finite' in 1.6 and will be removed in 1.8.\n",
      "  warnings.warn(\n",
      "\n"
     ]
    },
    {
     "name": "stdout",
     "output_type": "stream",
     "text": [
      " 60%|██████    | 18/30 [03:21<02:16, 11.37s/trial, best loss: 0.9320554901019548]"
     ]
    },
    {
     "name": "stderr",
     "output_type": "stream",
     "text": [
      "/Users/ellenli/RoughPaths/RPvenv3.10/lib/python3.10/site-packages/sklearn/utils/deprecation.py:151: FutureWarning: 'force_all_finite' was renamed to 'ensure_all_finite' in 1.6 and will be removed in 1.8.\n",
      "  warnings.warn(\n",
      "\n",
      "/Users/ellenli/RoughPaths/RPvenv3.10/lib/python3.10/site-packages/sklearn/utils/deprecation.py:151: FutureWarning: 'force_all_finite' was renamed to 'ensure_all_finite' in 1.6 and will be removed in 1.8.\n",
      "  warnings.warn(\n",
      "\n"
     ]
    },
    {
     "name": "stdout",
     "output_type": "stream",
     "text": [
      " 63%|██████▎   | 19/30 [03:31<01:59, 10.87s/trial, best loss: 0.9320554901019548]"
     ]
    },
    {
     "name": "stderr",
     "output_type": "stream",
     "text": [
      "/Users/ellenli/RoughPaths/RPvenv3.10/lib/python3.10/site-packages/sklearn/utils/deprecation.py:151: FutureWarning: 'force_all_finite' was renamed to 'ensure_all_finite' in 1.6 and will be removed in 1.8.\n",
      "  warnings.warn(\n",
      "\n",
      "/Users/ellenli/RoughPaths/RPvenv3.10/lib/python3.10/site-packages/sklearn/utils/deprecation.py:151: FutureWarning: 'force_all_finite' was renamed to 'ensure_all_finite' in 1.6 and will be removed in 1.8.\n",
      "  warnings.warn(\n",
      "\n"
     ]
    },
    {
     "name": "stdout",
     "output_type": "stream",
     "text": [
      " 67%|██████▋   | 20/30 [03:41<01:47, 10.72s/trial, best loss: 0.9320554901019548]"
     ]
    },
    {
     "name": "stderr",
     "output_type": "stream",
     "text": [
      "/Users/ellenli/RoughPaths/RPvenv3.10/lib/python3.10/site-packages/sklearn/utils/deprecation.py:151: FutureWarning: 'force_all_finite' was renamed to 'ensure_all_finite' in 1.6 and will be removed in 1.8.\n",
      "  warnings.warn(\n",
      "\n",
      "/Users/ellenli/RoughPaths/RPvenv3.10/lib/python3.10/site-packages/sklearn/utils/deprecation.py:151: FutureWarning: 'force_all_finite' was renamed to 'ensure_all_finite' in 1.6 and will be removed in 1.8.\n",
      "  warnings.warn(\n",
      "\n"
     ]
    },
    {
     "name": "stdout",
     "output_type": "stream",
     "text": [
      " 70%|███████   | 21/30 [03:54<01:40, 11.15s/trial, best loss: 0.9299980856385235]"
     ]
    },
    {
     "name": "stderr",
     "output_type": "stream",
     "text": [
      "/Users/ellenli/RoughPaths/RPvenv3.10/lib/python3.10/site-packages/sklearn/utils/deprecation.py:151: FutureWarning: 'force_all_finite' was renamed to 'ensure_all_finite' in 1.6 and will be removed in 1.8.\n",
      "  warnings.warn(\n",
      "\n",
      "/Users/ellenli/RoughPaths/RPvenv3.10/lib/python3.10/site-packages/sklearn/utils/deprecation.py:151: FutureWarning: 'force_all_finite' was renamed to 'ensure_all_finite' in 1.6 and will be removed in 1.8.\n",
      "  warnings.warn(\n",
      "\n"
     ]
    },
    {
     "name": "stdout",
     "output_type": "stream",
     "text": [
      " 73%|███████▎  | 22/30 [04:05<01:29, 11.16s/trial, best loss: 0.9299980856385235]"
     ]
    },
    {
     "name": "stderr",
     "output_type": "stream",
     "text": [
      "/Users/ellenli/RoughPaths/RPvenv3.10/lib/python3.10/site-packages/sklearn/utils/deprecation.py:151: FutureWarning: 'force_all_finite' was renamed to 'ensure_all_finite' in 1.6 and will be removed in 1.8.\n",
      "  warnings.warn(\n",
      "\n",
      "/Users/ellenli/RoughPaths/RPvenv3.10/lib/python3.10/site-packages/sklearn/utils/deprecation.py:151: FutureWarning: 'force_all_finite' was renamed to 'ensure_all_finite' in 1.6 and will be removed in 1.8.\n",
      "  warnings.warn(\n",
      "\n"
     ]
    },
    {
     "name": "stdout",
     "output_type": "stream",
     "text": [
      " 77%|███████▋  | 23/30 [04:18<01:22, 11.77s/trial, best loss: 0.9284893802968814]"
     ]
    },
    {
     "name": "stderr",
     "output_type": "stream",
     "text": [
      "/Users/ellenli/RoughPaths/RPvenv3.10/lib/python3.10/site-packages/sklearn/utils/deprecation.py:151: FutureWarning: 'force_all_finite' was renamed to 'ensure_all_finite' in 1.6 and will be removed in 1.8.\n",
      "  warnings.warn(\n",
      "\n",
      "/Users/ellenli/RoughPaths/RPvenv3.10/lib/python3.10/site-packages/sklearn/utils/deprecation.py:151: FutureWarning: 'force_all_finite' was renamed to 'ensure_all_finite' in 1.6 and will be removed in 1.8.\n",
      "  warnings.warn(\n",
      "\n"
     ]
    },
    {
     "name": "stdout",
     "output_type": "stream",
     "text": [
      " 80%|████████  | 24/30 [04:32<01:14, 12.39s/trial, best loss: 0.9284893802968814]"
     ]
    },
    {
     "name": "stderr",
     "output_type": "stream",
     "text": [
      "/Users/ellenli/RoughPaths/RPvenv3.10/lib/python3.10/site-packages/sklearn/utils/deprecation.py:151: FutureWarning: 'force_all_finite' was renamed to 'ensure_all_finite' in 1.6 and will be removed in 1.8.\n",
      "  warnings.warn(\n",
      "\n",
      "/Users/ellenli/RoughPaths/RPvenv3.10/lib/python3.10/site-packages/sklearn/utils/deprecation.py:151: FutureWarning: 'force_all_finite' was renamed to 'ensure_all_finite' in 1.6 and will be removed in 1.8.\n",
      "  warnings.warn(\n",
      "\n"
     ]
    },
    {
     "name": "stdout",
     "output_type": "stream",
     "text": [
      " 83%|████████▎ | 25/30 [04:46<01:04, 12.81s/trial, best loss: 0.9284893802968814]"
     ]
    },
    {
     "name": "stderr",
     "output_type": "stream",
     "text": [
      "/Users/ellenli/RoughPaths/RPvenv3.10/lib/python3.10/site-packages/sklearn/utils/deprecation.py:151: FutureWarning: 'force_all_finite' was renamed to 'ensure_all_finite' in 1.6 and will be removed in 1.8.\n",
      "  warnings.warn(\n",
      "\n",
      "/Users/ellenli/RoughPaths/RPvenv3.10/lib/python3.10/site-packages/sklearn/utils/deprecation.py:151: FutureWarning: 'force_all_finite' was renamed to 'ensure_all_finite' in 1.6 and will be removed in 1.8.\n",
      "  warnings.warn(\n",
      "\n"
     ]
    },
    {
     "name": "stdout",
     "output_type": "stream",
     "text": [
      " 87%|████████▋ | 26/30 [04:56<00:47, 11.95s/trial, best loss: 0.9284893802968814]"
     ]
    },
    {
     "name": "stderr",
     "output_type": "stream",
     "text": [
      "/Users/ellenli/RoughPaths/RPvenv3.10/lib/python3.10/site-packages/sklearn/utils/deprecation.py:151: FutureWarning: 'force_all_finite' was renamed to 'ensure_all_finite' in 1.6 and will be removed in 1.8.\n",
      "  warnings.warn(\n",
      "\n",
      "/Users/ellenli/RoughPaths/RPvenv3.10/lib/python3.10/site-packages/sklearn/utils/deprecation.py:151: FutureWarning: 'force_all_finite' was renamed to 'ensure_all_finite' in 1.6 and will be removed in 1.8.\n",
      "  warnings.warn(\n",
      "\n"
     ]
    },
    {
     "name": "stdout",
     "output_type": "stream",
     "text": [
      " 90%|█████████ | 27/30 [05:10<00:37, 12.63s/trial, best loss: 0.9284893802968814]"
     ]
    },
    {
     "name": "stderr",
     "output_type": "stream",
     "text": [
      "/Users/ellenli/RoughPaths/RPvenv3.10/lib/python3.10/site-packages/sklearn/utils/deprecation.py:151: FutureWarning: 'force_all_finite' was renamed to 'ensure_all_finite' in 1.6 and will be removed in 1.8.\n",
      "  warnings.warn(\n",
      "\n",
      "/Users/ellenli/RoughPaths/RPvenv3.10/lib/python3.10/site-packages/sklearn/utils/deprecation.py:151: FutureWarning: 'force_all_finite' was renamed to 'ensure_all_finite' in 1.6 and will be removed in 1.8.\n",
      "  warnings.warn(\n",
      "\n"
     ]
    },
    {
     "name": "stdout",
     "output_type": "stream",
     "text": [
      " 93%|█████████▎| 28/30 [05:22<00:24, 12.47s/trial, best loss: 0.9284893802968814]"
     ]
    },
    {
     "name": "stderr",
     "output_type": "stream",
     "text": [
      "/Users/ellenli/RoughPaths/RPvenv3.10/lib/python3.10/site-packages/sklearn/utils/deprecation.py:151: FutureWarning: 'force_all_finite' was renamed to 'ensure_all_finite' in 1.6 and will be removed in 1.8.\n",
      "  warnings.warn(\n",
      "\n",
      "/Users/ellenli/RoughPaths/RPvenv3.10/lib/python3.10/site-packages/sklearn/utils/deprecation.py:151: FutureWarning: 'force_all_finite' was renamed to 'ensure_all_finite' in 1.6 and will be removed in 1.8.\n",
      "  warnings.warn(\n",
      "\n"
     ]
    },
    {
     "name": "stdout",
     "output_type": "stream",
     "text": [
      " 97%|█████████▋| 29/30 [05:34<00:12, 12.50s/trial, best loss: 0.9284893802968814]"
     ]
    },
    {
     "name": "stderr",
     "output_type": "stream",
     "text": [
      "/Users/ellenli/RoughPaths/RPvenv3.10/lib/python3.10/site-packages/sklearn/utils/deprecation.py:151: FutureWarning: 'force_all_finite' was renamed to 'ensure_all_finite' in 1.6 and will be removed in 1.8.\n",
      "  warnings.warn(\n",
      "\n",
      "/Users/ellenli/RoughPaths/RPvenv3.10/lib/python3.10/site-packages/sklearn/utils/deprecation.py:151: FutureWarning: 'force_all_finite' was renamed to 'ensure_all_finite' in 1.6 and will be removed in 1.8.\n",
      "  warnings.warn(\n",
      "\n"
     ]
    },
    {
     "name": "stdout",
     "output_type": "stream",
     "text": [
      "100%|██████████| 30/30 [05:46<00:00, 11.57s/trial, best loss: 0.9284893802968814]\n",
      "Best hyperparameters: {'colsample_bytree': np.float64(0.5853991105664436), 'learning_rate': np.float64(0.05943680067797055), 'max_bin': np.float64(51.0), 'max_depth': np.float64(7.0), 'min_data_in_leaf': np.int64(0), 'min_split_gain': np.float64(0.8151021954075924), 'num_leaves': np.int64(4), 'reg_alpha': np.float64(0.9792783127884056), 'reg_lambda': np.float64(0.9428023466851525), 'subsample': np.float64(0.9112003802476972)}\n",
      "Trials: <hyperopt.base.Trials object at 0x117c7aad0>\n",
      "R2: 0.07151061970311856\n"
     ]
    },
    {
     "name": "stderr",
     "output_type": "stream",
     "text": [
      "/Users/ellenli/RoughPaths/RPvenv3.10/lib/python3.10/site-packages/sklearn/utils/deprecation.py:151: FutureWarning: 'force_all_finite' was renamed to 'ensure_all_finite' in 1.6 and will be removed in 1.8.\n",
      "  warnings.warn(\n",
      "/Users/ellenli/RoughPaths/RPvenv3.10/lib/python3.10/site-packages/sklearn/utils/deprecation.py:151: FutureWarning: 'force_all_finite' was renamed to 'ensure_all_finite' in 1.6 and will be removed in 1.8.\n",
      "  warnings.warn(\n",
      "/Users/ellenli/RoughPaths/RPvenv3.10/lib/python3.10/site-packages/sklearn/utils/deprecation.py:151: FutureWarning: 'force_all_finite' was renamed to 'ensure_all_finite' in 1.6 and will be removed in 1.8.\n",
      "  warnings.warn(\n"
     ]
    },
    {
     "name": "stdout",
     "output_type": "stream",
     "text": [
      "0.1562, 0.0715\n",
      "Training model for lag = 70\n",
      "  0%|          | 0/30 [00:00<?, ?trial/s, best loss=?]"
     ]
    },
    {
     "name": "stderr",
     "output_type": "stream",
     "text": [
      "/Users/ellenli/RoughPaths/RPvenv3.10/lib/python3.10/site-packages/sklearn/utils/deprecation.py:151: FutureWarning: 'force_all_finite' was renamed to 'ensure_all_finite' in 1.6 and will be removed in 1.8.\n",
      "  warnings.warn(\n",
      "\n",
      "/Users/ellenli/RoughPaths/RPvenv3.10/lib/python3.10/site-packages/sklearn/utils/deprecation.py:151: FutureWarning: 'force_all_finite' was renamed to 'ensure_all_finite' in 1.6 and will be removed in 1.8.\n",
      "  warnings.warn(\n",
      "\n"
     ]
    },
    {
     "name": "stdout",
     "output_type": "stream",
     "text": [
      "  3%|▎         | 1/30 [00:11<05:22, 11.10s/trial, best loss: 0.9631064489669143]"
     ]
    },
    {
     "name": "stderr",
     "output_type": "stream",
     "text": [
      "/Users/ellenli/RoughPaths/RPvenv3.10/lib/python3.10/site-packages/sklearn/utils/deprecation.py:151: FutureWarning: 'force_all_finite' was renamed to 'ensure_all_finite' in 1.6 and will be removed in 1.8.\n",
      "  warnings.warn(\n",
      "\n",
      "/Users/ellenli/RoughPaths/RPvenv3.10/lib/python3.10/site-packages/sklearn/utils/deprecation.py:151: FutureWarning: 'force_all_finite' was renamed to 'ensure_all_finite' in 1.6 and will be removed in 1.8.\n",
      "  warnings.warn(\n",
      "\n"
     ]
    },
    {
     "name": "stdout",
     "output_type": "stream",
     "text": [
      "  7%|▋         | 2/30 [00:20<04:45, 10.19s/trial, best loss: 0.9631064489669143]"
     ]
    },
    {
     "name": "stderr",
     "output_type": "stream",
     "text": [
      "/Users/ellenli/RoughPaths/RPvenv3.10/lib/python3.10/site-packages/sklearn/utils/deprecation.py:151: FutureWarning: 'force_all_finite' was renamed to 'ensure_all_finite' in 1.6 and will be removed in 1.8.\n",
      "  warnings.warn(\n",
      "\n",
      "/Users/ellenli/RoughPaths/RPvenv3.10/lib/python3.10/site-packages/sklearn/utils/deprecation.py:151: FutureWarning: 'force_all_finite' was renamed to 'ensure_all_finite' in 1.6 and will be removed in 1.8.\n",
      "  warnings.warn(\n",
      "\n"
     ]
    },
    {
     "name": "stdout",
     "output_type": "stream",
     "text": [
      " 10%|█         | 3/30 [00:29<04:17,  9.54s/trial, best loss: 0.9631064489669143]"
     ]
    },
    {
     "name": "stderr",
     "output_type": "stream",
     "text": [
      "/Users/ellenli/RoughPaths/RPvenv3.10/lib/python3.10/site-packages/sklearn/utils/deprecation.py:151: FutureWarning: 'force_all_finite' was renamed to 'ensure_all_finite' in 1.6 and will be removed in 1.8.\n",
      "  warnings.warn(\n",
      "\n",
      "/Users/ellenli/RoughPaths/RPvenv3.10/lib/python3.10/site-packages/sklearn/utils/deprecation.py:151: FutureWarning: 'force_all_finite' was renamed to 'ensure_all_finite' in 1.6 and will be removed in 1.8.\n",
      "  warnings.warn(\n",
      "\n"
     ]
    },
    {
     "name": "stdout",
     "output_type": "stream",
     "text": [
      " 13%|█▎        | 4/30 [00:39<04:11,  9.67s/trial, best loss: 0.9631064489669143]"
     ]
    },
    {
     "name": "stderr",
     "output_type": "stream",
     "text": [
      "/Users/ellenli/RoughPaths/RPvenv3.10/lib/python3.10/site-packages/sklearn/utils/deprecation.py:151: FutureWarning: 'force_all_finite' was renamed to 'ensure_all_finite' in 1.6 and will be removed in 1.8.\n",
      "  warnings.warn(\n",
      "\n",
      "/Users/ellenli/RoughPaths/RPvenv3.10/lib/python3.10/site-packages/sklearn/utils/deprecation.py:151: FutureWarning: 'force_all_finite' was renamed to 'ensure_all_finite' in 1.6 and will be removed in 1.8.\n",
      "  warnings.warn(\n",
      "\n"
     ]
    },
    {
     "name": "stdout",
     "output_type": "stream",
     "text": [
      " 17%|█▋        | 5/30 [00:52<04:31, 10.88s/trial, best loss: 0.9531601080973697]"
     ]
    },
    {
     "name": "stderr",
     "output_type": "stream",
     "text": [
      "/Users/ellenli/RoughPaths/RPvenv3.10/lib/python3.10/site-packages/sklearn/utils/deprecation.py:151: FutureWarning: 'force_all_finite' was renamed to 'ensure_all_finite' in 1.6 and will be removed in 1.8.\n",
      "  warnings.warn(\n",
      "\n",
      "/Users/ellenli/RoughPaths/RPvenv3.10/lib/python3.10/site-packages/sklearn/utils/deprecation.py:151: FutureWarning: 'force_all_finite' was renamed to 'ensure_all_finite' in 1.6 and will be removed in 1.8.\n",
      "  warnings.warn(\n",
      "\n"
     ]
    },
    {
     "name": "stdout",
     "output_type": "stream",
     "text": [
      " 20%|██        | 6/30 [01:00<03:55,  9.82s/trial, best loss: 0.9531601080973697]"
     ]
    },
    {
     "name": "stderr",
     "output_type": "stream",
     "text": [
      "/Users/ellenli/RoughPaths/RPvenv3.10/lib/python3.10/site-packages/sklearn/utils/deprecation.py:151: FutureWarning: 'force_all_finite' was renamed to 'ensure_all_finite' in 1.6 and will be removed in 1.8.\n",
      "  warnings.warn(\n",
      "\n",
      "/Users/ellenli/RoughPaths/RPvenv3.10/lib/python3.10/site-packages/sklearn/utils/deprecation.py:151: FutureWarning: 'force_all_finite' was renamed to 'ensure_all_finite' in 1.6 and will be removed in 1.8.\n",
      "  warnings.warn(\n",
      "\n"
     ]
    },
    {
     "name": "stdout",
     "output_type": "stream",
     "text": [
      " 23%|██▎       | 7/30 [01:11<03:58, 10.39s/trial, best loss: 0.9531601080973697]"
     ]
    },
    {
     "name": "stderr",
     "output_type": "stream",
     "text": [
      "/Users/ellenli/RoughPaths/RPvenv3.10/lib/python3.10/site-packages/sklearn/utils/deprecation.py:151: FutureWarning: 'force_all_finite' was renamed to 'ensure_all_finite' in 1.6 and will be removed in 1.8.\n",
      "  warnings.warn(\n",
      "\n",
      "/Users/ellenli/RoughPaths/RPvenv3.10/lib/python3.10/site-packages/sklearn/utils/deprecation.py:151: FutureWarning: 'force_all_finite' was renamed to 'ensure_all_finite' in 1.6 and will be removed in 1.8.\n",
      "  warnings.warn(\n",
      "\n"
     ]
    },
    {
     "name": "stdout",
     "output_type": "stream",
     "text": [
      " 27%|██▋       | 8/30 [01:22<03:54, 10.64s/trial, best loss: 0.9531601080973697]"
     ]
    },
    {
     "name": "stderr",
     "output_type": "stream",
     "text": [
      "/Users/ellenli/RoughPaths/RPvenv3.10/lib/python3.10/site-packages/sklearn/utils/deprecation.py:151: FutureWarning: 'force_all_finite' was renamed to 'ensure_all_finite' in 1.6 and will be removed in 1.8.\n",
      "  warnings.warn(\n",
      "\n",
      "/Users/ellenli/RoughPaths/RPvenv3.10/lib/python3.10/site-packages/sklearn/utils/deprecation.py:151: FutureWarning: 'force_all_finite' was renamed to 'ensure_all_finite' in 1.6 and will be removed in 1.8.\n",
      "  warnings.warn(\n",
      "\n"
     ]
    },
    {
     "name": "stdout",
     "output_type": "stream",
     "text": [
      " 30%|███       | 9/30 [01:33<03:46, 10.79s/trial, best loss: 0.9531601080973697]"
     ]
    },
    {
     "name": "stderr",
     "output_type": "stream",
     "text": [
      "/Users/ellenli/RoughPaths/RPvenv3.10/lib/python3.10/site-packages/sklearn/utils/deprecation.py:151: FutureWarning: 'force_all_finite' was renamed to 'ensure_all_finite' in 1.6 and will be removed in 1.8.\n",
      "  warnings.warn(\n",
      "\n",
      "/Users/ellenli/RoughPaths/RPvenv3.10/lib/python3.10/site-packages/sklearn/utils/deprecation.py:151: FutureWarning: 'force_all_finite' was renamed to 'ensure_all_finite' in 1.6 and will be removed in 1.8.\n",
      "  warnings.warn(\n",
      "\n"
     ]
    },
    {
     "name": "stdout",
     "output_type": "stream",
     "text": [
      " 33%|███▎      | 10/30 [01:48<04:00, 12.02s/trial, best loss: 0.9531601080973697]"
     ]
    },
    {
     "name": "stderr",
     "output_type": "stream",
     "text": [
      "/Users/ellenli/RoughPaths/RPvenv3.10/lib/python3.10/site-packages/sklearn/utils/deprecation.py:151: FutureWarning: 'force_all_finite' was renamed to 'ensure_all_finite' in 1.6 and will be removed in 1.8.\n",
      "  warnings.warn(\n",
      "\n",
      "/Users/ellenli/RoughPaths/RPvenv3.10/lib/python3.10/site-packages/sklearn/utils/deprecation.py:151: FutureWarning: 'force_all_finite' was renamed to 'ensure_all_finite' in 1.6 and will be removed in 1.8.\n",
      "  warnings.warn(\n",
      "\n"
     ]
    },
    {
     "name": "stdout",
     "output_type": "stream",
     "text": [
      " 37%|███▋      | 11/30 [01:59<03:41, 11.67s/trial, best loss: 0.9531601080973697]"
     ]
    },
    {
     "name": "stderr",
     "output_type": "stream",
     "text": [
      "/Users/ellenli/RoughPaths/RPvenv3.10/lib/python3.10/site-packages/sklearn/utils/deprecation.py:151: FutureWarning: 'force_all_finite' was renamed to 'ensure_all_finite' in 1.6 and will be removed in 1.8.\n",
      "  warnings.warn(\n",
      "\n",
      "/Users/ellenli/RoughPaths/RPvenv3.10/lib/python3.10/site-packages/sklearn/utils/deprecation.py:151: FutureWarning: 'force_all_finite' was renamed to 'ensure_all_finite' in 1.6 and will be removed in 1.8.\n",
      "  warnings.warn(\n",
      "\n"
     ]
    },
    {
     "name": "stdout",
     "output_type": "stream",
     "text": [
      " 40%|████      | 12/30 [02:09<03:20, 11.16s/trial, best loss: 0.9531601080973697]"
     ]
    },
    {
     "name": "stderr",
     "output_type": "stream",
     "text": [
      "/Users/ellenli/RoughPaths/RPvenv3.10/lib/python3.10/site-packages/sklearn/utils/deprecation.py:151: FutureWarning: 'force_all_finite' was renamed to 'ensure_all_finite' in 1.6 and will be removed in 1.8.\n",
      "  warnings.warn(\n",
      "\n",
      "/Users/ellenli/RoughPaths/RPvenv3.10/lib/python3.10/site-packages/sklearn/utils/deprecation.py:151: FutureWarning: 'force_all_finite' was renamed to 'ensure_all_finite' in 1.6 and will be removed in 1.8.\n",
      "  warnings.warn(\n",
      "\n"
     ]
    },
    {
     "name": "stdout",
     "output_type": "stream",
     "text": [
      " 43%|████▎     | 13/30 [02:20<03:08, 11.11s/trial, best loss: 0.9531601080973697]"
     ]
    },
    {
     "name": "stderr",
     "output_type": "stream",
     "text": [
      "/Users/ellenli/RoughPaths/RPvenv3.10/lib/python3.10/site-packages/sklearn/utils/deprecation.py:151: FutureWarning: 'force_all_finite' was renamed to 'ensure_all_finite' in 1.6 and will be removed in 1.8.\n",
      "  warnings.warn(\n",
      "\n",
      "/Users/ellenli/RoughPaths/RPvenv3.10/lib/python3.10/site-packages/sklearn/utils/deprecation.py:151: FutureWarning: 'force_all_finite' was renamed to 'ensure_all_finite' in 1.6 and will be removed in 1.8.\n",
      "  warnings.warn(\n",
      "\n"
     ]
    },
    {
     "name": "stdout",
     "output_type": "stream",
     "text": [
      " 47%|████▋     | 14/30 [02:31<02:56, 11.06s/trial, best loss: 0.951046904753832] "
     ]
    },
    {
     "name": "stderr",
     "output_type": "stream",
     "text": [
      "/Users/ellenli/RoughPaths/RPvenv3.10/lib/python3.10/site-packages/sklearn/utils/deprecation.py:151: FutureWarning: 'force_all_finite' was renamed to 'ensure_all_finite' in 1.6 and will be removed in 1.8.\n",
      "  warnings.warn(\n",
      "\n",
      "/Users/ellenli/RoughPaths/RPvenv3.10/lib/python3.10/site-packages/sklearn/utils/deprecation.py:151: FutureWarning: 'force_all_finite' was renamed to 'ensure_all_finite' in 1.6 and will be removed in 1.8.\n",
      "  warnings.warn(\n",
      "\n"
     ]
    },
    {
     "name": "stdout",
     "output_type": "stream",
     "text": [
      " 50%|█████     | 15/30 [02:39<02:30, 10.02s/trial, best loss: 0.951046904753832]"
     ]
    },
    {
     "name": "stderr",
     "output_type": "stream",
     "text": [
      "/Users/ellenli/RoughPaths/RPvenv3.10/lib/python3.10/site-packages/sklearn/utils/deprecation.py:151: FutureWarning: 'force_all_finite' was renamed to 'ensure_all_finite' in 1.6 and will be removed in 1.8.\n",
      "  warnings.warn(\n",
      "\n",
      "/Users/ellenli/RoughPaths/RPvenv3.10/lib/python3.10/site-packages/sklearn/utils/deprecation.py:151: FutureWarning: 'force_all_finite' was renamed to 'ensure_all_finite' in 1.6 and will be removed in 1.8.\n",
      "  warnings.warn(\n",
      "\n"
     ]
    },
    {
     "name": "stdout",
     "output_type": "stream",
     "text": [
      " 53%|█████▎    | 16/30 [02:47<02:13,  9.55s/trial, best loss: 0.951046904753832]"
     ]
    },
    {
     "name": "stderr",
     "output_type": "stream",
     "text": [
      "/Users/ellenli/RoughPaths/RPvenv3.10/lib/python3.10/site-packages/sklearn/utils/deprecation.py:151: FutureWarning: 'force_all_finite' was renamed to 'ensure_all_finite' in 1.6 and will be removed in 1.8.\n",
      "  warnings.warn(\n",
      "\n",
      "/Users/ellenli/RoughPaths/RPvenv3.10/lib/python3.10/site-packages/sklearn/utils/deprecation.py:151: FutureWarning: 'force_all_finite' was renamed to 'ensure_all_finite' in 1.6 and will be removed in 1.8.\n",
      "  warnings.warn(\n",
      "\n"
     ]
    },
    {
     "name": "stdout",
     "output_type": "stream",
     "text": [
      " 57%|█████▋    | 17/30 [02:59<02:13, 10.25s/trial, best loss: 0.951046904753832]"
     ]
    },
    {
     "name": "stderr",
     "output_type": "stream",
     "text": [
      "/Users/ellenli/RoughPaths/RPvenv3.10/lib/python3.10/site-packages/sklearn/utils/deprecation.py:151: FutureWarning: 'force_all_finite' was renamed to 'ensure_all_finite' in 1.6 and will be removed in 1.8.\n",
      "  warnings.warn(\n",
      "\n",
      "/Users/ellenli/RoughPaths/RPvenv3.10/lib/python3.10/site-packages/sklearn/utils/deprecation.py:151: FutureWarning: 'force_all_finite' was renamed to 'ensure_all_finite' in 1.6 and will be removed in 1.8.\n",
      "  warnings.warn(\n",
      "\n"
     ]
    },
    {
     "name": "stdout",
     "output_type": "stream",
     "text": [
      " 60%|██████    | 18/30 [03:10<02:05, 10.44s/trial, best loss: 0.951046904753832]"
     ]
    },
    {
     "name": "stderr",
     "output_type": "stream",
     "text": [
      "/Users/ellenli/RoughPaths/RPvenv3.10/lib/python3.10/site-packages/sklearn/utils/deprecation.py:151: FutureWarning: 'force_all_finite' was renamed to 'ensure_all_finite' in 1.6 and will be removed in 1.8.\n",
      "  warnings.warn(\n",
      "\n",
      "/Users/ellenli/RoughPaths/RPvenv3.10/lib/python3.10/site-packages/sklearn/utils/deprecation.py:151: FutureWarning: 'force_all_finite' was renamed to 'ensure_all_finite' in 1.6 and will be removed in 1.8.\n",
      "  warnings.warn(\n",
      "\n"
     ]
    },
    {
     "name": "stdout",
     "output_type": "stream",
     "text": [
      " 63%|██████▎   | 19/30 [03:19<01:50, 10.03s/trial, best loss: 0.951046904753832]"
     ]
    },
    {
     "name": "stderr",
     "output_type": "stream",
     "text": [
      "/Users/ellenli/RoughPaths/RPvenv3.10/lib/python3.10/site-packages/sklearn/utils/deprecation.py:151: FutureWarning: 'force_all_finite' was renamed to 'ensure_all_finite' in 1.6 and will be removed in 1.8.\n",
      "  warnings.warn(\n",
      "\n",
      "/Users/ellenli/RoughPaths/RPvenv3.10/lib/python3.10/site-packages/sklearn/utils/deprecation.py:151: FutureWarning: 'force_all_finite' was renamed to 'ensure_all_finite' in 1.6 and will be removed in 1.8.\n",
      "  warnings.warn(\n",
      "\n"
     ]
    },
    {
     "name": "stdout",
     "output_type": "stream",
     "text": [
      " 67%|██████▋   | 20/30 [03:29<01:40, 10.09s/trial, best loss: 0.951046904753832]"
     ]
    },
    {
     "name": "stderr",
     "output_type": "stream",
     "text": [
      "/Users/ellenli/RoughPaths/RPvenv3.10/lib/python3.10/site-packages/sklearn/utils/deprecation.py:151: FutureWarning: 'force_all_finite' was renamed to 'ensure_all_finite' in 1.6 and will be removed in 1.8.\n",
      "  warnings.warn(\n",
      "\n",
      "/Users/ellenli/RoughPaths/RPvenv3.10/lib/python3.10/site-packages/sklearn/utils/deprecation.py:151: FutureWarning: 'force_all_finite' was renamed to 'ensure_all_finite' in 1.6 and will be removed in 1.8.\n",
      "  warnings.warn(\n",
      "\n"
     ]
    },
    {
     "name": "stdout",
     "output_type": "stream",
     "text": [
      " 70%|███████   | 21/30 [03:41<01:36, 10.77s/trial, best loss: 0.9490857889450373]"
     ]
    },
    {
     "name": "stderr",
     "output_type": "stream",
     "text": [
      "/Users/ellenli/RoughPaths/RPvenv3.10/lib/python3.10/site-packages/sklearn/utils/deprecation.py:151: FutureWarning: 'force_all_finite' was renamed to 'ensure_all_finite' in 1.6 and will be removed in 1.8.\n",
      "  warnings.warn(\n",
      "\n",
      "/Users/ellenli/RoughPaths/RPvenv3.10/lib/python3.10/site-packages/sklearn/utils/deprecation.py:151: FutureWarning: 'force_all_finite' was renamed to 'ensure_all_finite' in 1.6 and will be removed in 1.8.\n",
      "  warnings.warn(\n",
      "\n"
     ]
    },
    {
     "name": "stdout",
     "output_type": "stream",
     "text": [
      " 73%|███████▎  | 22/30 [03:52<01:26, 10.78s/trial, best loss: 0.9490857889450373]"
     ]
    },
    {
     "name": "stderr",
     "output_type": "stream",
     "text": [
      "/Users/ellenli/RoughPaths/RPvenv3.10/lib/python3.10/site-packages/sklearn/utils/deprecation.py:151: FutureWarning: 'force_all_finite' was renamed to 'ensure_all_finite' in 1.6 and will be removed in 1.8.\n",
      "  warnings.warn(\n",
      "\n",
      "/Users/ellenli/RoughPaths/RPvenv3.10/lib/python3.10/site-packages/sklearn/utils/deprecation.py:151: FutureWarning: 'force_all_finite' was renamed to 'ensure_all_finite' in 1.6 and will be removed in 1.8.\n",
      "  warnings.warn(\n",
      "\n"
     ]
    },
    {
     "name": "stdout",
     "output_type": "stream",
     "text": [
      " 77%|███████▋  | 23/30 [04:06<01:20, 11.52s/trial, best loss: 0.9490857889450373]"
     ]
    },
    {
     "name": "stderr",
     "output_type": "stream",
     "text": [
      "/Users/ellenli/RoughPaths/RPvenv3.10/lib/python3.10/site-packages/sklearn/utils/deprecation.py:151: FutureWarning: 'force_all_finite' was renamed to 'ensure_all_finite' in 1.6 and will be removed in 1.8.\n",
      "  warnings.warn(\n",
      "\n",
      "/Users/ellenli/RoughPaths/RPvenv3.10/lib/python3.10/site-packages/sklearn/utils/deprecation.py:151: FutureWarning: 'force_all_finite' was renamed to 'ensure_all_finite' in 1.6 and will be removed in 1.8.\n",
      "  warnings.warn(\n",
      "\n"
     ]
    },
    {
     "name": "stdout",
     "output_type": "stream",
     "text": [
      " 80%|████████  | 24/30 [04:19<01:11, 11.97s/trial, best loss: 0.9490857889450373]"
     ]
    },
    {
     "name": "stderr",
     "output_type": "stream",
     "text": [
      "/Users/ellenli/RoughPaths/RPvenv3.10/lib/python3.10/site-packages/sklearn/utils/deprecation.py:151: FutureWarning: 'force_all_finite' was renamed to 'ensure_all_finite' in 1.6 and will be removed in 1.8.\n",
      "  warnings.warn(\n",
      "\n",
      "/Users/ellenli/RoughPaths/RPvenv3.10/lib/python3.10/site-packages/sklearn/utils/deprecation.py:151: FutureWarning: 'force_all_finite' was renamed to 'ensure_all_finite' in 1.6 and will be removed in 1.8.\n",
      "  warnings.warn(\n",
      "\n"
     ]
    },
    {
     "name": "stdout",
     "output_type": "stream",
     "text": [
      " 83%|████████▎ | 25/30 [04:31<01:00, 12.19s/trial, best loss: 0.9490857889450373]"
     ]
    },
    {
     "name": "stderr",
     "output_type": "stream",
     "text": [
      "/Users/ellenli/RoughPaths/RPvenv3.10/lib/python3.10/site-packages/sklearn/utils/deprecation.py:151: FutureWarning: 'force_all_finite' was renamed to 'ensure_all_finite' in 1.6 and will be removed in 1.8.\n",
      "  warnings.warn(\n",
      "\n",
      "/Users/ellenli/RoughPaths/RPvenv3.10/lib/python3.10/site-packages/sklearn/utils/deprecation.py:151: FutureWarning: 'force_all_finite' was renamed to 'ensure_all_finite' in 1.6 and will be removed in 1.8.\n",
      "  warnings.warn(\n",
      "\n"
     ]
    },
    {
     "name": "stdout",
     "output_type": "stream",
     "text": [
      " 87%|████████▋ | 26/30 [04:42<00:47, 11.85s/trial, best loss: 0.9490857889450373]"
     ]
    },
    {
     "name": "stderr",
     "output_type": "stream",
     "text": [
      "/Users/ellenli/RoughPaths/RPvenv3.10/lib/python3.10/site-packages/sklearn/utils/deprecation.py:151: FutureWarning: 'force_all_finite' was renamed to 'ensure_all_finite' in 1.6 and will be removed in 1.8.\n",
      "  warnings.warn(\n",
      "\n",
      "/Users/ellenli/RoughPaths/RPvenv3.10/lib/python3.10/site-packages/sklearn/utils/deprecation.py:151: FutureWarning: 'force_all_finite' was renamed to 'ensure_all_finite' in 1.6 and will be removed in 1.8.\n",
      "  warnings.warn(\n",
      "\n"
     ]
    },
    {
     "name": "stdout",
     "output_type": "stream",
     "text": [
      " 90%|█████████ | 27/30 [04:54<00:35, 11.75s/trial, best loss: 0.9490857889450373]"
     ]
    },
    {
     "name": "stderr",
     "output_type": "stream",
     "text": [
      "/Users/ellenli/RoughPaths/RPvenv3.10/lib/python3.10/site-packages/sklearn/utils/deprecation.py:151: FutureWarning: 'force_all_finite' was renamed to 'ensure_all_finite' in 1.6 and will be removed in 1.8.\n",
      "  warnings.warn(\n",
      "\n",
      "/Users/ellenli/RoughPaths/RPvenv3.10/lib/python3.10/site-packages/sklearn/utils/deprecation.py:151: FutureWarning: 'force_all_finite' was renamed to 'ensure_all_finite' in 1.6 and will be removed in 1.8.\n",
      "  warnings.warn(\n",
      "\n"
     ]
    },
    {
     "name": "stdout",
     "output_type": "stream",
     "text": [
      " 93%|█████████▎| 28/30 [05:04<00:22, 11.36s/trial, best loss: 0.9490857889450373]"
     ]
    },
    {
     "name": "stderr",
     "output_type": "stream",
     "text": [
      "/Users/ellenli/RoughPaths/RPvenv3.10/lib/python3.10/site-packages/sklearn/utils/deprecation.py:151: FutureWarning: 'force_all_finite' was renamed to 'ensure_all_finite' in 1.6 and will be removed in 1.8.\n",
      "  warnings.warn(\n",
      "\n",
      "/Users/ellenli/RoughPaths/RPvenv3.10/lib/python3.10/site-packages/sklearn/utils/deprecation.py:151: FutureWarning: 'force_all_finite' was renamed to 'ensure_all_finite' in 1.6 and will be removed in 1.8.\n",
      "  warnings.warn(\n",
      "\n"
     ]
    },
    {
     "name": "stdout",
     "output_type": "stream",
     "text": [
      " 97%|█████████▋| 29/30 [05:15<00:11, 11.16s/trial, best loss: 0.9490857889450373]"
     ]
    },
    {
     "name": "stderr",
     "output_type": "stream",
     "text": [
      "/Users/ellenli/RoughPaths/RPvenv3.10/lib/python3.10/site-packages/sklearn/utils/deprecation.py:151: FutureWarning: 'force_all_finite' was renamed to 'ensure_all_finite' in 1.6 and will be removed in 1.8.\n",
      "  warnings.warn(\n",
      "\n",
      "/Users/ellenli/RoughPaths/RPvenv3.10/lib/python3.10/site-packages/sklearn/utils/deprecation.py:151: FutureWarning: 'force_all_finite' was renamed to 'ensure_all_finite' in 1.6 and will be removed in 1.8.\n",
      "  warnings.warn(\n",
      "\n"
     ]
    },
    {
     "name": "stdout",
     "output_type": "stream",
     "text": [
      "100%|██████████| 30/30 [05:27<00:00, 10.91s/trial, best loss: 0.9490857889450373]\n",
      "Best hyperparameters: {'colsample_bytree': np.float64(0.6894817039754151), 'learning_rate': np.float64(0.058786033018585156), 'max_bin': np.float64(62.0), 'max_depth': np.float64(6.0), 'min_data_in_leaf': np.int64(0), 'min_split_gain': np.float64(0.8153847794333978), 'num_leaves': np.int64(4), 'reg_alpha': np.float64(0.9859037173804706), 'reg_lambda': np.float64(0.9557822901691093), 'subsample': np.float64(0.8853227339321698)}\n",
      "Trials: <hyperopt.base.Trials object at 0x117d38040>\n",
      "R2: 0.050914211054962744\n"
     ]
    },
    {
     "name": "stderr",
     "output_type": "stream",
     "text": [
      "/Users/ellenli/RoughPaths/RPvenv3.10/lib/python3.10/site-packages/sklearn/utils/deprecation.py:151: FutureWarning: 'force_all_finite' was renamed to 'ensure_all_finite' in 1.6 and will be removed in 1.8.\n",
      "  warnings.warn(\n",
      "/Users/ellenli/RoughPaths/RPvenv3.10/lib/python3.10/site-packages/sklearn/utils/deprecation.py:151: FutureWarning: 'force_all_finite' was renamed to 'ensure_all_finite' in 1.6 and will be removed in 1.8.\n",
      "  warnings.warn(\n",
      "/Users/ellenli/RoughPaths/RPvenv3.10/lib/python3.10/site-packages/sklearn/utils/deprecation.py:151: FutureWarning: 'force_all_finite' was renamed to 'ensure_all_finite' in 1.6 and will be removed in 1.8.\n",
      "  warnings.warn(\n"
     ]
    },
    {
     "name": "stdout",
     "output_type": "stream",
     "text": [
      "0.1049, 0.0509\n",
      "Training model for lag = 75\n",
      "  0%|          | 0/30 [00:00<?, ?trial/s, best loss=?]"
     ]
    },
    {
     "name": "stderr",
     "output_type": "stream",
     "text": [
      "/Users/ellenli/RoughPaths/RPvenv3.10/lib/python3.10/site-packages/sklearn/utils/deprecation.py:151: FutureWarning: 'force_all_finite' was renamed to 'ensure_all_finite' in 1.6 and will be removed in 1.8.\n",
      "  warnings.warn(\n",
      "\n",
      "/Users/ellenli/RoughPaths/RPvenv3.10/lib/python3.10/site-packages/sklearn/utils/deprecation.py:151: FutureWarning: 'force_all_finite' was renamed to 'ensure_all_finite' in 1.6 and will be removed in 1.8.\n",
      "  warnings.warn(\n",
      "\n"
     ]
    },
    {
     "name": "stdout",
     "output_type": "stream",
     "text": [
      "  3%|▎         | 1/30 [00:09<04:38,  9.60s/trial, best loss: 0.9714347495506432]"
     ]
    },
    {
     "name": "stderr",
     "output_type": "stream",
     "text": [
      "/Users/ellenli/RoughPaths/RPvenv3.10/lib/python3.10/site-packages/sklearn/utils/deprecation.py:151: FutureWarning: 'force_all_finite' was renamed to 'ensure_all_finite' in 1.6 and will be removed in 1.8.\n",
      "  warnings.warn(\n",
      "\n",
      "/Users/ellenli/RoughPaths/RPvenv3.10/lib/python3.10/site-packages/sklearn/utils/deprecation.py:151: FutureWarning: 'force_all_finite' was renamed to 'ensure_all_finite' in 1.6 and will be removed in 1.8.\n",
      "  warnings.warn(\n",
      "\n"
     ]
    },
    {
     "name": "stdout",
     "output_type": "stream",
     "text": [
      "  7%|▋         | 2/30 [00:18<04:16,  9.15s/trial, best loss: 0.9714347495506432]"
     ]
    },
    {
     "name": "stderr",
     "output_type": "stream",
     "text": [
      "/Users/ellenli/RoughPaths/RPvenv3.10/lib/python3.10/site-packages/sklearn/utils/deprecation.py:151: FutureWarning: 'force_all_finite' was renamed to 'ensure_all_finite' in 1.6 and will be removed in 1.8.\n",
      "  warnings.warn(\n",
      "\n",
      "/Users/ellenli/RoughPaths/RPvenv3.10/lib/python3.10/site-packages/sklearn/utils/deprecation.py:151: FutureWarning: 'force_all_finite' was renamed to 'ensure_all_finite' in 1.6 and will be removed in 1.8.\n",
      "  warnings.warn(\n",
      "\n"
     ]
    },
    {
     "name": "stdout",
     "output_type": "stream",
     "text": [
      " 10%|█         | 3/30 [00:26<03:58,  8.82s/trial, best loss: 0.9714347495506432]"
     ]
    },
    {
     "name": "stderr",
     "output_type": "stream",
     "text": [
      "/Users/ellenli/RoughPaths/RPvenv3.10/lib/python3.10/site-packages/sklearn/utils/deprecation.py:151: FutureWarning: 'force_all_finite' was renamed to 'ensure_all_finite' in 1.6 and will be removed in 1.8.\n",
      "  warnings.warn(\n",
      "\n",
      "/Users/ellenli/RoughPaths/RPvenv3.10/lib/python3.10/site-packages/sklearn/utils/deprecation.py:151: FutureWarning: 'force_all_finite' was renamed to 'ensure_all_finite' in 1.6 and will be removed in 1.8.\n",
      "  warnings.warn(\n",
      "\n"
     ]
    },
    {
     "name": "stdout",
     "output_type": "stream",
     "text": [
      " 13%|█▎        | 4/30 [00:35<03:49,  8.84s/trial, best loss: 0.9714347495506432]"
     ]
    },
    {
     "name": "stderr",
     "output_type": "stream",
     "text": [
      "/Users/ellenli/RoughPaths/RPvenv3.10/lib/python3.10/site-packages/sklearn/utils/deprecation.py:151: FutureWarning: 'force_all_finite' was renamed to 'ensure_all_finite' in 1.6 and will be removed in 1.8.\n",
      "  warnings.warn(\n",
      "\n",
      "/Users/ellenli/RoughPaths/RPvenv3.10/lib/python3.10/site-packages/sklearn/utils/deprecation.py:151: FutureWarning: 'force_all_finite' was renamed to 'ensure_all_finite' in 1.6 and will be removed in 1.8.\n",
      "  warnings.warn(\n",
      "\n"
     ]
    },
    {
     "name": "stdout",
     "output_type": "stream",
     "text": [
      " 17%|█▋        | 5/30 [00:49<04:23, 10.53s/trial, best loss: 0.9670530349145364]"
     ]
    },
    {
     "name": "stderr",
     "output_type": "stream",
     "text": [
      "/Users/ellenli/RoughPaths/RPvenv3.10/lib/python3.10/site-packages/sklearn/utils/deprecation.py:151: FutureWarning: 'force_all_finite' was renamed to 'ensure_all_finite' in 1.6 and will be removed in 1.8.\n",
      "  warnings.warn(\n",
      "\n",
      "/Users/ellenli/RoughPaths/RPvenv3.10/lib/python3.10/site-packages/sklearn/utils/deprecation.py:151: FutureWarning: 'force_all_finite' was renamed to 'ensure_all_finite' in 1.6 and will be removed in 1.8.\n",
      "  warnings.warn(\n",
      "\n"
     ]
    },
    {
     "name": "stdout",
     "output_type": "stream",
     "text": [
      " 20%|██        | 6/30 [00:57<03:58,  9.92s/trial, best loss: 0.9670530349145364]"
     ]
    },
    {
     "name": "stderr",
     "output_type": "stream",
     "text": [
      "/Users/ellenli/RoughPaths/RPvenv3.10/lib/python3.10/site-packages/sklearn/utils/deprecation.py:151: FutureWarning: 'force_all_finite' was renamed to 'ensure_all_finite' in 1.6 and will be removed in 1.8.\n",
      "  warnings.warn(\n",
      "\n",
      "/Users/ellenli/RoughPaths/RPvenv3.10/lib/python3.10/site-packages/sklearn/utils/deprecation.py:151: FutureWarning: 'force_all_finite' was renamed to 'ensure_all_finite' in 1.6 and will be removed in 1.8.\n",
      "  warnings.warn(\n",
      "\n"
     ]
    },
    {
     "name": "stdout",
     "output_type": "stream",
     "text": [
      " 23%|██▎       | 7/30 [01:08<03:55, 10.26s/trial, best loss: 0.9669613636706307]"
     ]
    },
    {
     "name": "stderr",
     "output_type": "stream",
     "text": [
      "/Users/ellenli/RoughPaths/RPvenv3.10/lib/python3.10/site-packages/sklearn/utils/deprecation.py:151: FutureWarning: 'force_all_finite' was renamed to 'ensure_all_finite' in 1.6 and will be removed in 1.8.\n",
      "  warnings.warn(\n",
      "\n",
      "/Users/ellenli/RoughPaths/RPvenv3.10/lib/python3.10/site-packages/sklearn/utils/deprecation.py:151: FutureWarning: 'force_all_finite' was renamed to 'ensure_all_finite' in 1.6 and will be removed in 1.8.\n",
      "  warnings.warn(\n",
      "\n"
     ]
    },
    {
     "name": "stdout",
     "output_type": "stream",
     "text": [
      " 27%|██▋       | 8/30 [01:18<03:43, 10.15s/trial, best loss: 0.9669613636706307]"
     ]
    },
    {
     "name": "stderr",
     "output_type": "stream",
     "text": [
      "/Users/ellenli/RoughPaths/RPvenv3.10/lib/python3.10/site-packages/sklearn/utils/deprecation.py:151: FutureWarning: 'force_all_finite' was renamed to 'ensure_all_finite' in 1.6 and will be removed in 1.8.\n",
      "  warnings.warn(\n",
      "\n",
      "/Users/ellenli/RoughPaths/RPvenv3.10/lib/python3.10/site-packages/sklearn/utils/deprecation.py:151: FutureWarning: 'force_all_finite' was renamed to 'ensure_all_finite' in 1.6 and will be removed in 1.8.\n",
      "  warnings.warn(\n",
      "\n"
     ]
    },
    {
     "name": "stdout",
     "output_type": "stream",
     "text": [
      " 30%|███       | 9/30 [01:29<03:36, 10.30s/trial, best loss: 0.9669613636706307]"
     ]
    },
    {
     "name": "stderr",
     "output_type": "stream",
     "text": [
      "/Users/ellenli/RoughPaths/RPvenv3.10/lib/python3.10/site-packages/sklearn/utils/deprecation.py:151: FutureWarning: 'force_all_finite' was renamed to 'ensure_all_finite' in 1.6 and will be removed in 1.8.\n",
      "  warnings.warn(\n",
      "\n",
      "/Users/ellenli/RoughPaths/RPvenv3.10/lib/python3.10/site-packages/sklearn/utils/deprecation.py:151: FutureWarning: 'force_all_finite' was renamed to 'ensure_all_finite' in 1.6 and will be removed in 1.8.\n",
      "  warnings.warn(\n",
      "\n"
     ]
    },
    {
     "name": "stdout",
     "output_type": "stream",
     "text": [
      " 33%|███▎      | 10/30 [01:42<03:45, 11.27s/trial, best loss: 0.9669613636706307]"
     ]
    },
    {
     "name": "stderr",
     "output_type": "stream",
     "text": [
      "/Users/ellenli/RoughPaths/RPvenv3.10/lib/python3.10/site-packages/sklearn/utils/deprecation.py:151: FutureWarning: 'force_all_finite' was renamed to 'ensure_all_finite' in 1.6 and will be removed in 1.8.\n",
      "  warnings.warn(\n",
      "\n",
      "/Users/ellenli/RoughPaths/RPvenv3.10/lib/python3.10/site-packages/sklearn/utils/deprecation.py:151: FutureWarning: 'force_all_finite' was renamed to 'ensure_all_finite' in 1.6 and will be removed in 1.8.\n",
      "  warnings.warn(\n",
      "\n"
     ]
    },
    {
     "name": "stdout",
     "output_type": "stream",
     "text": [
      " 37%|███▋      | 11/30 [01:53<03:29, 11.01s/trial, best loss: 0.9669613636706307]"
     ]
    },
    {
     "name": "stderr",
     "output_type": "stream",
     "text": [
      "/Users/ellenli/RoughPaths/RPvenv3.10/lib/python3.10/site-packages/sklearn/utils/deprecation.py:151: FutureWarning: 'force_all_finite' was renamed to 'ensure_all_finite' in 1.6 and will be removed in 1.8.\n",
      "  warnings.warn(\n",
      "\n",
      "/Users/ellenli/RoughPaths/RPvenv3.10/lib/python3.10/site-packages/sklearn/utils/deprecation.py:151: FutureWarning: 'force_all_finite' was renamed to 'ensure_all_finite' in 1.6 and will be removed in 1.8.\n",
      "  warnings.warn(\n",
      "\n"
     ]
    },
    {
     "name": "stdout",
     "output_type": "stream",
     "text": [
      " 40%|████      | 12/30 [02:03<03:11, 10.64s/trial, best loss: 0.9669613636706307]"
     ]
    },
    {
     "name": "stderr",
     "output_type": "stream",
     "text": [
      "/Users/ellenli/RoughPaths/RPvenv3.10/lib/python3.10/site-packages/sklearn/utils/deprecation.py:151: FutureWarning: 'force_all_finite' was renamed to 'ensure_all_finite' in 1.6 and will be removed in 1.8.\n",
      "  warnings.warn(\n",
      "\n",
      "/Users/ellenli/RoughPaths/RPvenv3.10/lib/python3.10/site-packages/sklearn/utils/deprecation.py:151: FutureWarning: 'force_all_finite' was renamed to 'ensure_all_finite' in 1.6 and will be removed in 1.8.\n",
      "  warnings.warn(\n",
      "\n"
     ]
    },
    {
     "name": "stdout",
     "output_type": "stream",
     "text": [
      " 43%|████▎     | 13/30 [02:14<03:04, 10.84s/trial, best loss: 0.9669613636706307]"
     ]
    },
    {
     "name": "stderr",
     "output_type": "stream",
     "text": [
      "/Users/ellenli/RoughPaths/RPvenv3.10/lib/python3.10/site-packages/sklearn/utils/deprecation.py:151: FutureWarning: 'force_all_finite' was renamed to 'ensure_all_finite' in 1.6 and will be removed in 1.8.\n",
      "  warnings.warn(\n",
      "\n",
      "/Users/ellenli/RoughPaths/RPvenv3.10/lib/python3.10/site-packages/sklearn/utils/deprecation.py:151: FutureWarning: 'force_all_finite' was renamed to 'ensure_all_finite' in 1.6 and will be removed in 1.8.\n",
      "  warnings.warn(\n",
      "\n"
     ]
    },
    {
     "name": "stdout",
     "output_type": "stream",
     "text": [
      " 47%|████▋     | 14/30 [02:24<02:51, 10.71s/trial, best loss: 0.9650992966064895]"
     ]
    },
    {
     "name": "stderr",
     "output_type": "stream",
     "text": [
      "/Users/ellenli/RoughPaths/RPvenv3.10/lib/python3.10/site-packages/sklearn/utils/deprecation.py:151: FutureWarning: 'force_all_finite' was renamed to 'ensure_all_finite' in 1.6 and will be removed in 1.8.\n",
      "  warnings.warn(\n",
      "\n",
      "/Users/ellenli/RoughPaths/RPvenv3.10/lib/python3.10/site-packages/sklearn/utils/deprecation.py:151: FutureWarning: 'force_all_finite' was renamed to 'ensure_all_finite' in 1.6 and will be removed in 1.8.\n",
      "  warnings.warn(\n",
      "\n"
     ]
    },
    {
     "name": "stdout",
     "output_type": "stream",
     "text": [
      " 50%|█████     | 15/30 [02:32<02:27,  9.82s/trial, best loss: 0.9650992966064895]"
     ]
    },
    {
     "name": "stderr",
     "output_type": "stream",
     "text": [
      "/Users/ellenli/RoughPaths/RPvenv3.10/lib/python3.10/site-packages/sklearn/utils/deprecation.py:151: FutureWarning: 'force_all_finite' was renamed to 'ensure_all_finite' in 1.6 and will be removed in 1.8.\n",
      "  warnings.warn(\n",
      "\n",
      "/Users/ellenli/RoughPaths/RPvenv3.10/lib/python3.10/site-packages/sklearn/utils/deprecation.py:151: FutureWarning: 'force_all_finite' was renamed to 'ensure_all_finite' in 1.6 and will be removed in 1.8.\n",
      "  warnings.warn(\n",
      "\n"
     ]
    },
    {
     "name": "stdout",
     "output_type": "stream",
     "text": [
      " 53%|█████▎    | 16/30 [02:41<02:12,  9.46s/trial, best loss: 0.9650992966064895]"
     ]
    },
    {
     "name": "stderr",
     "output_type": "stream",
     "text": [
      "/Users/ellenli/RoughPaths/RPvenv3.10/lib/python3.10/site-packages/sklearn/utils/deprecation.py:151: FutureWarning: 'force_all_finite' was renamed to 'ensure_all_finite' in 1.6 and will be removed in 1.8.\n",
      "  warnings.warn(\n",
      "\n",
      "/Users/ellenli/RoughPaths/RPvenv3.10/lib/python3.10/site-packages/sklearn/utils/deprecation.py:151: FutureWarning: 'force_all_finite' was renamed to 'ensure_all_finite' in 1.6 and will be removed in 1.8.\n",
      "  warnings.warn(\n",
      "\n"
     ]
    },
    {
     "name": "stdout",
     "output_type": "stream",
     "text": [
      " 57%|█████▋    | 17/30 [02:54<02:15, 10.46s/trial, best loss: 0.9650992966064895]"
     ]
    },
    {
     "name": "stderr",
     "output_type": "stream",
     "text": [
      "/Users/ellenli/RoughPaths/RPvenv3.10/lib/python3.10/site-packages/sklearn/utils/deprecation.py:151: FutureWarning: 'force_all_finite' was renamed to 'ensure_all_finite' in 1.6 and will be removed in 1.8.\n",
      "  warnings.warn(\n",
      "\n",
      "/Users/ellenli/RoughPaths/RPvenv3.10/lib/python3.10/site-packages/sklearn/utils/deprecation.py:151: FutureWarning: 'force_all_finite' was renamed to 'ensure_all_finite' in 1.6 and will be removed in 1.8.\n",
      "  warnings.warn(\n",
      "\n"
     ]
    },
    {
     "name": "stdout",
     "output_type": "stream",
     "text": [
      " 60%|██████    | 18/30 [03:05<02:08, 10.68s/trial, best loss: 0.9650992966064895]"
     ]
    },
    {
     "name": "stderr",
     "output_type": "stream",
     "text": [
      "/Users/ellenli/RoughPaths/RPvenv3.10/lib/python3.10/site-packages/sklearn/utils/deprecation.py:151: FutureWarning: 'force_all_finite' was renamed to 'ensure_all_finite' in 1.6 and will be removed in 1.8.\n",
      "  warnings.warn(\n",
      "\n",
      "/Users/ellenli/RoughPaths/RPvenv3.10/lib/python3.10/site-packages/sklearn/utils/deprecation.py:151: FutureWarning: 'force_all_finite' was renamed to 'ensure_all_finite' in 1.6 and will be removed in 1.8.\n",
      "  warnings.warn(\n",
      "\n"
     ]
    },
    {
     "name": "stdout",
     "output_type": "stream",
     "text": [
      " 63%|██████▎   | 19/30 [03:14<01:53, 10.29s/trial, best loss: 0.9650992966064895]"
     ]
    },
    {
     "name": "stderr",
     "output_type": "stream",
     "text": [
      "/Users/ellenli/RoughPaths/RPvenv3.10/lib/python3.10/site-packages/sklearn/utils/deprecation.py:151: FutureWarning: 'force_all_finite' was renamed to 'ensure_all_finite' in 1.6 and will be removed in 1.8.\n",
      "  warnings.warn(\n",
      "\n",
      "/Users/ellenli/RoughPaths/RPvenv3.10/lib/python3.10/site-packages/sklearn/utils/deprecation.py:151: FutureWarning: 'force_all_finite' was renamed to 'ensure_all_finite' in 1.6 and will be removed in 1.8.\n",
      "  warnings.warn(\n",
      "\n"
     ]
    },
    {
     "name": "stdout",
     "output_type": "stream",
     "text": [
      " 67%|██████▋   | 20/30 [03:24<01:42, 10.29s/trial, best loss: 0.9650992966064895]"
     ]
    },
    {
     "name": "stderr",
     "output_type": "stream",
     "text": [
      "/Users/ellenli/RoughPaths/RPvenv3.10/lib/python3.10/site-packages/sklearn/utils/deprecation.py:151: FutureWarning: 'force_all_finite' was renamed to 'ensure_all_finite' in 1.6 and will be removed in 1.8.\n",
      "  warnings.warn(\n",
      "\n",
      "/Users/ellenli/RoughPaths/RPvenv3.10/lib/python3.10/site-packages/sklearn/utils/deprecation.py:151: FutureWarning: 'force_all_finite' was renamed to 'ensure_all_finite' in 1.6 and will be removed in 1.8.\n",
      "  warnings.warn(\n",
      "\n"
     ]
    },
    {
     "name": "stdout",
     "output_type": "stream",
     "text": [
      " 70%|███████   | 21/30 [03:36<01:35, 10.63s/trial, best loss: 0.9650992966064895]"
     ]
    },
    {
     "name": "stderr",
     "output_type": "stream",
     "text": [
      "/Users/ellenli/RoughPaths/RPvenv3.10/lib/python3.10/site-packages/sklearn/utils/deprecation.py:151: FutureWarning: 'force_all_finite' was renamed to 'ensure_all_finite' in 1.6 and will be removed in 1.8.\n",
      "  warnings.warn(\n",
      "\n",
      "/Users/ellenli/RoughPaths/RPvenv3.10/lib/python3.10/site-packages/sklearn/utils/deprecation.py:151: FutureWarning: 'force_all_finite' was renamed to 'ensure_all_finite' in 1.6 and will be removed in 1.8.\n",
      "  warnings.warn(\n",
      "\n"
     ]
    },
    {
     "name": "stdout",
     "output_type": "stream",
     "text": [
      " 73%|███████▎  | 22/30 [03:47<01:25, 10.74s/trial, best loss: 0.9650459846600741]"
     ]
    },
    {
     "name": "stderr",
     "output_type": "stream",
     "text": [
      "/Users/ellenli/RoughPaths/RPvenv3.10/lib/python3.10/site-packages/sklearn/utils/deprecation.py:151: FutureWarning: 'force_all_finite' was renamed to 'ensure_all_finite' in 1.6 and will be removed in 1.8.\n",
      "  warnings.warn(\n",
      "\n",
      "/Users/ellenli/RoughPaths/RPvenv3.10/lib/python3.10/site-packages/sklearn/utils/deprecation.py:151: FutureWarning: 'force_all_finite' was renamed to 'ensure_all_finite' in 1.6 and will be removed in 1.8.\n",
      "  warnings.warn(\n",
      "\n"
     ]
    },
    {
     "name": "stdout",
     "output_type": "stream",
     "text": [
      " 77%|███████▋  | 23/30 [03:59<01:19, 11.32s/trial, best loss: 0.9640297127722361]"
     ]
    },
    {
     "name": "stderr",
     "output_type": "stream",
     "text": [
      "/Users/ellenli/RoughPaths/RPvenv3.10/lib/python3.10/site-packages/sklearn/utils/deprecation.py:151: FutureWarning: 'force_all_finite' was renamed to 'ensure_all_finite' in 1.6 and will be removed in 1.8.\n",
      "  warnings.warn(\n",
      "\n",
      "/Users/ellenli/RoughPaths/RPvenv3.10/lib/python3.10/site-packages/sklearn/utils/deprecation.py:151: FutureWarning: 'force_all_finite' was renamed to 'ensure_all_finite' in 1.6 and will be removed in 1.8.\n",
      "  warnings.warn(\n",
      "\n"
     ]
    },
    {
     "name": "stdout",
     "output_type": "stream",
     "text": [
      " 80%|████████  | 24/30 [04:12<01:10, 11.70s/trial, best loss: 0.9640297127722361]"
     ]
    },
    {
     "name": "stderr",
     "output_type": "stream",
     "text": [
      "/Users/ellenli/RoughPaths/RPvenv3.10/lib/python3.10/site-packages/sklearn/utils/deprecation.py:151: FutureWarning: 'force_all_finite' was renamed to 'ensure_all_finite' in 1.6 and will be removed in 1.8.\n",
      "  warnings.warn(\n",
      "\n",
      "/Users/ellenli/RoughPaths/RPvenv3.10/lib/python3.10/site-packages/sklearn/utils/deprecation.py:151: FutureWarning: 'force_all_finite' was renamed to 'ensure_all_finite' in 1.6 and will be removed in 1.8.\n",
      "  warnings.warn(\n",
      "\n"
     ]
    },
    {
     "name": "stdout",
     "output_type": "stream",
     "text": [
      " 83%|████████▎ | 25/30 [04:26<01:01, 12.22s/trial, best loss: 0.9640297127722361]"
     ]
    },
    {
     "name": "stderr",
     "output_type": "stream",
     "text": [
      "/Users/ellenli/RoughPaths/RPvenv3.10/lib/python3.10/site-packages/sklearn/utils/deprecation.py:151: FutureWarning: 'force_all_finite' was renamed to 'ensure_all_finite' in 1.6 and will be removed in 1.8.\n",
      "  warnings.warn(\n",
      "\n",
      "/Users/ellenli/RoughPaths/RPvenv3.10/lib/python3.10/site-packages/sklearn/utils/deprecation.py:151: FutureWarning: 'force_all_finite' was renamed to 'ensure_all_finite' in 1.6 and will be removed in 1.8.\n",
      "  warnings.warn(\n",
      "\n"
     ]
    },
    {
     "name": "stdout",
     "output_type": "stream",
     "text": [
      " 87%|████████▋ | 26/30 [04:37<00:47, 11.94s/trial, best loss: 0.9640297127722361]"
     ]
    },
    {
     "name": "stderr",
     "output_type": "stream",
     "text": [
      "/Users/ellenli/RoughPaths/RPvenv3.10/lib/python3.10/site-packages/sklearn/utils/deprecation.py:151: FutureWarning: 'force_all_finite' was renamed to 'ensure_all_finite' in 1.6 and will be removed in 1.8.\n",
      "  warnings.warn(\n",
      "\n",
      "/Users/ellenli/RoughPaths/RPvenv3.10/lib/python3.10/site-packages/sklearn/utils/deprecation.py:151: FutureWarning: 'force_all_finite' was renamed to 'ensure_all_finite' in 1.6 and will be removed in 1.8.\n",
      "  warnings.warn(\n",
      "\n"
     ]
    },
    {
     "name": "stdout",
     "output_type": "stream",
     "text": [
      " 90%|█████████ | 27/30 [04:47<00:34, 11.50s/trial, best loss: 0.9640297127722361]"
     ]
    },
    {
     "name": "stderr",
     "output_type": "stream",
     "text": [
      "/Users/ellenli/RoughPaths/RPvenv3.10/lib/python3.10/site-packages/sklearn/utils/deprecation.py:151: FutureWarning: 'force_all_finite' was renamed to 'ensure_all_finite' in 1.6 and will be removed in 1.8.\n",
      "  warnings.warn(\n",
      "\n",
      "/Users/ellenli/RoughPaths/RPvenv3.10/lib/python3.10/site-packages/sklearn/utils/deprecation.py:151: FutureWarning: 'force_all_finite' was renamed to 'ensure_all_finite' in 1.6 and will be removed in 1.8.\n",
      "  warnings.warn(\n",
      "\n"
     ]
    },
    {
     "name": "stdout",
     "output_type": "stream",
     "text": [
      " 93%|█████████▎| 28/30 [05:00<00:23, 11.78s/trial, best loss: 0.9640297127722361]"
     ]
    },
    {
     "name": "stderr",
     "output_type": "stream",
     "text": [
      "/Users/ellenli/RoughPaths/RPvenv3.10/lib/python3.10/site-packages/sklearn/utils/deprecation.py:151: FutureWarning: 'force_all_finite' was renamed to 'ensure_all_finite' in 1.6 and will be removed in 1.8.\n",
      "  warnings.warn(\n",
      "\n",
      "/Users/ellenli/RoughPaths/RPvenv3.10/lib/python3.10/site-packages/sklearn/utils/deprecation.py:151: FutureWarning: 'force_all_finite' was renamed to 'ensure_all_finite' in 1.6 and will be removed in 1.8.\n",
      "  warnings.warn(\n",
      "\n"
     ]
    },
    {
     "name": "stdout",
     "output_type": "stream",
     "text": [
      " 97%|█████████▋| 29/30 [05:12<00:11, 11.97s/trial, best loss: 0.9640297127722361]"
     ]
    },
    {
     "name": "stderr",
     "output_type": "stream",
     "text": [
      "/Users/ellenli/RoughPaths/RPvenv3.10/lib/python3.10/site-packages/sklearn/utils/deprecation.py:151: FutureWarning: 'force_all_finite' was renamed to 'ensure_all_finite' in 1.6 and will be removed in 1.8.\n",
      "  warnings.warn(\n",
      "\n",
      "/Users/ellenli/RoughPaths/RPvenv3.10/lib/python3.10/site-packages/sklearn/utils/deprecation.py:151: FutureWarning: 'force_all_finite' was renamed to 'ensure_all_finite' in 1.6 and will be removed in 1.8.\n",
      "  warnings.warn(\n",
      "\n"
     ]
    },
    {
     "name": "stdout",
     "output_type": "stream",
     "text": [
      "100%|██████████| 30/30 [05:24<00:00, 10.81s/trial, best loss: 0.9640297127722361]\n",
      "Best hyperparameters: {'colsample_bytree': np.float64(0.5588863291395639), 'learning_rate': np.float64(0.0594672763779546), 'max_bin': np.float64(59.0), 'max_depth': np.float64(7.0), 'min_data_in_leaf': np.int64(0), 'min_split_gain': np.float64(0.7254475936201399), 'num_leaves': np.int64(4), 'reg_alpha': np.float64(0.9801711476089833), 'reg_lambda': np.float64(0.9871403025408987), 'subsample': np.float64(0.9199590850593243)}\n",
      "Trials: <hyperopt.base.Trials object at 0x111c5cdc0>\n",
      "R2: 0.03597028722776385\n"
     ]
    },
    {
     "name": "stderr",
     "output_type": "stream",
     "text": [
      "/Users/ellenli/RoughPaths/RPvenv3.10/lib/python3.10/site-packages/sklearn/utils/deprecation.py:151: FutureWarning: 'force_all_finite' was renamed to 'ensure_all_finite' in 1.6 and will be removed in 1.8.\n",
      "  warnings.warn(\n",
      "/Users/ellenli/RoughPaths/RPvenv3.10/lib/python3.10/site-packages/sklearn/utils/deprecation.py:151: FutureWarning: 'force_all_finite' was renamed to 'ensure_all_finite' in 1.6 and will be removed in 1.8.\n",
      "  warnings.warn(\n",
      "/Users/ellenli/RoughPaths/RPvenv3.10/lib/python3.10/site-packages/sklearn/utils/deprecation.py:151: FutureWarning: 'force_all_finite' was renamed to 'ensure_all_finite' in 1.6 and will be removed in 1.8.\n",
      "  warnings.warn(\n"
     ]
    },
    {
     "name": "stdout",
     "output_type": "stream",
     "text": [
      "0.1314, 0.0360\n",
      "Training model for lag = 80\n",
      "  0%|          | 0/30 [00:00<?, ?trial/s, best loss=?]"
     ]
    },
    {
     "name": "stderr",
     "output_type": "stream",
     "text": [
      "/Users/ellenli/RoughPaths/RPvenv3.10/lib/python3.10/site-packages/sklearn/utils/deprecation.py:151: FutureWarning: 'force_all_finite' was renamed to 'ensure_all_finite' in 1.6 and will be removed in 1.8.\n",
      "  warnings.warn(\n",
      "\n",
      "/Users/ellenli/RoughPaths/RPvenv3.10/lib/python3.10/site-packages/sklearn/utils/deprecation.py:151: FutureWarning: 'force_all_finite' was renamed to 'ensure_all_finite' in 1.6 and will be removed in 1.8.\n",
      "  warnings.warn(\n",
      "\n"
     ]
    },
    {
     "name": "stdout",
     "output_type": "stream",
     "text": [
      "  3%|▎         | 1/30 [00:10<05:15, 10.89s/trial, best loss: 0.9782104369094342]"
     ]
    },
    {
     "name": "stderr",
     "output_type": "stream",
     "text": [
      "/Users/ellenli/RoughPaths/RPvenv3.10/lib/python3.10/site-packages/sklearn/utils/deprecation.py:151: FutureWarning: 'force_all_finite' was renamed to 'ensure_all_finite' in 1.6 and will be removed in 1.8.\n",
      "  warnings.warn(\n",
      "\n",
      "/Users/ellenli/RoughPaths/RPvenv3.10/lib/python3.10/site-packages/sklearn/utils/deprecation.py:151: FutureWarning: 'force_all_finite' was renamed to 'ensure_all_finite' in 1.6 and will be removed in 1.8.\n",
      "  warnings.warn(\n",
      "\n"
     ]
    },
    {
     "name": "stdout",
     "output_type": "stream",
     "text": [
      "  7%|▋         | 2/30 [00:20<04:46, 10.25s/trial, best loss: 0.9782104369094342]"
     ]
    },
    {
     "name": "stderr",
     "output_type": "stream",
     "text": [
      "/Users/ellenli/RoughPaths/RPvenv3.10/lib/python3.10/site-packages/sklearn/utils/deprecation.py:151: FutureWarning: 'force_all_finite' was renamed to 'ensure_all_finite' in 1.6 and will be removed in 1.8.\n",
      "  warnings.warn(\n",
      "\n",
      "/Users/ellenli/RoughPaths/RPvenv3.10/lib/python3.10/site-packages/sklearn/utils/deprecation.py:151: FutureWarning: 'force_all_finite' was renamed to 'ensure_all_finite' in 1.6 and will be removed in 1.8.\n",
      "  warnings.warn(\n",
      "\n"
     ]
    },
    {
     "name": "stdout",
     "output_type": "stream",
     "text": [
      " 10%|█         | 3/30 [00:30<04:27,  9.90s/trial, best loss: 0.9782104369094342]"
     ]
    },
    {
     "name": "stderr",
     "output_type": "stream",
     "text": [
      "/Users/ellenli/RoughPaths/RPvenv3.10/lib/python3.10/site-packages/sklearn/utils/deprecation.py:151: FutureWarning: 'force_all_finite' was renamed to 'ensure_all_finite' in 1.6 and will be removed in 1.8.\n",
      "  warnings.warn(\n",
      "\n",
      "/Users/ellenli/RoughPaths/RPvenv3.10/lib/python3.10/site-packages/sklearn/utils/deprecation.py:151: FutureWarning: 'force_all_finite' was renamed to 'ensure_all_finite' in 1.6 and will be removed in 1.8.\n",
      "  warnings.warn(\n",
      "\n"
     ]
    },
    {
     "name": "stdout",
     "output_type": "stream",
     "text": [
      " 13%|█▎        | 4/30 [00:40<04:20, 10.04s/trial, best loss: 0.9782104369094342]"
     ]
    },
    {
     "name": "stderr",
     "output_type": "stream",
     "text": [
      "/Users/ellenli/RoughPaths/RPvenv3.10/lib/python3.10/site-packages/sklearn/utils/deprecation.py:151: FutureWarning: 'force_all_finite' was renamed to 'ensure_all_finite' in 1.6 and will be removed in 1.8.\n",
      "  warnings.warn(\n",
      "\n",
      "/Users/ellenli/RoughPaths/RPvenv3.10/lib/python3.10/site-packages/sklearn/utils/deprecation.py:151: FutureWarning: 'force_all_finite' was renamed to 'ensure_all_finite' in 1.6 and will be removed in 1.8.\n",
      "  warnings.warn(\n",
      "\n"
     ]
    },
    {
     "name": "stdout",
     "output_type": "stream",
     "text": [
      " 17%|█▋        | 5/30 [00:54<04:44, 11.38s/trial, best loss: 0.9759775998413002]"
     ]
    },
    {
     "name": "stderr",
     "output_type": "stream",
     "text": [
      "/Users/ellenli/RoughPaths/RPvenv3.10/lib/python3.10/site-packages/sklearn/utils/deprecation.py:151: FutureWarning: 'force_all_finite' was renamed to 'ensure_all_finite' in 1.6 and will be removed in 1.8.\n",
      "  warnings.warn(\n",
      "\n",
      "/Users/ellenli/RoughPaths/RPvenv3.10/lib/python3.10/site-packages/sklearn/utils/deprecation.py:151: FutureWarning: 'force_all_finite' was renamed to 'ensure_all_finite' in 1.6 and will be removed in 1.8.\n",
      "  warnings.warn(\n",
      "\n"
     ]
    },
    {
     "name": "stdout",
     "output_type": "stream",
     "text": [
      " 20%|██        | 6/30 [01:02<04:06, 10.28s/trial, best loss: 0.9759775998413002]"
     ]
    },
    {
     "name": "stderr",
     "output_type": "stream",
     "text": [
      "/Users/ellenli/RoughPaths/RPvenv3.10/lib/python3.10/site-packages/sklearn/utils/deprecation.py:151: FutureWarning: 'force_all_finite' was renamed to 'ensure_all_finite' in 1.6 and will be removed in 1.8.\n",
      "  warnings.warn(\n",
      "\n",
      "/Users/ellenli/RoughPaths/RPvenv3.10/lib/python3.10/site-packages/sklearn/utils/deprecation.py:151: FutureWarning: 'force_all_finite' was renamed to 'ensure_all_finite' in 1.6 and will be removed in 1.8.\n",
      "  warnings.warn(\n",
      "\n"
     ]
    },
    {
     "name": "stdout",
     "output_type": "stream",
     "text": [
      " 23%|██▎       | 7/30 [01:13<04:00, 10.44s/trial, best loss: 0.9759775998413002]"
     ]
    },
    {
     "name": "stderr",
     "output_type": "stream",
     "text": [
      "/Users/ellenli/RoughPaths/RPvenv3.10/lib/python3.10/site-packages/sklearn/utils/deprecation.py:151: FutureWarning: 'force_all_finite' was renamed to 'ensure_all_finite' in 1.6 and will be removed in 1.8.\n",
      "  warnings.warn(\n",
      "\n",
      "/Users/ellenli/RoughPaths/RPvenv3.10/lib/python3.10/site-packages/sklearn/utils/deprecation.py:151: FutureWarning: 'force_all_finite' was renamed to 'ensure_all_finite' in 1.6 and will be removed in 1.8.\n",
      "  warnings.warn(\n",
      "\n"
     ]
    },
    {
     "name": "stdout",
     "output_type": "stream",
     "text": [
      " 27%|██▋       | 8/30 [01:22<03:45, 10.26s/trial, best loss: 0.975853405703475] "
     ]
    },
    {
     "name": "stderr",
     "output_type": "stream",
     "text": [
      "/Users/ellenli/RoughPaths/RPvenv3.10/lib/python3.10/site-packages/sklearn/utils/deprecation.py:151: FutureWarning: 'force_all_finite' was renamed to 'ensure_all_finite' in 1.6 and will be removed in 1.8.\n",
      "  warnings.warn(\n",
      "\n",
      "/Users/ellenli/RoughPaths/RPvenv3.10/lib/python3.10/site-packages/sklearn/utils/deprecation.py:151: FutureWarning: 'force_all_finite' was renamed to 'ensure_all_finite' in 1.6 and will be removed in 1.8.\n",
      "  warnings.warn(\n",
      "\n"
     ]
    },
    {
     "name": "stdout",
     "output_type": "stream",
     "text": [
      " 30%|███       | 9/30 [01:33<03:35, 10.26s/trial, best loss: 0.975853405703475]"
     ]
    },
    {
     "name": "stderr",
     "output_type": "stream",
     "text": [
      "/Users/ellenli/RoughPaths/RPvenv3.10/lib/python3.10/site-packages/sklearn/utils/deprecation.py:151: FutureWarning: 'force_all_finite' was renamed to 'ensure_all_finite' in 1.6 and will be removed in 1.8.\n",
      "  warnings.warn(\n",
      "\n",
      "/Users/ellenli/RoughPaths/RPvenv3.10/lib/python3.10/site-packages/sklearn/utils/deprecation.py:151: FutureWarning: 'force_all_finite' was renamed to 'ensure_all_finite' in 1.6 and will be removed in 1.8.\n",
      "  warnings.warn(\n",
      "\n"
     ]
    },
    {
     "name": "stdout",
     "output_type": "stream",
     "text": [
      " 33%|███▎      | 10/30 [01:46<03:45, 11.28s/trial, best loss: 0.975853405703475]"
     ]
    },
    {
     "name": "stderr",
     "output_type": "stream",
     "text": [
      "/Users/ellenli/RoughPaths/RPvenv3.10/lib/python3.10/site-packages/sklearn/utils/deprecation.py:151: FutureWarning: 'force_all_finite' was renamed to 'ensure_all_finite' in 1.6 and will be removed in 1.8.\n",
      "  warnings.warn(\n",
      "\n",
      "/Users/ellenli/RoughPaths/RPvenv3.10/lib/python3.10/site-packages/sklearn/utils/deprecation.py:151: FutureWarning: 'force_all_finite' was renamed to 'ensure_all_finite' in 1.6 and will be removed in 1.8.\n",
      "  warnings.warn(\n",
      "\n"
     ]
    },
    {
     "name": "stdout",
     "output_type": "stream",
     "text": [
      " 37%|███▋      | 11/30 [01:57<03:31, 11.14s/trial, best loss: 0.9755110474152278]"
     ]
    },
    {
     "name": "stderr",
     "output_type": "stream",
     "text": [
      "/Users/ellenli/RoughPaths/RPvenv3.10/lib/python3.10/site-packages/sklearn/utils/deprecation.py:151: FutureWarning: 'force_all_finite' was renamed to 'ensure_all_finite' in 1.6 and will be removed in 1.8.\n",
      "  warnings.warn(\n",
      "\n",
      "/Users/ellenli/RoughPaths/RPvenv3.10/lib/python3.10/site-packages/sklearn/utils/deprecation.py:151: FutureWarning: 'force_all_finite' was renamed to 'ensure_all_finite' in 1.6 and will be removed in 1.8.\n",
      "  warnings.warn(\n",
      "\n"
     ]
    },
    {
     "name": "stdout",
     "output_type": "stream",
     "text": [
      " 40%|████      | 12/30 [02:07<03:13, 10.77s/trial, best loss: 0.975171202283647] "
     ]
    },
    {
     "name": "stderr",
     "output_type": "stream",
     "text": [
      "/Users/ellenli/RoughPaths/RPvenv3.10/lib/python3.10/site-packages/sklearn/utils/deprecation.py:151: FutureWarning: 'force_all_finite' was renamed to 'ensure_all_finite' in 1.6 and will be removed in 1.8.\n",
      "  warnings.warn(\n",
      "\n",
      "/Users/ellenli/RoughPaths/RPvenv3.10/lib/python3.10/site-packages/sklearn/utils/deprecation.py:151: FutureWarning: 'force_all_finite' was renamed to 'ensure_all_finite' in 1.6 and will be removed in 1.8.\n",
      "  warnings.warn(\n",
      "\n"
     ]
    },
    {
     "name": "stdout",
     "output_type": "stream",
     "text": [
      " 43%|████▎     | 13/30 [02:18<03:05, 10.94s/trial, best loss: 0.975171202283647]"
     ]
    },
    {
     "name": "stderr",
     "output_type": "stream",
     "text": [
      "/Users/ellenli/RoughPaths/RPvenv3.10/lib/python3.10/site-packages/sklearn/utils/deprecation.py:151: FutureWarning: 'force_all_finite' was renamed to 'ensure_all_finite' in 1.6 and will be removed in 1.8.\n",
      "  warnings.warn(\n",
      "\n",
      "/Users/ellenli/RoughPaths/RPvenv3.10/lib/python3.10/site-packages/sklearn/utils/deprecation.py:151: FutureWarning: 'force_all_finite' was renamed to 'ensure_all_finite' in 1.6 and will be removed in 1.8.\n",
      "  warnings.warn(\n",
      "\n"
     ]
    },
    {
     "name": "stdout",
     "output_type": "stream",
     "text": [
      " 47%|████▋     | 14/30 [02:29<02:51, 10.74s/trial, best loss: 0.975171202283647]"
     ]
    },
    {
     "name": "stderr",
     "output_type": "stream",
     "text": [
      "/Users/ellenli/RoughPaths/RPvenv3.10/lib/python3.10/site-packages/sklearn/utils/deprecation.py:151: FutureWarning: 'force_all_finite' was renamed to 'ensure_all_finite' in 1.6 and will be removed in 1.8.\n",
      "  warnings.warn(\n",
      "\n",
      "/Users/ellenli/RoughPaths/RPvenv3.10/lib/python3.10/site-packages/sklearn/utils/deprecation.py:151: FutureWarning: 'force_all_finite' was renamed to 'ensure_all_finite' in 1.6 and will be removed in 1.8.\n",
      "  warnings.warn(\n",
      "\n"
     ]
    },
    {
     "name": "stdout",
     "output_type": "stream",
     "text": [
      " 50%|█████     | 15/30 [02:36<02:26,  9.77s/trial, best loss: 0.975171202283647]"
     ]
    },
    {
     "name": "stderr",
     "output_type": "stream",
     "text": [
      "/Users/ellenli/RoughPaths/RPvenv3.10/lib/python3.10/site-packages/sklearn/utils/deprecation.py:151: FutureWarning: 'force_all_finite' was renamed to 'ensure_all_finite' in 1.6 and will be removed in 1.8.\n",
      "  warnings.warn(\n",
      "\n",
      "/Users/ellenli/RoughPaths/RPvenv3.10/lib/python3.10/site-packages/sklearn/utils/deprecation.py:151: FutureWarning: 'force_all_finite' was renamed to 'ensure_all_finite' in 1.6 and will be removed in 1.8.\n",
      "  warnings.warn(\n",
      "\n"
     ]
    },
    {
     "name": "stdout",
     "output_type": "stream",
     "text": [
      " 53%|█████▎    | 16/30 [02:45<02:11,  9.38s/trial, best loss: 0.975171202283647]"
     ]
    },
    {
     "name": "stderr",
     "output_type": "stream",
     "text": [
      "/Users/ellenli/RoughPaths/RPvenv3.10/lib/python3.10/site-packages/sklearn/utils/deprecation.py:151: FutureWarning: 'force_all_finite' was renamed to 'ensure_all_finite' in 1.6 and will be removed in 1.8.\n",
      "  warnings.warn(\n",
      "\n",
      "/Users/ellenli/RoughPaths/RPvenv3.10/lib/python3.10/site-packages/sklearn/utils/deprecation.py:151: FutureWarning: 'force_all_finite' was renamed to 'ensure_all_finite' in 1.6 and will be removed in 1.8.\n",
      "  warnings.warn(\n",
      "\n"
     ]
    },
    {
     "name": "stdout",
     "output_type": "stream",
     "text": [
      " 57%|█████▋    | 17/30 [02:56<02:10, 10.06s/trial, best loss: 0.975171202283647]"
     ]
    },
    {
     "name": "stderr",
     "output_type": "stream",
     "text": [
      "/Users/ellenli/RoughPaths/RPvenv3.10/lib/python3.10/site-packages/sklearn/utils/deprecation.py:151: FutureWarning: 'force_all_finite' was renamed to 'ensure_all_finite' in 1.6 and will be removed in 1.8.\n",
      "  warnings.warn(\n",
      "\n",
      "/Users/ellenli/RoughPaths/RPvenv3.10/lib/python3.10/site-packages/sklearn/utils/deprecation.py:151: FutureWarning: 'force_all_finite' was renamed to 'ensure_all_finite' in 1.6 and will be removed in 1.8.\n",
      "  warnings.warn(\n",
      "\n"
     ]
    },
    {
     "name": "stdout",
     "output_type": "stream",
     "text": [
      " 60%|██████    | 18/30 [03:07<02:02, 10.23s/trial, best loss: 0.975171202283647]"
     ]
    },
    {
     "name": "stderr",
     "output_type": "stream",
     "text": [
      "/Users/ellenli/RoughPaths/RPvenv3.10/lib/python3.10/site-packages/sklearn/utils/deprecation.py:151: FutureWarning: 'force_all_finite' was renamed to 'ensure_all_finite' in 1.6 and will be removed in 1.8.\n",
      "  warnings.warn(\n",
      "\n",
      "/Users/ellenli/RoughPaths/RPvenv3.10/lib/python3.10/site-packages/sklearn/utils/deprecation.py:151: FutureWarning: 'force_all_finite' was renamed to 'ensure_all_finite' in 1.6 and will be removed in 1.8.\n",
      "  warnings.warn(\n",
      "\n"
     ]
    },
    {
     "name": "stdout",
     "output_type": "stream",
     "text": [
      " 63%|██████▎   | 19/30 [03:16<01:48,  9.89s/trial, best loss: 0.975171202283647]"
     ]
    },
    {
     "name": "stderr",
     "output_type": "stream",
     "text": [
      "/Users/ellenli/RoughPaths/RPvenv3.10/lib/python3.10/site-packages/sklearn/utils/deprecation.py:151: FutureWarning: 'force_all_finite' was renamed to 'ensure_all_finite' in 1.6 and will be removed in 1.8.\n",
      "  warnings.warn(\n",
      "\n",
      "/Users/ellenli/RoughPaths/RPvenv3.10/lib/python3.10/site-packages/sklearn/utils/deprecation.py:151: FutureWarning: 'force_all_finite' was renamed to 'ensure_all_finite' in 1.6 and will be removed in 1.8.\n",
      "  warnings.warn(\n",
      "\n"
     ]
    },
    {
     "name": "stdout",
     "output_type": "stream",
     "text": [
      " 67%|██████▋   | 20/30 [03:26<01:39,  9.95s/trial, best loss: 0.975171202283647]"
     ]
    },
    {
     "name": "stderr",
     "output_type": "stream",
     "text": [
      "/Users/ellenli/RoughPaths/RPvenv3.10/lib/python3.10/site-packages/sklearn/utils/deprecation.py:151: FutureWarning: 'force_all_finite' was renamed to 'ensure_all_finite' in 1.6 and will be removed in 1.8.\n",
      "  warnings.warn(\n",
      "\n",
      "/Users/ellenli/RoughPaths/RPvenv3.10/lib/python3.10/site-packages/sklearn/utils/deprecation.py:151: FutureWarning: 'force_all_finite' was renamed to 'ensure_all_finite' in 1.6 and will be removed in 1.8.\n",
      "  warnings.warn(\n",
      "\n"
     ]
    },
    {
     "name": "stdout",
     "output_type": "stream",
     "text": [
      " 70%|███████   | 21/30 [03:36<01:29,  9.97s/trial, best loss: 0.9745970111386887]"
     ]
    },
    {
     "name": "stderr",
     "output_type": "stream",
     "text": [
      "/Users/ellenli/RoughPaths/RPvenv3.10/lib/python3.10/site-packages/sklearn/utils/deprecation.py:151: FutureWarning: 'force_all_finite' was renamed to 'ensure_all_finite' in 1.6 and will be removed in 1.8.\n",
      "  warnings.warn(\n",
      "\n",
      "/Users/ellenli/RoughPaths/RPvenv3.10/lib/python3.10/site-packages/sklearn/utils/deprecation.py:151: FutureWarning: 'force_all_finite' was renamed to 'ensure_all_finite' in 1.6 and will be removed in 1.8.\n",
      "  warnings.warn(\n",
      "\n"
     ]
    },
    {
     "name": "stdout",
     "output_type": "stream",
     "text": [
      " 73%|███████▎  | 22/30 [03:49<01:27, 10.92s/trial, best loss: 0.9740965888032214]"
     ]
    },
    {
     "name": "stderr",
     "output_type": "stream",
     "text": [
      "/Users/ellenli/RoughPaths/RPvenv3.10/lib/python3.10/site-packages/sklearn/utils/deprecation.py:151: FutureWarning: 'force_all_finite' was renamed to 'ensure_all_finite' in 1.6 and will be removed in 1.8.\n",
      "  warnings.warn(\n",
      "\n",
      "/Users/ellenli/RoughPaths/RPvenv3.10/lib/python3.10/site-packages/sklearn/utils/deprecation.py:151: FutureWarning: 'force_all_finite' was renamed to 'ensure_all_finite' in 1.6 and will be removed in 1.8.\n",
      "  warnings.warn(\n",
      "\n"
     ]
    },
    {
     "name": "stdout",
     "output_type": "stream",
     "text": [
      " 77%|███████▋  | 23/30 [04:04<01:24, 12.11s/trial, best loss: 0.9740965888032214]"
     ]
    },
    {
     "name": "stderr",
     "output_type": "stream",
     "text": [
      "/Users/ellenli/RoughPaths/RPvenv3.10/lib/python3.10/site-packages/sklearn/utils/deprecation.py:151: FutureWarning: 'force_all_finite' was renamed to 'ensure_all_finite' in 1.6 and will be removed in 1.8.\n",
      "  warnings.warn(\n",
      "\n",
      "/Users/ellenli/RoughPaths/RPvenv3.10/lib/python3.10/site-packages/sklearn/utils/deprecation.py:151: FutureWarning: 'force_all_finite' was renamed to 'ensure_all_finite' in 1.6 and will be removed in 1.8.\n",
      "  warnings.warn(\n",
      "\n"
     ]
    },
    {
     "name": "stdout",
     "output_type": "stream",
     "text": [
      " 80%|████████  | 24/30 [04:18<01:16, 12.67s/trial, best loss: 0.9740965888032214]"
     ]
    },
    {
     "name": "stderr",
     "output_type": "stream",
     "text": [
      "/Users/ellenli/RoughPaths/RPvenv3.10/lib/python3.10/site-packages/sklearn/utils/deprecation.py:151: FutureWarning: 'force_all_finite' was renamed to 'ensure_all_finite' in 1.6 and will be removed in 1.8.\n",
      "  warnings.warn(\n",
      "\n",
      "/Users/ellenli/RoughPaths/RPvenv3.10/lib/python3.10/site-packages/sklearn/utils/deprecation.py:151: FutureWarning: 'force_all_finite' was renamed to 'ensure_all_finite' in 1.6 and will be removed in 1.8.\n",
      "  warnings.warn(\n",
      "\n"
     ]
    },
    {
     "name": "stdout",
     "output_type": "stream",
     "text": [
      " 83%|████████▎ | 25/30 [04:31<01:02, 12.59s/trial, best loss: 0.9736158051294619]"
     ]
    },
    {
     "name": "stderr",
     "output_type": "stream",
     "text": [
      "/Users/ellenli/RoughPaths/RPvenv3.10/lib/python3.10/site-packages/sklearn/utils/deprecation.py:151: FutureWarning: 'force_all_finite' was renamed to 'ensure_all_finite' in 1.6 and will be removed in 1.8.\n",
      "  warnings.warn(\n",
      "\n",
      "/Users/ellenli/RoughPaths/RPvenv3.10/lib/python3.10/site-packages/sklearn/utils/deprecation.py:151: FutureWarning: 'force_all_finite' was renamed to 'ensure_all_finite' in 1.6 and will be removed in 1.8.\n",
      "  warnings.warn(\n",
      "\n"
     ]
    },
    {
     "name": "stdout",
     "output_type": "stream",
     "text": [
      " 87%|████████▋ | 26/30 [04:43<00:49, 12.49s/trial, best loss: 0.9736158051294619]"
     ]
    },
    {
     "name": "stderr",
     "output_type": "stream",
     "text": [
      "/Users/ellenli/RoughPaths/RPvenv3.10/lib/python3.10/site-packages/sklearn/utils/deprecation.py:151: FutureWarning: 'force_all_finite' was renamed to 'ensure_all_finite' in 1.6 and will be removed in 1.8.\n",
      "  warnings.warn(\n",
      "\n",
      "/Users/ellenli/RoughPaths/RPvenv3.10/lib/python3.10/site-packages/sklearn/utils/deprecation.py:151: FutureWarning: 'force_all_finite' was renamed to 'ensure_all_finite' in 1.6 and will be removed in 1.8.\n",
      "  warnings.warn(\n",
      "\n"
     ]
    },
    {
     "name": "stdout",
     "output_type": "stream",
     "text": [
      " 90%|█████████ | 27/30 [04:55<00:36, 12.30s/trial, best loss: 0.9736158051294619]"
     ]
    },
    {
     "name": "stderr",
     "output_type": "stream",
     "text": [
      "/Users/ellenli/RoughPaths/RPvenv3.10/lib/python3.10/site-packages/sklearn/utils/deprecation.py:151: FutureWarning: 'force_all_finite' was renamed to 'ensure_all_finite' in 1.6 and will be removed in 1.8.\n",
      "  warnings.warn(\n",
      "\n",
      "/Users/ellenli/RoughPaths/RPvenv3.10/lib/python3.10/site-packages/sklearn/utils/deprecation.py:151: FutureWarning: 'force_all_finite' was renamed to 'ensure_all_finite' in 1.6 and will be removed in 1.8.\n",
      "  warnings.warn(\n",
      "\n"
     ]
    },
    {
     "name": "stdout",
     "output_type": "stream",
     "text": [
      " 93%|█████████▎| 28/30 [05:06<00:24, 12.14s/trial, best loss: 0.9736158051294619]"
     ]
    },
    {
     "name": "stderr",
     "output_type": "stream",
     "text": [
      "/Users/ellenli/RoughPaths/RPvenv3.10/lib/python3.10/site-packages/sklearn/utils/deprecation.py:151: FutureWarning: 'force_all_finite' was renamed to 'ensure_all_finite' in 1.6 and will be removed in 1.8.\n",
      "  warnings.warn(\n",
      "\n",
      "/Users/ellenli/RoughPaths/RPvenv3.10/lib/python3.10/site-packages/sklearn/utils/deprecation.py:151: FutureWarning: 'force_all_finite' was renamed to 'ensure_all_finite' in 1.6 and will be removed in 1.8.\n",
      "  warnings.warn(\n",
      "\n"
     ]
    },
    {
     "name": "stdout",
     "output_type": "stream",
     "text": [
      " 97%|█████████▋| 29/30 [05:17<00:11, 11.63s/trial, best loss: 0.9736158051294619]"
     ]
    },
    {
     "name": "stderr",
     "output_type": "stream",
     "text": [
      "/Users/ellenli/RoughPaths/RPvenv3.10/lib/python3.10/site-packages/sklearn/utils/deprecation.py:151: FutureWarning: 'force_all_finite' was renamed to 'ensure_all_finite' in 1.6 and will be removed in 1.8.\n",
      "  warnings.warn(\n",
      "\n",
      "/Users/ellenli/RoughPaths/RPvenv3.10/lib/python3.10/site-packages/sklearn/utils/deprecation.py:151: FutureWarning: 'force_all_finite' was renamed to 'ensure_all_finite' in 1.6 and will be removed in 1.8.\n",
      "  warnings.warn(\n",
      "\n"
     ]
    },
    {
     "name": "stdout",
     "output_type": "stream",
     "text": [
      "100%|██████████| 30/30 [05:29<00:00, 10.98s/trial, best loss: 0.9736158051294619]\n",
      "Best hyperparameters: {'colsample_bytree': np.float64(0.5425107931217613), 'learning_rate': np.float64(0.05403404203432347), 'max_bin': np.float64(53.0), 'max_depth': np.float64(6.0), 'min_data_in_leaf': np.int64(0), 'min_split_gain': np.float64(0.7280926809909595), 'num_leaves': np.int64(2), 'reg_alpha': np.float64(0.9747575384654616), 'reg_lambda': np.float64(0.9841474606559855), 'subsample': np.float64(0.897033670911434)}\n",
      "Trials: <hyperopt.base.Trials object at 0x117ca2f50>\n",
      "R2: 0.026384194870538114\n"
     ]
    },
    {
     "name": "stderr",
     "output_type": "stream",
     "text": [
      "/Users/ellenli/RoughPaths/RPvenv3.10/lib/python3.10/site-packages/sklearn/utils/deprecation.py:151: FutureWarning: 'force_all_finite' was renamed to 'ensure_all_finite' in 1.6 and will be removed in 1.8.\n",
      "  warnings.warn(\n",
      "/Users/ellenli/RoughPaths/RPvenv3.10/lib/python3.10/site-packages/sklearn/utils/deprecation.py:151: FutureWarning: 'force_all_finite' was renamed to 'ensure_all_finite' in 1.6 and will be removed in 1.8.\n",
      "  warnings.warn(\n",
      "/Users/ellenli/RoughPaths/RPvenv3.10/lib/python3.10/site-packages/sklearn/utils/deprecation.py:151: FutureWarning: 'force_all_finite' was renamed to 'ensure_all_finite' in 1.6 and will be removed in 1.8.\n",
      "  warnings.warn(\n"
     ]
    },
    {
     "name": "stdout",
     "output_type": "stream",
     "text": [
      "0.0838, 0.0264\n",
      "Training model for lag = 85\n",
      "  0%|          | 0/30 [00:00<?, ?trial/s, best loss=?]"
     ]
    },
    {
     "name": "stderr",
     "output_type": "stream",
     "text": [
      "/Users/ellenli/RoughPaths/RPvenv3.10/lib/python3.10/site-packages/sklearn/utils/deprecation.py:151: FutureWarning: 'force_all_finite' was renamed to 'ensure_all_finite' in 1.6 and will be removed in 1.8.\n",
      "  warnings.warn(\n",
      "\n",
      "/Users/ellenli/RoughPaths/RPvenv3.10/lib/python3.10/site-packages/sklearn/utils/deprecation.py:151: FutureWarning: 'force_all_finite' was renamed to 'ensure_all_finite' in 1.6 and will be removed in 1.8.\n",
      "  warnings.warn(\n",
      "\n"
     ]
    },
    {
     "name": "stdout",
     "output_type": "stream",
     "text": [
      "  3%|▎         | 1/30 [00:10<04:55, 10.19s/trial, best loss: 0.9820297871217127]"
     ]
    },
    {
     "name": "stderr",
     "output_type": "stream",
     "text": [
      "/Users/ellenli/RoughPaths/RPvenv3.10/lib/python3.10/site-packages/sklearn/utils/deprecation.py:151: FutureWarning: 'force_all_finite' was renamed to 'ensure_all_finite' in 1.6 and will be removed in 1.8.\n",
      "  warnings.warn(\n",
      "\n",
      "/Users/ellenli/RoughPaths/RPvenv3.10/lib/python3.10/site-packages/sklearn/utils/deprecation.py:151: FutureWarning: 'force_all_finite' was renamed to 'ensure_all_finite' in 1.6 and will be removed in 1.8.\n",
      "  warnings.warn(\n",
      "\n"
     ]
    },
    {
     "name": "stdout",
     "output_type": "stream",
     "text": [
      "  7%|▋         | 2/30 [00:19<04:37,  9.92s/trial, best loss: 0.9820297871217127]"
     ]
    },
    {
     "name": "stderr",
     "output_type": "stream",
     "text": [
      "/Users/ellenli/RoughPaths/RPvenv3.10/lib/python3.10/site-packages/sklearn/utils/deprecation.py:151: FutureWarning: 'force_all_finite' was renamed to 'ensure_all_finite' in 1.6 and will be removed in 1.8.\n",
      "  warnings.warn(\n",
      "\n",
      "/Users/ellenli/RoughPaths/RPvenv3.10/lib/python3.10/site-packages/sklearn/utils/deprecation.py:151: FutureWarning: 'force_all_finite' was renamed to 'ensure_all_finite' in 1.6 and will be removed in 1.8.\n",
      "  warnings.warn(\n",
      "\n"
     ]
    },
    {
     "name": "stdout",
     "output_type": "stream",
     "text": [
      " 10%|█         | 3/30 [00:29<04:23,  9.75s/trial, best loss: 0.9820297871217127]"
     ]
    },
    {
     "name": "stderr",
     "output_type": "stream",
     "text": [
      "/Users/ellenli/RoughPaths/RPvenv3.10/lib/python3.10/site-packages/sklearn/utils/deprecation.py:151: FutureWarning: 'force_all_finite' was renamed to 'ensure_all_finite' in 1.6 and will be removed in 1.8.\n",
      "  warnings.warn(\n",
      "\n",
      "/Users/ellenli/RoughPaths/RPvenv3.10/lib/python3.10/site-packages/sklearn/utils/deprecation.py:151: FutureWarning: 'force_all_finite' was renamed to 'ensure_all_finite' in 1.6 and will be removed in 1.8.\n",
      "  warnings.warn(\n",
      "\n"
     ]
    },
    {
     "name": "stdout",
     "output_type": "stream",
     "text": [
      " 13%|█▎        | 4/30 [00:39<04:18,  9.95s/trial, best loss: 0.9820297871217127]"
     ]
    },
    {
     "name": "stderr",
     "output_type": "stream",
     "text": [
      "/Users/ellenli/RoughPaths/RPvenv3.10/lib/python3.10/site-packages/sklearn/utils/deprecation.py:151: FutureWarning: 'force_all_finite' was renamed to 'ensure_all_finite' in 1.6 and will be removed in 1.8.\n",
      "  warnings.warn(\n",
      "\n",
      "/Users/ellenli/RoughPaths/RPvenv3.10/lib/python3.10/site-packages/sklearn/utils/deprecation.py:151: FutureWarning: 'force_all_finite' was renamed to 'ensure_all_finite' in 1.6 and will be removed in 1.8.\n",
      "  warnings.warn(\n",
      "\n"
     ]
    },
    {
     "name": "stdout",
     "output_type": "stream",
     "text": [
      " 17%|█▋        | 5/30 [00:52<04:38, 11.13s/trial, best loss: 0.9806852899104557]"
     ]
    },
    {
     "name": "stderr",
     "output_type": "stream",
     "text": [
      "/Users/ellenli/RoughPaths/RPvenv3.10/lib/python3.10/site-packages/sklearn/utils/deprecation.py:151: FutureWarning: 'force_all_finite' was renamed to 'ensure_all_finite' in 1.6 and will be removed in 1.8.\n",
      "  warnings.warn(\n",
      "\n",
      "/Users/ellenli/RoughPaths/RPvenv3.10/lib/python3.10/site-packages/sklearn/utils/deprecation.py:151: FutureWarning: 'force_all_finite' was renamed to 'ensure_all_finite' in 1.6 and will be removed in 1.8.\n",
      "  warnings.warn(\n",
      "\n"
     ]
    },
    {
     "name": "stdout",
     "output_type": "stream",
     "text": [
      " 20%|██        | 6/30 [01:00<04:01, 10.08s/trial, best loss: 0.9806852899104557]"
     ]
    },
    {
     "name": "stderr",
     "output_type": "stream",
     "text": [
      "/Users/ellenli/RoughPaths/RPvenv3.10/lib/python3.10/site-packages/sklearn/utils/deprecation.py:151: FutureWarning: 'force_all_finite' was renamed to 'ensure_all_finite' in 1.6 and will be removed in 1.8.\n",
      "  warnings.warn(\n",
      "\n",
      "/Users/ellenli/RoughPaths/RPvenv3.10/lib/python3.10/site-packages/sklearn/utils/deprecation.py:151: FutureWarning: 'force_all_finite' was renamed to 'ensure_all_finite' in 1.6 and will be removed in 1.8.\n",
      "  warnings.warn(\n",
      "\n"
     ]
    },
    {
     "name": "stdout",
     "output_type": "stream",
     "text": [
      " 23%|██▎       | 7/30 [01:11<03:57, 10.31s/trial, best loss: 0.9806852899104557]"
     ]
    },
    {
     "name": "stderr",
     "output_type": "stream",
     "text": [
      "/Users/ellenli/RoughPaths/RPvenv3.10/lib/python3.10/site-packages/sklearn/utils/deprecation.py:151: FutureWarning: 'force_all_finite' was renamed to 'ensure_all_finite' in 1.6 and will be removed in 1.8.\n",
      "  warnings.warn(\n",
      "\n",
      "/Users/ellenli/RoughPaths/RPvenv3.10/lib/python3.10/site-packages/sklearn/utils/deprecation.py:151: FutureWarning: 'force_all_finite' was renamed to 'ensure_all_finite' in 1.6 and will be removed in 1.8.\n",
      "  warnings.warn(\n",
      "\n"
     ]
    },
    {
     "name": "stdout",
     "output_type": "stream",
     "text": [
      " 27%|██▋       | 8/30 [01:21<03:44, 10.21s/trial, best loss: 0.9806852899104557]"
     ]
    },
    {
     "name": "stderr",
     "output_type": "stream",
     "text": [
      "/Users/ellenli/RoughPaths/RPvenv3.10/lib/python3.10/site-packages/sklearn/utils/deprecation.py:151: FutureWarning: 'force_all_finite' was renamed to 'ensure_all_finite' in 1.6 and will be removed in 1.8.\n",
      "  warnings.warn(\n",
      "\n",
      "/Users/ellenli/RoughPaths/RPvenv3.10/lib/python3.10/site-packages/sklearn/utils/deprecation.py:151: FutureWarning: 'force_all_finite' was renamed to 'ensure_all_finite' in 1.6 and will be removed in 1.8.\n",
      "  warnings.warn(\n",
      "\n"
     ]
    },
    {
     "name": "stdout",
     "output_type": "stream",
     "text": [
      " 30%|███       | 9/30 [01:32<03:40, 10.52s/trial, best loss: 0.9806852899104557]"
     ]
    },
    {
     "name": "stderr",
     "output_type": "stream",
     "text": [
      "/Users/ellenli/RoughPaths/RPvenv3.10/lib/python3.10/site-packages/sklearn/utils/deprecation.py:151: FutureWarning: 'force_all_finite' was renamed to 'ensure_all_finite' in 1.6 and will be removed in 1.8.\n",
      "  warnings.warn(\n",
      "\n",
      "/Users/ellenli/RoughPaths/RPvenv3.10/lib/python3.10/site-packages/sklearn/utils/deprecation.py:151: FutureWarning: 'force_all_finite' was renamed to 'ensure_all_finite' in 1.6 and will be removed in 1.8.\n",
      "  warnings.warn(\n",
      "\n"
     ]
    },
    {
     "name": "stdout",
     "output_type": "stream",
     "text": [
      " 33%|███▎      | 10/30 [01:46<03:49, 11.45s/trial, best loss: 0.9804402163791601]"
     ]
    },
    {
     "name": "stderr",
     "output_type": "stream",
     "text": [
      "/Users/ellenli/RoughPaths/RPvenv3.10/lib/python3.10/site-packages/sklearn/utils/deprecation.py:151: FutureWarning: 'force_all_finite' was renamed to 'ensure_all_finite' in 1.6 and will be removed in 1.8.\n",
      "  warnings.warn(\n",
      "\n",
      "/Users/ellenli/RoughPaths/RPvenv3.10/lib/python3.10/site-packages/sklearn/utils/deprecation.py:151: FutureWarning: 'force_all_finite' was renamed to 'ensure_all_finite' in 1.6 and will be removed in 1.8.\n",
      "  warnings.warn(\n",
      "\n"
     ]
    },
    {
     "name": "stdout",
     "output_type": "stream",
     "text": [
      " 37%|███▋      | 11/30 [01:57<03:33, 11.24s/trial, best loss: 0.9804402163791601]"
     ]
    },
    {
     "name": "stderr",
     "output_type": "stream",
     "text": [
      "/Users/ellenli/RoughPaths/RPvenv3.10/lib/python3.10/site-packages/sklearn/utils/deprecation.py:151: FutureWarning: 'force_all_finite' was renamed to 'ensure_all_finite' in 1.6 and will be removed in 1.8.\n",
      "  warnings.warn(\n",
      "\n",
      "/Users/ellenli/RoughPaths/RPvenv3.10/lib/python3.10/site-packages/sklearn/utils/deprecation.py:151: FutureWarning: 'force_all_finite' was renamed to 'ensure_all_finite' in 1.6 and will be removed in 1.8.\n",
      "  warnings.warn(\n",
      "\n"
     ]
    },
    {
     "name": "stdout",
     "output_type": "stream",
     "text": [
      " 40%|████      | 12/30 [02:07<03:18, 11.02s/trial, best loss: 0.9798682922202496]"
     ]
    },
    {
     "name": "stderr",
     "output_type": "stream",
     "text": [
      "/Users/ellenli/RoughPaths/RPvenv3.10/lib/python3.10/site-packages/sklearn/utils/deprecation.py:151: FutureWarning: 'force_all_finite' was renamed to 'ensure_all_finite' in 1.6 and will be removed in 1.8.\n",
      "  warnings.warn(\n",
      "\n",
      "/Users/ellenli/RoughPaths/RPvenv3.10/lib/python3.10/site-packages/sklearn/utils/deprecation.py:151: FutureWarning: 'force_all_finite' was renamed to 'ensure_all_finite' in 1.6 and will be removed in 1.8.\n",
      "  warnings.warn(\n",
      "\n"
     ]
    },
    {
     "name": "stdout",
     "output_type": "stream",
     "text": [
      " 43%|████▎     | 13/30 [02:19<03:12, 11.32s/trial, best loss: 0.9798682922202496]"
     ]
    },
    {
     "name": "stderr",
     "output_type": "stream",
     "text": [
      "/Users/ellenli/RoughPaths/RPvenv3.10/lib/python3.10/site-packages/sklearn/utils/deprecation.py:151: FutureWarning: 'force_all_finite' was renamed to 'ensure_all_finite' in 1.6 and will be removed in 1.8.\n",
      "  warnings.warn(\n",
      "\n",
      "/Users/ellenli/RoughPaths/RPvenv3.10/lib/python3.10/site-packages/sklearn/utils/deprecation.py:151: FutureWarning: 'force_all_finite' was renamed to 'ensure_all_finite' in 1.6 and will be removed in 1.8.\n",
      "  warnings.warn(\n",
      "\n"
     ]
    },
    {
     "name": "stdout",
     "output_type": "stream",
     "text": [
      " 47%|████▋     | 14/30 [02:30<02:56, 11.04s/trial, best loss: 0.9798682922202496]"
     ]
    },
    {
     "name": "stderr",
     "output_type": "stream",
     "text": [
      "/Users/ellenli/RoughPaths/RPvenv3.10/lib/python3.10/site-packages/sklearn/utils/deprecation.py:151: FutureWarning: 'force_all_finite' was renamed to 'ensure_all_finite' in 1.6 and will be removed in 1.8.\n",
      "  warnings.warn(\n",
      "\n",
      "/Users/ellenli/RoughPaths/RPvenv3.10/lib/python3.10/site-packages/sklearn/utils/deprecation.py:151: FutureWarning: 'force_all_finite' was renamed to 'ensure_all_finite' in 1.6 and will be removed in 1.8.\n",
      "  warnings.warn(\n",
      "\n"
     ]
    },
    {
     "name": "stdout",
     "output_type": "stream",
     "text": [
      " 50%|█████     | 15/30 [02:38<02:33, 10.22s/trial, best loss: 0.9798682922202496]"
     ]
    },
    {
     "name": "stderr",
     "output_type": "stream",
     "text": [
      "/Users/ellenli/RoughPaths/RPvenv3.10/lib/python3.10/site-packages/sklearn/utils/deprecation.py:151: FutureWarning: 'force_all_finite' was renamed to 'ensure_all_finite' in 1.6 and will be removed in 1.8.\n",
      "  warnings.warn(\n",
      "\n",
      "/Users/ellenli/RoughPaths/RPvenv3.10/lib/python3.10/site-packages/sklearn/utils/deprecation.py:151: FutureWarning: 'force_all_finite' was renamed to 'ensure_all_finite' in 1.6 and will be removed in 1.8.\n",
      "  warnings.warn(\n",
      "\n"
     ]
    },
    {
     "name": "stdout",
     "output_type": "stream",
     "text": [
      " 53%|█████▎    | 16/30 [02:48<02:20, 10.01s/trial, best loss: 0.9798682922202496]"
     ]
    },
    {
     "name": "stderr",
     "output_type": "stream",
     "text": [
      "/Users/ellenli/RoughPaths/RPvenv3.10/lib/python3.10/site-packages/sklearn/utils/deprecation.py:151: FutureWarning: 'force_all_finite' was renamed to 'ensure_all_finite' in 1.6 and will be removed in 1.8.\n",
      "  warnings.warn(\n",
      "\n",
      "/Users/ellenli/RoughPaths/RPvenv3.10/lib/python3.10/site-packages/sklearn/utils/deprecation.py:151: FutureWarning: 'force_all_finite' was renamed to 'ensure_all_finite' in 1.6 and will be removed in 1.8.\n",
      "  warnings.warn(\n",
      "\n"
     ]
    },
    {
     "name": "stdout",
     "output_type": "stream",
     "text": [
      " 57%|█████▋    | 17/30 [03:00<02:21, 10.89s/trial, best loss: 0.9798682922202496]"
     ]
    },
    {
     "name": "stderr",
     "output_type": "stream",
     "text": [
      "/Users/ellenli/RoughPaths/RPvenv3.10/lib/python3.10/site-packages/sklearn/utils/deprecation.py:151: FutureWarning: 'force_all_finite' was renamed to 'ensure_all_finite' in 1.6 and will be removed in 1.8.\n",
      "  warnings.warn(\n",
      "\n",
      "/Users/ellenli/RoughPaths/RPvenv3.10/lib/python3.10/site-packages/sklearn/utils/deprecation.py:151: FutureWarning: 'force_all_finite' was renamed to 'ensure_all_finite' in 1.6 and will be removed in 1.8.\n",
      "  warnings.warn(\n",
      "\n"
     ]
    },
    {
     "name": "stdout",
     "output_type": "stream",
     "text": [
      " 60%|██████    | 18/30 [03:13<02:15, 11.32s/trial, best loss: 0.9798682922202496]"
     ]
    },
    {
     "name": "stderr",
     "output_type": "stream",
     "text": [
      "/Users/ellenli/RoughPaths/RPvenv3.10/lib/python3.10/site-packages/sklearn/utils/deprecation.py:151: FutureWarning: 'force_all_finite' was renamed to 'ensure_all_finite' in 1.6 and will be removed in 1.8.\n",
      "  warnings.warn(\n",
      "\n",
      "/Users/ellenli/RoughPaths/RPvenv3.10/lib/python3.10/site-packages/sklearn/utils/deprecation.py:151: FutureWarning: 'force_all_finite' was renamed to 'ensure_all_finite' in 1.6 and will be removed in 1.8.\n",
      "  warnings.warn(\n",
      "\n"
     ]
    },
    {
     "name": "stdout",
     "output_type": "stream",
     "text": [
      " 63%|██████▎   | 19/30 [03:22<01:58, 10.75s/trial, best loss: 0.9798682922202496]"
     ]
    },
    {
     "name": "stderr",
     "output_type": "stream",
     "text": [
      "/Users/ellenli/RoughPaths/RPvenv3.10/lib/python3.10/site-packages/sklearn/utils/deprecation.py:151: FutureWarning: 'force_all_finite' was renamed to 'ensure_all_finite' in 1.6 and will be removed in 1.8.\n",
      "  warnings.warn(\n",
      "\n",
      "/Users/ellenli/RoughPaths/RPvenv3.10/lib/python3.10/site-packages/sklearn/utils/deprecation.py:151: FutureWarning: 'force_all_finite' was renamed to 'ensure_all_finite' in 1.6 and will be removed in 1.8.\n",
      "  warnings.warn(\n",
      "\n"
     ]
    },
    {
     "name": "stdout",
     "output_type": "stream",
     "text": [
      " 67%|██████▋   | 20/30 [03:33<01:46, 10.68s/trial, best loss: 0.9798682922202496]"
     ]
    },
    {
     "name": "stderr",
     "output_type": "stream",
     "text": [
      "/Users/ellenli/RoughPaths/RPvenv3.10/lib/python3.10/site-packages/sklearn/utils/deprecation.py:151: FutureWarning: 'force_all_finite' was renamed to 'ensure_all_finite' in 1.6 and will be removed in 1.8.\n",
      "  warnings.warn(\n",
      "\n",
      "/Users/ellenli/RoughPaths/RPvenv3.10/lib/python3.10/site-packages/sklearn/utils/deprecation.py:151: FutureWarning: 'force_all_finite' was renamed to 'ensure_all_finite' in 1.6 and will be removed in 1.8.\n",
      "  warnings.warn(\n",
      "\n"
     ]
    },
    {
     "name": "stdout",
     "output_type": "stream",
     "text": [
      " 70%|███████   | 21/30 [03:41<01:30, 10.07s/trial, best loss: 0.9798682922202496]"
     ]
    },
    {
     "name": "stderr",
     "output_type": "stream",
     "text": [
      "/Users/ellenli/RoughPaths/RPvenv3.10/lib/python3.10/site-packages/sklearn/utils/deprecation.py:151: FutureWarning: 'force_all_finite' was renamed to 'ensure_all_finite' in 1.6 and will be removed in 1.8.\n",
      "  warnings.warn(\n",
      "\n",
      "/Users/ellenli/RoughPaths/RPvenv3.10/lib/python3.10/site-packages/sklearn/utils/deprecation.py:151: FutureWarning: 'force_all_finite' was renamed to 'ensure_all_finite' in 1.6 and will be removed in 1.8.\n",
      "  warnings.warn(\n",
      "\n"
     ]
    },
    {
     "name": "stdout",
     "output_type": "stream",
     "text": [
      " 73%|███████▎  | 22/30 [03:52<01:24, 10.56s/trial, best loss: 0.9798682922202496]\n",
      "Best hyperparameters: {'colsample_bytree': np.float64(0.7825001628843219), 'learning_rate': np.float64(0.053270574790669246), 'max_bin': np.float64(88.0), 'max_depth': np.float64(4.0), 'min_data_in_leaf': np.int64(2), 'min_split_gain': np.float64(0.9804115793664583), 'num_leaves': np.int64(5), 'reg_alpha': np.float64(0.4820252006822451), 'reg_lambda': np.float64(0.6761489988605641), 'subsample': np.float64(0.5463889531442669)}\n",
      "Trials: <hyperopt.base.Trials object at 0x111cca8f0>\n",
      "R2: 0.020131707779750374\n"
     ]
    },
    {
     "name": "stderr",
     "output_type": "stream",
     "text": [
      "/Users/ellenli/RoughPaths/RPvenv3.10/lib/python3.10/site-packages/sklearn/utils/deprecation.py:151: FutureWarning: 'force_all_finite' was renamed to 'ensure_all_finite' in 1.6 and will be removed in 1.8.\n",
      "  warnings.warn(\n",
      "/Users/ellenli/RoughPaths/RPvenv3.10/lib/python3.10/site-packages/sklearn/utils/deprecation.py:151: FutureWarning: 'force_all_finite' was renamed to 'ensure_all_finite' in 1.6 and will be removed in 1.8.\n",
      "  warnings.warn(\n",
      "/Users/ellenli/RoughPaths/RPvenv3.10/lib/python3.10/site-packages/sklearn/utils/deprecation.py:151: FutureWarning: 'force_all_finite' was renamed to 'ensure_all_finite' in 1.6 and will be removed in 1.8.\n",
      "  warnings.warn(\n"
     ]
    },
    {
     "name": "stdout",
     "output_type": "stream",
     "text": [
      "0.0461, 0.0201\n",
      "Training model for lag = 87\n",
      "  0%|          | 0/30 [00:00<?, ?trial/s, best loss=?]"
     ]
    },
    {
     "name": "stderr",
     "output_type": "stream",
     "text": [
      "/Users/ellenli/RoughPaths/RPvenv3.10/lib/python3.10/site-packages/sklearn/utils/deprecation.py:151: FutureWarning: 'force_all_finite' was renamed to 'ensure_all_finite' in 1.6 and will be removed in 1.8.\n",
      "  warnings.warn(\n",
      "\n",
      "/Users/ellenli/RoughPaths/RPvenv3.10/lib/python3.10/site-packages/sklearn/utils/deprecation.py:151: FutureWarning: 'force_all_finite' was renamed to 'ensure_all_finite' in 1.6 and will be removed in 1.8.\n",
      "  warnings.warn(\n",
      "\n"
     ]
    },
    {
     "name": "stdout",
     "output_type": "stream",
     "text": [
      "  3%|▎         | 1/30 [00:10<05:01, 10.39s/trial, best loss: 0.980534268335223]"
     ]
    },
    {
     "name": "stderr",
     "output_type": "stream",
     "text": [
      "/Users/ellenli/RoughPaths/RPvenv3.10/lib/python3.10/site-packages/sklearn/utils/deprecation.py:151: FutureWarning: 'force_all_finite' was renamed to 'ensure_all_finite' in 1.6 and will be removed in 1.8.\n",
      "  warnings.warn(\n",
      "\n",
      "/Users/ellenli/RoughPaths/RPvenv3.10/lib/python3.10/site-packages/sklearn/utils/deprecation.py:151: FutureWarning: 'force_all_finite' was renamed to 'ensure_all_finite' in 1.6 and will be removed in 1.8.\n",
      "  warnings.warn(\n",
      "\n"
     ]
    },
    {
     "name": "stdout",
     "output_type": "stream",
     "text": [
      "  7%|▋         | 2/30 [00:20<04:41, 10.06s/trial, best loss: 0.9803222834922533]"
     ]
    },
    {
     "name": "stderr",
     "output_type": "stream",
     "text": [
      "/Users/ellenli/RoughPaths/RPvenv3.10/lib/python3.10/site-packages/sklearn/utils/deprecation.py:151: FutureWarning: 'force_all_finite' was renamed to 'ensure_all_finite' in 1.6 and will be removed in 1.8.\n",
      "  warnings.warn(\n",
      "\n",
      "/Users/ellenli/RoughPaths/RPvenv3.10/lib/python3.10/site-packages/sklearn/utils/deprecation.py:151: FutureWarning: 'force_all_finite' was renamed to 'ensure_all_finite' in 1.6 and will be removed in 1.8.\n",
      "  warnings.warn(\n",
      "\n"
     ]
    },
    {
     "name": "stdout",
     "output_type": "stream",
     "text": [
      " 10%|█         | 3/30 [00:29<04:22,  9.73s/trial, best loss: 0.9803222834922533]"
     ]
    },
    {
     "name": "stderr",
     "output_type": "stream",
     "text": [
      "/Users/ellenli/RoughPaths/RPvenv3.10/lib/python3.10/site-packages/sklearn/utils/deprecation.py:151: FutureWarning: 'force_all_finite' was renamed to 'ensure_all_finite' in 1.6 and will be removed in 1.8.\n",
      "  warnings.warn(\n",
      "\n",
      "/Users/ellenli/RoughPaths/RPvenv3.10/lib/python3.10/site-packages/sklearn/utils/deprecation.py:151: FutureWarning: 'force_all_finite' was renamed to 'ensure_all_finite' in 1.6 and will be removed in 1.8.\n",
      "  warnings.warn(\n",
      "\n"
     ]
    },
    {
     "name": "stdout",
     "output_type": "stream",
     "text": [
      " 13%|█▎        | 4/30 [00:39<04:15,  9.83s/trial, best loss: 0.9803222834922533]"
     ]
    },
    {
     "name": "stderr",
     "output_type": "stream",
     "text": [
      "/Users/ellenli/RoughPaths/RPvenv3.10/lib/python3.10/site-packages/sklearn/utils/deprecation.py:151: FutureWarning: 'force_all_finite' was renamed to 'ensure_all_finite' in 1.6 and will be removed in 1.8.\n",
      "  warnings.warn(\n",
      "\n",
      "/Users/ellenli/RoughPaths/RPvenv3.10/lib/python3.10/site-packages/sklearn/utils/deprecation.py:151: FutureWarning: 'force_all_finite' was renamed to 'ensure_all_finite' in 1.6 and will be removed in 1.8.\n",
      "  warnings.warn(\n",
      "\n"
     ]
    },
    {
     "name": "stdout",
     "output_type": "stream",
     "text": [
      " 17%|█▋        | 5/30 [00:54<04:54, 11.78s/trial, best loss: 0.9803222834922533]"
     ]
    },
    {
     "name": "stderr",
     "output_type": "stream",
     "text": [
      "/Users/ellenli/RoughPaths/RPvenv3.10/lib/python3.10/site-packages/sklearn/utils/deprecation.py:151: FutureWarning: 'force_all_finite' was renamed to 'ensure_all_finite' in 1.6 and will be removed in 1.8.\n",
      "  warnings.warn(\n",
      "\n",
      "/Users/ellenli/RoughPaths/RPvenv3.10/lib/python3.10/site-packages/sklearn/utils/deprecation.py:151: FutureWarning: 'force_all_finite' was renamed to 'ensure_all_finite' in 1.6 and will be removed in 1.8.\n",
      "  warnings.warn(\n",
      "\n"
     ]
    },
    {
     "name": "stdout",
     "output_type": "stream",
     "text": [
      " 20%|██        | 6/30 [01:03<04:19, 10.83s/trial, best loss: 0.9803222834922533]"
     ]
    },
    {
     "name": "stderr",
     "output_type": "stream",
     "text": [
      "/Users/ellenli/RoughPaths/RPvenv3.10/lib/python3.10/site-packages/sklearn/utils/deprecation.py:151: FutureWarning: 'force_all_finite' was renamed to 'ensure_all_finite' in 1.6 and will be removed in 1.8.\n",
      "  warnings.warn(\n",
      "\n",
      "/Users/ellenli/RoughPaths/RPvenv3.10/lib/python3.10/site-packages/sklearn/utils/deprecation.py:151: FutureWarning: 'force_all_finite' was renamed to 'ensure_all_finite' in 1.6 and will be removed in 1.8.\n",
      "  warnings.warn(\n",
      "\n"
     ]
    },
    {
     "name": "stdout",
     "output_type": "stream",
     "text": [
      " 23%|██▎       | 7/30 [01:14<04:08, 10.78s/trial, best loss: 0.9792655313572869]"
     ]
    },
    {
     "name": "stderr",
     "output_type": "stream",
     "text": [
      "/Users/ellenli/RoughPaths/RPvenv3.10/lib/python3.10/site-packages/sklearn/utils/deprecation.py:151: FutureWarning: 'force_all_finite' was renamed to 'ensure_all_finite' in 1.6 and will be removed in 1.8.\n",
      "  warnings.warn(\n",
      "\n",
      "/Users/ellenli/RoughPaths/RPvenv3.10/lib/python3.10/site-packages/sklearn/utils/deprecation.py:151: FutureWarning: 'force_all_finite' was renamed to 'ensure_all_finite' in 1.6 and will be removed in 1.8.\n",
      "  warnings.warn(\n",
      "\n"
     ]
    },
    {
     "name": "stdout",
     "output_type": "stream",
     "text": [
      " 27%|██▋       | 8/30 [01:24<03:52, 10.56s/trial, best loss: 0.9792655313572869]"
     ]
    },
    {
     "name": "stderr",
     "output_type": "stream",
     "text": [
      "/Users/ellenli/RoughPaths/RPvenv3.10/lib/python3.10/site-packages/sklearn/utils/deprecation.py:151: FutureWarning: 'force_all_finite' was renamed to 'ensure_all_finite' in 1.6 and will be removed in 1.8.\n",
      "  warnings.warn(\n",
      "\n",
      "/Users/ellenli/RoughPaths/RPvenv3.10/lib/python3.10/site-packages/sklearn/utils/deprecation.py:151: FutureWarning: 'force_all_finite' was renamed to 'ensure_all_finite' in 1.6 and will be removed in 1.8.\n",
      "  warnings.warn(\n",
      "\n"
     ]
    },
    {
     "name": "stdout",
     "output_type": "stream",
     "text": [
      " 30%|███       | 9/30 [01:35<03:43, 10.64s/trial, best loss: 0.9792414722863096]"
     ]
    },
    {
     "name": "stderr",
     "output_type": "stream",
     "text": [
      "/Users/ellenli/RoughPaths/RPvenv3.10/lib/python3.10/site-packages/sklearn/utils/deprecation.py:151: FutureWarning: 'force_all_finite' was renamed to 'ensure_all_finite' in 1.6 and will be removed in 1.8.\n",
      "  warnings.warn(\n",
      "\n",
      "/Users/ellenli/RoughPaths/RPvenv3.10/lib/python3.10/site-packages/sklearn/utils/deprecation.py:151: FutureWarning: 'force_all_finite' was renamed to 'ensure_all_finite' in 1.6 and will be removed in 1.8.\n",
      "  warnings.warn(\n",
      "\n"
     ]
    },
    {
     "name": "stdout",
     "output_type": "stream",
     "text": [
      " 33%|███▎      | 10/30 [01:49<03:52, 11.62s/trial, best loss: 0.978906901261385]"
     ]
    },
    {
     "name": "stderr",
     "output_type": "stream",
     "text": [
      "/Users/ellenli/RoughPaths/RPvenv3.10/lib/python3.10/site-packages/sklearn/utils/deprecation.py:151: FutureWarning: 'force_all_finite' was renamed to 'ensure_all_finite' in 1.6 and will be removed in 1.8.\n",
      "  warnings.warn(\n",
      "\n",
      "/Users/ellenli/RoughPaths/RPvenv3.10/lib/python3.10/site-packages/sklearn/utils/deprecation.py:151: FutureWarning: 'force_all_finite' was renamed to 'ensure_all_finite' in 1.6 and will be removed in 1.8.\n",
      "  warnings.warn(\n",
      "\n"
     ]
    },
    {
     "name": "stdout",
     "output_type": "stream",
     "text": [
      " 37%|███▋      | 11/30 [01:59<03:34, 11.28s/trial, best loss: 0.9787822479834618]"
     ]
    },
    {
     "name": "stderr",
     "output_type": "stream",
     "text": [
      "/Users/ellenli/RoughPaths/RPvenv3.10/lib/python3.10/site-packages/sklearn/utils/deprecation.py:151: FutureWarning: 'force_all_finite' was renamed to 'ensure_all_finite' in 1.6 and will be removed in 1.8.\n",
      "  warnings.warn(\n",
      "\n",
      "/Users/ellenli/RoughPaths/RPvenv3.10/lib/python3.10/site-packages/sklearn/utils/deprecation.py:151: FutureWarning: 'force_all_finite' was renamed to 'ensure_all_finite' in 1.6 and will be removed in 1.8.\n",
      "  warnings.warn(\n",
      "\n"
     ]
    },
    {
     "name": "stdout",
     "output_type": "stream",
     "text": [
      " 40%|████      | 12/30 [02:09<03:17, 10.98s/trial, best loss: 0.9787822479834618]"
     ]
    },
    {
     "name": "stderr",
     "output_type": "stream",
     "text": [
      "/Users/ellenli/RoughPaths/RPvenv3.10/lib/python3.10/site-packages/sklearn/utils/deprecation.py:151: FutureWarning: 'force_all_finite' was renamed to 'ensure_all_finite' in 1.6 and will be removed in 1.8.\n",
      "  warnings.warn(\n",
      "\n",
      "/Users/ellenli/RoughPaths/RPvenv3.10/lib/python3.10/site-packages/sklearn/utils/deprecation.py:151: FutureWarning: 'force_all_finite' was renamed to 'ensure_all_finite' in 1.6 and will be removed in 1.8.\n",
      "  warnings.warn(\n",
      "\n"
     ]
    },
    {
     "name": "stdout",
     "output_type": "stream",
     "text": [
      " 43%|████▎     | 13/30 [02:21<03:10, 11.19s/trial, best loss: 0.9787822479834618]"
     ]
    },
    {
     "name": "stderr",
     "output_type": "stream",
     "text": [
      "/Users/ellenli/RoughPaths/RPvenv3.10/lib/python3.10/site-packages/sklearn/utils/deprecation.py:151: FutureWarning: 'force_all_finite' was renamed to 'ensure_all_finite' in 1.6 and will be removed in 1.8.\n",
      "  warnings.warn(\n",
      "\n",
      "/Users/ellenli/RoughPaths/RPvenv3.10/lib/python3.10/site-packages/sklearn/utils/deprecation.py:151: FutureWarning: 'force_all_finite' was renamed to 'ensure_all_finite' in 1.6 and will be removed in 1.8.\n",
      "  warnings.warn(\n",
      "\n"
     ]
    },
    {
     "name": "stdout",
     "output_type": "stream",
     "text": [
      " 47%|████▋     | 14/30 [02:32<02:56, 11.05s/trial, best loss: 0.9787822479834618]"
     ]
    },
    {
     "name": "stderr",
     "output_type": "stream",
     "text": [
      "/Users/ellenli/RoughPaths/RPvenv3.10/lib/python3.10/site-packages/sklearn/utils/deprecation.py:151: FutureWarning: 'force_all_finite' was renamed to 'ensure_all_finite' in 1.6 and will be removed in 1.8.\n",
      "  warnings.warn(\n",
      "\n",
      "/Users/ellenli/RoughPaths/RPvenv3.10/lib/python3.10/site-packages/sklearn/utils/deprecation.py:151: FutureWarning: 'force_all_finite' was renamed to 'ensure_all_finite' in 1.6 and will be removed in 1.8.\n",
      "  warnings.warn(\n",
      "\n"
     ]
    },
    {
     "name": "stdout",
     "output_type": "stream",
     "text": [
      " 50%|█████     | 15/30 [02:40<02:30, 10.04s/trial, best loss: 0.9787822479834618]"
     ]
    },
    {
     "name": "stderr",
     "output_type": "stream",
     "text": [
      "/Users/ellenli/RoughPaths/RPvenv3.10/lib/python3.10/site-packages/sklearn/utils/deprecation.py:151: FutureWarning: 'force_all_finite' was renamed to 'ensure_all_finite' in 1.6 and will be removed in 1.8.\n",
      "  warnings.warn(\n",
      "\n",
      "/Users/ellenli/RoughPaths/RPvenv3.10/lib/python3.10/site-packages/sklearn/utils/deprecation.py:151: FutureWarning: 'force_all_finite' was renamed to 'ensure_all_finite' in 1.6 and will be removed in 1.8.\n",
      "  warnings.warn(\n",
      "\n"
     ]
    },
    {
     "name": "stdout",
     "output_type": "stream",
     "text": [
      " 53%|█████▎    | 16/30 [02:49<02:18,  9.91s/trial, best loss: 0.9787822479834618]"
     ]
    },
    {
     "name": "stderr",
     "output_type": "stream",
     "text": [
      "/Users/ellenli/RoughPaths/RPvenv3.10/lib/python3.10/site-packages/sklearn/utils/deprecation.py:151: FutureWarning: 'force_all_finite' was renamed to 'ensure_all_finite' in 1.6 and will be removed in 1.8.\n",
      "  warnings.warn(\n",
      "\n",
      "/Users/ellenli/RoughPaths/RPvenv3.10/lib/python3.10/site-packages/sklearn/utils/deprecation.py:151: FutureWarning: 'force_all_finite' was renamed to 'ensure_all_finite' in 1.6 and will be removed in 1.8.\n",
      "  warnings.warn(\n",
      "\n"
     ]
    },
    {
     "name": "stdout",
     "output_type": "stream",
     "text": [
      " 57%|█████▋    | 17/30 [03:04<02:27, 11.34s/trial, best loss: 0.9787822479834618]"
     ]
    },
    {
     "name": "stderr",
     "output_type": "stream",
     "text": [
      "/Users/ellenli/RoughPaths/RPvenv3.10/lib/python3.10/site-packages/sklearn/utils/deprecation.py:151: FutureWarning: 'force_all_finite' was renamed to 'ensure_all_finite' in 1.6 and will be removed in 1.8.\n",
      "  warnings.warn(\n",
      "\n",
      "/Users/ellenli/RoughPaths/RPvenv3.10/lib/python3.10/site-packages/sklearn/utils/deprecation.py:151: FutureWarning: 'force_all_finite' was renamed to 'ensure_all_finite' in 1.6 and will be removed in 1.8.\n",
      "  warnings.warn(\n",
      "\n"
     ]
    },
    {
     "name": "stdout",
     "output_type": "stream",
     "text": [
      " 60%|██████    | 18/30 [03:16<02:17, 11.44s/trial, best loss: 0.9787822479834618]"
     ]
    },
    {
     "name": "stderr",
     "output_type": "stream",
     "text": [
      "/Users/ellenli/RoughPaths/RPvenv3.10/lib/python3.10/site-packages/sklearn/utils/deprecation.py:151: FutureWarning: 'force_all_finite' was renamed to 'ensure_all_finite' in 1.6 and will be removed in 1.8.\n",
      "  warnings.warn(\n",
      "\n",
      "/Users/ellenli/RoughPaths/RPvenv3.10/lib/python3.10/site-packages/sklearn/utils/deprecation.py:151: FutureWarning: 'force_all_finite' was renamed to 'ensure_all_finite' in 1.6 and will be removed in 1.8.\n",
      "  warnings.warn(\n",
      "\n"
     ]
    },
    {
     "name": "stdout",
     "output_type": "stream",
     "text": [
      " 63%|██████▎   | 19/30 [03:25<02:00, 10.93s/trial, best loss: 0.9787822479834618]"
     ]
    },
    {
     "name": "stderr",
     "output_type": "stream",
     "text": [
      "/Users/ellenli/RoughPaths/RPvenv3.10/lib/python3.10/site-packages/sklearn/utils/deprecation.py:151: FutureWarning: 'force_all_finite' was renamed to 'ensure_all_finite' in 1.6 and will be removed in 1.8.\n",
      "  warnings.warn(\n",
      "\n",
      "/Users/ellenli/RoughPaths/RPvenv3.10/lib/python3.10/site-packages/sklearn/utils/deprecation.py:151: FutureWarning: 'force_all_finite' was renamed to 'ensure_all_finite' in 1.6 and will be removed in 1.8.\n",
      "  warnings.warn(\n",
      "\n"
     ]
    },
    {
     "name": "stdout",
     "output_type": "stream",
     "text": [
      " 67%|██████▋   | 20/30 [03:36<01:49, 10.96s/trial, best loss: 0.9787822479834618]"
     ]
    },
    {
     "name": "stderr",
     "output_type": "stream",
     "text": [
      "/Users/ellenli/RoughPaths/RPvenv3.10/lib/python3.10/site-packages/sklearn/utils/deprecation.py:151: FutureWarning: 'force_all_finite' was renamed to 'ensure_all_finite' in 1.6 and will be removed in 1.8.\n",
      "  warnings.warn(\n",
      "\n",
      "/Users/ellenli/RoughPaths/RPvenv3.10/lib/python3.10/site-packages/sklearn/utils/deprecation.py:151: FutureWarning: 'force_all_finite' was renamed to 'ensure_all_finite' in 1.6 and will be removed in 1.8.\n",
      "  warnings.warn(\n",
      "\n"
     ]
    },
    {
     "name": "stdout",
     "output_type": "stream",
     "text": [
      " 70%|███████   | 21/30 [03:47<01:37, 10.83s/trial, best loss: 0.9787822479834618]\n",
      "Best hyperparameters: {'colsample_bytree': np.float64(0.4498459765546967), 'learning_rate': np.float64(0.036735494158094795), 'max_bin': np.float64(55.0), 'max_depth': np.float64(6.0), 'min_data_in_leaf': np.int64(3), 'min_split_gain': np.float64(0.551390325381276), 'num_leaves': np.int64(3), 'reg_alpha': np.float64(0.4075289230052912), 'reg_lambda': np.float64(0.2864958229332789), 'subsample': np.float64(0.9729148131161761)}\n",
      "Trials: <hyperopt.base.Trials object at 0x1054ee2f0>\n",
      "R2: 0.021217752016538194\n"
     ]
    },
    {
     "name": "stderr",
     "output_type": "stream",
     "text": [
      "/Users/ellenli/RoughPaths/RPvenv3.10/lib/python3.10/site-packages/sklearn/utils/deprecation.py:151: FutureWarning: 'force_all_finite' was renamed to 'ensure_all_finite' in 1.6 and will be removed in 1.8.\n",
      "  warnings.warn(\n",
      "/Users/ellenli/RoughPaths/RPvenv3.10/lib/python3.10/site-packages/sklearn/utils/deprecation.py:151: FutureWarning: 'force_all_finite' was renamed to 'ensure_all_finite' in 1.6 and will be removed in 1.8.\n",
      "  warnings.warn(\n",
      "/Users/ellenli/RoughPaths/RPvenv3.10/lib/python3.10/site-packages/sklearn/utils/deprecation.py:151: FutureWarning: 'force_all_finite' was renamed to 'ensure_all_finite' in 1.6 and will be removed in 1.8.\n",
      "  warnings.warn(\n"
     ]
    },
    {
     "name": "stdout",
     "output_type": "stream",
     "text": [
      "0.0661, 0.0212\n"
     ]
    }
   ],
   "source": [
    "for lag in lags:\n",
    "    print(f\"Training model for lag = {lag}\")\n",
    "    y_train = y_train_dict[lag]\n",
    "    y_valid = y_valid_dict[lag]\n",
    "    y_test = y_test_dict[lag]\n",
    "\n",
    "    trials = Trials()\n",
    "    best = fmin(fn=lambda sp: objective(sp, x_scaled_train, y_train , x_scaled_valid, y_valid),\n",
    "                space=param_space,\n",
    "                algo=tpe.suggest,\n",
    "                max_evals=30,\n",
    "                trials=trials,\n",
    "                early_stop_fn=no_progress_loss(10),\n",
    "    )\n",
    "\n",
    "    # The best hyperparameters found by Hyperopt\n",
    "    print(\"Best hyperparameters:\", best)\n",
    "    print(\"Trials:\", trials)\n",
    "    print(\"R2:\", 1 - trials.best_trial['result']['loss'])\n",
    "\n",
    "    best['min_data_in_leaf'] = [50, 100, 250, 500][best['min_data_in_leaf']]\n",
    "    best['num_leaves'] = [20, 40, 60, 80, 100, 120, 140][best['num_leaves']]\n",
    "    best['max_depth'] = int(best['max_depth'])\n",
    "    best['max_bin'] = int(best['max_bin'])\n",
    "\n",
    "    fixed_params = {'boosting_type': 'gbdt',\n",
    "        'objective': 'regression',\n",
    "        'nthread': 4,\n",
    "        'metric': 'rmse',\n",
    "        'verbosity': -1,\n",
    "        'n_jobs': -1}\n",
    "\n",
    "    lgbm = lgb.LGBMRegressor(**fixed_params, **best, eval_set=(x_scaled_valid, y_valid), eval_metric='r2').fit(x_scaled_train, y_train)\n",
    "    model_filename = f'models/lgb_lag{lag}.pkl'\n",
    "    joblib.dump(lgbm, model_filename)\n",
    "\n",
    "    predictions_train = lgbm.predict(x_scaled_train)\n",
    "    train_score = r2_score(y_train, predictions_train)\n",
    "    predictions_valid = lgbm.predict(x_scaled_valid)\n",
    "    valid_score = r2_score(y_valid, predictions_valid)\n",
    "    print(f'{train_score:.4f}, {valid_score:.4f}')\n",
    "    "
   ]
  },
  {
   "cell_type": "markdown",
   "metadata": {},
   "source": [
    "### Validation Set Performances:"
   ]
  },
  {
   "cell_type": "markdown",
   "metadata": {},
   "source": [
    "To summarise the above:\n",
    "\n",
    "lag 50: Training $R^2$ = 0.22, Validation $R^2$ = 0.17\n",
    "\n",
    "lag 55: Training $R^2$ = 0.19, Validation $R^2$ = 0.13\n",
    "\n",
    "lag 60: Training $R^2$ = 0.17, Validation $R^2$ = 0.097\n",
    "\n",
    "lag 65: Training $R^2$ = 0.16, Validation $R^2$ = 0.07\n",
    "\n",
    "lag 70: Training $R^2$ = 0.10, Validation $R^2$ = 0.05\n",
    "\n",
    "lag 75: Training $R^2$ = 0.13, Validation $R^2$ = 0.036\n",
    "\n",
    "lag 80: Training $R^2$ = 0.084, Validation $R^2$ = 0.027\n",
    "\n",
    "lag 85: Training $R^2$ = 0.046, Validation $R^2$ = 0.020\n",
    "\n",
    "lag 87: Training $R^2$ = 0.030, Validation $R^2$ = 0.021"
   ]
  },
  {
   "cell_type": "markdown",
   "metadata": {},
   "source": [
    "We also train a set of LightGBM models on the aforementioned signature transform data, to enrich our eventual blend - this time we keep the lag at 87."
   ]
  },
  {
   "cell_type": "code",
   "execution_count": null,
   "metadata": {},
   "outputs": [],
   "source": [
    "###############################################################################\n",
    "# STAGE 1: DEFINITIONS AND HYPERPARAMETER SPACE\n",
    "###############################################################################\n",
    "print(\"=== STAGE 1: DEFINITIONS AND HYPERPARAMETER SPACE ===\")\n",
    "\n",
    "levels_list = [5]\n",
    "window_list = [10, 20, 50, 87, 100]\n",
    "\n",
    "MAIN_LAG = 87  # We evaluate final performance wrt y_87\n",
    "\n",
    "# LightGBM hyperparameter search space\n",
    "param_space = {\n",
    "    'boosting_type':  hp.choice('boosting_type', ['gbdt']),\n",
    "    'colsample_bytree': hp.uniform('colsample_bytree', 0.3, 0.6),\n",
    "    'drop_rate':      hp.uniform('drop_rate', 0.4, 0.9),\n",
    "    'learning_rate':  hp.loguniform('learning_rate', np.log(0.001), np.log(0.1)),\n",
    "    'max_depth':      hp.choice('max_depth', [3, 4, 5, 6]),\n",
    "    'min_child_samples': hp.randint('min_child_samples', 500, 30001),\n",
    "    'min_child_weight':  hp.uniform('min_child_weight', 0.01, 0.05),\n",
    "    'n_estimators':   hp.choice('n_estimators', [500, 1000, 1500]),\n",
    "    'objective':      hp.choice('objective', ['regression']),\n",
    "    'skip_drop':      hp.uniform('skip_drop', 0.5, 0.9),\n",
    "    'subsample':      hp.uniform('subsample', 0.5, 1.0),\n",
    "}\n",
    "\n",
    "def train_lgb_model(params, X_train, y_train, X_val, y_val):\n",
    "    \"\"\"Train LightGBM and return (model, R^2) on validation.\"\"\"\n",
    "    model = lgb.LGBMRegressor(\n",
    "        boosting_type=params['boosting_type'],\n",
    "        colsample_bytree=params['colsample_bytree'],\n",
    "        drop_rate=params['drop_rate'],\n",
    "        learning_rate=params['learning_rate'],\n",
    "        max_depth=params['max_depth'],\n",
    "        min_child_samples=params['min_child_samples'],\n",
    "        min_child_weight=params['min_child_weight'],\n",
    "        n_estimators=params['n_estimators'],\n",
    "        objective=params['objective'],\n",
    "        skip_drop=params['skip_drop'],\n",
    "        subsample=params['subsample'],\n",
    "        verbosity=-1,\n",
    "        early_stopping_rounds=50, \n",
    "        n_jobs=-1,\n",
    "    )\n",
    "    model.fit(\n",
    "        X_train, y_train,\n",
    "        eval_set=[(X_val, y_val)],\n",
    "        eval_metric='r2'\n",
    "    )\n",
    "    y_val_pred = model.predict(X_val)\n",
    "    r2_val = r2_score(y_val, y_val_pred)\n",
    "    return model, r2_val\n",
    "\n",
    "def objective_func(space, X_train, y_train, X_val, y_val):\n",
    "    \"\"\"Hyperopt objective. We want to maximize R^2 => minimize (1 - R^2).\"\"\"\n",
    "    _, r2_val = train_lgb_model(space, X_train, y_train, X_val, y_val)\n",
    "    return {'loss': 1.0 - r2_val, 'status': STATUS_OK}\n",
    "\n",
    "def tune_and_train(X_tr, X_val, y_tr, y_val):\n",
    "    \"\"\"\n",
    "    Splits X,y into train/val, runs Hyperopt, returns final model & R^2.\n",
    "    \"\"\"\n",
    "    \n",
    "    trials = Trials()\n",
    "    best = fmin(\n",
    "        fn=lambda sp: objective_func(sp, X_tr, y_tr, X_val, y_val),\n",
    "        space=param_space,\n",
    "        algo=tpe.suggest,\n",
    "        max_evals=20, \n",
    "        trials=trials,\n",
    "        early_stop_fn=no_progress_loss(5)\n",
    "    )\n",
    "    # Convert discrete choices\n",
    "    best['boosting_type'] = 'gbdt'\n",
    "    best['objective'] = 'regression'\n",
    "    max_depth_values = [3, 4, 5, 6]\n",
    "    n_estimators_values = [500, 1000, 1500]\n",
    "    best['max_depth'] = max_depth_values[best['max_depth']]\n",
    "    best['n_estimators'] = n_estimators_values[best['n_estimators']]\n",
    "\n",
    "    final_model, final_r2 = train_lgb_model(best, X_tr, y_tr, X_val, y_val)\n",
    "    return final_model, final_r2, best"
   ]
  },
  {
   "cell_type": "code",
   "execution_count": null,
   "metadata": {},
   "outputs": [],
   "source": [
    "\n",
    "\n",
    "# We'll get N from one sample file\n",
    "set_start = 270\n",
    "valid_start = 1679079\n",
    "blend_start = 2238706\n",
    "test_start = 2798332\n",
    "set_end = 3497465\n",
    "\n",
    "# Load y\n",
    "df = pd.read_csv('./data/data.csv.gz', compression='gzip')\n",
    "y = df['y'].values\n",
    "y_set = y[set_start:set_end]\n",
    "y_train = y[set_start:valid_start]\n",
    "y_val = y[valid_start:blend_start]\n",
    "y_blend = y[blend_start:test_start]\n",
    "y_test = y[test_start:set_end]\n",
    "\n",
    "\n",
    "# print(y_set.shape, y_test.shape, y_blend.shape)"
   ]
  },
  {
   "cell_type": "code",
   "execution_count": null,
   "metadata": {},
   "outputs": [
    {
     "name": "stdout",
     "output_type": "stream",
     "text": [
      "\n",
      "=== STAGE 3: TRAINING MODELS ON THE FIRST HALF ===\n",
      "Loading features for (depth=1, levels=5, window=100) from pastwindow/d1/from_270_depth_1_levels_5_window_100.npz\n",
      " 80%|████████  | 16/20 [07:23<01:50, 27.73s/trial, best loss: 0.9906865885735264]\n",
      "  >> TRAINED (levels=5, window=100) -> Val R^2 = 0.0093, saved as ./from_270_models_complete/regen_lgb_depth_1_levels_5_window_100.joblib\n"
     ]
    }
   ],
   "source": [
    "\n",
    "print(\"\\n=== STAGE 3: TRAINING MODELS ON THE FIRST HALF ===\")\n",
    "levels_list = [5]\n",
    "window_list = [10, 20, 50, 87, 100]\n",
    "os.makedirs('./from_270_models_complete', exist_ok=True)\n",
    "trained_models2 = {}\n",
    "for depth in [1, 2]:\n",
    "    for levels in levels_list:\n",
    "        for window in window_list:\n",
    "            # Load features for this subset\n",
    "            feat_path = f'pastwindow/d1/from_270_depth_{depth}_levels_5_window_{window}.npz'\n",
    "            print(f\"Loading features for (depth={depth}, levels={levels}, window={window}) from {feat_path}\")\n",
    "            with np.load(feat_path) as fdata:\n",
    "                X_sub = fdata['arr_0']  # shape: (N, D_sub)\n",
    "\n",
    "            # Split & scale\n",
    "            X_sub_train = X_sub[:valid_start-270]\n",
    "            X_sub_val = X_sub[valid_start-270:blend_start-270]\n",
    "\n",
    "            # Train + Tune\n",
    "            model, r2_val, best_params = tune_and_train(X_sub_train, X_sub_val, y_train, y_val)\n",
    "\n",
    "            trained_models2[(levels, window)] = {\n",
    "                    'model': model,\n",
    "                    'val_r2': r2_val,\n",
    "                    'params': best_params,\n",
    "                    #'scaler': scaler\n",
    "            }\n",
    "            # Optionally save to disk\n",
    "            model_filename = f'./from_270_models_complete/regen_lgb_depth_{depth}_levels_{levels}_window_{window}.joblib'\n",
    "            joblib.dump(model, model_filename)\n",
    "            print(f\"  >> TRAINED (levels={levels}, window={window}) -> \"\n",
    "                    f\"Val R^2 = {r2_val:.4f}, saved as {model_filename}\")"
   ]
  },
  {
   "cell_type": "markdown",
   "metadata": {},
   "source": [
    "# Part 5: Blending"
   ]
  },
  {
   "cell_type": "markdown",
   "metadata": {},
   "source": [
    "We try a variety of Blending techniques to blend our LightGBMs together. From our results in our previous section, we tend to get a higher R squared score on our training set compared to our validation set. This is due to the nature of the dataset being very prone to over fitting. We want to reduce this overfitting and improve the robustness of our model. We also want to incorporate our financial features, signature kernels and signature transforms that each capture different patterns in the data. We try various blending and stacking techniques in this section before deciding on the best one."
   ]
  },
  {
   "cell_type": "markdown",
   "metadata": {},
   "source": [
    "## Stacking"
   ]
  },
  {
   "cell_type": "markdown",
   "metadata": {},
   "source": [
    "Stacking is an ensemble learning technique that combines base models to improve the model in general. It works by training a meta-model on the predictions of base models, allowing it to learn patterns that individual models might miss. \n",
    "\n",
    "First it uses our trained base models (lightGBMs) and then generate out of fold predictions using use k-fold cross-validation for wach base model.These OOF predictions will then  be used as features for the meta-model. The meta model we chose is ElasticNet which is then trained on the OOF predictions from the base models.\n",
    "\n",
    "Lastly the test data is inputed into this stacked model to make to final prediction. StackedRegression from the Scipy package is used to implement this.\n"
   ]
  },
  {
   "cell_type": "code",
   "execution_count": null,
   "metadata": {},
   "outputs": [],
   "source": [
    "from sklearn.ensemble import StackingRegressor"
   ]
  },
  {
   "cell_type": "code",
   "execution_count": null,
   "metadata": {},
   "outputs": [],
   "source": [
    "stacking_regressor = StackingRegressor(estimators=[(f'lgbm{i}'.format(i=i), models[i]) for i in range(len(lags))], final_estimator= ElasticNet())\n",
    "stacking_regressor.fit(x_scaled_train, y_train)\n",
    "\n",
    "# Make predictions on the validation set\n",
    "y_pred_stack = stacking_regressor.predict(x_scaled_valid)\n",
    "\n",
    "# Calculate R^2 score\n",
    "r2_score(y_valid, y_pred_stack)\n",
    "\n",
    "# Retrieve the coefficients of the final estimator (assumed LinearRegression here)\n",
    "final_estimator_weights = stacking_regressor.final_estimator_.coef_"
   ]
  },
  {
   "cell_type": "markdown",
   "metadata": {},
   "source": [
    "## Numerical Optimisation with Weights"
   ]
  },
  {
   "cell_type": "markdown",
   "metadata": {},
   "source": [
    "We now consider optimized model blending using constrained optimization. The goal is to find the best set of weights for blending the LightGBMs in a way that maximizes R² score. We define an ensemble function takes a weight vector and blends multiple model predictions of the blend set using a weighted sum.\n",
    "$$\n",
    "\\hat{y}_{\\text{blended}} = \\sum_{i=1}^{n} w_i \\hat{y}_i\n",
    "$$\n",
    "$$\\text{where} \\quad \\sum_{i=1}^{n} w_i = 1$$\n",
    "The minimize function from scipy.optimize applies the L-BFGS-B optimization algorithm, which is well-suited for smooth, bounded optimization problems like this one."
   ]
  },
  {
   "cell_type": "markdown",
   "metadata": {},
   "source": [
    "Here we load the LightGBMs and their corresponding blend data and create an array of blend predictions"
   ]
  },
  {
   "cell_type": "code",
   "execution_count": null,
   "metadata": {},
   "outputs": [],
   "source": [
    "blend_predicts = np.zeros((len(lags), x_scaled_blend.shape[0]))\n",
    "for i, lag in enumerate(lags):\n",
    "    #Now stack the blend predictions\n",
    "    predictions_blend = models[i].predict(x_scaled_blend)\n",
    "    blend_predicts[i] = predictions_blend\n",
    "    print(f\"lag = {lag}, r2 = {r2_score(y_blend_dict[lag], predictions_blend):.4f}\")"
   ]
  },
  {
   "cell_type": "code",
   "execution_count": null,
   "metadata": {},
   "outputs": [],
   "source": [
    "for depths in [1,2]:\n",
    "    for window in [10, 20, 50 ,87]:\n",
    "        f_blend = np.load(f\"sigtrans_blend_data/BLEND_d{depths}_levels_5_window_{window}.npz\")\n",
    "        x_blend = f_blend[\"arr_0\"][:-1695+500].copy()\n",
    "\n",
    "        lgbm = joblib.load(f'regen/regen_lgb_depth_{depths}_levels_5_window_{window}.pkl')\n",
    "\n",
    "        y_blend_trans = lgbm.predict(x_blend)\n",
    "        blend_predicts = np.vstack((blend_predicts, y_blend_trans))"
   ]
  },
  {
   "cell_type": "code",
   "execution_count": null,
   "metadata": {},
   "outputs": [],
   "source": [
    "size = blend_predicts.shape[0]"
   ]
  },
  {
   "cell_type": "code",
   "execution_count": null,
   "metadata": {},
   "outputs": [],
   "source": [
    "from scipy.optimize import minimize"
   ]
  },
  {
   "cell_type": "code",
   "execution_count": null,
   "metadata": {},
   "outputs": [],
   "source": [
    "def ensemble_R2(weights):\n",
    "    # Ensure weights sum to 1\n",
    "    weights = np.clip(weights, 0, 1) / np.sum(weights)\n",
    "    blended_pred = blend_predicts.T @ weights\n",
    "    return 1 - r2_score(y_blend, blended_pred)\n",
    "\n",
    "# Initial guess for weights which is uniform\n",
    "initial_weights = np.ones(size) / size\n",
    "\n",
    "# Bounds to ensure weights are between 0 and 1\n",
    "bounds = [(0, 1)] * size\n",
    "\n",
    "# Minimize the ensemble MSE\n",
    "result = minimize(ensemble_R2, initial_weights, bounds=bounds, method='L-BFGS-B')\n",
    "\n",
    "# Best weights\n",
    "best_weights = result.x / np.sum(result.x)"
   ]
  },
  {
   "cell_type": "markdown",
   "metadata": {},
   "source": [
    "## Various Regression Techniques"
   ]
  },
  {
   "cell_type": "code",
   "execution_count": null,
   "metadata": {},
   "outputs": [],
   "source": [
    "from sklearn.metrics import r2_score\n",
    "from sklearn.linear_model import ElasticNet, LinearRegression, Ridge, Lasso"
   ]
  },
  {
   "cell_type": "markdown",
   "metadata": {},
   "source": [
    "We also tried various regression techniques to blend the models with poor to moderate performance. They did not generalise very well to the test sets."
   ]
  },
  {
   "cell_type": "code",
   "execution_count": null,
   "metadata": {},
   "outputs": [],
   "source": [
    "y_pred = LinearRegression().fit(blend_predicts.T, y_test).predict(blend_predicts.T)\n",
    "r2_score(y_blend, y_pred)"
   ]
  },
  {
   "cell_type": "code",
   "execution_count": null,
   "metadata": {},
   "outputs": [],
   "source": [
    "y_pred = ElasticNet().fit(blend_predicts.T, y_test).predict(blend_predicts.T)\n",
    "r2_score(y_blend, y_pred)"
   ]
  },
  {
   "cell_type": "code",
   "execution_count": null,
   "metadata": {},
   "outputs": [],
   "source": [
    "y_pred = Ridge().fit(blend_predicts.T, y_test).predict(blend_predicts.T)\n",
    "r2_score(y_blend, y_pred)"
   ]
  },
  {
   "cell_type": "code",
   "execution_count": null,
   "metadata": {},
   "outputs": [],
   "source": [
    "y_pred = Lasso().fit(blend_predicts.T, y_test).predict(blend_predicts.T)\n",
    "r2_score(y_blend, y_pred)"
   ]
  },
  {
   "cell_type": "markdown",
   "metadata": {},
   "source": [
    "## Bayesian Optimisation with ElasticNet"
   ]
  },
  {
   "cell_type": "markdown",
   "metadata": {},
   "source": [
    "This was our most successful method of blending our models that generalised well when we tested it on the validation set. Instead of manually selecting weights for blending predictions, we use ElasticNet regression to learn the best blending strategy. We use Bayesian Optimisation (through the Optuna package) to tune ElasticNet’s hyperparameters (alpha and l1_ratio) for optimal performance on the blending set. "
   ]
  },
  {
   "cell_type": "code",
   "execution_count": null,
   "metadata": {},
   "outputs": [],
   "source": [
    "models = [joblib.load(f'models/LGBMS/lgb_lag{lag}.pkl') for lag in lags] # Load the models for lags"
   ]
  },
  {
   "cell_type": "markdown",
   "metadata": {},
   "source": [
    "Load the LightGBMs and make predictions on the blending set and also the test set"
   ]
  },
  {
   "cell_type": "code",
   "execution_count": null,
   "metadata": {},
   "outputs": [
    {
     "name": "stderr",
     "output_type": "stream",
     "text": [
      "/Users/ellenli/RoughPaths/RPvenv3.10/lib/python3.10/site-packages/sklearn/utils/deprecation.py:151: FutureWarning: 'force_all_finite' was renamed to 'ensure_all_finite' in 1.6 and will be removed in 1.8.\n",
      "  warnings.warn(\n"
     ]
    },
    {
     "name": "stdout",
     "output_type": "stream",
     "text": [
      "lag = 50, r2 = 0.1420\n"
     ]
    },
    {
     "name": "stderr",
     "output_type": "stream",
     "text": [
      "/Users/ellenli/RoughPaths/RPvenv3.10/lib/python3.10/site-packages/sklearn/utils/deprecation.py:151: FutureWarning: 'force_all_finite' was renamed to 'ensure_all_finite' in 1.6 and will be removed in 1.8.\n",
      "  warnings.warn(\n"
     ]
    },
    {
     "name": "stdout",
     "output_type": "stream",
     "text": [
      "lag = 55, r2 = 0.1025\n"
     ]
    },
    {
     "name": "stderr",
     "output_type": "stream",
     "text": [
      "/Users/ellenli/RoughPaths/RPvenv3.10/lib/python3.10/site-packages/sklearn/utils/deprecation.py:151: FutureWarning: 'force_all_finite' was renamed to 'ensure_all_finite' in 1.6 and will be removed in 1.8.\n",
      "  warnings.warn(\n"
     ]
    },
    {
     "name": "stdout",
     "output_type": "stream",
     "text": [
      "lag = 60, r2 = 0.0741\n"
     ]
    },
    {
     "name": "stderr",
     "output_type": "stream",
     "text": [
      "/Users/ellenli/RoughPaths/RPvenv3.10/lib/python3.10/site-packages/sklearn/utils/deprecation.py:151: FutureWarning: 'force_all_finite' was renamed to 'ensure_all_finite' in 1.6 and will be removed in 1.8.\n",
      "  warnings.warn(\n"
     ]
    },
    {
     "name": "stdout",
     "output_type": "stream",
     "text": [
      "lag = 65, r2 = 0.0499\n"
     ]
    },
    {
     "name": "stderr",
     "output_type": "stream",
     "text": [
      "/Users/ellenli/RoughPaths/RPvenv3.10/lib/python3.10/site-packages/sklearn/utils/deprecation.py:151: FutureWarning: 'force_all_finite' was renamed to 'ensure_all_finite' in 1.6 and will be removed in 1.8.\n",
      "  warnings.warn(\n"
     ]
    },
    {
     "name": "stdout",
     "output_type": "stream",
     "text": [
      "lag = 70, r2 = 0.0333\n"
     ]
    },
    {
     "name": "stderr",
     "output_type": "stream",
     "text": [
      "/Users/ellenli/RoughPaths/RPvenv3.10/lib/python3.10/site-packages/sklearn/utils/deprecation.py:151: FutureWarning: 'force_all_finite' was renamed to 'ensure_all_finite' in 1.6 and will be removed in 1.8.\n",
      "  warnings.warn(\n"
     ]
    },
    {
     "name": "stdout",
     "output_type": "stream",
     "text": [
      "lag = 75, r2 = 0.0209\n"
     ]
    },
    {
     "name": "stderr",
     "output_type": "stream",
     "text": [
      "/Users/ellenli/RoughPaths/RPvenv3.10/lib/python3.10/site-packages/sklearn/utils/deprecation.py:151: FutureWarning: 'force_all_finite' was renamed to 'ensure_all_finite' in 1.6 and will be removed in 1.8.\n",
      "  warnings.warn(\n"
     ]
    },
    {
     "name": "stdout",
     "output_type": "stream",
     "text": [
      "lag = 80, r2 = 0.0162\n"
     ]
    },
    {
     "name": "stderr",
     "output_type": "stream",
     "text": [
      "/Users/ellenli/RoughPaths/RPvenv3.10/lib/python3.10/site-packages/sklearn/utils/deprecation.py:151: FutureWarning: 'force_all_finite' was renamed to 'ensure_all_finite' in 1.6 and will be removed in 1.8.\n",
      "  warnings.warn(\n"
     ]
    },
    {
     "name": "stdout",
     "output_type": "stream",
     "text": [
      "lag = 85, r2 = 0.0167\n"
     ]
    },
    {
     "name": "stderr",
     "output_type": "stream",
     "text": [
      "/Users/ellenli/RoughPaths/RPvenv3.10/lib/python3.10/site-packages/sklearn/utils/deprecation.py:151: FutureWarning: 'force_all_finite' was renamed to 'ensure_all_finite' in 1.6 and will be removed in 1.8.\n",
      "  warnings.warn(\n"
     ]
    },
    {
     "name": "stdout",
     "output_type": "stream",
     "text": [
      "lag = 87, r2 = 0.0203\n"
     ]
    }
   ],
   "source": [
    "blend_predicts = np.zeros((len(lags), x_scaled_blend.shape[0]))\n",
    "test_predicts = np.zeros((len(lags), x_scaled_test.shape[0]))\n",
    "for i, lag in enumerate(lags):\n",
    "    #Now stack the test predictions\n",
    "    predictions_blend = models[i].predict(x_scaled_blend)\n",
    "    predictions_test = models[i].predict(x_scaled_test)\n",
    "    blend_predicts[i] = predictions_blend\n",
    "    test_predicts[i] = predictions_test\n",
    "    print(f\"lag = {lag}, r2 = {r2_score(y_blend_dict[lag], predictions_blend):.4f}\")"
   ]
  },
  {
   "cell_type": "markdown",
   "metadata": {},
   "source": [
    "Then load the models trained on signature transforms and make predictions on the blending set"
   ]
  },
  {
   "cell_type": "code",
   "execution_count": null,
   "metadata": {},
   "outputs": [],
   "source": [
    "for depths in [1,2]:\n",
    "    for window in [10, 20, 50 ,87, 100]:\n",
    "        if depths == 2 and window == 100:\n",
    "            break\n",
    "        f_blend = np.load(f\"sigtrans_blend_data/BLEND_d{depths}_levels_5_window_{window}.npz\")\n",
    "        x_blend = f_blend[\"arr_0\"][:-1695+500].copy()\n",
    "        f_test = np.load(f\"sigtrans_test_data/TEST_d{depths}_levels_5_window_{window}.npz\")\n",
    "        x_test = f_test[\"arr_0\"].copy()\n",
    "\n",
    "        lgbm = joblib.load(f'regen/regen_lgb_depth_{depths}_levels_5_window_{window}.pkl')\n",
    "\n",
    "        y_blend_trans = lgbm.predict(x_blend)\n",
    "        blend_predicts = np.vstack((blend_predicts, y_blend_trans))\n",
    "\n",
    "        y_test_trans = lgbm.predict(x_test)\n",
    "        test_predicts = np.vstack((test_predicts, y_test_trans))"
   ]
  },
  {
   "cell_type": "markdown",
   "metadata": {},
   "source": [
    "Here define the model and train it on the blending set and tune it. Here we define an Optuna study and run it for 20 trials"
   ]
  },
  {
   "cell_type": "code",
   "execution_count": null,
   "metadata": {},
   "outputs": [
    {
     "name": "stderr",
     "output_type": "stream",
     "text": [
      "[I 2025-02-12 00:00:00,332] A new study created in memory with name: BasyianSearch\n",
      "[I 2025-02-12 00:00:00,420] Trial 0 finished with value: 0.010668664464224986 and parameters: {'alpha': 0.009519362592951396, 'l1_ratio': 0.39443129414478684}. Best is trial 0 with value: 0.010668664464224986.\n",
      "[I 2025-02-12 00:00:00,470] Trial 1 finished with value: 0.0 and parameters: {'alpha': 0.009900742670118715, 'l1_ratio': 0.7411029261443993}. Best is trial 0 with value: 0.010668664464224986.\n",
      "[I 2025-02-12 00:00:00,604] Trial 2 finished with value: 0.02392116949149381 and parameters: {'alpha': 0.003692074471528538, 'l1_ratio': 0.3086590166717472}. Best is trial 2 with value: 0.02392116949149381.\n",
      "[I 2025-02-12 00:00:00,759] Trial 3 finished with value: 0.02506374815704271 and parameters: {'alpha': 0.002770357269132635, 'l1_ratio': 0.3368777956210134}. Best is trial 3 with value: 0.02506374815704271.\n",
      "[I 2025-02-12 00:00:00,945] Trial 4 finished with value: 0.026391162046522143 and parameters: {'alpha': 0.0016408146927807006, 'l1_ratio': 0.43034974290742145}. Best is trial 4 with value: 0.026391162046522143.\n",
      "[I 2025-02-12 00:00:01,016] Trial 5 finished with value: 0.014503563291350163 and parameters: {'alpha': 0.007758820619806808, 'l1_ratio': 0.3962473913037057}. Best is trial 4 with value: 0.026391162046522143.\n",
      "[I 2025-02-12 00:00:01,159] Trial 6 finished with value: 0.02641639842658694 and parameters: {'alpha': 0.001041633276394246, 'l1_ratio': 0.9106434375115454}. Best is trial 6 with value: 0.02641639842658694.\n",
      "[I 2025-02-12 00:00:01,255] Trial 7 finished with value: 0.016788430239558894 and parameters: {'alpha': 0.009305575882591061, 'l1_ratio': 0.2472956515997795}. Best is trial 6 with value: 0.02641639842658694.\n",
      "[I 2025-02-12 00:00:01,313] Trial 8 finished with value: 0.0018349504386930837 and parameters: {'alpha': 0.009930110302633913, 'l1_ratio': 0.5848381115650135}. Best is trial 6 with value: 0.02641639842658694.\n",
      "[I 2025-02-12 00:00:01,441] Trial 9 finished with value: 0.02147035707862177 and parameters: {'alpha': 0.00656090271655393, 'l1_ratio': 0.21388174681807193}. Best is trial 6 with value: 0.02641639842658694.\n",
      "[I 2025-02-12 00:00:01,510] Trial 10 finished with value: 0.010931068677422884 and parameters: {'alpha': 0.004663764682093304, 'l1_ratio': 0.9742280412110981}. Best is trial 6 with value: 0.02641639842658694.\n",
      "[I 2025-02-12 00:00:01,736] Trial 11 finished with value: 0.026930934715225008 and parameters: {'alpha': 0.001060174257439343, 'l1_ratio': 0.6150652155839211}. Best is trial 11 with value: 0.026930934715225008.\n",
      "[I 2025-02-12 00:00:01,878] Trial 12 finished with value: 0.026456861700336787 and parameters: {'alpha': 0.00102422500730873, 'l1_ratio': 0.9109299980519184}. Best is trial 11 with value: 0.026930934715225008.\n",
      "[I 2025-02-12 00:00:01,969] Trial 13 finished with value: 0.022916241879519794 and parameters: {'alpha': 0.0025223147667333776, 'l1_ratio': 0.7506726360707124}. Best is trial 11 with value: 0.026930934715225008.\n",
      "[I 2025-02-12 00:00:02,047] Trial 14 finished with value: 0.01696315494218381 and parameters: {'alpha': 0.004791116501584957, 'l1_ratio': 0.6357029494189472}. Best is trial 11 with value: 0.026930934715225008.\n",
      "[I 2025-02-12 00:00:02,305] Trial 15 finished with value: 0.026717153326763943 and parameters: {'alpha': 0.0020851237121989534, 'l1_ratio': 0.04982733552910634}. Best is trial 11 with value: 0.026930934715225008.\n",
      "[I 2025-02-12 00:00:02,476] Trial 16 finished with value: 0.0261614462706099 and parameters: {'alpha': 0.0027863302336704164, 'l1_ratio': 0.08292662999698175}. Best is trial 11 with value: 0.026930934715225008.\n",
      "[I 2025-02-12 00:00:02,720] Trial 17 finished with value: 0.025867659550103284 and parameters: {'alpha': 0.0036287452195687417, 'l1_ratio': 0.0294931272002358}. Best is trial 11 with value: 0.026930934715225008.\n",
      "[I 2025-02-12 00:00:02,807] Trial 18 finished with value: 0.015738551676585222 and parameters: {'alpha': 0.006001913691535608, 'l1_ratio': 0.5126373374152429}. Best is trial 11 with value: 0.026930934715225008.\n",
      "[I 2025-02-12 00:00:03,026] Trial 19 finished with value: 0.02646233235017803 and parameters: {'alpha': 0.0021332589922507853, 'l1_ratio': 0.16254017763359913}. Best is trial 11 with value: 0.026930934715225008.\n"
     ]
    }
   ],
   "source": [
    "from sklearn.linear_model import ElasticNet\n",
    "import optuna\n",
    "# Start calculating time\n",
    "def objective(trial):\n",
    "    # Suggest weights for lgbm and lr\n",
    "\n",
    "    alpha = trial.suggest_float('alpha', 0.001, 0.01)\n",
    "    l1_ratio = trial.suggest_float('l1_ratio', 0, 1.0)\n",
    "    \n",
    "    # Predict on the validation set using the optimized model\n",
    "    ElasticNetModel = ElasticNet(alpha=alpha, l1_ratio=l1_ratio)\n",
    "    ElasticNetModel.fit(blend_predicts.T, y_blend)\n",
    "    y_pred_optimized = ElasticNetModel.predict(blend_predicts.T)\n",
    "    # Calculate MSE for the VotingRegressor predictions\n",
    "    r2score = r2_score(y_blend, y_pred_optimized)\n",
    "\n",
    "    return r2score  # Objective: r2 score\n",
    "\n",
    "# Create a study object\n",
    "study = optuna.create_study(direction='maximize', study_name='BasyianSearch')\n",
    "\n",
    "# Perform the optimization\n",
    "study.optimize(objective, n_trials=20)\n",
    "\n",
    "# Results\n",
    "best_weights = study.best_params\n",
    "best_score = study.best_value"
   ]
  },
  {
   "cell_type": "markdown",
   "metadata": {},
   "source": [
    "Then we can evaluate the blended model on the blended set. It seems to do better than the individual models!"
   ]
  },
  {
   "cell_type": "markdown",
   "metadata": {},
   "source": [
    "## $R^2$ Performance on blending set"
   ]
  },
  {
   "cell_type": "code",
   "execution_count": null,
   "metadata": {},
   "outputs": [
    {
     "name": "stdout",
     "output_type": "stream",
     "text": [
      "Best Model R² Score: 0.026930934715225008\n"
     ]
    }
   ],
   "source": [
    "best_model = ElasticNet(alpha=best_weights['alpha'], l1_ratio=best_weights['l1_ratio'])\n",
    "best_model.fit(blend_predicts.T, y_blend)\n",
    "\n",
    "# Make predictions using the best model\n",
    "y_pred_best = best_model.predict(blend_predicts.T)\n",
    "\n",
    "# Calculate the final R² score\n",
    "final_r2 = r2_score(y_blend, y_pred_best)\n",
    "print(\"Best Model R² Score:\", final_r2)\n"
   ]
  },
  {
   "cell_type": "markdown",
   "metadata": {},
   "source": [
    "Lastly we evaluate the blended model with the optimal weights and hyperparameters on the test set. This is as we have previously defined it : the last 20% of the dataset."
   ]
  },
  {
   "cell_type": "markdown",
   "metadata": {},
   "source": [
    "## $R^2$ Performance on test set"
   ]
  },
  {
   "cell_type": "code",
   "execution_count": null,
   "metadata": {},
   "outputs": [
    {
     "name": "stdout",
     "output_type": "stream",
     "text": [
      "Best Model R² Score: 0.024281436587600846\n"
     ]
    }
   ],
   "source": [
    "y_pred_test = best_model.predict(test_predicts.T)\n",
    "final_r2 = r2_score(y_test, y_pred_test)\n",
    "\n",
    "print(\"Best Model R² Score:\", final_r2)\n",
    "\n"
   ]
  },
  {
   "cell_type": "markdown",
   "metadata": {},
   "source": [
    "We get a score of 0.0243 which further improves on our base models. We have mitigated some of the overfitting to our training data. In addition, we suspect we may have also gotten some  correlated predictions from our base LightGBM models. Through the use of Bayesian Optimisation, we can effectively tune the l1_ratio of the ElastiNet to effectively handle the multicollinearity issue by assigning lower weights to redundant models,"
   ]
  },
  {
   "cell_type": "markdown",
   "metadata": {},
   "source": [
    "# Conclusion\n",
    "\n",
    "In this coursework, we have tested a variety of feature engineering and Machine Learning methods to improve long-term predictive performance on LOB data. We found the most success using a blend of two groups of LightGBM models; one augmented by signature kernels, and the other trained on signature transforms. The most important development was the \"autocorrelation\"-like statistic derived from Signature Kernels - we demonstrated in our previous submission that it demonstrably boosts the performance of a control LightGBM model by a significant degree.\n",
    "\n",
    "We hypothesise that this statistic captures temporal fluctuations and nonlinear interactions within the data in a compact manner for use in our models. This makes it a preferable choice over the high-dimensional and computationally expensive signature transform, which we had to truncate earlier due to computational bottlenecks. Furthermore, our proposed statistic acts as a effective measure of \"autocorrelation\" for high-dimensional rough paths, and is low-dimensional enough to be fit alongside other data.\n",
    "\n",
    "However, it is important to contextualise signature-based methods in both the ML pipeline and data setting. Our results suggest that their utility is maximized when placed alongisde and even composed with traditional financial features. By incorporating windowing in kernels and blending lagged models, we were overall able to capture the multiscale time dynamics to a high degree.\n",
    "\n",
    "We also explored a variety of blending and stacking methods to effectively minimize overfitting and create a more robust and powerful model.\n",
    "\n",
    "Overall, our findings highlight the power of signature kernels in feature engineering. Future work could further explore computing statistics of larger kernels, using familes of lagged time series, and refining windowing strategies."
   ]
  }
 ],
 "metadata": {
  "kernelspec": {
   "display_name": "RP_venv",
   "language": "python",
   "name": "python3"
  },
  "language_info": {
   "codemirror_mode": {
    "name": "ipython",
    "version": 3
   },
   "file_extension": ".py",
   "mimetype": "text/x-python",
   "name": "python",
   "nbconvert_exporter": "python",
   "pygments_lexer": "ipython3",
   "version": "3.10.2"
  }
 },
 "nbformat": 4,
 "nbformat_minor": 2
}
