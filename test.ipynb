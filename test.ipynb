{
 "cells": [
  {
   "cell_type": "markdown",
   "metadata": {},
   "source": [
    "# Coursework for Rough Paths and Applications to Machine Learning"
   ]
  },
  {
   "cell_type": "markdown",
   "metadata": {},
   "source": [
    "CID:  02022635,  02051786"
   ]
  },
  {
   "cell_type": "markdown",
   "metadata": {},
   "source": [
    "# Testing"
   ]
  },
  {
   "cell_type": "code",
   "execution_count": 2,
   "metadata": {},
   "outputs": [],
   "source": [
    "import joblib\n",
    "import numpy as np\n",
    "import pandas as pd\n",
    "from sklearn.metrics import r2_score as r2d2\n",
    "from sklearn.linear_model import ElasticNet"
   ]
  },
  {
   "cell_type": "code",
   "execution_count": 3,
   "metadata": {},
   "outputs": [],
   "source": [
    "#Load the raw data, replace NaNs with 0s\n",
    "path = 'data/data.csv.gz'\n",
    "df = pd.read_csv(path, compression=\"gzip\")\n",
    "df = df.astype('float32')\n",
    "df.fillna(0, inplace=True)"
   ]
  },
  {
   "cell_type": "code",
   "execution_count": 4,
   "metadata": {},
   "outputs": [],
   "source": [
    "#Load lagged LGBMs\n",
    "lags = [50, 55, 60, 65, 70,75,80,85, 87]\n",
    "models = [joblib.load(f'models/lgb_lag{lag}.pkl') for lag in lags]"
   ]
  },
  {
   "cell_type": "code",
   "execution_count": 5,
   "metadata": {},
   "outputs": [],
   "source": [
    "#Generate lagged targets\n",
    "def y_preprocess(y):\n",
    "    set_start = 270\n",
    "    valid_start = 1679079\n",
    "    blend_start = 2238706\n",
    "    test_start = 2798332\n",
    "    blend_end = test_start - 1695\n",
    "    set_end = 3497465\n",
    "    length = set_end - set_start\n",
    "    y_train = y[set_start:valid_start].copy().values.clip(-3,3)\n",
    "    y_valid = y[valid_start:blend_start].copy().values.clip(-3,3)\n",
    "    y_blend = y[blend_start:blend_end].copy().values\n",
    "    y_test = y[test_start:set_end].copy().values\n",
    "    return y_train, y_valid, y_blend, y_test\n",
    "y_dict = {}\n",
    "for lag in lags:\n",
    "    y_dict[lag] = df.y.shift(87 - lag).copy()\n",
    "y_train_dict= {}\n",
    "y_valid_dict = {}\n",
    "y_blend_dict = {}\n",
    "y_test_dict = {}\n",
    "for lag in lags:\n",
    "    y_train_dict[lag], y_valid_dict[lag], y_blend_dict[lag], y_test_dict[lag] = y_preprocess(y_dict[lag])"
   ]
  },
  {
   "cell_type": "code",
   "execution_count": 6,
   "metadata": {},
   "outputs": [],
   "source": [
    "#Load in augmented dataset - this has the raw data, financial features, and their signature kernel statistics \n",
    "x_scaled_test = np.load(\"data/test_finfeat_sigkern.npy\")"
   ]
  },
  {
   "cell_type": "code",
   "execution_count": 7,
   "metadata": {},
   "outputs": [
    {
     "name": "stderr",
     "output_type": "stream",
     "text": [
      "c:\\Users\\raahw\\OneDrive\\Documents\\Rough_Paths\\Submission\\RP2_venv\\lib\\site-packages\\sklearn\\utils\\deprecation.py:151: FutureWarning: 'force_all_finite' was renamed to 'ensure_all_finite' in 1.6 and will be removed in 1.8.\n",
      "  warnings.warn(\n"
     ]
    },
    {
     "name": "stdout",
     "output_type": "stream",
     "text": [
      "lag = 50, r2 = 0.1308\n"
     ]
    },
    {
     "name": "stderr",
     "output_type": "stream",
     "text": [
      "c:\\Users\\raahw\\OneDrive\\Documents\\Rough_Paths\\Submission\\RP2_venv\\lib\\site-packages\\sklearn\\utils\\deprecation.py:151: FutureWarning: 'force_all_finite' was renamed to 'ensure_all_finite' in 1.6 and will be removed in 1.8.\n",
      "  warnings.warn(\n"
     ]
    },
    {
     "name": "stdout",
     "output_type": "stream",
     "text": [
      "lag = 55, r2 = 0.0930\n"
     ]
    },
    {
     "name": "stderr",
     "output_type": "stream",
     "text": [
      "c:\\Users\\raahw\\OneDrive\\Documents\\Rough_Paths\\Submission\\RP2_venv\\lib\\site-packages\\sklearn\\utils\\deprecation.py:151: FutureWarning: 'force_all_finite' was renamed to 'ensure_all_finite' in 1.6 and will be removed in 1.8.\n",
      "  warnings.warn(\n"
     ]
    },
    {
     "name": "stdout",
     "output_type": "stream",
     "text": [
      "lag = 60, r2 = 0.0623\n"
     ]
    },
    {
     "name": "stderr",
     "output_type": "stream",
     "text": [
      "c:\\Users\\raahw\\OneDrive\\Documents\\Rough_Paths\\Submission\\RP2_venv\\lib\\site-packages\\sklearn\\utils\\deprecation.py:151: FutureWarning: 'force_all_finite' was renamed to 'ensure_all_finite' in 1.6 and will be removed in 1.8.\n",
      "  warnings.warn(\n"
     ]
    },
    {
     "name": "stdout",
     "output_type": "stream",
     "text": [
      "lag = 65, r2 = 0.0377\n"
     ]
    },
    {
     "name": "stderr",
     "output_type": "stream",
     "text": [
      "c:\\Users\\raahw\\OneDrive\\Documents\\Rough_Paths\\Submission\\RP2_venv\\lib\\site-packages\\sklearn\\utils\\deprecation.py:151: FutureWarning: 'force_all_finite' was renamed to 'ensure_all_finite' in 1.6 and will be removed in 1.8.\n",
      "  warnings.warn(\n"
     ]
    },
    {
     "name": "stdout",
     "output_type": "stream",
     "text": [
      "lag = 70, r2 = 0.0206\n"
     ]
    },
    {
     "name": "stderr",
     "output_type": "stream",
     "text": [
      "c:\\Users\\raahw\\OneDrive\\Documents\\Rough_Paths\\Submission\\RP2_venv\\lib\\site-packages\\sklearn\\utils\\deprecation.py:151: FutureWarning: 'force_all_finite' was renamed to 'ensure_all_finite' in 1.6 and will be removed in 1.8.\n",
      "  warnings.warn(\n"
     ]
    },
    {
     "name": "stdout",
     "output_type": "stream",
     "text": [
      "lag = 75, r2 = 0.0075\n"
     ]
    },
    {
     "name": "stderr",
     "output_type": "stream",
     "text": [
      "c:\\Users\\raahw\\OneDrive\\Documents\\Rough_Paths\\Submission\\RP2_venv\\lib\\site-packages\\sklearn\\utils\\deprecation.py:151: FutureWarning: 'force_all_finite' was renamed to 'ensure_all_finite' in 1.6 and will be removed in 1.8.\n",
      "  warnings.warn(\n"
     ]
    },
    {
     "name": "stdout",
     "output_type": "stream",
     "text": [
      "lag = 80, r2 = 0.0071\n"
     ]
    },
    {
     "name": "stderr",
     "output_type": "stream",
     "text": [
      "c:\\Users\\raahw\\OneDrive\\Documents\\Rough_Paths\\Submission\\RP2_venv\\lib\\site-packages\\sklearn\\utils\\deprecation.py:151: FutureWarning: 'force_all_finite' was renamed to 'ensure_all_finite' in 1.6 and will be removed in 1.8.\n",
      "  warnings.warn(\n"
     ]
    },
    {
     "name": "stdout",
     "output_type": "stream",
     "text": [
      "lag = 85, r2 = 0.0092\n"
     ]
    },
    {
     "name": "stderr",
     "output_type": "stream",
     "text": [
      "c:\\Users\\raahw\\OneDrive\\Documents\\Rough_Paths\\Submission\\RP2_venv\\lib\\site-packages\\sklearn\\utils\\deprecation.py:151: FutureWarning: 'force_all_finite' was renamed to 'ensure_all_finite' in 1.6 and will be removed in 1.8.\n",
      "  warnings.warn(\n"
     ]
    },
    {
     "name": "stdout",
     "output_type": "stream",
     "text": [
      "lag = 87, r2 = 0.0212\n"
     ]
    }
   ],
   "source": [
    "#Stack the test predictions of each lagged model\n",
    "test_predicts = np.zeros((len(lags), x_scaled_test.shape[0]))\n",
    "for i, lag in enumerate(lags):\n",
    "    predictions_test = models[i].predict(x_scaled_test)\n",
    "    test_predicts[i] = predictions_test\n",
    "    print(f\"lag = {lag}, r2 = {r2d2(y_test_dict[lag], predictions_test):.4f}\")"
   ]
  },
  {
   "cell_type": "code",
   "execution_count": 8,
   "metadata": {},
   "outputs": [
    {
     "name": "stderr",
     "output_type": "stream",
     "text": [
      "c:\\Users\\raahw\\OneDrive\\Documents\\Rough_Paths\\Submission\\RP2_venv\\lib\\site-packages\\sklearn\\utils\\deprecation.py:151: FutureWarning: 'force_all_finite' was renamed to 'ensure_all_finite' in 1.6 and will be removed in 1.8.\n",
      "  warnings.warn(\n",
      "c:\\Users\\raahw\\OneDrive\\Documents\\Rough_Paths\\Submission\\RP2_venv\\lib\\site-packages\\sklearn\\utils\\deprecation.py:151: FutureWarning: 'force_all_finite' was renamed to 'ensure_all_finite' in 1.6 and will be removed in 1.8.\n",
      "  warnings.warn(\n",
      "c:\\Users\\raahw\\OneDrive\\Documents\\Rough_Paths\\Submission\\RP2_venv\\lib\\site-packages\\sklearn\\utils\\deprecation.py:151: FutureWarning: 'force_all_finite' was renamed to 'ensure_all_finite' in 1.6 and will be removed in 1.8.\n",
      "  warnings.warn(\n",
      "c:\\Users\\raahw\\OneDrive\\Documents\\Rough_Paths\\Submission\\RP2_venv\\lib\\site-packages\\sklearn\\utils\\deprecation.py:151: FutureWarning: 'force_all_finite' was renamed to 'ensure_all_finite' in 1.6 and will be removed in 1.8.\n",
      "  warnings.warn(\n",
      "c:\\Users\\raahw\\OneDrive\\Documents\\Rough_Paths\\Submission\\RP2_venv\\lib\\site-packages\\sklearn\\utils\\deprecation.py:151: FutureWarning: 'force_all_finite' was renamed to 'ensure_all_finite' in 1.6 and will be removed in 1.8.\n",
      "  warnings.warn(\n",
      "c:\\Users\\raahw\\OneDrive\\Documents\\Rough_Paths\\Submission\\RP2_venv\\lib\\site-packages\\sklearn\\utils\\deprecation.py:151: FutureWarning: 'force_all_finite' was renamed to 'ensure_all_finite' in 1.6 and will be removed in 1.8.\n",
      "  warnings.warn(\n",
      "c:\\Users\\raahw\\OneDrive\\Documents\\Rough_Paths\\Submission\\RP2_venv\\lib\\site-packages\\sklearn\\utils\\deprecation.py:151: FutureWarning: 'force_all_finite' was renamed to 'ensure_all_finite' in 1.6 and will be removed in 1.8.\n",
      "  warnings.warn(\n",
      "c:\\Users\\raahw\\OneDrive\\Documents\\Rough_Paths\\Submission\\RP2_venv\\lib\\site-packages\\sklearn\\utils\\deprecation.py:151: FutureWarning: 'force_all_finite' was renamed to 'ensure_all_finite' in 1.6 and will be removed in 1.8.\n",
      "  warnings.warn(\n",
      "c:\\Users\\raahw\\OneDrive\\Documents\\Rough_Paths\\Submission\\RP2_venv\\lib\\site-packages\\sklearn\\utils\\deprecation.py:151: FutureWarning: 'force_all_finite' was renamed to 'ensure_all_finite' in 1.6 and will be removed in 1.8.\n",
      "  warnings.warn(\n"
     ]
    }
   ],
   "source": [
    "#Load LightGBMs trained on signature transforms\n",
    "for depth in [1, 2]:\n",
    "    for window in [10, 20, 50, 87]:\n",
    "        f_test = np.load(f\"data/TEST_d{depth}_levels_5_window_{window}.npz\")\n",
    "        x_test = f_test[\"arr_0\"].copy()\n",
    "\n",
    "        lgbm = joblib.load(f'models/regen_lgb_depth_{depth}_levels_5_window_{window}.pkl')\n",
    "\n",
    "        y_test_trans = lgbm.predict(x_test)\n",
    "        test_predicts = np.vstack((test_predicts, y_test_trans))\n",
    "\n",
    "depth, window = 1, 100\n",
    "f_test = np.load(f\"data/TEST_d{depth}_levels_5_window_{window}.npz\")\n",
    "x_test = f_test[\"arr_0\"].copy()\n",
    "\n",
    "lgbm = joblib.load(f'models/regen_lgb_depth_{depth}_levels_5_window_{window}.pkl')\n",
    "\n",
    "y_test_trans = lgbm.predict(x_test)\n",
    "test_predicts = np.vstack((test_predicts, y_test_trans))\n"
   ]
  },
  {
   "cell_type": "code",
   "execution_count": 9,
   "metadata": {},
   "outputs": [],
   "source": [
    "#Fetch target at lag 87\n",
    "y_test = y_test_dict[87]"
   ]
  },
  {
   "cell_type": "code",
   "execution_count": 10,
   "metadata": {},
   "outputs": [
    {
     "name": "stdout",
     "output_type": "stream",
     "text": [
      "R² Score on last 174783 rows: 0.01604947401436796\n",
      "R² Score on last 349566 rows: 0.02211753533319971\n",
      "R² Score on last 524349 rows: 0.022629527383128845\n",
      "R² Score on last 699133 rows: 0.024281436587600846\n"
     ]
    }
   ],
   "source": [
    "#Load trained ElasticNet weights\n",
    "best_model = joblib.load(\"models/elasticnet_blend.pkl\")\n",
    "\n",
    "#Display R^2 performance on last 5%, 10%, 15% and 20% of data as requested.\n",
    "N = test_predicts.shape[1]\n",
    "for ind in [int(N/4), int(N/2), int(3*N/4), N]:\n",
    "    y_pred_test = best_model.predict(test_predicts[:,-ind:].T)\n",
    "    final_r2 = r2d2(y_test[-ind:], y_pred_test)\n",
    "    print(f\"R² Score on last {ind} rows:\", final_r2)\n",
    "\n"
   ]
  }
 ],
 "metadata": {
  "kernelspec": {
   "display_name": "RP2_venv",
   "language": "python",
   "name": "python3"
  },
  "language_info": {
   "codemirror_mode": {
    "name": "ipython",
    "version": 3
   },
   "file_extension": ".py",
   "mimetype": "text/x-python",
   "name": "python",
   "nbconvert_exporter": "python",
   "pygments_lexer": "ipython3",
   "version": "3.10.2"
  }
 },
 "nbformat": 4,
 "nbformat_minor": 2
}
